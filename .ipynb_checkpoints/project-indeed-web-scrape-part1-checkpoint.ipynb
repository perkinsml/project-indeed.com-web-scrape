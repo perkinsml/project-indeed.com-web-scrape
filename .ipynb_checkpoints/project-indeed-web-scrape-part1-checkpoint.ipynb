{
 "cells": [
  {
   "cell_type": "markdown",
   "metadata": {
    "focus": false,
    "id": "69b9a648-bcc7-490d-9f9b-ea244d156bd6"
   },
   "source": [
    "<img src=\"http://imgur.com/1ZcRyrc.png\" style=\"float: left; margin: 15px; height: 80px\">\n",
    "\n",
    "\n",
    "# Web Scraping for Indeed.com and Predicting Salaries"
   ]
  },
  {
   "cell_type": "markdown",
   "metadata": {
    "focus": false,
    "id": "34681254-c802-462f-829d-8894d0772d08"
   },
   "source": [
    "In this project, we will practice two major skills: collecting data by scraping a website and then building a binary predictor with Logistic Regression.\n",
    "\n",
    "We are going to collect salary information on data science jobs in a variety of markets. Then using the location, title and summary of the job we will attempt to predict the salary of the job. For job posting sites, this would be extraordinarily useful. While most listings DO NOT come with salary information (as you will see in this exercise), being able to extrapolate or predict the expected salaries from other listings can help guide negotiations.\n",
    "\n",
    "Normally, we could use regression for this task; however, we will convert this problem into classification and use Logistic Regression or any other suitable classifier.\n",
    "\n",
    "- Question: Why would we want this to be a classification problem?\n",
    "- Answer: While more precision may be better, there is a fair amount of natural variance in job salaries - predicting a range may be useful.\n",
    "\n",
    "Therefore, the first part of the assignment will be focused on scraping Indeed.com. In the second, we'll focus on using listings with salary information to build a model and predict additional salaries."
   ]
  },
  {
   "cell_type": "markdown",
   "metadata": {
    "ExecuteTime": {
     "end_time": "2018-04-14T19:51:05.386773Z",
     "start_time": "2018-04-14T19:51:05.383434Z"
    },
    "focus": false,
    "id": "a948d79c-5527-4c0d-ab23-f5d43ce72056"
   },
   "source": [
    "## Scraping job listings from Indeed.com"
   ]
  },
  {
   "cell_type": "markdown",
   "metadata": {
    "focus": true,
    "id": "7203e0c9-e437-4802-a6ad-7dc464f94436"
   },
   "source": [
    "We will be scraping job listings from Indeed.com using BeautifulSoup. Luckily, Indeed.com is a simple text page where we can easily find relevant entries.\n",
    "\n",
    "First, look at the source of an Indeed.com page: (http://www.indeed.com/jobs?q=data+scientist+%2420%2C000&l=New+York&start=10\").\n"
   ]
  },
  {
   "cell_type": "markdown",
   "metadata": {
    "focus": false,
    "id": "9732c901-ae26-4160-8376-42e22dd327df"
   },
   "source": [
    "#### Setup a request (using `requests`) to the URL below. Use BeautifulSoup to parse the page and extract all results (HINT: Look for div tags with class name result)\n",
    "\n",
    "The URL here has many query parameters:\n",
    "\n",
    "- `q` for the job search\n",
    "- This is followed by \"+20,000\" to return results with salaries (or expected salaries >$20,000)\n",
    "- `l` for a location \n",
    "- `start` for what result number to start on"
   ]
  },
  {
   "cell_type": "code",
   "execution_count": 1,
   "metadata": {
    "ExecuteTime": {
     "end_time": "2018-04-17T17:48:37.602622Z",
     "start_time": "2018-04-17T17:48:37.590082Z"
    },
    "focus": false,
    "id": "e915023e-6b0d-4982-af2a-b1e0355f4927"
   },
   "outputs": [],
   "source": [
    "# Define web site URL\n",
    "URL = \"http://www.indeed.com/jobs?q=data+scientist+%2420%2C000&l=New+York&start=0\""
   ]
  },
  {
   "cell_type": "code",
   "execution_count": 2,
   "metadata": {
    "ExecuteTime": {
     "end_time": "2018-04-17T17:48:38.369048Z",
     "start_time": "2018-04-17T17:48:38.141399Z"
    },
    "focus": false,
    "id": "2efefc73-064a-482d-b3b5-ddf5508cb4ec"
   },
   "outputs": [],
   "source": [
    "import requests\n",
    "import bs4\n",
    "from tqdm import tqdm\n",
    "from bs4 import BeautifulSoup"
   ]
  },
  {
   "cell_type": "code",
   "execution_count": 3,
   "metadata": {
    "ExecuteTime": {
     "end_time": "2018-04-17T17:48:39.866424Z",
     "start_time": "2018-04-17T17:48:38.936765Z"
    },
    "focus": false,
    "id": "2c6752c4-7704-4c94-8bc0-6f13d2d0d570"
   },
   "outputs": [
    {
     "name": "stdout",
     "output_type": "stream",
     "text": [
      "<class 'requests.models.Response'>\n",
      "<Response [200]>\n"
     ]
    }
   ],
   "source": [
    "# Define Response object\n",
    "source = requests.get(URL)\n",
    "\n",
    "# Print Response object type\n",
    "print(type(source))\n",
    "print(source)"
   ]
  },
  {
   "cell_type": "code",
   "execution_count": 4,
   "metadata": {
    "ExecuteTime": {
     "end_time": "2018-04-17T17:48:41.380319Z",
     "start_time": "2018-04-17T17:48:41.324998Z"
    }
   },
   "outputs": [],
   "source": [
    "# Parse text attribute of Response object (i.e. the HTML source code) and asign to soup\n",
    "soup = BeautifulSoup(source.text, 'html.parser')"
   ]
  },
  {
   "cell_type": "code",
   "execution_count": 6,
   "metadata": {
    "ExecuteTime": {
     "end_time": "2018-04-17T17:48:44.447026Z",
     "start_time": "2018-04-17T17:48:44.433521Z"
    }
   },
   "outputs": [],
   "source": [
    "# Extract all job cards on the first page of the site\n",
    "job_cards = soup.find_all('div', class_='result')"
   ]
  },
  {
   "cell_type": "code",
   "execution_count": 23,
   "metadata": {
    "ExecuteTime": {
     "end_time": "2018-04-17T19:11:57.196484Z",
     "start_time": "2018-04-17T19:11:57.179693Z"
    }
   },
   "outputs": [
    {
     "name": "stdout",
     "output_type": "stream",
     "text": [
      "There are 10 jobs on each 'full' page of the site.\n"
     ]
    }
   ],
   "source": [
    "print(f'There are {len(job_cards)} jobs on each \\'full\\' page of the site.')"
   ]
  },
  {
   "cell_type": "code",
   "execution_count": 8,
   "metadata": {
    "ExecuteTime": {
     "end_time": "2018-04-17T17:48:48.000163Z",
     "start_time": "2018-04-17T17:48:47.995444Z"
    },
    "scrolled": true
   },
   "outputs": [
    {
     "name": "stdout",
     "output_type": "stream",
     "text": [
      "<div class=\" row result\" data-jk=\"c9035e2fafc77096\" data-tn-component=\"organicJob\" data-tu=\"\" id=\"p_c9035e2fafc77096\">\n",
      " <h2 class=\"jobtitle\" id=\"jl_c9035e2fafc77096\">\n",
      "  <a class=\"turnstileLink\" data-tn-element=\"jobTitle\" href=\"/rc/clk?jk=c9035e2fafc77096&amp;fccid=6576e7250aa78c3c&amp;vjs=3\" onclick=\"setRefineByCookie(['salest']); return rclk(this,jobmap[4],true,0);\" onmousedown=\"return rclk(this,jobmap[4],0);\" rel=\"noopener nofollow\" target=\"_blank\" title=\"Analyst - Healthcare Analytics &amp; Delivery, McKinsey New Ventures\">\n",
      "   Analyst - Healthcare Analytics &amp; Delivery, McKinsey New Vent...\n",
      "  </a>\n",
      " </h2>\n",
      " <span class=\"company\">\n",
      "  <a href=\"/cmp/Mckinsey-&amp;-Company\" onmousedown=\"this.href = appendParamsOnce(this.href, 'from=SERP&amp;campaignid=serp-linkcompanyname&amp;fromjk=c9035e2fafc77096&amp;jcid=6576e7250aa78c3c')\" rel=\"noopener\" target=\"_blank\">\n",
      "   McKinsey &amp; Company\n",
      "  </a>\n",
      " </span>\n",
      " -\n",
      " <a class=\"ratingsLabel\" data-tn-element=\"reviewStars\" data-tn-variant=\"cmplinktst2\" href=\"/cmp/Mckinsey-&amp;-Company/reviews\" onmousedown=\"this.href = appendParamsOnce(this.href, '?campaignid=cmplinktst2&amp;from=SERP&amp;jt=Analyst+-+Healthcare+Analytics+%26+Delivery%2C+McKinsey+New+Ventures&amp;fromjk=c9035e2fafc77096&amp;jcid=6576e7250aa78c3c');\" rel=\"noopener\" target=\"_blank\" title=\"Mckinsey &amp; Company reviews\">\n",
      "  <span class=\"ratings\">\n",
      "   <span class=\"rating\" style=\"width:52.8px\">\n",
      "    <!-- -->\n",
      "   </span>\n",
      "  </span>\n",
      "  <span class=\"slNoUnderline\">\n",
      "   344 reviews\n",
      "  </span>\n",
      " </a>\n",
      " -\n",
      " <span class=\"location\">\n",
      "  New York, NY 10022\n",
      "  <span style=\"font-size: smaller\">\n",
      "   (Midtown area)\n",
      "  </span>\n",
      " </span>\n",
      " <table border=\"0\" cellpadding=\"0\" cellspacing=\"0\">\n",
      "  <tr>\n",
      "   <td class=\"snip\">\n",
      "    <div class=\"\">\n",
      "     <span class=\"summary\">\n",
      "      It is a unique mix of Healthcare Experts, physicians, statisticians, engineers,\n",
      "      <b>\n",
      "       data\n",
      "      </b>\n",
      "      <b>\n",
      "       scientists\n",
      "      </b>\n",
      "      , and more. You will work with our Technology team to turn the...\n",
      "     </span>\n",
      "    </div>\n",
      "    <div class=\"result-link-bar-container\">\n",
      "     <div class=\"result-link-bar\">\n",
      "      <span class=\"date\">\n",
      "       30+ days ago\n",
      "      </span>\n",
      "      <span class=\"tt_set\" id=\"tt_set_4\">\n",
      "       -\n",
      "       <a class=\"sl resultLink save-job-link \" href=\"#\" id=\"sj_c9035e2fafc77096\" onclick=\"changeJobState('c9035e2fafc77096', 'save', 'linkbar', false, ''); return false;\" title=\"Save this job to my.indeed\">\n",
      "        save job\n",
      "       </a>\n",
      "       -\n",
      "       <a class=\"sl resultLink more-link \" href=\"#\" id=\"tog_4\" onclick=\"toggleMoreLinks('c9035e2fafc77096'); return false;\">\n",
      "        more...\n",
      "       </a>\n",
      "      </span>\n",
      "      <div class=\"edit_note_content\" id=\"editsaved2_c9035e2fafc77096\" style=\"display:none;\">\n",
      "      </div>\n",
      "      <script>\n",
      "       if (!window['result_c9035e2fafc77096']) {window['result_c9035e2fafc77096'] = {};}window['result_c9035e2fafc77096']['showSource'] = false; window['result_c9035e2fafc77096']['source'] = \"McKinsey \\x26 Company\"; window['result_c9035e2fafc77096']['loggedIn'] = false; window['result_c9035e2fafc77096']['showMyJobsLinks'] = false;window['result_c9035e2fafc77096']['undoAction'] = \"unsave\";window['result_c9035e2fafc77096']['relativeJobAge'] = \"30+ days ago\";window['result_c9035e2fafc77096']['jobKey'] = \"c9035e2fafc77096\"; window['result_c9035e2fafc77096']['myIndeedAvailable'] = true; window['result_c9035e2fafc77096']['showMoreActionsLink'] = window['result_c9035e2fafc77096']['showMoreActionsLink'] || true; window['result_c9035e2fafc77096']['resultNumber'] = 4; window['result_c9035e2fafc77096']['jobStateChangedToSaved'] = false; window['result_c9035e2fafc77096']['searchState'] = \"q=data scientist $20,000&amp;l=New+York&amp;start=0\"; window['result_c9035e2fafc77096']['basicPermaLink'] = \"https://www.indeed.com\"; window['result_c9035e2fafc77096']['saveJobFailed'] = false; window['result_c9035e2fafc77096']['removeJobFailed'] = false; window['result_c9035e2fafc77096']['requestPending'] = false; window['result_c9035e2fafc77096']['notesEnabled'] = true; window['result_c9035e2fafc77096']['currentPage'] = \"serp\"; window['result_c9035e2fafc77096']['sponsored'] = false;window['result_c9035e2fafc77096']['reportJobButtonEnabled'] = false; window['result_c9035e2fafc77096']['showMyJobsHired'] = false; window['result_c9035e2fafc77096']['showSaveForSponsored'] = false; window['result_c9035e2fafc77096']['showJobAge'] = true;\n",
      "      </script>\n",
      "     </div>\n",
      "    </div>\n",
      "    <div class=\"tab-container\">\n",
      "     <div class=\"more-links-container result-tab\" id=\"tt_display_4\" style=\"display:none;\">\n",
      "      <a class=\"close-link closeLink\" href=\"#\" onclick=\"toggleMoreLinks('c9035e2fafc77096'); return false;\" title=\"Close\">\n",
      "      </a>\n",
      "      <div class=\"more_actions\" id=\"more_4\">\n",
      "       <ul>\n",
      "        <li>\n",
      "         <span class=\"mat\">\n",
      "          View all\n",
      "          <a href=\"/q-Mckinsey-&amp;-Company-l-New-York,-NY-jobs.html\" rel=\"nofollow\">\n",
      "           McKinsey &amp; Company jobs in New York, NY\n",
      "          </a>\n",
      "          -\n",
      "          <a href=\"/l-New-York,-NY-jobs.html\">\n",
      "           New York jobs\n",
      "          </a>\n",
      "         </span>\n",
      "        </li>\n",
      "        <li>\n",
      "         <span class=\"mat\">\n",
      "          Salary Search:\n",
      "          <a href=\"/salaries/Delivery-Driver-Salaries,-New-York-NY\" onmousedown=\"this.href = appendParamsOnce(this.href, '?campaignid=serp-more&amp;fromjk=c9035e2fafc77096&amp;from=serp-more');\">\n",
      "           Delivery Driver salaries in New York, NY\n",
      "          </a>\n",
      "         </span>\n",
      "        </li>\n",
      "        <li>\n",
      "         <span class=\"mat\">\n",
      "          Learn more about working at\n",
      "          <a href=\"/cmp/Mckinsey-&amp;-Company\" onmousedown=\"this.href = appendParamsOnce(this.href, '?fromjk=c9035e2fafc77096&amp;from=serp-more&amp;campaignid=serp-more&amp;jcid=6576e7250aa78c3c');\">\n",
      "           Mckinsey &amp; Company\n",
      "          </a>\n",
      "         </span>\n",
      "        </li>\n",
      "        <li>\n",
      "         <span class=\"mat\">\n",
      "          <a href=\"/cmp/Mckinsey-&amp;-Company/faq\" onmousedown=\"this.href = appendParamsOnce(this.href, '?from=serp-more&amp;campaignid=serp-more&amp;fromjk=c9035e2fafc77096&amp;jcid=6576e7250aa78c3c');\">\n",
      "           Mckinsey &amp; Company questions about work, benefits, interviews and hiring process:\n",
      "          </a>\n",
      "          <ul>\n",
      "           <li>\n",
      "            <a href=\"/cmp/Mckinsey-&amp;-Company/faq/what-benefits-does-the-company-provide?quid=1b3djou0tak4ve6s\" onmousedown=\"this.href = appendParamsOnce(this.href, '?from=serp-more&amp;campaignid=serp-more&amp;fromjk=c9035e2fafc77096&amp;jcid=6576e7250aa78c3c');\">\n",
      "             What benefits does the company provide?\n",
      "            </a>\n",
      "           </li>\n",
      "           <li>\n",
      "            <a href=\"/cmp/Mckinsey-&amp;-Company/faq/if-you-were-in-charge-what-would-you-do-to-make-mckinsey-company-a-better-place-to-work?quid=1bjou59lpak95eh5\" onmousedown=\"this.href = appendParamsOnce(this.href, '?from=serp-more&amp;campaignid=serp-more&amp;fromjk=c9035e2fafc77096&amp;jcid=6576e7250aa78c3c');\">\n",
      "             If you were in charge, what would you do to make McKinsey &amp; Company a be...\n",
      "            </a>\n",
      "           </li>\n",
      "          </ul>\n",
      "         </span>\n",
      "        </li>\n",
      "        <li>\n",
      "         <span class=\"mat\">\n",
      "          Related forums:  -\n",
      "          <a href=\"/forum/loc/New-York-New-York.html\">\n",
      "           New York, New York\n",
      "          </a>\n",
      "          -\n",
      "          <a href=\"/forum/cmp/Mckinsey-%26-Company.html\">\n",
      "           McKinsey &amp; Company\n",
      "          </a>\n",
      "         </span>\n",
      "        </li>\n",
      "       </ul>\n",
      "      </div>\n",
      "     </div>\n",
      "     <div class=\"dya-container result-tab\">\n",
      "     </div>\n",
      "     <div class=\"tellafriend-container result-tab email_job_content\">\n",
      "     </div>\n",
      "     <div class=\"sign-in-container result-tab\">\n",
      "     </div>\n",
      "     <div class=\"notes-container result-tab\">\n",
      "     </div>\n",
      "    </div>\n",
      "   </td>\n",
      "  </tr>\n",
      " </table>\n",
      "</div>\n",
      "\n"
     ]
    }
   ],
   "source": [
    "# Display contents of 1 job card in a 'prettified' (i.e. indented) format\n",
    "print(job_cards[4].prettify())"
   ]
  },
  {
   "cell_type": "code",
   "execution_count": 9,
   "metadata": {
    "ExecuteTime": {
     "end_time": "2018-04-17T17:48:53.076409Z",
     "start_time": "2018-04-17T17:48:53.064522Z"
    }
   },
   "outputs": [
    {
     "data": {
      "text/plain": [
       "['New York, NY',\n",
       " 'New York, NY',\n",
       " 'New York, NY',\n",
       " 'New York, NY',\n",
       " 'New York, NY 10022 (Midtown area)',\n",
       " 'New York, NY',\n",
       " 'New York, NY 10104 (Midtown area)',\n",
       " 'New York, NY 10041 (Financial District area)',\n",
       " 'New York, NY',\n",
       " 'New York, NY 10032 (Washington Heights area)']"
      ]
     },
     "execution_count": 9,
     "metadata": {},
     "output_type": "execute_result"
    }
   ],
   "source": [
    "# Extract all job locations on 1st page of web site and assign to locations list\n",
    "locations = [job_card.find ('span', class_='location').text \n",
    "             for job_card in job_cards]\n",
    "locations"
   ]
  },
  {
   "cell_type": "code",
   "execution_count": 10,
   "metadata": {
    "ExecuteTime": {
     "end_time": "2018-04-17T17:48:55.441756Z",
     "start_time": "2018-04-17T17:48:55.436463Z"
    }
   },
   "outputs": [
    {
     "data": {
      "text/plain": [
       "['\\n\\n    Oath Inc',\n",
       " '\\n\\n    American Express',\n",
       " '\\n\\n    Oracle',\n",
       " '\\n\\n    State Street',\n",
       " '\\n\\n    McKinsey & Company',\n",
       " '\\n    Acuris',\n",
       " '\\n\\n    SiriusXM',\n",
       " '\\n\\n    S&P Global',\n",
       " '\\n\\n    Two Sigma Investments, LLC.',\n",
       " '\\n\\n    Morgan Stanley']"
      ]
     },
     "execution_count": 10,
     "metadata": {},
     "output_type": "execute_result"
    }
   ],
   "source": [
    "# Extract all companies on 1st page of web site and assign to companies list\n",
    "companies = [job_card.find('span', class_='company').text\n",
    "            for job_card in job_cards]\n",
    "companies"
   ]
  },
  {
   "cell_type": "code",
   "execution_count": 11,
   "metadata": {
    "ExecuteTime": {
     "end_time": "2018-04-17T17:48:57.131316Z",
     "start_time": "2018-04-17T17:48:57.126512Z"
    }
   },
   "outputs": [
    {
     "data": {
      "text/plain": [
       "['Machine Learning Intern',\n",
       " 'Mgr/Sr Mgr - Risk Management - Data Scientist',\n",
       " 'Student / Intern',\n",
       " 'Quantitative Analyst',\n",
       " 'Analyst - Healthcare Analytics & Delivery, McKinsey New Vent...',\n",
       " 'Junior Research Analyst Intern',\n",
       " 'Manager, Business & Data Analysis - Business Intelligence',\n",
       " 'Associate Director, Lead Data Scientist',\n",
       " 'Quantitative Software Engineer, Feature Modeling Analytics',\n",
       " 'Natural Language Processing (NLP) Engineer (Vice President)']"
      ]
     },
     "execution_count": 11,
     "metadata": {},
     "output_type": "execute_result"
    }
   ],
   "source": [
    "# Extract all job titles from 1st page of web site and assign to titles list\n",
    "titles = [job_card.find('a', class_='turnstileLink').text\n",
    "          for job_card in job_cards]\n",
    "titles"
   ]
  },
  {
   "cell_type": "code",
   "execution_count": 12,
   "metadata": {
    "ExecuteTime": {
     "end_time": "2018-04-17T17:48:58.813634Z",
     "start_time": "2018-04-17T17:48:58.797249Z"
    }
   },
   "outputs": [
    {
     "data": {
      "text/plain": [
       "[None,\n",
       " None,\n",
       " '\\n                $50,000 a year',\n",
       " '\\n                $130,000 - $158,000 a year',\n",
       " None,\n",
       " None,\n",
       " None,\n",
       " '\\n                $153,000 - $195,000 a year (Indeed est.)',\n",
       " None,\n",
       " None]"
      ]
     },
     "execution_count": 12,
     "metadata": {},
     "output_type": "execute_result"
    }
   ],
   "source": [
    "# Extract salaries from job_card and assign to salaries list.  \n",
    "# Note, not all job cards have a salary.  In these cases, None will be appended to the list.\n",
    "salaries = []\n",
    "for job_card in job_cards:\n",
    "    try:\n",
    "        salaries.append(job_card.find('span', class_='no-wrap').text)\n",
    "    except:\n",
    "        salaries.append(None)\n",
    "salaries\n"
   ]
  },
  {
   "cell_type": "markdown",
   "metadata": {},
   "source": [
    "# Answer\n",
    "I will also extract the number of company reviews and the summary for each job, as these may be interesting predictors for the salary modeling in Question 2."
   ]
  },
  {
   "cell_type": "code",
   "execution_count": 13,
   "metadata": {
    "ExecuteTime": {
     "end_time": "2018-04-17T17:49:00.562790Z",
     "start_time": "2018-04-17T17:49:00.553749Z"
    }
   },
   "outputs": [
    {
     "data": {
      "text/plain": [
       "['3', '5156', '3628', '1746', '344', None, '65', '573', '5', '2436']"
      ]
     },
     "execution_count": 13,
     "metadata": {},
     "output_type": "execute_result"
    }
   ],
   "source": [
    "# Extract number of company reviews and assign to reviews list\n",
    "reviews = []\n",
    "for job_card in job_cards:\n",
    "    try:\n",
    "        reviews.append(job_card.find('span', class_='slNoUnderline').text.split(' ')[0].replace(',',''))\n",
    "    except:\n",
    "        reviews.append(None)\n",
    "        \n",
    "reviews"
   ]
  },
  {
   "cell_type": "code",
   "execution_count": 14,
   "metadata": {
    "ExecuteTime": {
     "end_time": "2018-04-17T17:49:02.505057Z",
     "start_time": "2018-04-17T17:49:02.498147Z"
    }
   },
   "outputs": [
    {
     "data": {
      "text/plain": [
       "['Deep dive into the data to understand and apply patterns, while maintaining a sense of the big picture. Oath, a subsidiary of Verizon, is a values-led company...',\n",
       " 'As Data Scientist you will apply your expertise in the field of Data Science to monitor and derive actionable insights across various risk including Credit,...',\n",
       " 'We are looking for bright, motivated data scientist interns to assist our team of data scientists as they develop cutting edge approaches to solving the most...',\n",
       " 'Demonstrated ability to translate complex data sets into simplistic visualizations; Managing large and/or complex data sets using statistical tools and database...',\n",
       " 'It is a unique mix of Healthcare Experts, physicians, statisticians, engineers, data scientists, and more. You will work with our Technology team to turn the...',\n",
       " 'Prepare data for market and sector reports for publication. We are seeking a Junior Research Analyst Intern for our NYC office based at 330 Hudson Street to...',\n",
       " 'Excellent data analysis skills. This position requires broad knowledge of data sources, data integration and data flow as well as a high degree of creativity...',\n",
       " 'You will need to work closely with internal stakeholders and users, mentor junior scientists, and identify opportunities that lead to business impact and...',\n",
       " 'A high impact role that works directly with data scientists, engineers, and quantitative analysts; Passion for tacking big data challenges....',\n",
       " 'We are a highly motivated and collaborative team consisting of data scientists, machine learning engineers and members from academia....']"
      ]
     },
     "execution_count": 14,
     "metadata": {},
     "output_type": "execute_result"
    }
   ],
   "source": [
    "# Extract job summary and assign to summary list\n",
    "summary = [job_card.find('span', class_='summary').text.strip()\n",
    "          for job_card in job_cards]\n",
    "summary"
   ]
  },
  {
   "cell_type": "markdown",
   "metadata": {
    "focus": false,
    "id": "f1eddb90-4ba8-483c-a229-77e93aa53119"
   },
   "source": [
    "## Write 4 functions to extract each item: location, company, job, and salary."
   ]
  },
  {
   "cell_type": "markdown",
   "metadata": {},
   "source": [
    "### Functions to return job card data"
   ]
  },
  {
   "cell_type": "code",
   "execution_count": 15,
   "metadata": {
    "ExecuteTime": {
     "end_time": "2018-04-17T17:49:23.105844Z",
     "start_time": "2018-04-17T17:49:23.102033Z"
    },
    "focus": false,
    "id": "a1af53c9-9090-494f-b82e-cadb60a54909"
   },
   "outputs": [],
   "source": [
    "# Define function to return location from a single job card\n",
    "\n",
    "def extract_location_from_result(result):\n",
    "    return result.find('span', class_='location').text\n",
    "    "
   ]
  },
  {
   "cell_type": "code",
   "execution_count": 16,
   "metadata": {
    "ExecuteTime": {
     "end_time": "2018-04-17T17:49:24.155713Z",
     "start_time": "2018-04-17T17:49:24.150384Z"
    }
   },
   "outputs": [],
   "source": [
    "# Define function to return company name from a single job card\n",
    "# Where a company name doesn't exist, the function will return None\n",
    "\n",
    "def extract_company_from_result(result):\n",
    "    try:\n",
    "        return result.find('span', class_='company').text.strip()\n",
    "    except:\n",
    "        return None\n",
    "    return \n"
   ]
  },
  {
   "cell_type": "code",
   "execution_count": 17,
   "metadata": {
    "ExecuteTime": {
     "end_time": "2018-04-17T17:49:25.307835Z",
     "start_time": "2018-04-17T17:49:25.304396Z"
    }
   },
   "outputs": [],
   "source": [
    "# Define function to return job title from a single job card\n",
    "\n",
    "def extract_title_from_result(result):\n",
    "    return result.find('a', class_='turnstileLink').text.title()"
   ]
  },
  {
   "cell_type": "code",
   "execution_count": 18,
   "metadata": {
    "ExecuteTime": {
     "end_time": "2018-04-17T17:49:25.906840Z",
     "start_time": "2018-04-17T17:49:25.902528Z"
    }
   },
   "outputs": [],
   "source": [
    "# Define function to return salary from a single job card\n",
    "# Where a salary doesn't exist, the function will return None\n",
    "\n",
    "def extract_salary_from_result(result):\n",
    "    try:\n",
    "        return result.find('span', class_='no-wrap').text.strip()\n",
    "    except:\n",
    "        return None  #'No Salary'"
   ]
  },
  {
   "cell_type": "code",
   "execution_count": 19,
   "metadata": {
    "ExecuteTime": {
     "end_time": "2018-04-17T17:49:26.939571Z",
     "start_time": "2018-04-17T17:49:26.934997Z"
    }
   },
   "outputs": [],
   "source": [
    "# Define function to return number of reviews from a single job card\n",
    "# Where data doesn't exist, the function will return None\n",
    "\n",
    "def extract_review_from_result(result):\n",
    "    try:\n",
    "        return result.find('span', class_='slNoUnderline').text.split(' ')[0].replace(',','')\n",
    "    except:\n",
    "        return None"
   ]
  },
  {
   "cell_type": "code",
   "execution_count": 20,
   "metadata": {
    "ExecuteTime": {
     "end_time": "2018-04-17T17:49:28.967143Z",
     "start_time": "2018-04-17T17:49:28.962387Z"
    }
   },
   "outputs": [],
   "source": [
    "# Define function to return summary from a single job card\n",
    "# Where data doesn't exist, the function will return None\n",
    "\n",
    "def extract_summary_from_result(result):\n",
    "    try:\n",
    "        return result.find('span', class_='summary').text.strip()\n",
    "    except:\n",
    "        return None"
   ]
  },
  {
   "cell_type": "code",
   "execution_count": 21,
   "metadata": {
    "ExecuteTime": {
     "end_time": "2018-04-17T17:49:31.090368Z",
     "start_time": "2018-04-17T17:49:31.055077Z"
    }
   },
   "outputs": [
    {
     "name": "stdout",
     "output_type": "stream",
     "text": [
      "Locations: ['New York, NY', 'New York, NY', 'New York, NY', 'New York, NY', 'New York, NY 10022 (Midtown area)', 'New York, NY', 'New York, NY 10104 (Midtown area)', 'New York, NY 10041 (Financial District area)', 'New York, NY', 'New York, NY 10032 (Washington Heights area)'] \n",
      "\n",
      "\n",
      "Companies: ['Oath Inc', 'American Express', 'Oracle', 'State Street', 'McKinsey & Company', 'Acuris', 'SiriusXM', 'S&P Global', 'Two Sigma Investments, LLC.', 'Morgan Stanley'] \n",
      "\n",
      "\n",
      "Titles: ['Machine Learning Intern', 'Mgr/Sr Mgr - Risk Management - Data Scientist', 'Student / Intern', 'Quantitative Analyst', 'Analyst - Healthcare Analytics & Delivery, Mckinsey New Vent...', 'Junior Research Analyst Intern', 'Manager, Business & Data Analysis - Business Intelligence', 'Associate Director, Lead Data Scientist', 'Quantitative Software Engineer, Feature Modeling Analytics', 'Natural Language Processing (Nlp) Engineer (Vice President)'] \n",
      "\n",
      "\n",
      "Salaries: [None, None, '$50,000 a year', '$130,000 - $158,000 a year', None, None, None, '$153,000 - $195,000 a year (Indeed est.)', None, None]\n",
      "\n",
      "\n",
      "Reviews: ['3', '5156', '3628', '1746', '344', None, '65', '573', '5', '2436'] \n",
      "\n",
      "\n",
      "Summaries: ['Deep dive into the data to understand and apply patterns, while maintaining a sense of the big picture. Oath, a subsidiary of Verizon, is a values-led company...', 'As Data Scientist you will apply your expertise in the field of Data Science to monitor and derive actionable insights across various risk including Credit,...', 'We are looking for bright, motivated data scientist interns to assist our team of data scientists as they develop cutting edge approaches to solving the most...', 'Demonstrated ability to translate complex data sets into simplistic visualizations; Managing large and/or complex data sets using statistical tools and database...', 'It is a unique mix of Healthcare Experts, physicians, statisticians, engineers, data scientists, and more. You will work with our Technology team to turn the...', 'Prepare data for market and sector reports for publication. We are seeking a Junior Research Analyst Intern for our NYC office based at 330 Hudson Street to...', 'Excellent data analysis skills. This position requires broad knowledge of data sources, data integration and data flow as well as a high degree of creativity...', 'You will need to work closely with internal stakeholders and users, mentor junior scientists, and identify opportunities that lead to business impact and...', 'A high impact role that works directly with data scientists, engineers, and quantitative analysts; Passion for tacking big data challenges....', 'We are a highly motivated and collaborative team consisting of data scientists, machine learning engineers and members from academia....'] \n",
      "\n",
      "\n"
     ]
    }
   ],
   "source": [
    "# Test 4 functions defined above on first page of site\n",
    "\n",
    "job_cards = soup.find_all('div', class_='result')\n",
    "\n",
    "locations = [extract_location_from_result(job_card)\n",
    "            for job_card in job_cards]\n",
    "\n",
    "companies = [extract_company_from_result(job_card)\n",
    "            for job_card in job_cards]\n",
    "\n",
    "titles = [extract_title_from_result(job_card)\n",
    "         for job_card in job_cards]\n",
    "\n",
    "salaries = [extract_salary_from_result(job_card)\n",
    "           for job_card in job_cards]\n",
    "\n",
    "reviews = [extract_review_from_result(job_card)\n",
    "           for job_card in job_cards]\n",
    "\n",
    "summaries = [extract_summary_from_result(job_card)\n",
    "           for job_card in job_cards]\n",
    "\n",
    "print(f'Locations: {locations} \\n\\n')\n",
    "print(f'Companies: {companies} \\n\\n')\n",
    "print(f'Titles: {titles} \\n\\n')\n",
    "print(f'Salaries: {salaries}\\n\\n')\n",
    "print(f'Reviews: {reviews} \\n\\n')\n",
    "print(f'Summaries: {summaries} \\n\\n')"
   ]
  },
  {
   "cell_type": "markdown",
   "metadata": {},
   "source": [
    "# Answer \n",
    "The data extracted by the functions above is aligned with that from Section 1.01.  This also cross-checks with the data from the web site (as per the images below).\n",
    "\n",
    "I also tested these functions on larger datasets, and for different cities to verify alignment, but only show a subset of the testing above."
   ]
  },
  {
   "cell_type": "markdown",
   "metadata": {},
   "source": [
    "<img src=\"images/NY_jobs1.png\" style=\"width:35%\">"
   ]
  },
  {
   "cell_type": "markdown",
   "metadata": {},
   "source": [
    "<img src=\"images/NY_jobs2a.png\"  style=\"width:35%\">"
   ]
  },
  {
   "cell_type": "markdown",
   "metadata": {},
   "source": [
    "<img src=\"images/NY_jobs3.png\" style=\"width:35%\">"
   ]
  },
  {
   "cell_type": "markdown",
   "metadata": {
    "focus": false,
    "id": "34070e89-9521-4b45-90c8-57a6599aac68"
   },
   "source": [
    "Now, to scale up our scraping, we need to accumulate more results. We can do this by examining the URL above.\n",
    "\n",
    "- \"http://www.indeed.com/jobs?q=data+scientist+%2420%2C000&l=New+York&start=10\"\n",
    "\n",
    "There are two query parameters here we can alter to collect more results, the `l=New+York` and the `start=10`. The first controls the location of the results (so we can try a different city). The second controls where in the results to start and gives 10 results (thus, we can keep incrementing by 10 to go further in the list)."
   ]
  },
  {
   "cell_type": "code",
   "execution_count": 22,
   "metadata": {
    "ExecuteTime": {
     "end_time": "2018-04-17T19:11:57.171202Z",
     "start_time": "2018-04-17T17:57:08.497177Z"
    },
    "focus": false,
    "id": "04b0f9af-540e-402f-8292-81748707c676",
    "scrolled": false
   },
   "outputs": [
    {
     "name": "stderr",
     "output_type": "stream",
     "text": [
      "\r",
      "  0%|          | 0/300 [00:00<?, ?it/s]"
     ]
    },
    {
     "name": "stdout",
     "output_type": "stream",
     "text": [
      "Starting:  Dallas\n"
     ]
    },
    {
     "name": "stderr",
     "output_type": "stream",
     "text": [
      "100%|██████████| 300/300 [04:52<00:00,  1.03it/s]\n",
      "  0%|          | 0/300 [00:00<?, ?it/s]"
     ]
    },
    {
     "name": "stdout",
     "output_type": "stream",
     "text": [
      "Starting:  Chicago\n"
     ]
    },
    {
     "name": "stderr",
     "output_type": "stream",
     "text": [
      "100%|██████████| 300/300 [05:02<00:00,  1.01s/it]\n",
      "  0%|          | 0/300 [00:00<?, ?it/s]"
     ]
    },
    {
     "name": "stdout",
     "output_type": "stream",
     "text": [
      "Starting:  Seattle\n"
     ]
    },
    {
     "name": "stderr",
     "output_type": "stream",
     "text": [
      "100%|██████████| 300/300 [05:05<00:00,  1.02s/it]\n",
      "  0%|          | 0/300 [00:00<?, ?it/s]"
     ]
    },
    {
     "name": "stdout",
     "output_type": "stream",
     "text": [
      "Starting:  Los+Angeles\n"
     ]
    },
    {
     "name": "stderr",
     "output_type": "stream",
     "text": [
      "100%|██████████| 300/300 [04:57<00:00,  1.01it/s]\n",
      "  0%|          | 0/300 [00:00<?, ?it/s]"
     ]
    },
    {
     "name": "stdout",
     "output_type": "stream",
     "text": [
      "Starting:  Pittsburgh\n"
     ]
    },
    {
     "name": "stderr",
     "output_type": "stream",
     "text": [
      "100%|██████████| 300/300 [04:56<00:00,  1.01it/s]\n",
      "  0%|          | 0/300 [00:00<?, ?it/s]"
     ]
    },
    {
     "name": "stdout",
     "output_type": "stream",
     "text": [
      "Starting:  Portland\n"
     ]
    },
    {
     "name": "stderr",
     "output_type": "stream",
     "text": [
      "100%|██████████| 300/300 [04:51<00:00,  1.03it/s]\n",
      "  0%|          | 0/300 [00:00<?, ?it/s]"
     ]
    },
    {
     "name": "stdout",
     "output_type": "stream",
     "text": [
      "Starting:  Philadelphia\n"
     ]
    },
    {
     "name": "stderr",
     "output_type": "stream",
     "text": [
      "100%|██████████| 300/300 [04:55<00:00,  1.02it/s]\n",
      "  0%|          | 0/300 [00:00<?, ?it/s]"
     ]
    },
    {
     "name": "stdout",
     "output_type": "stream",
     "text": [
      "Starting:  Houston\n"
     ]
    },
    {
     "name": "stderr",
     "output_type": "stream",
     "text": [
      "100%|██████████| 300/300 [04:52<00:00,  1.03it/s]\n",
      "  0%|          | 0/300 [00:00<?, ?it/s]"
     ]
    },
    {
     "name": "stdout",
     "output_type": "stream",
     "text": [
      "Starting:  New+York\n"
     ]
    },
    {
     "name": "stderr",
     "output_type": "stream",
     "text": [
      "100%|██████████| 300/300 [04:52<00:00,  1.03it/s]\n",
      "  0%|          | 0/300 [00:00<?, ?it/s]"
     ]
    },
    {
     "name": "stdout",
     "output_type": "stream",
     "text": [
      "Starting:  Atlanta\n"
     ]
    },
    {
     "name": "stderr",
     "output_type": "stream",
     "text": [
      "100%|██████████| 300/300 [05:00<00:00,  1.00s/it]\n",
      "  0%|          | 0/300 [00:00<?, ?it/s]"
     ]
    },
    {
     "name": "stdout",
     "output_type": "stream",
     "text": [
      "Starting:  Denver\n"
     ]
    },
    {
     "name": "stderr",
     "output_type": "stream",
     "text": [
      "100%|██████████| 300/300 [04:49<00:00,  1.04it/s]\n",
      "  0%|          | 0/300 [00:00<?, ?it/s]"
     ]
    },
    {
     "name": "stdout",
     "output_type": "stream",
     "text": [
      "Starting:  San+Francisco\n"
     ]
    },
    {
     "name": "stderr",
     "output_type": "stream",
     "text": [
      "100%|██████████| 300/300 [05:40<00:00,  1.13s/it]\n",
      "  0%|          | 0/300 [00:00<?, ?it/s]"
     ]
    },
    {
     "name": "stdout",
     "output_type": "stream",
     "text": [
      "Starting:  Miami\n"
     ]
    },
    {
     "name": "stderr",
     "output_type": "stream",
     "text": [
      "100%|██████████| 300/300 [04:34<00:00,  1.09it/s]\n",
      "  0%|          | 0/300 [00:00<?, ?it/s]"
     ]
    },
    {
     "name": "stdout",
     "output_type": "stream",
     "text": [
      "Starting:  Phoenix\n"
     ]
    },
    {
     "name": "stderr",
     "output_type": "stream",
     "text": [
      "100%|██████████| 300/300 [04:49<00:00,  1.04it/s]\n",
      "  0%|          | 0/300 [00:00<?, ?it/s]"
     ]
    },
    {
     "name": "stdout",
     "output_type": "stream",
     "text": [
      "Starting:  Austin\n"
     ]
    },
    {
     "name": "stderr",
     "output_type": "stream",
     "text": [
      "100%|██████████| 300/300 [05:28<00:00,  1.10s/it]\n"
     ]
    }
   ],
   "source": [
    "# Define URL template, which will be dynamically updated with cities and start points\n",
    "url_template = \"http://www.indeed.com/jobs?q=data+scientist+%2420%2C000&l={}&start={}\"\n",
    "\n",
    "# Define max results per city.  Max result of jobs for the cities in the list below is ~ 2,100.\n",
    "# Set max_results_per_city to 3000 to ensure all these are captured.\n",
    "# Cities with less than 3000 jobs will have a duplication of results (and jobs)\n",
    "max_results_per_city = 3000\n",
    "\n",
    "# Define empty results list to store parsed html code\n",
    "results = []\n",
    "\n",
    "for city in set(['New+York', 'Chicago', 'San+Francisco', 'Austin', 'Seattle', \n",
    "   'Los+Angeles', 'Philadelphia', 'Atlanta', 'Dallas', 'Pittsburgh', \n",
    "   'Portland', 'Phoenix', 'Denver', 'Houston', 'Miami']):\n",
    "    print('Starting: ', city)\n",
    "    for start in tqdm(range(0, max_results_per_city, 10)):\n",
    "        # Grab the results from the request (as above)\n",
    "        # Append to the full set of results\n",
    "        URL = url_template.format(city, start)\n",
    "        source = requests.get(URL)\n",
    "        soup1 = BeautifulSoup(source.text, 'html.parser')\n",
    "        # Include city name in results to capture the search city that returned the job\n",
    "        results.append([soup1.find_all('div', class_='result'), city])\n",
    "        "
   ]
  },
  {
   "cell_type": "code",
   "execution_count": 25,
   "metadata": {
    "ExecuteTime": {
     "end_time": "2018-04-17T19:12:45.453717Z",
     "start_time": "2018-04-17T19:12:45.450344Z"
    }
   },
   "outputs": [
    {
     "name": "stdout",
     "output_type": "stream",
     "text": [
      "4500 pages have been scraped.\n"
     ]
    }
   ],
   "source": [
    "# Print number of pages (with 10 jobs each) that have been scraped\n",
    "# Note, there will be significant duplication of data for cities with far fewer jobs than 3000\n",
    "print(f'{len(results)} pages have been scraped.')"
   ]
  },
  {
   "cell_type": "markdown",
   "metadata": {
    "focus": false,
    "id": "20339c09-5032-4e27-91be-286e9b46cd13"
   },
   "source": [
    "#### Use the functions you wrote above to parse out the 4 fields - location, title, company and salary. Create a dataframe from the results with those 4 columns."
   ]
  },
  {
   "cell_type": "code",
   "execution_count": 26,
   "metadata": {
    "ExecuteTime": {
     "end_time": "2018-04-17T19:12:50.203994Z",
     "start_time": "2018-04-17T19:12:50.195373Z"
    }
   },
   "outputs": [],
   "source": [
    "# Make a back-up copy of the results list\n",
    "results_back_up = results"
   ]
  },
  {
   "cell_type": "code",
   "execution_count": 112,
   "metadata": {
    "ExecuteTime": {
     "end_time": "2018-04-17T19:38:59.436931Z",
     "start_time": "2018-04-17T19:38:14.928835Z"
    }
   },
   "outputs": [
    {
     "name": "stdout",
     "output_type": "stream",
     "text": [
      "Page 500 of 4500.\n",
      "Page 1000 of 4500.\n",
      "Page 1500 of 4500.\n",
      "Page 2000 of 4500.\n",
      "Page 2500 of 4500.\n",
      "Page 3000 of 4500.\n",
      "Page 3500 of 4500.\n",
      "Page 4000 of 4500.\n",
      "Page 4500 of 4500.\n"
     ]
    }
   ],
   "source": [
    "# Define 5 lists to store city, location, company, title and salary data for each job\n",
    "cities = []\n",
    "locations = []\n",
    "companies = []\n",
    "titles = []\n",
    "salaries = []\n",
    "reviews = []\n",
    "summaries = []\n",
    "\n",
    "# Define a progress counter to show progress as the for loop below executes\n",
    "progress_counter = 0\n",
    "\n",
    "# Extract the jobs (usually 10) for each page in the results list, and then extract the location, company,\n",
    "# title and salary for each job; appending data to the appropriate list\n",
    "for page in results:\n",
    "    jobs  = page[0]\n",
    "    search_city = page[1]\n",
    "    \n",
    "    # Print progress counter at every 1000 pages\n",
    "    progress_counter += 1\n",
    "    if progress_counter % 500 == 0:\n",
    "        print(f'Page {progress_counter} of {len(results)}.')\n",
    "        \n",
    "    for job in jobs:\n",
    "        cities.append(search_city)        \n",
    "        locations.append(extract_location_from_result(job))\n",
    "        companies.append(extract_company_from_result(job))       \n",
    "        titles.append(extract_title_from_result(job))\n",
    "        salaries.append(extract_salary_from_result(job))\n",
    "        reviews.append(extract_review_from_result(job))\n",
    "        summaries.append(extract_summary_from_result(job))\n",
    "        \n",
    "\n",
    "# Define DataFrame with city, location, title, company and salary data\n",
    "col_names = ['City', 'Location', 'Title', 'Company', 'Reviews', 'Summary', 'Salary']\n",
    "data = [cities, locations, titles, companies, reviews, summaries, salaries]\n",
    "df = pd.DataFrame(dict(list(zip(col_names, data))))"
   ]
  },
  {
   "cell_type": "markdown",
   "metadata": {},
   "source": [
    "##### Short EDA of data"
   ]
  },
  {
   "cell_type": "code",
   "execution_count": 113,
   "metadata": {
    "ExecuteTime": {
     "end_time": "2018-04-17T19:38:59.458977Z",
     "start_time": "2018-04-17T19:38:59.440171Z"
    }
   },
   "outputs": [],
   "source": [
    "# Make a back-up copy of the jobs data DataFrame\n",
    "df_back_up = df.copy()"
   ]
  },
  {
   "cell_type": "code",
   "execution_count": 114,
   "metadata": {
    "ExecuteTime": {
     "end_time": "2018-04-17T19:38:59.481035Z",
     "start_time": "2018-04-17T19:38:59.462180Z"
    },
    "scrolled": false
   },
   "outputs": [
    {
     "data": {
      "text/html": [
       "<div>\n",
       "<style scoped>\n",
       "    .dataframe tbody tr th:only-of-type {\n",
       "        vertical-align: middle;\n",
       "    }\n",
       "\n",
       "    .dataframe tbody tr th {\n",
       "        vertical-align: top;\n",
       "    }\n",
       "\n",
       "    .dataframe thead th {\n",
       "        text-align: right;\n",
       "    }\n",
       "</style>\n",
       "<table border=\"1\" class=\"dataframe\">\n",
       "  <thead>\n",
       "    <tr style=\"text-align: right;\">\n",
       "      <th></th>\n",
       "      <th>City</th>\n",
       "      <th>Company</th>\n",
       "      <th>Location</th>\n",
       "      <th>Reviews</th>\n",
       "      <th>Salary</th>\n",
       "      <th>Summary</th>\n",
       "      <th>Title</th>\n",
       "    </tr>\n",
       "  </thead>\n",
       "  <tbody>\n",
       "    <tr>\n",
       "      <th>0</th>\n",
       "      <td>Dallas</td>\n",
       "      <td>STATinMED Research</td>\n",
       "      <td>Plano, TX 75093</td>\n",
       "      <td>2</td>\n",
       "      <td>None</td>\n",
       "      <td>Develop study statistical analysis plans, fina...</td>\n",
       "      <td>Statistical Analyst</td>\n",
       "    </tr>\n",
       "    <tr>\n",
       "      <th>1</th>\n",
       "      <td>Dallas</td>\n",
       "      <td>DeWolff, Boberg &amp; Associates</td>\n",
       "      <td>Dallas, TX</td>\n",
       "      <td>30</td>\n",
       "      <td>None</td>\n",
       "      <td>Decipher and interpret large amounts of data t...</td>\n",
       "      <td>Research Analyst Intern (Part-Time)</td>\n",
       "    </tr>\n",
       "    <tr>\n",
       "      <th>2</th>\n",
       "      <td>Dallas</td>\n",
       "      <td>Gartner</td>\n",
       "      <td>Irving, TX</td>\n",
       "      <td>251</td>\n",
       "      <td>None</td>\n",
       "      <td>Ability to construct sub-hypotheses around a g...</td>\n",
       "      <td>Jr Research Analyst</td>\n",
       "    </tr>\n",
       "    <tr>\n",
       "      <th>3</th>\n",
       "      <td>Dallas</td>\n",
       "      <td>The Salvation Army</td>\n",
       "      <td>Dallas, TX</td>\n",
       "      <td>7804</td>\n",
       "      <td>$18 - $20 an hour</td>\n",
       "      <td>Plans, directs, supervises and evaluates stati...</td>\n",
       "      <td>Divisional Statistician</td>\n",
       "    </tr>\n",
       "    <tr>\n",
       "      <th>4</th>\n",
       "      <td>Dallas</td>\n",
       "      <td>Hitachi Consulting Corporation US</td>\n",
       "      <td>Dallas, TX</td>\n",
       "      <td>153</td>\n",
       "      <td>$109,000 - $139,000 a year (Indeed est.)</td>\n",
       "      <td>The Data Scientist designs, builds and maintai...</td>\n",
       "      <td>Sr Consultant Data Scientist</td>\n",
       "    </tr>\n",
       "  </tbody>\n",
       "</table>\n",
       "</div>"
      ],
      "text/plain": [
       "     City                            Company         Location Reviews  \\\n",
       "0  Dallas                 STATinMED Research  Plano, TX 75093       2   \n",
       "1  Dallas       DeWolff, Boberg & Associates       Dallas, TX      30   \n",
       "2  Dallas                            Gartner       Irving, TX     251   \n",
       "3  Dallas                 The Salvation Army       Dallas, TX    7804   \n",
       "4  Dallas  Hitachi Consulting Corporation US       Dallas, TX     153   \n",
       "\n",
       "                                     Salary  \\\n",
       "0                                      None   \n",
       "1                                      None   \n",
       "2                                      None   \n",
       "3                         $18 - $20 an hour   \n",
       "4  $109,000 - $139,000 a year (Indeed est.)   \n",
       "\n",
       "                                             Summary  \\\n",
       "0  Develop study statistical analysis plans, fina...   \n",
       "1  Decipher and interpret large amounts of data t...   \n",
       "2  Ability to construct sub-hypotheses around a g...   \n",
       "3  Plans, directs, supervises and evaluates stati...   \n",
       "4  The Data Scientist designs, builds and maintai...   \n",
       "\n",
       "                                 Title  \n",
       "0                  Statistical Analyst  \n",
       "1  Research Analyst Intern (Part-Time)  \n",
       "2                  Jr Research Analyst  \n",
       "3              Divisional Statistician  \n",
       "4         Sr Consultant Data Scientist  "
      ]
     },
     "execution_count": 114,
     "metadata": {},
     "output_type": "execute_result"
    }
   ],
   "source": [
    "# Inspect DataFrame\n",
    "df.head()"
   ]
  },
  {
   "cell_type": "code",
   "execution_count": 115,
   "metadata": {
    "ExecuteTime": {
     "end_time": "2018-04-17T19:38:59.500609Z",
     "start_time": "2018-04-17T19:38:59.484864Z"
    }
   },
   "outputs": [
    {
     "data": {
      "text/html": [
       "<div>\n",
       "<style scoped>\n",
       "    .dataframe tbody tr th:only-of-type {\n",
       "        vertical-align: middle;\n",
       "    }\n",
       "\n",
       "    .dataframe tbody tr th {\n",
       "        vertical-align: top;\n",
       "    }\n",
       "\n",
       "    .dataframe thead th {\n",
       "        text-align: right;\n",
       "    }\n",
       "</style>\n",
       "<table border=\"1\" class=\"dataframe\">\n",
       "  <thead>\n",
       "    <tr style=\"text-align: right;\">\n",
       "      <th></th>\n",
       "      <th>City</th>\n",
       "      <th>Company</th>\n",
       "      <th>Location</th>\n",
       "      <th>Reviews</th>\n",
       "      <th>Salary</th>\n",
       "      <th>Summary</th>\n",
       "      <th>Title</th>\n",
       "    </tr>\n",
       "  </thead>\n",
       "  <tbody>\n",
       "    <tr>\n",
       "      <th>44925</th>\n",
       "      <td>Austin</td>\n",
       "      <td>Indeed</td>\n",
       "      <td>Austin, TX 78731</td>\n",
       "      <td>265</td>\n",
       "      <td>None</td>\n",
       "      <td>Collaborate with other product marketers, desi...</td>\n",
       "      <td>Product Marketing Manager</td>\n",
       "    </tr>\n",
       "    <tr>\n",
       "      <th>44926</th>\n",
       "      <td>Austin</td>\n",
       "      <td>DMGT</td>\n",
       "      <td>Austin, TX</td>\n",
       "      <td>3</td>\n",
       "      <td>None</td>\n",
       "      <td>Senior Data Scientist. The Senior Data Scienti...</td>\n",
       "      <td>Senior Data Scientist</td>\n",
       "    </tr>\n",
       "    <tr>\n",
       "      <th>44927</th>\n",
       "      <td>Austin</td>\n",
       "      <td>RockBridge Search &amp; Recruitment</td>\n",
       "      <td>Austin, TX</td>\n",
       "      <td>None</td>\n",
       "      <td>None</td>\n",
       "      <td>This QRA Analyst will have direct experience r...</td>\n",
       "      <td>Alm - Quantitative Risk Analyst</td>\n",
       "    </tr>\n",
       "    <tr>\n",
       "      <th>44928</th>\n",
       "      <td>Austin</td>\n",
       "      <td>SparkCognition</td>\n",
       "      <td>Austin, TX 78759 (Arboretum area)</td>\n",
       "      <td>3</td>\n",
       "      <td>None</td>\n",
       "      <td>SparkCognition is seeking an innovative data s...</td>\n",
       "      <td>Senior Data Scientist – Malware &amp; Security</td>\n",
       "    </tr>\n",
       "    <tr>\n",
       "      <th>44929</th>\n",
       "      <td>Austin</td>\n",
       "      <td>RockBridge Search &amp; Recruitment</td>\n",
       "      <td>Austin, TX</td>\n",
       "      <td>None</td>\n",
       "      <td>None</td>\n",
       "      <td>This Financial Risk Quantitative Risk Analyst ...</td>\n",
       "      <td>Financial Risk - Quantitative Risk Analyst</td>\n",
       "    </tr>\n",
       "  </tbody>\n",
       "</table>\n",
       "</div>"
      ],
      "text/plain": [
       "         City                          Company  \\\n",
       "44925  Austin                           Indeed   \n",
       "44926  Austin                             DMGT   \n",
       "44927  Austin  RockBridge Search & Recruitment   \n",
       "44928  Austin                   SparkCognition   \n",
       "44929  Austin  RockBridge Search & Recruitment   \n",
       "\n",
       "                                Location Reviews Salary  \\\n",
       "44925                   Austin, TX 78731     265   None   \n",
       "44926                         Austin, TX       3   None   \n",
       "44927                         Austin, TX    None   None   \n",
       "44928  Austin, TX 78759 (Arboretum area)       3   None   \n",
       "44929                         Austin, TX    None   None   \n",
       "\n",
       "                                                 Summary  \\\n",
       "44925  Collaborate with other product marketers, desi...   \n",
       "44926  Senior Data Scientist. The Senior Data Scienti...   \n",
       "44927  This QRA Analyst will have direct experience r...   \n",
       "44928  SparkCognition is seeking an innovative data s...   \n",
       "44929  This Financial Risk Quantitative Risk Analyst ...   \n",
       "\n",
       "                                            Title  \n",
       "44925                   Product Marketing Manager  \n",
       "44926                       Senior Data Scientist  \n",
       "44927             Alm - Quantitative Risk Analyst  \n",
       "44928  Senior Data Scientist – Malware & Security  \n",
       "44929  Financial Risk - Quantitative Risk Analyst  "
      ]
     },
     "execution_count": 115,
     "metadata": {},
     "output_type": "execute_result"
    }
   ],
   "source": [
    "df.tail()"
   ]
  },
  {
   "cell_type": "code",
   "execution_count": 116,
   "metadata": {
    "ExecuteTime": {
     "end_time": "2018-04-17T19:38:59.508258Z",
     "start_time": "2018-04-17T19:38:59.502415Z"
    }
   },
   "outputs": [
    {
     "data": {
      "text/plain": [
       "(44930, 7)"
      ]
     },
     "execution_count": 116,
     "metadata": {},
     "output_type": "execute_result"
    }
   ],
   "source": [
    "df.shape"
   ]
  },
  {
   "cell_type": "code",
   "execution_count": 117,
   "metadata": {
    "ExecuteTime": {
     "end_time": "2018-04-17T19:38:59.627260Z",
     "start_time": "2018-04-17T19:38:59.510363Z"
    }
   },
   "outputs": [
    {
     "data": {
      "text/html": [
       "<div>\n",
       "<style scoped>\n",
       "    .dataframe tbody tr th:only-of-type {\n",
       "        vertical-align: middle;\n",
       "    }\n",
       "\n",
       "    .dataframe tbody tr th {\n",
       "        vertical-align: top;\n",
       "    }\n",
       "\n",
       "    .dataframe thead th {\n",
       "        text-align: right;\n",
       "    }\n",
       "</style>\n",
       "<table border=\"1\" class=\"dataframe\">\n",
       "  <thead>\n",
       "    <tr style=\"text-align: right;\">\n",
       "      <th></th>\n",
       "      <th>City</th>\n",
       "      <th>Company</th>\n",
       "      <th>Location</th>\n",
       "      <th>Reviews</th>\n",
       "      <th>Salary</th>\n",
       "      <th>Summary</th>\n",
       "      <th>Title</th>\n",
       "    </tr>\n",
       "  </thead>\n",
       "  <tbody>\n",
       "    <tr>\n",
       "      <th>count</th>\n",
       "      <td>44930</td>\n",
       "      <td>44929</td>\n",
       "      <td>44930</td>\n",
       "      <td>25336</td>\n",
       "      <td>5193</td>\n",
       "      <td>44930</td>\n",
       "      <td>44930</td>\n",
       "    </tr>\n",
       "    <tr>\n",
       "      <th>unique</th>\n",
       "      <td>15</td>\n",
       "      <td>1820</td>\n",
       "      <td>688</td>\n",
       "      <td>511</td>\n",
       "      <td>309</td>\n",
       "      <td>4335</td>\n",
       "      <td>4152</td>\n",
       "    </tr>\n",
       "    <tr>\n",
       "      <th>top</th>\n",
       "      <td>Chicago</td>\n",
       "      <td>RockBridge Search &amp; Recruitment</td>\n",
       "      <td>Austin, TX</td>\n",
       "      <td>2</td>\n",
       "      <td>$80,000 - $90,000 a year</td>\n",
       "      <td>This QRA Analyst will have direct experience r...</td>\n",
       "      <td>Senior Data Scientist</td>\n",
       "    </tr>\n",
       "    <tr>\n",
       "      <th>freq</th>\n",
       "      <td>3000</td>\n",
       "      <td>1668</td>\n",
       "      <td>2102</td>\n",
       "      <td>1926</td>\n",
       "      <td>546</td>\n",
       "      <td>834</td>\n",
       "      <td>3483</td>\n",
       "    </tr>\n",
       "  </tbody>\n",
       "</table>\n",
       "</div>"
      ],
      "text/plain": [
       "           City                          Company    Location Reviews  \\\n",
       "count     44930                            44929       44930   25336   \n",
       "unique       15                             1820         688     511   \n",
       "top     Chicago  RockBridge Search & Recruitment  Austin, TX       2   \n",
       "freq       3000                             1668        2102    1926   \n",
       "\n",
       "                          Salary  \\\n",
       "count                       5193   \n",
       "unique                       309   \n",
       "top     $80,000 - $90,000 a year   \n",
       "freq                         546   \n",
       "\n",
       "                                                  Summary  \\\n",
       "count                                               44930   \n",
       "unique                                               4335   \n",
       "top     This QRA Analyst will have direct experience r...   \n",
       "freq                                                  834   \n",
       "\n",
       "                        Title  \n",
       "count                   44930  \n",
       "unique                   4152  \n",
       "top     Senior Data Scientist  \n",
       "freq                     3483  "
      ]
     },
     "execution_count": 117,
     "metadata": {},
     "output_type": "execute_result"
    }
   ],
   "source": [
    "df.describe()"
   ]
  },
  {
   "cell_type": "code",
   "execution_count": 118,
   "metadata": {
    "ExecuteTime": {
     "end_time": "2018-04-17T19:38:59.658315Z",
     "start_time": "2018-04-17T19:38:59.629389Z"
    }
   },
   "outputs": [
    {
     "data": {
      "text/plain": [
       "City            0\n",
       "Company         1\n",
       "Location        0\n",
       "Reviews     19594\n",
       "Salary      39737\n",
       "Summary         0\n",
       "Title           0\n",
       "dtype: int64"
      ]
     },
     "execution_count": 118,
     "metadata": {},
     "output_type": "execute_result"
    }
   ],
   "source": [
    "df.isnull().sum()"
   ]
  },
  {
   "cell_type": "markdown",
   "metadata": {},
   "source": [
    "# Answer \n",
    "There are a lot of jobs without salary data and company review numbers.  These will need to be managed later on. "
   ]
  },
  {
   "cell_type": "code",
   "execution_count": 119,
   "metadata": {
    "ExecuteTime": {
     "end_time": "2018-04-17T19:38:59.676732Z",
     "start_time": "2018-04-17T19:38:59.660076Z"
    }
   },
   "outputs": [
    {
     "data": {
      "text/html": [
       "<div>\n",
       "<style scoped>\n",
       "    .dataframe tbody tr th:only-of-type {\n",
       "        vertical-align: middle;\n",
       "    }\n",
       "\n",
       "    .dataframe tbody tr th {\n",
       "        vertical-align: top;\n",
       "    }\n",
       "\n",
       "    .dataframe thead th {\n",
       "        text-align: right;\n",
       "    }\n",
       "</style>\n",
       "<table border=\"1\" class=\"dataframe\">\n",
       "  <thead>\n",
       "    <tr style=\"text-align: right;\">\n",
       "      <th></th>\n",
       "      <th>Salary</th>\n",
       "    </tr>\n",
       "    <tr>\n",
       "      <th>City</th>\n",
       "      <th></th>\n",
       "    </tr>\n",
       "  </thead>\n",
       "  <tbody>\n",
       "    <tr>\n",
       "      <th>Atlanta</th>\n",
       "      <td>591</td>\n",
       "    </tr>\n",
       "    <tr>\n",
       "      <th>Austin</th>\n",
       "      <td>634</td>\n",
       "    </tr>\n",
       "    <tr>\n",
       "      <th>Chicago</th>\n",
       "      <td>295</td>\n",
       "    </tr>\n",
       "    <tr>\n",
       "      <th>Dallas</th>\n",
       "      <td>863</td>\n",
       "    </tr>\n",
       "    <tr>\n",
       "      <th>Denver</th>\n",
       "      <td>545</td>\n",
       "    </tr>\n",
       "    <tr>\n",
       "      <th>Houston</th>\n",
       "      <td>332</td>\n",
       "    </tr>\n",
       "    <tr>\n",
       "      <th>Los+Angeles</th>\n",
       "      <td>528</td>\n",
       "    </tr>\n",
       "    <tr>\n",
       "      <th>Miami</th>\n",
       "      <td>310</td>\n",
       "    </tr>\n",
       "    <tr>\n",
       "      <th>New+York</th>\n",
       "      <td>142</td>\n",
       "    </tr>\n",
       "    <tr>\n",
       "      <th>Philadelphia</th>\n",
       "      <td>288</td>\n",
       "    </tr>\n",
       "    <tr>\n",
       "      <th>Phoenix</th>\n",
       "      <td>39</td>\n",
       "    </tr>\n",
       "    <tr>\n",
       "      <th>Pittsburgh</th>\n",
       "      <td>18</td>\n",
       "    </tr>\n",
       "    <tr>\n",
       "      <th>Portland</th>\n",
       "      <td>36</td>\n",
       "    </tr>\n",
       "    <tr>\n",
       "      <th>San+Francisco</th>\n",
       "      <td>83</td>\n",
       "    </tr>\n",
       "    <tr>\n",
       "      <th>Seattle</th>\n",
       "      <td>489</td>\n",
       "    </tr>\n",
       "  </tbody>\n",
       "</table>\n",
       "</div>"
      ],
      "text/plain": [
       "               Salary\n",
       "City                 \n",
       "Atlanta           591\n",
       "Austin            634\n",
       "Chicago           295\n",
       "Dallas            863\n",
       "Denver            545\n",
       "Houston           332\n",
       "Los+Angeles       528\n",
       "Miami             310\n",
       "New+York          142\n",
       "Philadelphia      288\n",
       "Phoenix            39\n",
       "Pittsburgh         18\n",
       "Portland           36\n",
       "San+Francisco      83\n",
       "Seattle           489"
      ]
     },
     "execution_count": 119,
     "metadata": {},
     "output_type": "execute_result"
    }
   ],
   "source": [
    "# Show how many jobs have salary information for each city\n",
    "df.groupby('City')[['Salary']].count()"
   ]
  },
  {
   "cell_type": "markdown",
   "metadata": {
    "focus": false,
    "id": "ff98ce64-78a7-441f-a675-63464e32c834"
   },
   "source": [
    "Lastly, we need to clean up salary data. \n",
    "\n",
    "1. Only a small number of the scraped results have salary information - only these will be used for modeling.\n",
    "1. Some of the salaries are not yearly but hourly or weekly, these will not be useful to us for now.\n",
    "1. Some of the entries may be duplicated.\n",
    "1. The salaries are given as text and usually with ranges."
   ]
  },
  {
   "cell_type": "markdown",
   "metadata": {
    "focus": false,
    "id": "ff98ce64-78a7-441f-a675-63464e32c834"
   },
   "source": [
    "#### Find the entries with annual salary entries, by filtering the entries without salaries or salaries that are not yearly (filter those that refer to hour or week). Also, remove duplicate entries."
   ]
  },
  {
   "cell_type": "code",
   "execution_count": 120,
   "metadata": {
    "ExecuteTime": {
     "end_time": "2018-04-17T19:38:59.690808Z",
     "start_time": "2018-04-17T19:38:59.678746Z"
    }
   },
   "outputs": [
    {
     "data": {
      "text/plain": [
       "$80,000 - $90,000 a year                    546\n",
       "$150,000 - $180,000 a year                  465\n",
       "$47,000 - $55,000 a year                    289\n",
       "$150,000 - $165,000 a year                  281\n",
       "$35 - $38 an hour                           280\n",
       "$100,000 - $175,000 a year                  280\n",
       "$150,000 a year                             275\n",
       "$125,000 a year                             271\n",
       "$25 an hour                                 271\n",
       "$120,000 - $150,000 a year                  254\n",
       "$17.50 - $20.40 an hour                     247\n",
       "$20 - $28 an hour                           247\n",
       "$180,000 - $200,000 a year                  241\n",
       "$160,000 - $180,000 a year                  222\n",
       "$22 - $30 an hour                           117\n",
       "$27 - $30 an hour                           117\n",
       "$59,708 - $72,246 a year                     55\n",
       "$122,000 - $155,000 a year (Indeed est.)     25\n",
       "$32,000 - $41,000 a year (Indeed est.)       18\n",
       "$115,000 - $146,000 a year (Indeed est.)     18\n",
       "$106,000 - $135,000 a year (Indeed est.)     16\n",
       "$82,000 - $104,000 a year (Indeed est.)      16\n",
       "$90,000 - $115,000 a year (Indeed est.)      15\n",
       "$138,000 - $176,000 a year (Indeed est.)     14\n",
       "$75,000 - $95,000 a year (Indeed est.)       13\n",
       "$90,000 - $114,000 a year (Indeed est.)      12\n",
       "$5,666 - $6,500 a month                      12\n",
       "$92,000 - $117,000 a year (Indeed est.)      11\n",
       "$119,000 - $151,000 a year (Indeed est.)     10\n",
       "$109,000 - $138,000 a year (Indeed est.)     10\n",
       "                                           ... \n",
       "$50,939 - $76,408 a year                      1\n",
       "$15.02 an hour                                1\n",
       "$67,200 - $100,800 a year                     1\n",
       "$36,486 - $46,907 a year                      1\n",
       "$43.33 an hour                                1\n",
       "$75,600 - $115,000 a year                     1\n",
       "$4,599 - $6,066 a month                       1\n",
       "$2,794 - $3,708 a month                       1\n",
       "$103,000 - $131,000 a year (Indeed est.)      1\n",
       "$45,000 - $55,000 a year                      1\n",
       "$44,986 - $103,739 a year                     1\n",
       "$76,050 - $99,735 a year                      1\n",
       "$4,625 - $6,423 a month                       1\n",
       "$110,000 - $130,000 a year                    1\n",
       "$170,000 - $185,000 a year                    1\n",
       "$136,000 - $173,000 a year (Indeed est.)      1\n",
       "$100,000 - $135,000 a year                    1\n",
       "$101,000 - $129,000 a year (Indeed est.)      1\n",
       "$45,703 - $105,392 a year                     1\n",
       "$18 - $20 an hour                             1\n",
       "$80 - $85 an hour                             1\n",
       "$200,000 - $300,000 a year                    1\n",
       "$5,229 - $6,862 a month                       1\n",
       "$25.77 - $38.65 an hour                       1\n",
       "$62,917 a year                                1\n",
       "$4,585 - $6,759 a month                       1\n",
       "$53,832 - $80,000 a year                      1\n",
       "$47,686 - $64,320 a year                      1\n",
       "$84,000 - $104,000 a year                     1\n",
       "$40 - $45 an hour                             1\n",
       "Name: Salary, Length: 309, dtype: int64"
      ]
     },
     "execution_count": 120,
     "metadata": {},
     "output_type": "execute_result"
    }
   ],
   "source": [
    "# Inspect salary column to understand cleansing requirements\n",
    "df.Salary.value_counts()"
   ]
  },
  {
   "cell_type": "code",
   "execution_count": 121,
   "metadata": {
    "ExecuteTime": {
     "end_time": "2018-04-17T19:38:59.727371Z",
     "start_time": "2018-04-17T19:38:59.692924Z"
    }
   },
   "outputs": [
    {
     "name": "stdout",
     "output_type": "stream",
     "text": [
      "DF shape before dropping duplicates: (44930, 7)\n",
      "DF shape after dropping duplicates: (5341, 7)\n"
     ]
    }
   ],
   "source": [
    "# Drop duplicate rows from df and keep the first instance of each duplicate row\n",
    "# This drop will include the duplicate data scraped for cities with less than 3,000 jobs\n",
    "# Note, I am only dropping rows that have duplicate city, location, job title, company and salary data\n",
    "# I've captured the number of company reviews and job summaries as additional fields, and won't \n",
    "# consider these fields in the identification of duplicate rows\n",
    "print(f'DF shape before dropping duplicates: {df.shape}')\n",
    "df.drop_duplicates(subset=\n",
    "                   ['City', 'Location', 'Title', 'Company', 'Salary'], keep='first', inplace=True)\n",
    "print(f'DF shape after dropping duplicates: {df.shape}')"
   ]
  },
  {
   "cell_type": "code",
   "execution_count": 122,
   "metadata": {
    "ExecuteTime": {
     "end_time": "2018-04-17T19:38:59.738327Z",
     "start_time": "2018-04-17T19:38:59.729563Z"
    },
    "focus": false,
    "id": "58533e57-f86b-494a-b841-e7b59c6229c6"
   },
   "outputs": [
    {
     "data": {
      "text/plain": [
       "(423, 7)"
      ]
     },
     "execution_count": 122,
     "metadata": {},
     "output_type": "execute_result"
    }
   ],
   "source": [
    "# Remove rows from df, where Salary is None, and display shape of resulting df\n",
    "mask = df.Salary.notnull()\n",
    "df = df.loc[mask,:]\n",
    "df.shape"
   ]
  },
  {
   "cell_type": "code",
   "execution_count": 123,
   "metadata": {
    "ExecuteTime": {
     "end_time": "2018-04-17T19:38:59.748479Z",
     "start_time": "2018-04-17T19:38:59.740610Z"
    }
   },
   "outputs": [
    {
     "data": {
      "text/plain": [
       "(323, 7)"
      ]
     },
     "execution_count": 123,
     "metadata": {},
     "output_type": "execute_result"
    }
   ],
   "source": [
    "# Remove rows from df, where Salary is not specified as an annual figure\n",
    "mask = df.Salary.str.contains('a year')\n",
    "df = df.loc[mask,:]\n",
    "df.shape"
   ]
  },
  {
   "cell_type": "code",
   "execution_count": 124,
   "metadata": {
    "ExecuteTime": {
     "end_time": "2018-04-17T19:38:59.766705Z",
     "start_time": "2018-04-17T19:38:59.750219Z"
    }
   },
   "outputs": [
    {
     "data": {
      "text/html": [
       "<div>\n",
       "<style scoped>\n",
       "    .dataframe tbody tr th:only-of-type {\n",
       "        vertical-align: middle;\n",
       "    }\n",
       "\n",
       "    .dataframe tbody tr th {\n",
       "        vertical-align: top;\n",
       "    }\n",
       "\n",
       "    .dataframe thead th {\n",
       "        text-align: right;\n",
       "    }\n",
       "</style>\n",
       "<table border=\"1\" class=\"dataframe\">\n",
       "  <thead>\n",
       "    <tr style=\"text-align: right;\">\n",
       "      <th></th>\n",
       "      <th>City</th>\n",
       "      <th>Company</th>\n",
       "      <th>Location</th>\n",
       "      <th>Reviews</th>\n",
       "      <th>Salary</th>\n",
       "      <th>Summary</th>\n",
       "      <th>Title</th>\n",
       "    </tr>\n",
       "  </thead>\n",
       "  <tbody>\n",
       "    <tr>\n",
       "      <th>4</th>\n",
       "      <td>Dallas</td>\n",
       "      <td>Hitachi Consulting Corporation US</td>\n",
       "      <td>Dallas, TX</td>\n",
       "      <td>153</td>\n",
       "      <td>$109,000 - $139,000 a year (Indeed est.)</td>\n",
       "      <td>The Data Scientist designs, builds and maintai...</td>\n",
       "      <td>Sr Consultant Data Scientist</td>\n",
       "    </tr>\n",
       "    <tr>\n",
       "      <th>8</th>\n",
       "      <td>Dallas</td>\n",
       "      <td>7-Eleven</td>\n",
       "      <td>Irving, TX</td>\n",
       "      <td>7125</td>\n",
       "      <td>$101,000 - $129,000 a year (Indeed est.)</td>\n",
       "      <td>Work closely with data engineersto ensure the ...</td>\n",
       "      <td>Sr Data Scientist</td>\n",
       "    </tr>\n",
       "    <tr>\n",
       "      <th>192</th>\n",
       "      <td>Dallas</td>\n",
       "      <td>Workbridge Associates</td>\n",
       "      <td>Dallas, TX</td>\n",
       "      <td>36</td>\n",
       "      <td>$95,000 - $120,000 a year</td>\n",
       "      <td>Experience with data modeling, analysis, progr...</td>\n",
       "      <td>Full-Stack Software Engineer (Predictive Analy...</td>\n",
       "    </tr>\n",
       "    <tr>\n",
       "      <th>213</th>\n",
       "      <td>Dallas</td>\n",
       "      <td>A+ Consulting</td>\n",
       "      <td>Plano, TX</td>\n",
       "      <td>None</td>\n",
       "      <td>$140,000 - $160,000 a year</td>\n",
       "      <td>This is a direct hire position - not contract....</td>\n",
       "      <td>Principal Machine Learning/Nlp Engineer-Architect</td>\n",
       "    </tr>\n",
       "    <tr>\n",
       "      <th>216</th>\n",
       "      <td>Dallas</td>\n",
       "      <td>Platform by Per Scholas</td>\n",
       "      <td>Dallas, TX</td>\n",
       "      <td>None</td>\n",
       "      <td>$50,000 - $60,000 a year</td>\n",
       "      <td>Java, Oracle DB, Shell Scripting, SDLC and Cod...</td>\n",
       "      <td>Data Scientist/Analyst</td>\n",
       "    </tr>\n",
       "    <tr>\n",
       "      <th>217</th>\n",
       "      <td>Dallas</td>\n",
       "      <td>HRK Solutions</td>\n",
       "      <td>Dallas, TX</td>\n",
       "      <td>None</td>\n",
       "      <td>$75,000 - $130,000 a year</td>\n",
       "      <td>Data Scientist - Python, R, &amp; SAS. ETL / Data ...</td>\n",
       "      <td>Sr. Software Engineer</td>\n",
       "    </tr>\n",
       "    <tr>\n",
       "      <th>221</th>\n",
       "      <td>Dallas</td>\n",
       "      <td>The We Are Big Data Scientists Company</td>\n",
       "      <td>Dallas, TX</td>\n",
       "      <td>None</td>\n",
       "      <td>$73,000 - $81,000 a year</td>\n",
       "      <td>We employ numerous roles including data scient...</td>\n",
       "      <td>Technical Writer I</td>\n",
       "    </tr>\n",
       "    <tr>\n",
       "      <th>240</th>\n",
       "      <td>Dallas</td>\n",
       "      <td>Camden Kelly</td>\n",
       "      <td>Dallas, TX</td>\n",
       "      <td>None</td>\n",
       "      <td>$95,000 - $115,000 a year</td>\n",
       "      <td>Effectively present the story that the data te...</td>\n",
       "      <td>Data Scientist – Articulate Data’S Story &amp; Get...</td>\n",
       "    </tr>\n",
       "    <tr>\n",
       "      <th>254</th>\n",
       "      <td>Dallas</td>\n",
       "      <td>Arbor Diagnostics</td>\n",
       "      <td>Dallas, TX 75234</td>\n",
       "      <td>None</td>\n",
       "      <td>$120,000 - $150,000 a year</td>\n",
       "      <td>Managing the implementation of data warehouse ...</td>\n",
       "      <td>Clinical Informatics Director</td>\n",
       "    </tr>\n",
       "    <tr>\n",
       "      <th>271</th>\n",
       "      <td>Dallas</td>\n",
       "      <td>Hunt Around Solutions</td>\n",
       "      <td>Dallas, TX</td>\n",
       "      <td>None</td>\n",
       "      <td>$150,000 a year</td>\n",
       "      <td>Interact with customers’ Data Scientists and B...</td>\n",
       "      <td>Presales Big Data Consultant</td>\n",
       "    </tr>\n",
       "    <tr>\n",
       "      <th>273</th>\n",
       "      <td>Dallas</td>\n",
       "      <td>KeyStaff Inc.</td>\n",
       "      <td>Irving, TX</td>\n",
       "      <td>10</td>\n",
       "      <td>$80,000 - $90,000 a year</td>\n",
       "      <td>Interpret analytical or stability data. Enter ...</td>\n",
       "      <td>Sr. Product Development Scientist In Food Manu...</td>\n",
       "    </tr>\n",
       "    <tr>\n",
       "      <th>274</th>\n",
       "      <td>Dallas</td>\n",
       "      <td>Keystaff Inc</td>\n",
       "      <td>Euless, TX</td>\n",
       "      <td>10</td>\n",
       "      <td>$80,000 - $90,000 a year</td>\n",
       "      <td>Interpret analytical or stability data. Enter ...</td>\n",
       "      <td>Product Development Scientist</td>\n",
       "    </tr>\n",
       "    <tr>\n",
       "      <th>352</th>\n",
       "      <td>Dallas</td>\n",
       "      <td>Kleinfelder, Inc.</td>\n",
       "      <td>Irving, TX</td>\n",
       "      <td>58</td>\n",
       "      <td>$32,000 - $41,000 a year (Indeed est.)</td>\n",
       "      <td>We are engineers, scientists, and construction...</td>\n",
       "      <td>Construction Materials Testing Technician</td>\n",
       "    </tr>\n",
       "    <tr>\n",
       "      <th>396</th>\n",
       "      <td>Dallas</td>\n",
       "      <td>JAMY INTERACTIVE,INC</td>\n",
       "      <td>Dallas, TX</td>\n",
       "      <td>None</td>\n",
       "      <td>$115,000 - $146,000 a year (Indeed est.)</td>\n",
       "      <td>Big Data environments:. Designs, develops, and...</td>\n",
       "      <td>Senior Data Scientist</td>\n",
       "    </tr>\n",
       "    <tr>\n",
       "      <th>900</th>\n",
       "      <td>Dallas</td>\n",
       "      <td>AIC Talent Solutions</td>\n",
       "      <td>Lewisville, TX</td>\n",
       "      <td>None</td>\n",
       "      <td>$107,000 - $137,000 a year (Indeed est.)</td>\n",
       "      <td>Collaborate cross-functionally with data scien...</td>\n",
       "      <td>Senior Java Developer</td>\n",
       "    </tr>\n",
       "    <tr>\n",
       "      <th>3126</th>\n",
       "      <td>Chicago</td>\n",
       "      <td>Jobspring Partners</td>\n",
       "      <td>Chicago, IL</td>\n",
       "      <td>18</td>\n",
       "      <td>$115,000 - $125,000 a year</td>\n",
       "      <td>20% Data management. A well-known enterprise c...</td>\n",
       "      <td>Machine Learning Engineer</td>\n",
       "    </tr>\n",
       "    <tr>\n",
       "      <th>3155</th>\n",
       "      <td>Chicago</td>\n",
       "      <td>Jobspring Partners</td>\n",
       "      <td>Chicago, IL</td>\n",
       "      <td>18</td>\n",
       "      <td>$170,000 - $220,000 a year</td>\n",
       "      <td>Experience building teams of high caliber data...</td>\n",
       "      <td>Principal Machine Learning Engineer</td>\n",
       "    </tr>\n",
       "    <tr>\n",
       "      <th>3156</th>\n",
       "      <td>Chicago</td>\n",
       "      <td>Workbridge Associates</td>\n",
       "      <td>Chicago, IL</td>\n",
       "      <td>36</td>\n",
       "      <td>$130,000 - $180,000 a year</td>\n",
       "      <td>100% Hands on working with a team of 12+ data ...</td>\n",
       "      <td>Machine Learning Architect</td>\n",
       "    </tr>\n",
       "    <tr>\n",
       "      <th>3161</th>\n",
       "      <td>Chicago</td>\n",
       "      <td>SymbaSync</td>\n",
       "      <td>Chicago, IL</td>\n",
       "      <td>None</td>\n",
       "      <td>$125,000 - $135,000 a year</td>\n",
       "      <td>You will work with architects and engineers on...</td>\n",
       "      <td>Senior Developer - Backend - Chicago</td>\n",
       "    </tr>\n",
       "    <tr>\n",
       "      <th>3181</th>\n",
       "      <td>Chicago</td>\n",
       "      <td>Robert Walters</td>\n",
       "      <td>Chicago, IL</td>\n",
       "      <td>45</td>\n",
       "      <td>$100,000 - $120,000 a year</td>\n",
       "      <td>Statistical and machine learning methods for f...</td>\n",
       "      <td>Sr. Quantitative Analyst</td>\n",
       "    </tr>\n",
       "  </tbody>\n",
       "</table>\n",
       "</div>"
      ],
      "text/plain": [
       "         City                                 Company          Location  \\\n",
       "4      Dallas       Hitachi Consulting Corporation US        Dallas, TX   \n",
       "8      Dallas                                7-Eleven        Irving, TX   \n",
       "192    Dallas                   Workbridge Associates        Dallas, TX   \n",
       "213    Dallas                           A+ Consulting         Plano, TX   \n",
       "216    Dallas                 Platform by Per Scholas        Dallas, TX   \n",
       "217    Dallas                           HRK Solutions        Dallas, TX   \n",
       "221    Dallas  The We Are Big Data Scientists Company        Dallas, TX   \n",
       "240    Dallas                            Camden Kelly        Dallas, TX   \n",
       "254    Dallas                       Arbor Diagnostics  Dallas, TX 75234   \n",
       "271    Dallas                   Hunt Around Solutions        Dallas, TX   \n",
       "273    Dallas                           KeyStaff Inc.        Irving, TX   \n",
       "274    Dallas                            Keystaff Inc        Euless, TX   \n",
       "352    Dallas                       Kleinfelder, Inc.        Irving, TX   \n",
       "396    Dallas                    JAMY INTERACTIVE,INC        Dallas, TX   \n",
       "900    Dallas                    AIC Talent Solutions    Lewisville, TX   \n",
       "3126  Chicago                      Jobspring Partners       Chicago, IL   \n",
       "3155  Chicago                      Jobspring Partners       Chicago, IL   \n",
       "3156  Chicago                   Workbridge Associates       Chicago, IL   \n",
       "3161  Chicago                               SymbaSync       Chicago, IL   \n",
       "3181  Chicago                          Robert Walters       Chicago, IL   \n",
       "\n",
       "     Reviews                                    Salary  \\\n",
       "4        153  $109,000 - $139,000 a year (Indeed est.)   \n",
       "8       7125  $101,000 - $129,000 a year (Indeed est.)   \n",
       "192       36                 $95,000 - $120,000 a year   \n",
       "213     None                $140,000 - $160,000 a year   \n",
       "216     None                  $50,000 - $60,000 a year   \n",
       "217     None                 $75,000 - $130,000 a year   \n",
       "221     None                  $73,000 - $81,000 a year   \n",
       "240     None                 $95,000 - $115,000 a year   \n",
       "254     None                $120,000 - $150,000 a year   \n",
       "271     None                           $150,000 a year   \n",
       "273       10                  $80,000 - $90,000 a year   \n",
       "274       10                  $80,000 - $90,000 a year   \n",
       "352       58    $32,000 - $41,000 a year (Indeed est.)   \n",
       "396     None  $115,000 - $146,000 a year (Indeed est.)   \n",
       "900     None  $107,000 - $137,000 a year (Indeed est.)   \n",
       "3126      18                $115,000 - $125,000 a year   \n",
       "3155      18                $170,000 - $220,000 a year   \n",
       "3156      36                $130,000 - $180,000 a year   \n",
       "3161    None                $125,000 - $135,000 a year   \n",
       "3181      45                $100,000 - $120,000 a year   \n",
       "\n",
       "                                                Summary  \\\n",
       "4     The Data Scientist designs, builds and maintai...   \n",
       "8     Work closely with data engineersto ensure the ...   \n",
       "192   Experience with data modeling, analysis, progr...   \n",
       "213   This is a direct hire position - not contract....   \n",
       "216   Java, Oracle DB, Shell Scripting, SDLC and Cod...   \n",
       "217   Data Scientist - Python, R, & SAS. ETL / Data ...   \n",
       "221   We employ numerous roles including data scient...   \n",
       "240   Effectively present the story that the data te...   \n",
       "254   Managing the implementation of data warehouse ...   \n",
       "271   Interact with customers’ Data Scientists and B...   \n",
       "273   Interpret analytical or stability data. Enter ...   \n",
       "274   Interpret analytical or stability data. Enter ...   \n",
       "352   We are engineers, scientists, and construction...   \n",
       "396   Big Data environments:. Designs, develops, and...   \n",
       "900   Collaborate cross-functionally with data scien...   \n",
       "3126  20% Data management. A well-known enterprise c...   \n",
       "3155  Experience building teams of high caliber data...   \n",
       "3156  100% Hands on working with a team of 12+ data ...   \n",
       "3161  You will work with architects and engineers on...   \n",
       "3181  Statistical and machine learning methods for f...   \n",
       "\n",
       "                                                  Title  \n",
       "4                          Sr Consultant Data Scientist  \n",
       "8                                     Sr Data Scientist  \n",
       "192   Full-Stack Software Engineer (Predictive Analy...  \n",
       "213   Principal Machine Learning/Nlp Engineer-Architect  \n",
       "216                              Data Scientist/Analyst  \n",
       "217                               Sr. Software Engineer  \n",
       "221                                  Technical Writer I  \n",
       "240   Data Scientist – Articulate Data’S Story & Get...  \n",
       "254                       Clinical Informatics Director  \n",
       "271                        Presales Big Data Consultant  \n",
       "273   Sr. Product Development Scientist In Food Manu...  \n",
       "274                       Product Development Scientist  \n",
       "352           Construction Materials Testing Technician  \n",
       "396                               Senior Data Scientist  \n",
       "900                               Senior Java Developer  \n",
       "3126                          Machine Learning Engineer  \n",
       "3155                Principal Machine Learning Engineer  \n",
       "3156                         Machine Learning Architect  \n",
       "3161               Senior Developer - Backend - Chicago  \n",
       "3181                           Sr. Quantitative Analyst  "
      ]
     },
     "execution_count": 124,
     "metadata": {},
     "output_type": "execute_result"
    }
   ],
   "source": [
    "df.head(20)"
   ]
  },
  {
   "cell_type": "code",
   "execution_count": 125,
   "metadata": {
    "ExecuteTime": {
     "end_time": "2018-04-17T19:38:59.785916Z",
     "start_time": "2018-04-17T19:38:59.769037Z"
    }
   },
   "outputs": [
    {
     "data": {
      "text/html": [
       "<div>\n",
       "<style scoped>\n",
       "    .dataframe tbody tr th:only-of-type {\n",
       "        vertical-align: middle;\n",
       "    }\n",
       "\n",
       "    .dataframe tbody tr th {\n",
       "        vertical-align: top;\n",
       "    }\n",
       "\n",
       "    .dataframe thead th {\n",
       "        text-align: right;\n",
       "    }\n",
       "</style>\n",
       "<table border=\"1\" class=\"dataframe\">\n",
       "  <thead>\n",
       "    <tr style=\"text-align: right;\">\n",
       "      <th></th>\n",
       "      <th>City</th>\n",
       "      <th>Company</th>\n",
       "      <th>Location</th>\n",
       "      <th>Reviews</th>\n",
       "      <th>Salary</th>\n",
       "      <th>Summary</th>\n",
       "      <th>Title</th>\n",
       "    </tr>\n",
       "  </thead>\n",
       "  <tbody>\n",
       "    <tr>\n",
       "      <th>39060</th>\n",
       "      <td>Phoenix</td>\n",
       "      <td>Arizona Supreme Court</td>\n",
       "      <td>Phoenix, AZ 85007 (Central City area)</td>\n",
       "      <td>13</td>\n",
       "      <td>$62,917 a year</td>\n",
       "      <td>The position is required to perform operations...</td>\n",
       "      <td>Sr. Statistician - Specialist Vii (Job 2239)</td>\n",
       "    </tr>\n",
       "    <tr>\n",
       "      <th>39261</th>\n",
       "      <td>Phoenix</td>\n",
       "      <td>RevolutionParts</td>\n",
       "      <td>Phoenix, AZ</td>\n",
       "      <td>None</td>\n",
       "      <td>$92,000 - $117,000 a year (Indeed est.)</td>\n",
       "      <td>As a data scientist you’ll measure, analyze, a...</td>\n",
       "      <td>Ux Designer</td>\n",
       "    </tr>\n",
       "    <tr>\n",
       "      <th>39263</th>\n",
       "      <td>Phoenix</td>\n",
       "      <td>SR International Inc.</td>\n",
       "      <td>Phoenix, AZ</td>\n",
       "      <td>5</td>\n",
       "      <td>$109,000 - $138,000 a year (Indeed est.)</td>\n",
       "      <td>Proven industry experience of atleast 2-3 year...</td>\n",
       "      <td>Data Scientist</td>\n",
       "    </tr>\n",
       "    <tr>\n",
       "      <th>39264</th>\n",
       "      <td>Phoenix</td>\n",
       "      <td>Raps Consuling</td>\n",
       "      <td>Phoenix, AZ</td>\n",
       "      <td>None</td>\n",
       "      <td>$90,000 - $114,000 a year (Indeed est.)</td>\n",
       "      <td>Job Title-Data Scientist*. Knowledge of ML mod...</td>\n",
       "      <td>Data Scientist</td>\n",
       "    </tr>\n",
       "    <tr>\n",
       "      <th>41962</th>\n",
       "      <td>Austin</td>\n",
       "      <td>Department of the Interior</td>\n",
       "      <td>Austin, TX</td>\n",
       "      <td>514</td>\n",
       "      <td>$33,394 - $61,403 a year</td>\n",
       "      <td>Collect Scientific Data. Construct new data co...</td>\n",
       "      <td>Hydrologic Technician, Gs-1316-05/06/07 (Deu-P...</td>\n",
       "    </tr>\n",
       "    <tr>\n",
       "      <th>41963</th>\n",
       "      <td>Austin</td>\n",
       "      <td>Travis County</td>\n",
       "      <td>Austin, TX</td>\n",
       "      <td>60</td>\n",
       "      <td>$32,345 - $33,545 a year</td>\n",
       "      <td>Collects and directs data gathering activities...</td>\n",
       "      <td>Educational Instructional Specialist</td>\n",
       "    </tr>\n",
       "    <tr>\n",
       "      <th>42049</th>\n",
       "      <td>Austin</td>\n",
       "      <td>Strategic IT Staffing</td>\n",
       "      <td>Austin, TX</td>\n",
       "      <td>4</td>\n",
       "      <td>$117,000 - $149,000 a year (Indeed est.)</td>\n",
       "      <td>Doing all this with an exceptional group of so...</td>\n",
       "      <td>Senior Devops Engineer</td>\n",
       "    </tr>\n",
       "    <tr>\n",
       "      <th>42085</th>\n",
       "      <td>Austin</td>\n",
       "      <td>Far Harbor, LLC</td>\n",
       "      <td>Austin, TX</td>\n",
       "      <td>None</td>\n",
       "      <td>$84,000 - $104,000 a year</td>\n",
       "      <td>Familiarity with complex survey data (clustere...</td>\n",
       "      <td>Public Health Research Statistician</td>\n",
       "    </tr>\n",
       "    <tr>\n",
       "      <th>42087</th>\n",
       "      <td>Austin</td>\n",
       "      <td>HuntSource</td>\n",
       "      <td>Austin, TX</td>\n",
       "      <td>None</td>\n",
       "      <td>$95,000 - $120,000 a year</td>\n",
       "      <td>Lead data science initiatives from discovery t...</td>\n",
       "      <td>Machine Learning / Ai Engineer</td>\n",
       "    </tr>\n",
       "    <tr>\n",
       "      <th>42090</th>\n",
       "      <td>Austin</td>\n",
       "      <td>Cerebri AI</td>\n",
       "      <td>Austin, TX</td>\n",
       "      <td>None</td>\n",
       "      <td>$90,000 - $130,000 a year</td>\n",
       "      <td>Experience with data governance and managing l...</td>\n",
       "      <td>Database Architect</td>\n",
       "    </tr>\n",
       "    <tr>\n",
       "      <th>42094</th>\n",
       "      <td>Austin</td>\n",
       "      <td>DDMR</td>\n",
       "      <td>Austin, TX</td>\n",
       "      <td>None</td>\n",
       "      <td>$55,000 - $85,000 a year</td>\n",
       "      <td>You'll be dealing with very technical engineer...</td>\n",
       "      <td>Technical Product Manager - Data Services</td>\n",
       "    </tr>\n",
       "    <tr>\n",
       "      <th>42100</th>\n",
       "      <td>Austin</td>\n",
       "      <td>DDMR</td>\n",
       "      <td>Austin, TX</td>\n",
       "      <td>None</td>\n",
       "      <td>$55,000 - $85,000 a year</td>\n",
       "      <td>You'll be dealing with very technical engineer...</td>\n",
       "      <td>Technical Product Manager - Analytics Solutions</td>\n",
       "    </tr>\n",
       "    <tr>\n",
       "      <th>42106</th>\n",
       "      <td>Austin</td>\n",
       "      <td>Interactive Resources</td>\n",
       "      <td>Austin, TX</td>\n",
       "      <td>11</td>\n",
       "      <td>$130,000 - $145,000 a year</td>\n",
       "      <td>Product development engineer or scientist in a...</td>\n",
       "      <td>Principal Polymer Engineer</td>\n",
       "    </tr>\n",
       "    <tr>\n",
       "      <th>42108</th>\n",
       "      <td>Austin</td>\n",
       "      <td>Prestige Staffing</td>\n",
       "      <td>Austin, TX 78759 (Arboretum area)</td>\n",
       "      <td>127</td>\n",
       "      <td>$100,000 - $140,000 a year</td>\n",
       "      <td>Responsible for coaching and leading the Data ...</td>\n",
       "      <td>Data Science Manager</td>\n",
       "    </tr>\n",
       "    <tr>\n",
       "      <th>42116</th>\n",
       "      <td>Austin</td>\n",
       "      <td>Pisika</td>\n",
       "      <td>Austin, TX 78758 (North Austin area)</td>\n",
       "      <td>None</td>\n",
       "      <td>$80,000 - $110,000 a year</td>\n",
       "      <td>Build dashboards, data visualizations, and too...</td>\n",
       "      <td>Data Scientist</td>\n",
       "    </tr>\n",
       "    <tr>\n",
       "      <th>42122</th>\n",
       "      <td>Austin</td>\n",
       "      <td>Prestige Staffing</td>\n",
       "      <td>Austin, TX 78759 (Arboretum area)</td>\n",
       "      <td>127</td>\n",
       "      <td>$100,000 - $150,000 a year</td>\n",
       "      <td>Python, Lab, Data Science, consulting, compute...</td>\n",
       "      <td>Data Scientist</td>\n",
       "    </tr>\n",
       "    <tr>\n",
       "      <th>42134</th>\n",
       "      <td>Austin</td>\n",
       "      <td>Meador Staffing of Austin</td>\n",
       "      <td>Austin, TX</td>\n",
       "      <td>None</td>\n",
       "      <td>$100,000 - $175,000 a year</td>\n",
       "      <td>Experience in big data and machine learning sy...</td>\n",
       "      <td>Online Marketing Scientist/Engineer</td>\n",
       "    </tr>\n",
       "    <tr>\n",
       "      <th>42440</th>\n",
       "      <td>Austin</td>\n",
       "      <td>General Assembly</td>\n",
       "      <td>Austin, TX</td>\n",
       "      <td>131</td>\n",
       "      <td>$125,000 - $160,000 a year (Indeed est.)</td>\n",
       "      <td>We are looking for a Data Scientist to facilit...</td>\n",
       "      <td>Lead Data Science Immersive Instructor</td>\n",
       "    </tr>\n",
       "    <tr>\n",
       "      <th>42445</th>\n",
       "      <td>Austin</td>\n",
       "      <td>DMGT</td>\n",
       "      <td>Austin, TX</td>\n",
       "      <td>3</td>\n",
       "      <td>$102,000 - $130,000 a year (Indeed est.)</td>\n",
       "      <td>Senior Data Scientist. The Senior Data Scienti...</td>\n",
       "      <td>Senior Data Scientist</td>\n",
       "    </tr>\n",
       "    <tr>\n",
       "      <th>42448</th>\n",
       "      <td>Austin</td>\n",
       "      <td>SparkCognition</td>\n",
       "      <td>Austin, TX 78759 (Arboretum area)</td>\n",
       "      <td>3</td>\n",
       "      <td>$97,000 - $123,000 a year (Indeed est.)</td>\n",
       "      <td>SparkCognition is seeking an innovative data s...</td>\n",
       "      <td>Senior Data Scientist – Malware &amp; Security</td>\n",
       "    </tr>\n",
       "  </tbody>\n",
       "</table>\n",
       "</div>"
      ],
      "text/plain": [
       "          City                     Company  \\\n",
       "39060  Phoenix       Arizona Supreme Court   \n",
       "39261  Phoenix             RevolutionParts   \n",
       "39263  Phoenix       SR International Inc.   \n",
       "39264  Phoenix              Raps Consuling   \n",
       "41962   Austin  Department of the Interior   \n",
       "41963   Austin               Travis County   \n",
       "42049   Austin       Strategic IT Staffing   \n",
       "42085   Austin             Far Harbor, LLC   \n",
       "42087   Austin                  HuntSource   \n",
       "42090   Austin                  Cerebri AI   \n",
       "42094   Austin                        DDMR   \n",
       "42100   Austin                        DDMR   \n",
       "42106   Austin       Interactive Resources   \n",
       "42108   Austin           Prestige Staffing   \n",
       "42116   Austin                      Pisika   \n",
       "42122   Austin           Prestige Staffing   \n",
       "42134   Austin   Meador Staffing of Austin   \n",
       "42440   Austin            General Assembly   \n",
       "42445   Austin                        DMGT   \n",
       "42448   Austin              SparkCognition   \n",
       "\n",
       "                                    Location Reviews  \\\n",
       "39060  Phoenix, AZ 85007 (Central City area)      13   \n",
       "39261                            Phoenix, AZ    None   \n",
       "39263                            Phoenix, AZ       5   \n",
       "39264                            Phoenix, AZ    None   \n",
       "41962                             Austin, TX     514   \n",
       "41963                             Austin, TX      60   \n",
       "42049                             Austin, TX       4   \n",
       "42085                             Austin, TX    None   \n",
       "42087                             Austin, TX    None   \n",
       "42090                             Austin, TX    None   \n",
       "42094                             Austin, TX    None   \n",
       "42100                             Austin, TX    None   \n",
       "42106                             Austin, TX      11   \n",
       "42108      Austin, TX 78759 (Arboretum area)     127   \n",
       "42116   Austin, TX 78758 (North Austin area)    None   \n",
       "42122      Austin, TX 78759 (Arboretum area)     127   \n",
       "42134                             Austin, TX    None   \n",
       "42440                             Austin, TX     131   \n",
       "42445                             Austin, TX       3   \n",
       "42448      Austin, TX 78759 (Arboretum area)       3   \n",
       "\n",
       "                                         Salary  \\\n",
       "39060                            $62,917 a year   \n",
       "39261   $92,000 - $117,000 a year (Indeed est.)   \n",
       "39263  $109,000 - $138,000 a year (Indeed est.)   \n",
       "39264   $90,000 - $114,000 a year (Indeed est.)   \n",
       "41962                  $33,394 - $61,403 a year   \n",
       "41963                  $32,345 - $33,545 a year   \n",
       "42049  $117,000 - $149,000 a year (Indeed est.)   \n",
       "42085                 $84,000 - $104,000 a year   \n",
       "42087                 $95,000 - $120,000 a year   \n",
       "42090                 $90,000 - $130,000 a year   \n",
       "42094                  $55,000 - $85,000 a year   \n",
       "42100                  $55,000 - $85,000 a year   \n",
       "42106                $130,000 - $145,000 a year   \n",
       "42108                $100,000 - $140,000 a year   \n",
       "42116                 $80,000 - $110,000 a year   \n",
       "42122                $100,000 - $150,000 a year   \n",
       "42134                $100,000 - $175,000 a year   \n",
       "42440  $125,000 - $160,000 a year (Indeed est.)   \n",
       "42445  $102,000 - $130,000 a year (Indeed est.)   \n",
       "42448   $97,000 - $123,000 a year (Indeed est.)   \n",
       "\n",
       "                                                 Summary  \\\n",
       "39060  The position is required to perform operations...   \n",
       "39261  As a data scientist you’ll measure, analyze, a...   \n",
       "39263  Proven industry experience of atleast 2-3 year...   \n",
       "39264  Job Title-Data Scientist*. Knowledge of ML mod...   \n",
       "41962  Collect Scientific Data. Construct new data co...   \n",
       "41963  Collects and directs data gathering activities...   \n",
       "42049  Doing all this with an exceptional group of so...   \n",
       "42085  Familiarity with complex survey data (clustere...   \n",
       "42087  Lead data science initiatives from discovery t...   \n",
       "42090  Experience with data governance and managing l...   \n",
       "42094  You'll be dealing with very technical engineer...   \n",
       "42100  You'll be dealing with very technical engineer...   \n",
       "42106  Product development engineer or scientist in a...   \n",
       "42108  Responsible for coaching and leading the Data ...   \n",
       "42116  Build dashboards, data visualizations, and too...   \n",
       "42122  Python, Lab, Data Science, consulting, compute...   \n",
       "42134  Experience in big data and machine learning sy...   \n",
       "42440  We are looking for a Data Scientist to facilit...   \n",
       "42445  Senior Data Scientist. The Senior Data Scienti...   \n",
       "42448  SparkCognition is seeking an innovative data s...   \n",
       "\n",
       "                                                   Title  \n",
       "39060       Sr. Statistician - Specialist Vii (Job 2239)  \n",
       "39261                                        Ux Designer  \n",
       "39263                                     Data Scientist  \n",
       "39264                                     Data Scientist  \n",
       "41962  Hydrologic Technician, Gs-1316-05/06/07 (Deu-P...  \n",
       "41963               Educational Instructional Specialist  \n",
       "42049                             Senior Devops Engineer  \n",
       "42085                Public Health Research Statistician  \n",
       "42087                     Machine Learning / Ai Engineer  \n",
       "42090                                 Database Architect  \n",
       "42094          Technical Product Manager - Data Services  \n",
       "42100    Technical Product Manager - Analytics Solutions  \n",
       "42106                         Principal Polymer Engineer  \n",
       "42108                               Data Science Manager  \n",
       "42116                                     Data Scientist  \n",
       "42122                                     Data Scientist  \n",
       "42134                Online Marketing Scientist/Engineer  \n",
       "42440             Lead Data Science Immersive Instructor  \n",
       "42445                              Senior Data Scientist  \n",
       "42448         Senior Data Scientist – Malware & Security  "
      ]
     },
     "execution_count": 125,
     "metadata": {},
     "output_type": "execute_result"
    }
   ],
   "source": [
    "df.tail(20)"
   ]
  },
  {
   "cell_type": "markdown",
   "metadata": {
    "focus": false,
    "id": "7d4bc860-b214-4f75-9cd0-b234830b1ec2"
   },
   "source": [
    "#### Write a function that takes a salary string and converts it to a number, averaging a salary range if necessary."
   ]
  },
  {
   "cell_type": "code",
   "execution_count": 129,
   "metadata": {
    "ExecuteTime": {
     "end_time": "2018-04-17T19:46:55.864386Z",
     "start_time": "2018-04-17T19:46:55.857170Z"
    }
   },
   "outputs": [],
   "source": [
    "# Define Indeed_Estimate column, which flags salaries provided by Indeed as estimates \n",
    "# with a 1, else 0.  I may want to separate these later and don't want to lose the information.\n",
    "df['Indeed_Estimate'] = df['Salary'].map(lambda x: 1 if 'Indeed est.' in x else 0)\n"
   ]
  },
  {
   "cell_type": "code",
   "execution_count": 151,
   "metadata": {
    "ExecuteTime": {
     "end_time": "2018-04-17T19:54:28.993179Z",
     "start_time": "2018-04-17T19:54:28.987895Z"
    }
   },
   "outputs": [
    {
     "data": {
      "text/plain": [
       "109"
      ]
     },
     "execution_count": 151,
     "metadata": {},
     "output_type": "execute_result"
    }
   ],
   "source": [
    "# Print number of salaries flagged as Indeed estimates\n",
    "df.Indeed_Estimate.sum()"
   ]
  },
  {
   "cell_type": "code",
   "execution_count": 130,
   "metadata": {
    "ExecuteTime": {
     "end_time": "2018-04-17T19:47:00.185015Z",
     "start_time": "2018-04-17T19:47:00.162764Z"
    }
   },
   "outputs": [
    {
     "data": {
      "text/html": [
       "<div>\n",
       "<style scoped>\n",
       "    .dataframe tbody tr th:only-of-type {\n",
       "        vertical-align: middle;\n",
       "    }\n",
       "\n",
       "    .dataframe tbody tr th {\n",
       "        vertical-align: top;\n",
       "    }\n",
       "\n",
       "    .dataframe thead th {\n",
       "        text-align: right;\n",
       "    }\n",
       "</style>\n",
       "<table border=\"1\" class=\"dataframe\">\n",
       "  <thead>\n",
       "    <tr style=\"text-align: right;\">\n",
       "      <th></th>\n",
       "      <th>City</th>\n",
       "      <th>Company</th>\n",
       "      <th>Location</th>\n",
       "      <th>Reviews</th>\n",
       "      <th>Salary</th>\n",
       "      <th>Summary</th>\n",
       "      <th>Title</th>\n",
       "      <th>Indeed_Estimate</th>\n",
       "    </tr>\n",
       "  </thead>\n",
       "  <tbody>\n",
       "    <tr>\n",
       "      <th>4</th>\n",
       "      <td>Dallas</td>\n",
       "      <td>Hitachi Consulting Corporation US</td>\n",
       "      <td>Dallas, TX</td>\n",
       "      <td>153</td>\n",
       "      <td>$109,000 - $139,000 a year (Indeed est.)</td>\n",
       "      <td>The Data Scientist designs, builds and maintai...</td>\n",
       "      <td>Sr Consultant Data Scientist</td>\n",
       "      <td>1</td>\n",
       "    </tr>\n",
       "    <tr>\n",
       "      <th>8</th>\n",
       "      <td>Dallas</td>\n",
       "      <td>7-Eleven</td>\n",
       "      <td>Irving, TX</td>\n",
       "      <td>7125</td>\n",
       "      <td>$101,000 - $129,000 a year (Indeed est.)</td>\n",
       "      <td>Work closely with data engineersto ensure the ...</td>\n",
       "      <td>Sr Data Scientist</td>\n",
       "      <td>1</td>\n",
       "    </tr>\n",
       "    <tr>\n",
       "      <th>192</th>\n",
       "      <td>Dallas</td>\n",
       "      <td>Workbridge Associates</td>\n",
       "      <td>Dallas, TX</td>\n",
       "      <td>36</td>\n",
       "      <td>$95,000 - $120,000 a year</td>\n",
       "      <td>Experience with data modeling, analysis, progr...</td>\n",
       "      <td>Full-Stack Software Engineer (Predictive Analy...</td>\n",
       "      <td>0</td>\n",
       "    </tr>\n",
       "    <tr>\n",
       "      <th>213</th>\n",
       "      <td>Dallas</td>\n",
       "      <td>A+ Consulting</td>\n",
       "      <td>Plano, TX</td>\n",
       "      <td>None</td>\n",
       "      <td>$140,000 - $160,000 a year</td>\n",
       "      <td>This is a direct hire position - not contract....</td>\n",
       "      <td>Principal Machine Learning/Nlp Engineer-Architect</td>\n",
       "      <td>0</td>\n",
       "    </tr>\n",
       "    <tr>\n",
       "      <th>216</th>\n",
       "      <td>Dallas</td>\n",
       "      <td>Platform by Per Scholas</td>\n",
       "      <td>Dallas, TX</td>\n",
       "      <td>None</td>\n",
       "      <td>$50,000 - $60,000 a year</td>\n",
       "      <td>Java, Oracle DB, Shell Scripting, SDLC and Cod...</td>\n",
       "      <td>Data Scientist/Analyst</td>\n",
       "      <td>0</td>\n",
       "    </tr>\n",
       "    <tr>\n",
       "      <th>217</th>\n",
       "      <td>Dallas</td>\n",
       "      <td>HRK Solutions</td>\n",
       "      <td>Dallas, TX</td>\n",
       "      <td>None</td>\n",
       "      <td>$75,000 - $130,000 a year</td>\n",
       "      <td>Data Scientist - Python, R, &amp; SAS. ETL / Data ...</td>\n",
       "      <td>Sr. Software Engineer</td>\n",
       "      <td>0</td>\n",
       "    </tr>\n",
       "    <tr>\n",
       "      <th>221</th>\n",
       "      <td>Dallas</td>\n",
       "      <td>The We Are Big Data Scientists Company</td>\n",
       "      <td>Dallas, TX</td>\n",
       "      <td>None</td>\n",
       "      <td>$73,000 - $81,000 a year</td>\n",
       "      <td>We employ numerous roles including data scient...</td>\n",
       "      <td>Technical Writer I</td>\n",
       "      <td>0</td>\n",
       "    </tr>\n",
       "    <tr>\n",
       "      <th>240</th>\n",
       "      <td>Dallas</td>\n",
       "      <td>Camden Kelly</td>\n",
       "      <td>Dallas, TX</td>\n",
       "      <td>None</td>\n",
       "      <td>$95,000 - $115,000 a year</td>\n",
       "      <td>Effectively present the story that the data te...</td>\n",
       "      <td>Data Scientist – Articulate Data’S Story &amp; Get...</td>\n",
       "      <td>0</td>\n",
       "    </tr>\n",
       "    <tr>\n",
       "      <th>254</th>\n",
       "      <td>Dallas</td>\n",
       "      <td>Arbor Diagnostics</td>\n",
       "      <td>Dallas, TX 75234</td>\n",
       "      <td>None</td>\n",
       "      <td>$120,000 - $150,000 a year</td>\n",
       "      <td>Managing the implementation of data warehouse ...</td>\n",
       "      <td>Clinical Informatics Director</td>\n",
       "      <td>0</td>\n",
       "    </tr>\n",
       "    <tr>\n",
       "      <th>271</th>\n",
       "      <td>Dallas</td>\n",
       "      <td>Hunt Around Solutions</td>\n",
       "      <td>Dallas, TX</td>\n",
       "      <td>None</td>\n",
       "      <td>$150,000 a year</td>\n",
       "      <td>Interact with customers’ Data Scientists and B...</td>\n",
       "      <td>Presales Big Data Consultant</td>\n",
       "      <td>0</td>\n",
       "    </tr>\n",
       "    <tr>\n",
       "      <th>273</th>\n",
       "      <td>Dallas</td>\n",
       "      <td>KeyStaff Inc.</td>\n",
       "      <td>Irving, TX</td>\n",
       "      <td>10</td>\n",
       "      <td>$80,000 - $90,000 a year</td>\n",
       "      <td>Interpret analytical or stability data. Enter ...</td>\n",
       "      <td>Sr. Product Development Scientist In Food Manu...</td>\n",
       "      <td>0</td>\n",
       "    </tr>\n",
       "    <tr>\n",
       "      <th>274</th>\n",
       "      <td>Dallas</td>\n",
       "      <td>Keystaff Inc</td>\n",
       "      <td>Euless, TX</td>\n",
       "      <td>10</td>\n",
       "      <td>$80,000 - $90,000 a year</td>\n",
       "      <td>Interpret analytical or stability data. Enter ...</td>\n",
       "      <td>Product Development Scientist</td>\n",
       "      <td>0</td>\n",
       "    </tr>\n",
       "    <tr>\n",
       "      <th>352</th>\n",
       "      <td>Dallas</td>\n",
       "      <td>Kleinfelder, Inc.</td>\n",
       "      <td>Irving, TX</td>\n",
       "      <td>58</td>\n",
       "      <td>$32,000 - $41,000 a year (Indeed est.)</td>\n",
       "      <td>We are engineers, scientists, and construction...</td>\n",
       "      <td>Construction Materials Testing Technician</td>\n",
       "      <td>1</td>\n",
       "    </tr>\n",
       "    <tr>\n",
       "      <th>396</th>\n",
       "      <td>Dallas</td>\n",
       "      <td>JAMY INTERACTIVE,INC</td>\n",
       "      <td>Dallas, TX</td>\n",
       "      <td>None</td>\n",
       "      <td>$115,000 - $146,000 a year (Indeed est.)</td>\n",
       "      <td>Big Data environments:. Designs, develops, and...</td>\n",
       "      <td>Senior Data Scientist</td>\n",
       "      <td>1</td>\n",
       "    </tr>\n",
       "    <tr>\n",
       "      <th>900</th>\n",
       "      <td>Dallas</td>\n",
       "      <td>AIC Talent Solutions</td>\n",
       "      <td>Lewisville, TX</td>\n",
       "      <td>None</td>\n",
       "      <td>$107,000 - $137,000 a year (Indeed est.)</td>\n",
       "      <td>Collaborate cross-functionally with data scien...</td>\n",
       "      <td>Senior Java Developer</td>\n",
       "      <td>1</td>\n",
       "    </tr>\n",
       "    <tr>\n",
       "      <th>3126</th>\n",
       "      <td>Chicago</td>\n",
       "      <td>Jobspring Partners</td>\n",
       "      <td>Chicago, IL</td>\n",
       "      <td>18</td>\n",
       "      <td>$115,000 - $125,000 a year</td>\n",
       "      <td>20% Data management. A well-known enterprise c...</td>\n",
       "      <td>Machine Learning Engineer</td>\n",
       "      <td>0</td>\n",
       "    </tr>\n",
       "    <tr>\n",
       "      <th>3155</th>\n",
       "      <td>Chicago</td>\n",
       "      <td>Jobspring Partners</td>\n",
       "      <td>Chicago, IL</td>\n",
       "      <td>18</td>\n",
       "      <td>$170,000 - $220,000 a year</td>\n",
       "      <td>Experience building teams of high caliber data...</td>\n",
       "      <td>Principal Machine Learning Engineer</td>\n",
       "      <td>0</td>\n",
       "    </tr>\n",
       "    <tr>\n",
       "      <th>3156</th>\n",
       "      <td>Chicago</td>\n",
       "      <td>Workbridge Associates</td>\n",
       "      <td>Chicago, IL</td>\n",
       "      <td>36</td>\n",
       "      <td>$130,000 - $180,000 a year</td>\n",
       "      <td>100% Hands on working with a team of 12+ data ...</td>\n",
       "      <td>Machine Learning Architect</td>\n",
       "      <td>0</td>\n",
       "    </tr>\n",
       "    <tr>\n",
       "      <th>3161</th>\n",
       "      <td>Chicago</td>\n",
       "      <td>SymbaSync</td>\n",
       "      <td>Chicago, IL</td>\n",
       "      <td>None</td>\n",
       "      <td>$125,000 - $135,000 a year</td>\n",
       "      <td>You will work with architects and engineers on...</td>\n",
       "      <td>Senior Developer - Backend - Chicago</td>\n",
       "      <td>0</td>\n",
       "    </tr>\n",
       "    <tr>\n",
       "      <th>3181</th>\n",
       "      <td>Chicago</td>\n",
       "      <td>Robert Walters</td>\n",
       "      <td>Chicago, IL</td>\n",
       "      <td>45</td>\n",
       "      <td>$100,000 - $120,000 a year</td>\n",
       "      <td>Statistical and machine learning methods for f...</td>\n",
       "      <td>Sr. Quantitative Analyst</td>\n",
       "      <td>0</td>\n",
       "    </tr>\n",
       "  </tbody>\n",
       "</table>\n",
       "</div>"
      ],
      "text/plain": [
       "         City                                 Company          Location  \\\n",
       "4      Dallas       Hitachi Consulting Corporation US        Dallas, TX   \n",
       "8      Dallas                                7-Eleven        Irving, TX   \n",
       "192    Dallas                   Workbridge Associates        Dallas, TX   \n",
       "213    Dallas                           A+ Consulting         Plano, TX   \n",
       "216    Dallas                 Platform by Per Scholas        Dallas, TX   \n",
       "217    Dallas                           HRK Solutions        Dallas, TX   \n",
       "221    Dallas  The We Are Big Data Scientists Company        Dallas, TX   \n",
       "240    Dallas                            Camden Kelly        Dallas, TX   \n",
       "254    Dallas                       Arbor Diagnostics  Dallas, TX 75234   \n",
       "271    Dallas                   Hunt Around Solutions        Dallas, TX   \n",
       "273    Dallas                           KeyStaff Inc.        Irving, TX   \n",
       "274    Dallas                            Keystaff Inc        Euless, TX   \n",
       "352    Dallas                       Kleinfelder, Inc.        Irving, TX   \n",
       "396    Dallas                    JAMY INTERACTIVE,INC        Dallas, TX   \n",
       "900    Dallas                    AIC Talent Solutions    Lewisville, TX   \n",
       "3126  Chicago                      Jobspring Partners       Chicago, IL   \n",
       "3155  Chicago                      Jobspring Partners       Chicago, IL   \n",
       "3156  Chicago                   Workbridge Associates       Chicago, IL   \n",
       "3161  Chicago                               SymbaSync       Chicago, IL   \n",
       "3181  Chicago                          Robert Walters       Chicago, IL   \n",
       "\n",
       "     Reviews                                    Salary  \\\n",
       "4        153  $109,000 - $139,000 a year (Indeed est.)   \n",
       "8       7125  $101,000 - $129,000 a year (Indeed est.)   \n",
       "192       36                 $95,000 - $120,000 a year   \n",
       "213     None                $140,000 - $160,000 a year   \n",
       "216     None                  $50,000 - $60,000 a year   \n",
       "217     None                 $75,000 - $130,000 a year   \n",
       "221     None                  $73,000 - $81,000 a year   \n",
       "240     None                 $95,000 - $115,000 a year   \n",
       "254     None                $120,000 - $150,000 a year   \n",
       "271     None                           $150,000 a year   \n",
       "273       10                  $80,000 - $90,000 a year   \n",
       "274       10                  $80,000 - $90,000 a year   \n",
       "352       58    $32,000 - $41,000 a year (Indeed est.)   \n",
       "396     None  $115,000 - $146,000 a year (Indeed est.)   \n",
       "900     None  $107,000 - $137,000 a year (Indeed est.)   \n",
       "3126      18                $115,000 - $125,000 a year   \n",
       "3155      18                $170,000 - $220,000 a year   \n",
       "3156      36                $130,000 - $180,000 a year   \n",
       "3161    None                $125,000 - $135,000 a year   \n",
       "3181      45                $100,000 - $120,000 a year   \n",
       "\n",
       "                                                Summary  \\\n",
       "4     The Data Scientist designs, builds and maintai...   \n",
       "8     Work closely with data engineersto ensure the ...   \n",
       "192   Experience with data modeling, analysis, progr...   \n",
       "213   This is a direct hire position - not contract....   \n",
       "216   Java, Oracle DB, Shell Scripting, SDLC and Cod...   \n",
       "217   Data Scientist - Python, R, & SAS. ETL / Data ...   \n",
       "221   We employ numerous roles including data scient...   \n",
       "240   Effectively present the story that the data te...   \n",
       "254   Managing the implementation of data warehouse ...   \n",
       "271   Interact with customers’ Data Scientists and B...   \n",
       "273   Interpret analytical or stability data. Enter ...   \n",
       "274   Interpret analytical or stability data. Enter ...   \n",
       "352   We are engineers, scientists, and construction...   \n",
       "396   Big Data environments:. Designs, develops, and...   \n",
       "900   Collaborate cross-functionally with data scien...   \n",
       "3126  20% Data management. A well-known enterprise c...   \n",
       "3155  Experience building teams of high caliber data...   \n",
       "3156  100% Hands on working with a team of 12+ data ...   \n",
       "3161  You will work with architects and engineers on...   \n",
       "3181  Statistical and machine learning methods for f...   \n",
       "\n",
       "                                                  Title  Indeed_Estimate  \n",
       "4                          Sr Consultant Data Scientist                1  \n",
       "8                                     Sr Data Scientist                1  \n",
       "192   Full-Stack Software Engineer (Predictive Analy...                0  \n",
       "213   Principal Machine Learning/Nlp Engineer-Architect                0  \n",
       "216                              Data Scientist/Analyst                0  \n",
       "217                               Sr. Software Engineer                0  \n",
       "221                                  Technical Writer I                0  \n",
       "240   Data Scientist – Articulate Data’S Story & Get...                0  \n",
       "254                       Clinical Informatics Director                0  \n",
       "271                        Presales Big Data Consultant                0  \n",
       "273   Sr. Product Development Scientist In Food Manu...                0  \n",
       "274                       Product Development Scientist                0  \n",
       "352           Construction Materials Testing Technician                1  \n",
       "396                               Senior Data Scientist                1  \n",
       "900                               Senior Java Developer                1  \n",
       "3126                          Machine Learning Engineer                0  \n",
       "3155                Principal Machine Learning Engineer                0  \n",
       "3156                         Machine Learning Architect                0  \n",
       "3161               Senior Developer - Backend - Chicago                0  \n",
       "3181                           Sr. Quantitative Analyst                0  "
      ]
     },
     "execution_count": 130,
     "metadata": {},
     "output_type": "execute_result"
    }
   ],
   "source": [
    "df.head(20)"
   ]
  },
  {
   "cell_type": "code",
   "execution_count": 133,
   "metadata": {
    "ExecuteTime": {
     "end_time": "2018-04-17T19:49:00.849432Z",
     "start_time": "2018-04-17T19:49:00.834363Z"
    },
    "focus": false,
    "id": "a0f701e0-80bd-40ba-9101-4535860c0968"
   },
   "outputs": [],
   "source": [
    "# Define a function to convert a string of text containing a salary or salary range\n",
    "# into a single, numeric salary figure.  Salary ranges will be converted to the mid-point of that range.\n",
    "\n",
    "def convert_salary(salary):\n",
    "        \n",
    "    # Split salary string at 'a year', and remove '$' and ',' from the 1st item in returned list\n",
    "    # Then, split this string again at '-', storing the min and max points of the salary range\n",
    "    # in the salary_range list\n",
    "    salary_range = salary.split('a year')[0].replace('$','').replace(',','').split('-')\n",
    "\n",
    "    # If the salary_range has a min and max point (i.e. the length of the salary_range list = 2)\n",
    "    # return the mid-point of these 2 values as a float\n",
    "    if len(salary_range) == 2:\n",
    "        return round((float(salary_range[0]) + float(salary_range[1])) / 2)\n",
    "    # If the salary_range consists of 1 figure only (i.e. it is not a range), return that \n",
    "    # salary figure as a float\n",
    "    else:\n",
    "        return round(float(salary_range[0]))"
   ]
  },
  {
   "cell_type": "code",
   "execution_count": 134,
   "metadata": {
    "ExecuteTime": {
     "end_time": "2018-04-17T19:49:02.034281Z",
     "start_time": "2018-04-17T19:49:02.020790Z"
    }
   },
   "outputs": [],
   "source": [
    "# Convert salary data to numeric salary figures with the convert_salary function\n",
    "# and update the df with these values\n",
    "df = df.copy()\n",
    "df.Salary = df.Salary.map(convert_salary)"
   ]
  },
  {
   "cell_type": "code",
   "execution_count": 135,
   "metadata": {
    "ExecuteTime": {
     "end_time": "2018-04-17T19:49:09.805912Z",
     "start_time": "2018-04-17T19:49:09.786632Z"
    }
   },
   "outputs": [
    {
     "data": {
      "text/html": [
       "<div>\n",
       "<style scoped>\n",
       "    .dataframe tbody tr th:only-of-type {\n",
       "        vertical-align: middle;\n",
       "    }\n",
       "\n",
       "    .dataframe tbody tr th {\n",
       "        vertical-align: top;\n",
       "    }\n",
       "\n",
       "    .dataframe thead th {\n",
       "        text-align: right;\n",
       "    }\n",
       "</style>\n",
       "<table border=\"1\" class=\"dataframe\">\n",
       "  <thead>\n",
       "    <tr style=\"text-align: right;\">\n",
       "      <th></th>\n",
       "      <th>City</th>\n",
       "      <th>Company</th>\n",
       "      <th>Location</th>\n",
       "      <th>Reviews</th>\n",
       "      <th>Salary</th>\n",
       "      <th>Summary</th>\n",
       "      <th>Title</th>\n",
       "      <th>Indeed_Estimate</th>\n",
       "    </tr>\n",
       "  </thead>\n",
       "  <tbody>\n",
       "    <tr>\n",
       "      <th>4</th>\n",
       "      <td>Dallas</td>\n",
       "      <td>Hitachi Consulting Corporation US</td>\n",
       "      <td>Dallas, TX</td>\n",
       "      <td>153</td>\n",
       "      <td>124000</td>\n",
       "      <td>The Data Scientist designs, builds and maintai...</td>\n",
       "      <td>Sr Consultant Data Scientist</td>\n",
       "      <td>1</td>\n",
       "    </tr>\n",
       "    <tr>\n",
       "      <th>8</th>\n",
       "      <td>Dallas</td>\n",
       "      <td>7-Eleven</td>\n",
       "      <td>Irving, TX</td>\n",
       "      <td>7125</td>\n",
       "      <td>115000</td>\n",
       "      <td>Work closely with data engineersto ensure the ...</td>\n",
       "      <td>Sr Data Scientist</td>\n",
       "      <td>1</td>\n",
       "    </tr>\n",
       "    <tr>\n",
       "      <th>192</th>\n",
       "      <td>Dallas</td>\n",
       "      <td>Workbridge Associates</td>\n",
       "      <td>Dallas, TX</td>\n",
       "      <td>36</td>\n",
       "      <td>107500</td>\n",
       "      <td>Experience with data modeling, analysis, progr...</td>\n",
       "      <td>Full-Stack Software Engineer (Predictive Analy...</td>\n",
       "      <td>0</td>\n",
       "    </tr>\n",
       "    <tr>\n",
       "      <th>213</th>\n",
       "      <td>Dallas</td>\n",
       "      <td>A+ Consulting</td>\n",
       "      <td>Plano, TX</td>\n",
       "      <td>None</td>\n",
       "      <td>150000</td>\n",
       "      <td>This is a direct hire position - not contract....</td>\n",
       "      <td>Principal Machine Learning/Nlp Engineer-Architect</td>\n",
       "      <td>0</td>\n",
       "    </tr>\n",
       "    <tr>\n",
       "      <th>216</th>\n",
       "      <td>Dallas</td>\n",
       "      <td>Platform by Per Scholas</td>\n",
       "      <td>Dallas, TX</td>\n",
       "      <td>None</td>\n",
       "      <td>55000</td>\n",
       "      <td>Java, Oracle DB, Shell Scripting, SDLC and Cod...</td>\n",
       "      <td>Data Scientist/Analyst</td>\n",
       "      <td>0</td>\n",
       "    </tr>\n",
       "    <tr>\n",
       "      <th>217</th>\n",
       "      <td>Dallas</td>\n",
       "      <td>HRK Solutions</td>\n",
       "      <td>Dallas, TX</td>\n",
       "      <td>None</td>\n",
       "      <td>102500</td>\n",
       "      <td>Data Scientist - Python, R, &amp; SAS. ETL / Data ...</td>\n",
       "      <td>Sr. Software Engineer</td>\n",
       "      <td>0</td>\n",
       "    </tr>\n",
       "    <tr>\n",
       "      <th>221</th>\n",
       "      <td>Dallas</td>\n",
       "      <td>The We Are Big Data Scientists Company</td>\n",
       "      <td>Dallas, TX</td>\n",
       "      <td>None</td>\n",
       "      <td>77000</td>\n",
       "      <td>We employ numerous roles including data scient...</td>\n",
       "      <td>Technical Writer I</td>\n",
       "      <td>0</td>\n",
       "    </tr>\n",
       "    <tr>\n",
       "      <th>240</th>\n",
       "      <td>Dallas</td>\n",
       "      <td>Camden Kelly</td>\n",
       "      <td>Dallas, TX</td>\n",
       "      <td>None</td>\n",
       "      <td>105000</td>\n",
       "      <td>Effectively present the story that the data te...</td>\n",
       "      <td>Data Scientist – Articulate Data’S Story &amp; Get...</td>\n",
       "      <td>0</td>\n",
       "    </tr>\n",
       "    <tr>\n",
       "      <th>254</th>\n",
       "      <td>Dallas</td>\n",
       "      <td>Arbor Diagnostics</td>\n",
       "      <td>Dallas, TX 75234</td>\n",
       "      <td>None</td>\n",
       "      <td>135000</td>\n",
       "      <td>Managing the implementation of data warehouse ...</td>\n",
       "      <td>Clinical Informatics Director</td>\n",
       "      <td>0</td>\n",
       "    </tr>\n",
       "    <tr>\n",
       "      <th>271</th>\n",
       "      <td>Dallas</td>\n",
       "      <td>Hunt Around Solutions</td>\n",
       "      <td>Dallas, TX</td>\n",
       "      <td>None</td>\n",
       "      <td>150000</td>\n",
       "      <td>Interact with customers’ Data Scientists and B...</td>\n",
       "      <td>Presales Big Data Consultant</td>\n",
       "      <td>0</td>\n",
       "    </tr>\n",
       "    <tr>\n",
       "      <th>273</th>\n",
       "      <td>Dallas</td>\n",
       "      <td>KeyStaff Inc.</td>\n",
       "      <td>Irving, TX</td>\n",
       "      <td>10</td>\n",
       "      <td>85000</td>\n",
       "      <td>Interpret analytical or stability data. Enter ...</td>\n",
       "      <td>Sr. Product Development Scientist In Food Manu...</td>\n",
       "      <td>0</td>\n",
       "    </tr>\n",
       "    <tr>\n",
       "      <th>274</th>\n",
       "      <td>Dallas</td>\n",
       "      <td>Keystaff Inc</td>\n",
       "      <td>Euless, TX</td>\n",
       "      <td>10</td>\n",
       "      <td>85000</td>\n",
       "      <td>Interpret analytical or stability data. Enter ...</td>\n",
       "      <td>Product Development Scientist</td>\n",
       "      <td>0</td>\n",
       "    </tr>\n",
       "    <tr>\n",
       "      <th>352</th>\n",
       "      <td>Dallas</td>\n",
       "      <td>Kleinfelder, Inc.</td>\n",
       "      <td>Irving, TX</td>\n",
       "      <td>58</td>\n",
       "      <td>36500</td>\n",
       "      <td>We are engineers, scientists, and construction...</td>\n",
       "      <td>Construction Materials Testing Technician</td>\n",
       "      <td>1</td>\n",
       "    </tr>\n",
       "    <tr>\n",
       "      <th>396</th>\n",
       "      <td>Dallas</td>\n",
       "      <td>JAMY INTERACTIVE,INC</td>\n",
       "      <td>Dallas, TX</td>\n",
       "      <td>None</td>\n",
       "      <td>130500</td>\n",
       "      <td>Big Data environments:. Designs, develops, and...</td>\n",
       "      <td>Senior Data Scientist</td>\n",
       "      <td>1</td>\n",
       "    </tr>\n",
       "    <tr>\n",
       "      <th>900</th>\n",
       "      <td>Dallas</td>\n",
       "      <td>AIC Talent Solutions</td>\n",
       "      <td>Lewisville, TX</td>\n",
       "      <td>None</td>\n",
       "      <td>122000</td>\n",
       "      <td>Collaborate cross-functionally with data scien...</td>\n",
       "      <td>Senior Java Developer</td>\n",
       "      <td>1</td>\n",
       "    </tr>\n",
       "    <tr>\n",
       "      <th>3126</th>\n",
       "      <td>Chicago</td>\n",
       "      <td>Jobspring Partners</td>\n",
       "      <td>Chicago, IL</td>\n",
       "      <td>18</td>\n",
       "      <td>120000</td>\n",
       "      <td>20% Data management. A well-known enterprise c...</td>\n",
       "      <td>Machine Learning Engineer</td>\n",
       "      <td>0</td>\n",
       "    </tr>\n",
       "    <tr>\n",
       "      <th>3155</th>\n",
       "      <td>Chicago</td>\n",
       "      <td>Jobspring Partners</td>\n",
       "      <td>Chicago, IL</td>\n",
       "      <td>18</td>\n",
       "      <td>195000</td>\n",
       "      <td>Experience building teams of high caliber data...</td>\n",
       "      <td>Principal Machine Learning Engineer</td>\n",
       "      <td>0</td>\n",
       "    </tr>\n",
       "    <tr>\n",
       "      <th>3156</th>\n",
       "      <td>Chicago</td>\n",
       "      <td>Workbridge Associates</td>\n",
       "      <td>Chicago, IL</td>\n",
       "      <td>36</td>\n",
       "      <td>155000</td>\n",
       "      <td>100% Hands on working with a team of 12+ data ...</td>\n",
       "      <td>Machine Learning Architect</td>\n",
       "      <td>0</td>\n",
       "    </tr>\n",
       "    <tr>\n",
       "      <th>3161</th>\n",
       "      <td>Chicago</td>\n",
       "      <td>SymbaSync</td>\n",
       "      <td>Chicago, IL</td>\n",
       "      <td>None</td>\n",
       "      <td>130000</td>\n",
       "      <td>You will work with architects and engineers on...</td>\n",
       "      <td>Senior Developer - Backend - Chicago</td>\n",
       "      <td>0</td>\n",
       "    </tr>\n",
       "    <tr>\n",
       "      <th>3181</th>\n",
       "      <td>Chicago</td>\n",
       "      <td>Robert Walters</td>\n",
       "      <td>Chicago, IL</td>\n",
       "      <td>45</td>\n",
       "      <td>110000</td>\n",
       "      <td>Statistical and machine learning methods for f...</td>\n",
       "      <td>Sr. Quantitative Analyst</td>\n",
       "      <td>0</td>\n",
       "    </tr>\n",
       "  </tbody>\n",
       "</table>\n",
       "</div>"
      ],
      "text/plain": [
       "         City                                 Company          Location  \\\n",
       "4      Dallas       Hitachi Consulting Corporation US        Dallas, TX   \n",
       "8      Dallas                                7-Eleven        Irving, TX   \n",
       "192    Dallas                   Workbridge Associates        Dallas, TX   \n",
       "213    Dallas                           A+ Consulting         Plano, TX   \n",
       "216    Dallas                 Platform by Per Scholas        Dallas, TX   \n",
       "217    Dallas                           HRK Solutions        Dallas, TX   \n",
       "221    Dallas  The We Are Big Data Scientists Company        Dallas, TX   \n",
       "240    Dallas                            Camden Kelly        Dallas, TX   \n",
       "254    Dallas                       Arbor Diagnostics  Dallas, TX 75234   \n",
       "271    Dallas                   Hunt Around Solutions        Dallas, TX   \n",
       "273    Dallas                           KeyStaff Inc.        Irving, TX   \n",
       "274    Dallas                            Keystaff Inc        Euless, TX   \n",
       "352    Dallas                       Kleinfelder, Inc.        Irving, TX   \n",
       "396    Dallas                    JAMY INTERACTIVE,INC        Dallas, TX   \n",
       "900    Dallas                    AIC Talent Solutions    Lewisville, TX   \n",
       "3126  Chicago                      Jobspring Partners       Chicago, IL   \n",
       "3155  Chicago                      Jobspring Partners       Chicago, IL   \n",
       "3156  Chicago                   Workbridge Associates       Chicago, IL   \n",
       "3161  Chicago                               SymbaSync       Chicago, IL   \n",
       "3181  Chicago                          Robert Walters       Chicago, IL   \n",
       "\n",
       "     Reviews  Salary                                            Summary  \\\n",
       "4        153  124000  The Data Scientist designs, builds and maintai...   \n",
       "8       7125  115000  Work closely with data engineersto ensure the ...   \n",
       "192       36  107500  Experience with data modeling, analysis, progr...   \n",
       "213     None  150000  This is a direct hire position - not contract....   \n",
       "216     None   55000  Java, Oracle DB, Shell Scripting, SDLC and Cod...   \n",
       "217     None  102500  Data Scientist - Python, R, & SAS. ETL / Data ...   \n",
       "221     None   77000  We employ numerous roles including data scient...   \n",
       "240     None  105000  Effectively present the story that the data te...   \n",
       "254     None  135000  Managing the implementation of data warehouse ...   \n",
       "271     None  150000  Interact with customers’ Data Scientists and B...   \n",
       "273       10   85000  Interpret analytical or stability data. Enter ...   \n",
       "274       10   85000  Interpret analytical or stability data. Enter ...   \n",
       "352       58   36500  We are engineers, scientists, and construction...   \n",
       "396     None  130500  Big Data environments:. Designs, develops, and...   \n",
       "900     None  122000  Collaborate cross-functionally with data scien...   \n",
       "3126      18  120000  20% Data management. A well-known enterprise c...   \n",
       "3155      18  195000  Experience building teams of high caliber data...   \n",
       "3156      36  155000  100% Hands on working with a team of 12+ data ...   \n",
       "3161    None  130000  You will work with architects and engineers on...   \n",
       "3181      45  110000  Statistical and machine learning methods for f...   \n",
       "\n",
       "                                                  Title  Indeed_Estimate  \n",
       "4                          Sr Consultant Data Scientist                1  \n",
       "8                                     Sr Data Scientist                1  \n",
       "192   Full-Stack Software Engineer (Predictive Analy...                0  \n",
       "213   Principal Machine Learning/Nlp Engineer-Architect                0  \n",
       "216                              Data Scientist/Analyst                0  \n",
       "217                               Sr. Software Engineer                0  \n",
       "221                                  Technical Writer I                0  \n",
       "240   Data Scientist – Articulate Data’S Story & Get...                0  \n",
       "254                       Clinical Informatics Director                0  \n",
       "271                        Presales Big Data Consultant                0  \n",
       "273   Sr. Product Development Scientist In Food Manu...                0  \n",
       "274                       Product Development Scientist                0  \n",
       "352           Construction Materials Testing Technician                1  \n",
       "396                               Senior Data Scientist                1  \n",
       "900                               Senior Java Developer                1  \n",
       "3126                          Machine Learning Engineer                0  \n",
       "3155                Principal Machine Learning Engineer                0  \n",
       "3156                         Machine Learning Architect                0  \n",
       "3161               Senior Developer - Backend - Chicago                0  \n",
       "3181                           Sr. Quantitative Analyst                0  "
      ]
     },
     "execution_count": 135,
     "metadata": {},
     "output_type": "execute_result"
    }
   ],
   "source": [
    "# Inspect DF\n",
    "df.head(20)"
   ]
  },
  {
   "cell_type": "code",
   "execution_count": 137,
   "metadata": {
    "ExecuteTime": {
     "end_time": "2018-04-17T19:49:29.590412Z",
     "start_time": "2018-04-17T19:49:29.582551Z"
    }
   },
   "outputs": [
    {
     "name": "stdout",
     "output_type": "stream",
     "text": [
      "<class 'pandas.core.frame.DataFrame'>\n",
      "Int64Index: 323 entries, 4 to 42448\n",
      "Data columns (total 8 columns):\n",
      "City               323 non-null object\n",
      "Company            323 non-null object\n",
      "Location           323 non-null object\n",
      "Reviews            220 non-null object\n",
      "Salary             323 non-null int64\n",
      "Summary            323 non-null object\n",
      "Title              323 non-null object\n",
      "Indeed_Estimate    323 non-null int64\n",
      "dtypes: int64(2), object(6)\n",
      "memory usage: 22.7+ KB\n"
     ]
    }
   ],
   "source": [
    "df.info()"
   ]
  },
  {
   "cell_type": "code",
   "execution_count": 138,
   "metadata": {
    "ExecuteTime": {
     "end_time": "2018-04-17T19:49:37.433890Z",
     "start_time": "2018-04-17T19:49:37.423134Z"
    }
   },
   "outputs": [
    {
     "data": {
      "text/plain": [
       "array(['Dallas', 'Chicago', 'Seattle', 'Los+Angeles', 'Pittsburgh',\n",
       "       'Portland', 'Philadelphia', 'Houston', 'New+York', 'Atlanta',\n",
       "       'Denver', 'San+Francisco', 'Miami', 'Phoenix', 'Austin'],\n",
       "      dtype=object)"
      ]
     },
     "execution_count": 138,
     "metadata": {},
     "output_type": "execute_result"
    }
   ],
   "source": [
    "# Before writing data to a csv file, cleanse the city field\n",
    "df.City.unique()"
   ]
  },
  {
   "cell_type": "code",
   "execution_count": 139,
   "metadata": {
    "ExecuteTime": {
     "end_time": "2018-04-17T19:49:40.738646Z",
     "start_time": "2018-04-17T19:49:40.735045Z"
    }
   },
   "outputs": [],
   "source": [
    "# Remove '+' from the City field\n",
    "df.City = df.City.map(lambda x: x.replace('+', ' '))"
   ]
  },
  {
   "cell_type": "code",
   "execution_count": 140,
   "metadata": {
    "ExecuteTime": {
     "end_time": "2018-04-17T19:49:41.569489Z",
     "start_time": "2018-04-17T19:49:41.564352Z"
    }
   },
   "outputs": [
    {
     "data": {
      "text/plain": [
       "array(['Dallas', 'Chicago', 'Seattle', 'Los Angeles', 'Pittsburgh',\n",
       "       'Portland', 'Philadelphia', 'Houston', 'New York', 'Atlanta',\n",
       "       'Denver', 'San Francisco', 'Miami', 'Phoenix', 'Austin'],\n",
       "      dtype=object)"
      ]
     },
     "execution_count": 140,
     "metadata": {},
     "output_type": "execute_result"
    }
   ],
   "source": [
    "# Verify data clean\n",
    "df.City.unique()"
   ]
  },
  {
   "cell_type": "code",
   "execution_count": 141,
   "metadata": {
    "ExecuteTime": {
     "end_time": "2018-04-17T19:49:51.991948Z",
     "start_time": "2018-04-17T19:49:51.984024Z"
    }
   },
   "outputs": [
    {
     "data": {
      "text/plain": [
       "array(['Hitachi Consulting Corporation US', '7-Eleven',\n",
       "       'Workbridge Associates', 'A+ Consulting',\n",
       "       'Platform by Per Scholas', 'HRK Solutions',\n",
       "       'The We Are Big Data Scientists Company', 'Camden Kelly',\n",
       "       'Arbor Diagnostics', 'Hunt Around Solutions', 'KeyStaff Inc.',\n",
       "       'Keystaff Inc', 'Kleinfelder, Inc.', 'JAMY INTERACTIVE,INC',\n",
       "       'AIC Talent Solutions', 'Jobspring Partners', 'SymbaSync',\n",
       "       'Robert Walters', 'All-In Analytics', 'Burns & McDonnell',\n",
       "       'The Climate Corporation', '3coast', 'Department of Commerce',\n",
       "       'Liberty Mutual', 'Bulletin of the Atomic Scientists',\n",
       "       'Fresh Coast Capital', 'Ezra Penland Actuarial Recruitment',\n",
       "       'Razor', 'CareerMonks', 'Lumity Inc', 'DirectHR',\n",
       "       'Lighthouse Recruiting', 'SwipeSense', 'BSQUARE', 'Microsoft',\n",
       "       'Amazon.com Services, Inc.',\n",
       "       'Fred Hutchinson Cancer Research Center',\n",
       "       'Cannabis Retail Company', 'MMT', 'Smith Hanley Associates',\n",
       "       'Curacloud', 'AnswerIQ', 'Neal Analytics',\n",
       "       'Los Angeles County Human Resources',\n",
       "       'Los Angeles County Department of Human Resources', 'USC',\n",
       "       'BlackLine', 'The Aerospace Corporation', 'Calance US',\n",
       "       'Prisms Consulting Group, LLC', 'City of Hope',\n",
       "       'Lunar Digital Assets', 'Art Center College of Design', 'Bradan',\n",
       "       'DRP', 'Twine', 'Career Strategies, Inc.',\n",
       "       'Employment Service Agency', 'The Hiring Advisors',\n",
       "       'Scientific Search', 'Nelson', 'NelsonJobs',\n",
       "       'Consultative Search Group', 'Honey', 'Nativo',\n",
       "       'Data Based Solutions Inc.', 'AppleOne',\n",
       "       'Carnegie Mellon University', 'Oxford Solutions',\n",
       "       'Oregon Health & Science University', 'Vacasa', 'General Assembly',\n",
       "       'iovation inc', 'City of Philadelphia', 'S.C. International',\n",
       "       'Inspire', 'ThinkingAhead', 'P&F Solutions',\n",
       "       'Liberty Personnel Services', 'Chatham Group',\n",
       "       'The Franklin Company', 'Cardone', 'ICON Clinical Research, Inc.',\n",
       "       'MD Anderson Cancer Center', 'Baylor College of Medicine',\n",
       "       'Prism Genomic Medicine Inc.', 'JAB Recruitment LLC',\n",
       "       'Petrophysical Modeling Lab', 'Brunel Energy, Inc.',\n",
       "       'Professional Career Training Institute', 'Oracle', 'State Street',\n",
       "       'Capital One', 'Weight Watchers International', 'Nielsen',\n",
       "       'New York City Department of Education .',\n",
       "       'Research Foundation of The City University of New...',\n",
       "       'Schrödinger', 'Memorial Sloan Kettering', 'Google',\n",
       "       'DEPT OF HEALTH/MENTAL HYGIENE', 'Columbia University',\n",
       "       'Darwin Recruitment', 'DEPT OF ENVIRONMENT PROTECTION',\n",
       "       \"ADMIN FOR CHILDREN'S SVCS\", 'Health Research Incorporated',\n",
       "       'CONSUMER AFFAIRS', 'OFFICE OF MANAGEMENT & BUDGET', \"Chef'd\",\n",
       "       'McKinsey & Company', 'Aaptiv', 'Medidata Solutions',\n",
       "       'Oliver James Associates', 'The Forum Group',\n",
       "       'Motivate International Inc.', 'DEPT OF INFO TECH & TELECOMM',\n",
       "       'Harnham', 'MetroPlus Health Plan', 'DEPARTMENT OF TRANSPORTATION',\n",
       "       'Lockheed Martin', 'SiriusXM', 'Paychex', 'BuzzFeed',\n",
       "       'The NPD Group', 'APN Consulting', 'KPMG',\n",
       "       'Comprehensive Health Services, Inc.',\n",
       "       'Centers for Disease Control and Prevention',\n",
       "       'Department of the Army', 'The Coca-Cola Company',\n",
       "       'Georgia Tech Research Institute', 'Interface, Inc.',\n",
       "       'Carters, Inc', 'Robert Half Technology', 'Fulton County GA',\n",
       "       'Aquesst', 'Next Level Business Services, Inc.',\n",
       "       'Last Word Consulting', 'HUNTER Technical Resources',\n",
       "       'Veterans Affairs, Veterans Health Administration',\n",
       "       'Department of the Air Force', 'Department of the Interior',\n",
       "       'UCAR', 'BP', 'SomaLogic, Inc.', 'Alteryx, Inc.',\n",
       "       'National Renewable Energy Laboratory', 'City of Boulder, CO',\n",
       "       'xentity corporation', 'GeoVisual Analytics', 'Scion Staffing',\n",
       "       'KellyMitchell', 'Jamy Interactive', 'United Way', 'Blue Owl',\n",
       "       'University of California Office of the President',\n",
       "       'University of California Berkeley', 'Berkeley Lights, Inc.',\n",
       "       'Twitter', 'Collective Health', 'Autodesk', 'DuPont',\n",
       "       'EPM Scientific', 'County of Alameda', 'Roche',\n",
       "       'Redfish Technology - High Tech Executive Recruiter...', 'Upstart',\n",
       "       'Walmart eCommerce', 'Carbon3D', 'Protingent', 'Exabeam',\n",
       "       'Pocket Gems', 'Tellus Solutions', 'Stride Search', 'Narvar',\n",
       "       'Rainforest QA', 'University of Miami', 'The State of Florida',\n",
       "       'Talento', '3GIMBALS', 'Fortune Settlement Solutions',\n",
       "       'INFOTECH Soft, Inc.', 'Ascendo Resources', 'Affinity Resources',\n",
       "       'Adaxatech', 'StevenDouglas',\n",
       "       'Maricopa County Community College District',\n",
       "       'Arizona State University (ASU)', 'City of Scottsdale',\n",
       "       'Wells Fargo', 'REPAY', 'Honeywell', 'Arizona Supreme Court',\n",
       "       'RevolutionParts', 'SR International Inc.', 'Raps Consuling',\n",
       "       'Travis County', 'Strategic IT Staffing', 'Far Harbor, LLC',\n",
       "       'HuntSource', 'Cerebri AI', 'DDMR', 'Interactive Resources',\n",
       "       'Prestige Staffing', 'Pisika', 'Meador Staffing of Austin', 'DMGT',\n",
       "       'SparkCognition'], dtype=object)"
      ]
     },
     "execution_count": 141,
     "metadata": {},
     "output_type": "execute_result"
    }
   ],
   "source": [
    "# Quick review of data\n",
    "df.Company.unique()"
   ]
  },
  {
   "cell_type": "code",
   "execution_count": 142,
   "metadata": {
    "ExecuteTime": {
     "end_time": "2018-04-17T19:49:56.704752Z",
     "start_time": "2018-04-17T19:49:56.699372Z"
    }
   },
   "outputs": [
    {
     "data": {
      "text/plain": [
       "array(['Dallas, TX', 'Irving, TX', 'Plano, TX', 'Dallas, TX 75234',\n",
       "       'Euless, TX', 'Lewisville, TX', 'Chicago, IL', 'Evanston, IL',\n",
       "       'Chicago, IL 60664 (Near West Side area)', 'Oak Brook, IL',\n",
       "       'Chicago, IL 60605 (Near South Side area)',\n",
       "       'Bellevue, WA 98004 (Downtown area)', 'Redmond, WA 98052',\n",
       "       'Seattle, WA', 'Seattle, WA 98109 (Westlake area)', 'Bellevue, WA',\n",
       "       'Redmond, WA', 'Seattle, WA 98104 (First Hill area)',\n",
       "       'Los Angeles, CA', 'Los Angeles County, CA', 'Woodland Hills, CA',\n",
       "       'El Segundo, CA 90245', 'Buena Park, CA',\n",
       "       'Beverly Hills, CA 90212', 'Duarte, CA 91010', 'Van Nuys, CA',\n",
       "       'Anaheim, CA', 'Santa Monica, CA', 'Pasadena, CA',\n",
       "       'Los Angeles, CA 90066', 'Tarzana, CA 91356',\n",
       "       'Los Angeles, CA 90036', 'Downey, CA 90240', 'Long Beach, CA',\n",
       "       'Los Angeles, CA 90001', 'Redondo Beach, CA', 'Cypress, CA',\n",
       "       'Santa Monica, CA 90404', 'Sylmar, CA', 'Pittsburgh, PA',\n",
       "       'Portland, OR', 'Portland, OR 97211 (Concordia area)',\n",
       "       'Philadelphia, PA', 'Radnor, PA', 'Wilmington, DE',\n",
       "       'Philadelphia, PA 19147 (Wharton-Hawthorne-Bella Vista area)',\n",
       "       'Fort Washington, PA', 'Camden, NJ',\n",
       "       'Philadelphia, PA 19103 (Belmont area)',\n",
       "       'Philadelphia, PA 19107 (City Center East area)',\n",
       "       'Philadelphia, PA 19124 (Juniata Park-Feltonville area)',\n",
       "       'North Wales, PA', 'Houston, TX', 'Houston, TX 77032',\n",
       "       'Houston, TX 77034', 'Houston, TX 77090', 'New York, NY',\n",
       "       'New York, NY 10261 (Murray Hill area)',\n",
       "       'New York, NY 10003 (Greenwich Village area)',\n",
       "       'Brooklyn, NY 11236 (Canarsie area)',\n",
       "       'New York, NY 10011 (Chelsea area)', 'Queens, NY', 'Albany, NY',\n",
       "       'Manhattan, NY', 'Brooklyn, NY 11206 (Williamsburg area)',\n",
       "       'New York, NY 10022 (Midtown area)',\n",
       "       'New York, NY 10016 (Gramercy area)', 'Brooklyn, NY',\n",
       "       'Rochester, NY 14623', 'Liverpool, NY 13088',\n",
       "       'New York, NY 10104 (Midtown area)', 'Rochester, NY',\n",
       "       'New York, NY 10001 (Chelsea area)', 'New York State',\n",
       "       'New York, NY 10154 (Midtown area)', 'Orient, NY 11957',\n",
       "       'Atlanta, GA', 'Fort Gillem, GA', 'Atlanta, GA 30338',\n",
       "       'Atlanta, GA 30301 (Buckhead area)',\n",
       "       'Atlanta, GA 30318 (Rockdale area)',\n",
       "       'Atlanta, GA 30342 (Buckhead area)',\n",
       "       'Atlanta, GA 30303 (Five Points area)', 'Norcross, GA',\n",
       "       'Johns Creek, GA', 'Atlanta, GA 30328', 'Glendale, CO',\n",
       "       'Buckley AFB, CO', 'Lakewood, CO', 'Boulder, CO', 'Denver, CO',\n",
       "       'Boulder, CO 80301', 'Broomfield, CO 80021', 'Golden, CO',\n",
       "       'Broomfield, CO', 'Littleton, CO',\n",
       "       'San Francisco, CA 94108 (Financial District area)',\n",
       "       'San Francisco, CA',\n",
       "       'Oakland, CA 94607 (Acorn-Acorn Industrial area)', 'Berkeley, CA',\n",
       "       'Emeryville, CA', 'San Francisco, CA 94103 (South Of Market area)',\n",
       "       'Hayward, CA', 'Oakland, CA', 'Belmont, CA', 'San Carlos, CA',\n",
       "       'San Bruno, CA 94066', 'Redwood City, CA 94063',\n",
       "       'Redwood City, CA', 'San Mateo, CA 94403 (Sugerloaf area)',\n",
       "       'San Francisco, CA 94104 (Financial District area)',\n",
       "       'Coral Gables, FL', 'Fort Lauderdale, FL 33315 (River Oaks area)',\n",
       "       'Aventura, FL', 'Miami, FL', 'Miami Lakes, FL 33016',\n",
       "       'Plantation, FL', 'Fort Lauderdale, FL', 'Phoenix, AZ',\n",
       "       'Tempe, AZ', 'Scottsdale, AZ 85251 (South Scottsdale area)',\n",
       "       'Chandler, AZ 85249', 'Phoenix, AZ 85034 (Central City area)',\n",
       "       'Phoenix, AZ 85007 (Central City area)', 'Austin, TX',\n",
       "       'Austin, TX 78759 (Arboretum area)',\n",
       "       'Austin, TX 78758 (North Austin area)'], dtype=object)"
      ]
     },
     "execution_count": 142,
     "metadata": {},
     "output_type": "execute_result"
    }
   ],
   "source": [
    "df.Location.unique()"
   ]
  },
  {
   "cell_type": "code",
   "execution_count": 143,
   "metadata": {
    "ExecuteTime": {
     "end_time": "2018-04-17T19:50:01.274611Z",
     "start_time": "2018-04-17T19:50:01.268732Z"
    }
   },
   "outputs": [
    {
     "data": {
      "text/plain": [
       "array([124000, 115000, 107500, 150000,  55000, 102500,  77000, 105000,\n",
       "       135000,  85000,  36500, 130500, 122000, 120000, 195000, 155000,\n",
       "       130000, 110000, 165000, 125000, 102000,  95000, 100000, 160000,\n",
       "        75548,  72500, 140000,  62500,  38500,  60000, 157500,  71000,\n",
       "       147500, 126000, 101000, 107000, 154500,  43000,  37500, 132500,\n",
       "       121000, 225000, 177500, 137500,  41500,  40500, 170000, 133000,\n",
       "       143000, 115500,  87892,  66795, 134464, 127500, 113000,  98500,\n",
       "        59146, 148000, 138500,  75316, 117500,  40000, 108500, 190000,\n",
       "        59000,  57500,  66916,  50146, 120500, 114500,  41696, 200000,\n",
       "        73840,  97500, 108000, 150005,  90000,  45000,  75000,  74500,\n",
       "        85500, 106250, 185750,  53000, 122500, 161000,  66500,  63000,\n",
       "        65000,  52000,  84000, 111000, 134000,  50000, 144000, 139500,\n",
       "       145500,  72962,  70500, 134500,  88144, 185000,  62693,  90981,\n",
       "        90345,  77035,  40423,  79250,  61798,  41000, 159000, 146000,\n",
       "        82500,  70000,  94822,  75558,  65977,  62681,  86815,  86722,\n",
       "       104500, 131500, 111500, 127000, 149000, 157000, 129500,  78000,\n",
       "       105376,  98090,  92000, 118500, 114000,  71808,  63674,  93000,\n",
       "        91769, 113620,  56003,  68581, 121500,  51000,  84479,  74362,\n",
       "        56000, 250000, 180000,  95300, 172500,  70650, 156500, 165500,\n",
       "       150500, 175000, 101764, 128500, 129000,  46000, 108600,  52500,\n",
       "        54050,  74800,  75400,  48476,  29500,  80000, 112000,  77602,\n",
       "        70658, 117000,  62917, 123500,  47398,  32945,  94000, 142500,\n",
       "       116000])"
      ]
     },
     "execution_count": 143,
     "metadata": {},
     "output_type": "execute_result"
    }
   ],
   "source": [
    "df.Salary.unique()"
   ]
  },
  {
   "cell_type": "code",
   "execution_count": 144,
   "metadata": {
    "ExecuteTime": {
     "end_time": "2018-04-17T19:50:04.700764Z",
     "start_time": "2018-04-17T19:50:04.694849Z"
    }
   },
   "outputs": [
    {
     "data": {
      "text/plain": [
       "array(['Sr Consultant Data Scientist', 'Sr Data Scientist',\n",
       "       'Full-Stack Software Engineer (Predictive Analytics, Machine...',\n",
       "       'Principal Machine Learning/Nlp Engineer-Architect',\n",
       "       'Data Scientist/Analyst', 'Sr. Software Engineer',\n",
       "       'Technical Writer I',\n",
       "       'Data Scientist – Articulate Data’S Story & Get Flextime',\n",
       "       'Clinical Informatics Director', 'Presales Big Data Consultant',\n",
       "       'Sr. Product Development Scientist In Food Manufacturing',\n",
       "       'Product Development Scientist',\n",
       "       'Construction Materials Testing Technician',\n",
       "       'Senior Data Scientist', 'Senior Java Developer',\n",
       "       'Machine Learning Engineer', 'Principal Machine Learning Engineer',\n",
       "       'Machine Learning Architect',\n",
       "       'Senior Developer - Backend - Chicago', 'Sr. Quantitative Analyst',\n",
       "       'Director Of Data Science', 'Sr. Model Validation Analyst',\n",
       "       'Senior Director Of Data Engineering',\n",
       "       'Staff Project Controls Specialist',\n",
       "       'Senior Software Engineer, Backend',\n",
       "       'Senior Python Engineer - Big Data And Cloud',\n",
       "       'Data Engineer (C#, Azure, Nosql)', 'Senior Jvm Engineer',\n",
       "       'Data Scientist', 'Principal Data Lead (Machine Learning)',\n",
       "       'Supervisory Survey Statistician (Regional Survey Manager), G...',\n",
       "       'Senior Data Scientist - Strategic Model Development, Global...',\n",
       "       'Data Modeler/Analyst (Sql, Tableau)',\n",
       "       'Senior Data Scientist (Spark, Aws, Redshift)',\n",
       "       'Senior Level Data Scientist (Machine Learning, Neural-Networ...',\n",
       "       'Full Time Client-Facing Data Analyst (Remote)',\n",
       "       'Communications Coordinator', 'Project Finance Analyst/Associate',\n",
       "       'Your Predictive Modeling Actuary #80836',\n",
       "       'Regional Enterprise Benefits Executive - Chicago',\n",
       "       'Sr. Analytical Scientist', 'Certifying Scientist',\n",
       "       'Property Casualty Insurance Data Scientist #79889',\n",
       "       'Software Engineer', 'Prinicipal Software Engineer',\n",
       "       'Senior Developer - Backend - Seattle',\n",
       "       'Software Development Engineer', 'Research Technician I',\n",
       "       'Research Technician I, Hvtn', 'Research Technician I, Immunology',\n",
       "       'Software Development Engineer, Aws Lex',\n",
       "       'Principal Software Developer - Data Solutions',\n",
       "       'Head Data Scientist', 'Lead Data Scientist', 'Research Analyst',\n",
       "       'Construction Materials Testing Technician / Special Inspecto...',\n",
       "       'Senior Data Scientist - Natural Language Processing',\n",
       "       'Senior Data/Nlp Scientist',\n",
       "       'Senior Data Scientist - Neural Networks',\n",
       "       'Machine Learning Engineer - La',\n",
       "       'Chief Research Analyst, Behavioral Sciences',\n",
       "       'Research Analyst Ii, Behavioral Sciences', 'Computer Scientist',\n",
       "       'Data Engineer', 'Numerical Analyst/Software Developer',\n",
       "       'Python Etl/Data Integration Engineer',\n",
       "       'Postdoctoral Research Training Fellowships | Dna Damage Resp...',\n",
       "       'Software Systems Engineer', 'Ground Systems Engineer',\n",
       "       'Sr. Data Scientist For Exciting Blockchain Research Firm',\n",
       "       'Assistant Research Analyst', 'Lead Cloud Solution Architect',\n",
       "       'Regional Enterprise Benefits Executive - Los Angeles',\n",
       "       'President', 'Business Development Manager',\n",
       "       'It Technical Recruiter At Nationwide Staffing Firm',\n",
       "       'Principal Electronics System Engineer', 'Senior Research Analyst',\n",
       "       'Science Director, Glial Biology', 'Data Scientist / Engineer',\n",
       "       'Electrical Engineer- Medical Device Experience',\n",
       "       'Software Developer - Simon Initiative',\n",
       "       'Research Programmer / Analyst - Physics Department, Mellon C...',\n",
       "       'Big Data Engineer', 'Education Manager',\n",
       "       'Clinical Research Coordinator',\n",
       "       'Team Lead Software Engineer: Data Products - Portland, Or',\n",
       "       'Remote Data Science Instructor',\n",
       "       'Police Forensic Science Technician', 'Quant Research Analyst',\n",
       "       'Senior Machine Learning Engineer',\n",
       "       'Data Scientist (Hadoop, Sas, R, Python)',\n",
       "       'Data Scientist (Statistical Modeling)',\n",
       "       'Insurance Predictive Modeling Actuary #80800W',\n",
       "       'Senior Healthcare Statistician And Analytics Consultant',\n",
       "       'Data Research Analyst', 'Statistical Risk Modeling Lead',\n",
       "       'Color Scientist', 'Clinical Flow Cytometry Scientist',\n",
       "       'Data Scientist/Senior Statistician',\n",
       "       'Statistical Analyst - Biostatistics',\n",
       "       'Research Statistical Analyst - Biostatistics',\n",
       "       'Institute Research Investigator - Target Discovery And Valid...',\n",
       "       'Institute Group Leader - Drug Metabolism And Pharmacokinetic...',\n",
       "       'Senior Research Subject Protection Analyst',\n",
       "       'Institute Research Scientist - Translational Biology',\n",
       "       'Institute Research Scientist – Target Biology',\n",
       "       'Principal Institute Research Scientist – Preclinical Develop...',\n",
       "       'Data Scientist - Houston', 'Research Scientist - Genetics',\n",
       "       'Research Scientist - Cancer Biology',\n",
       "       'Accountant Ii - Investigational Cancer Therapeutics',\n",
       "       'Research Scientist - Radiation Oncology - Research',\n",
       "       'Senior Staff Scientist', 'Staff Scientist',\n",
       "       'Accountant Ii - Melanoma Medical Oncolgy',\n",
       "       'Administrative Director, Research Program - Radiation Oncolo...',\n",
       "       'Clinical Research Scientist - Surgical Oncology Research',\n",
       "       'Principal Institute Research Scientist - Drug Discovery, Bio...',\n",
       "       'Market Research Analyst', 'R&D Senior Chemical Engineer',\n",
       "       'Tech Marketing Evangelist', 'Civil/Environmental Engineer',\n",
       "       'Lead Data Science Immersive Instructor', 'Student / Intern',\n",
       "       'Quantitative Analyst',\n",
       "       'Senior Manager, Data Science – Anomaly Detection',\n",
       "       'Senior Manager, Data Science', 'Manager, Data Science',\n",
       "       'Sr. Data Scientist', 'Director Of Data Analysis, Dcp',\n",
       "       'Computational Science Postdoc', 'Software Engineer, Backend',\n",
       "       'Research Study Specialist (Genitourinary Non-Prostate Servic...',\n",
       "       'Research Software Engineer, Google Brain',\n",
       "       'Director Of Child Care Data Anlytics, Bureau Of Childcare',\n",
       "       'Administrative Assistant', 'Leader Of Machine Learning',\n",
       "       'Quality Assurance Analyst, Bureau Of Std Prevention And Cont...',\n",
       "       'Environmental Health & Safety Auditor',\n",
       "       'Senior Research Analyst, Bureau Of Maternal Infant And Repro...',\n",
       "       'Senior Analyst', 'Senior Laboratory Technician',\n",
       "       'Junior Developer, Environmental Surveillance And Policy',\n",
       "       'Policy And Operstions Research | Analyst',\n",
       "       'Policy And Operations Research | Analyst',\n",
       "       'Fulfillment Specialist (Brooklyn) - Buyer',\n",
       "       'Senior Software Engineer - Store Solutions, New Ventures',\n",
       "       'Senior Software Engineer - Search',\n",
       "       'Sr. Full Stack Ui/Ux Developer', 'Strategic Analytics Lead',\n",
       "       'Quant Software Developer',\n",
       "       'Marketing Research Analyst/Consumer Insights Analyst',\n",
       "       'Section Chief, Project Management Unit',\n",
       "       'Senior Data Analyst/Data Analyst (Statistical/Multivariate)',\n",
       "       'Director, Data Engineering', 'Data Scientist - New York',\n",
       "       'Gis Analyst', 'Implementation And Improvement Research Associate',\n",
       "       'Energy Program Analyst',\n",
       "       'Asthma Coordinator, Bureau Of School Health/Sh Medical',\n",
       "       'Environmental Compliance Specialist',\n",
       "       'Program Coordinator, Bureau Of Children, Youth, And Families',\n",
       "       'Senior Policy Advisor, Infrastructure And Energy Team',\n",
       "       'Project Coordinator, Bureau Of Environmental Sciences And En...',\n",
       "       'City Research Scientist 1',\n",
       "       'Data Scientist / Machine Learning / Dl / Ai / C++ / Cuda / S...',\n",
       "       'Intern, Data Science - Engineering - Part-Time',\n",
       "       'Marketing Data Scientist',\n",
       "       'Sr Software Engineer- Distribution Tools',\n",
       "       'Sr. Product Manager - Commercial Bank - Launchpad',\n",
       "       'Lead Data Scientist – Machine Learning', 'Jr. Data Scientist',\n",
       "       'Cognitive Data Scientist Natural Language Processing',\n",
       "       'Physician Assistant (Part-Time) - Plum Island',\n",
       "       'Mathematical Statistician', 'Epidemiologist',\n",
       "       'Biologist (Forensic Examiner)', 'Big Data Software Engineer',\n",
       "       'Data Visualization Software Engineer',\n",
       "       'Front-End Web Application Developer - Elsys - 1623',\n",
       "       'Director Of Data Management',\n",
       "       'Data Scientist/Technical Architect', 'Hadoop Architect',\n",
       "       'Sr Software Dev (Big Data)', 'Data Science Instructor',\n",
       "       'Statistician', 'Operations Research Analyst',\n",
       "       'Student Trainee (Computer Science) Gs-1599-07 (Ci-Sh)',\n",
       "       'Budget And Grant Analyst Ii',\n",
       "       'Software Engineer Ii/Iii/Sr 2018-105',\n",
       "       'Sr. Software Quality Engineer',\n",
       "       'Postdoctoral Researcher - Scientific Visualization',\n",
       "       'Stormwater Quality Engineer Or Scientist',\n",
       "       'Government Enterprise Architect',\n",
       "       'Regional Enterprise Benefits Executive - Denver',\n",
       "       'Data Software Engineer', 'Data Scientist (Level Iii)',\n",
       "       'Senior Data Engineer',\n",
       "       'Environmental Health & Health Policy Sciences Program Office...',\n",
       "       'Manager Of Data Science (Python, Aws, Scikitlearn, Pandas)',\n",
       "       'Senior Front-End Engineer', 'Senior Ios Engineer',\n",
       "       'Career Advisor Job - School Of Information',\n",
       "       'Development Engineer', 'Software Engineer/Data Scientist, Nlp',\n",
       "       'Full-Stack Engineer - Automate',\n",
       "       'Senior Computer Systems Operations Architect',\n",
       "       'Full Stack Web Developer Discovery Research',\n",
       "       'Senior Software Engineer, Operations', 'Senior Security Engineer',\n",
       "       'Senior Statistical Programmer',\n",
       "       'Executive Director, Cltc Job - School Of Information/Cltc',\n",
       "       'Epidemiology Research Scientist',\n",
       "       'Chief Software Architect, Next Generation Sequencing',\n",
       "       'Devops Engineer',\n",
       "       'Data Scientist - Statistical Modeling Specialist',\n",
       "       'Senior Product Manager, Digital Acceleration',\n",
       "       'Staff Software Engineer', 'Manufacturing Technician - Window',\n",
       "       'Software Engineer Iii', 'Data Scientist 4',\n",
       "       'Staff Software Engineer-Backend', 'Data Science Generalist',\n",
       "       'Research Analyst / Sas Programmer',\n",
       "       'Lead Research Analyst - Pre-Award',\n",
       "       'Sr. Research Analyst - Pre-Award',\n",
       "       'Senior Donor Research Analyst', 'Research Associate 1',\n",
       "       'Associate Scientist', 'Senior Research Associate 1',\n",
       "       'Assistant Scientist', 'Biological Scientist Ii - Ses',\n",
       "       'Entry Level Data Scientist',\n",
       "       'Machine Learning & Computer Vision Software Engineer',\n",
       "       'Bioinformatics Software Engineer', 'Scientist R&D',\n",
       "       'Data Scientist (Strategy)',\n",
       "       'Planning Research Analyst Sr (Open Until Filled)',\n",
       "       'Post Doctoral Research Associate In Socio-Hydrology For Cris...',\n",
       "       'Police Forensic Scientist Ii - Dna',\n",
       "       'Information Security Engineer 5 - Continuous Monitoring Comp...',\n",
       "       'Data Scientist - R / Python - Data Mining / Statistical Mode...',\n",
       "       'Sr. Statistician - Specialist Vii (Job 2239)', 'Ux Designer',\n",
       "       'Hydrologic Technician, Gs-1316-05/06/07 (Deu-Perm-Jj)',\n",
       "       'Educational Instructional Specialist', 'Senior Devops Engineer',\n",
       "       'Public Health Research Statistician',\n",
       "       'Machine Learning / Ai Engineer', 'Database Architect',\n",
       "       'Technical Product Manager - Data Services',\n",
       "       'Technical Product Manager - Analytics Solutions',\n",
       "       'Principal Polymer Engineer', 'Data Science Manager',\n",
       "       'Online Marketing Scientist/Engineer',\n",
       "       'Senior Data Scientist – Malware & Security'], dtype=object)"
      ]
     },
     "execution_count": 144,
     "metadata": {},
     "output_type": "execute_result"
    }
   ],
   "source": [
    "df.Title.unique()"
   ]
  },
  {
   "cell_type": "code",
   "execution_count": 148,
   "metadata": {
    "ExecuteTime": {
     "end_time": "2018-04-17T19:53:03.468197Z",
     "start_time": "2018-04-17T19:53:03.457965Z"
    }
   },
   "outputs": [
    {
     "data": {
      "text/html": [
       "<div>\n",
       "<style scoped>\n",
       "    .dataframe tbody tr th:only-of-type {\n",
       "        vertical-align: middle;\n",
       "    }\n",
       "\n",
       "    .dataframe tbody tr th {\n",
       "        vertical-align: top;\n",
       "    }\n",
       "\n",
       "    .dataframe thead th {\n",
       "        text-align: right;\n",
       "    }\n",
       "</style>\n",
       "<table border=\"1\" class=\"dataframe\">\n",
       "  <thead>\n",
       "    <tr style=\"text-align: right;\">\n",
       "      <th></th>\n",
       "      <th>City</th>\n",
       "      <th>Company</th>\n",
       "      <th>Location</th>\n",
       "      <th>Salary</th>\n",
       "      <th>Title</th>\n",
       "    </tr>\n",
       "  </thead>\n",
       "  <tbody>\n",
       "    <tr>\n",
       "      <th>0</th>\n",
       "      <td>Austin</td>\n",
       "      <td>Travis County</td>\n",
       "      <td>Austin, TX</td>\n",
       "      <td>32945</td>\n",
       "      <td>Educational Instructional Specialist</td>\n",
       "    </tr>\n",
       "    <tr>\n",
       "      <th>1</th>\n",
       "      <td>Austin</td>\n",
       "      <td>Department of the Interior</td>\n",
       "      <td>Austin, TX</td>\n",
       "      <td>47398</td>\n",
       "      <td>Hydrologic Technician, Gs-1316-05/06/07 (Deu-P...</td>\n",
       "    </tr>\n",
       "    <tr>\n",
       "      <th>2</th>\n",
       "      <td>Austin</td>\n",
       "      <td>HuntSource</td>\n",
       "      <td>Austin, TX</td>\n",
       "      <td>107500</td>\n",
       "      <td>Machine Learning / Ai Engineer</td>\n",
       "    </tr>\n",
       "    <tr>\n",
       "      <th>3</th>\n",
       "      <td>Austin</td>\n",
       "      <td>Natera</td>\n",
       "      <td>Austin, TX 78731</td>\n",
       "      <td>35500</td>\n",
       "      <td>Data Entry Specialist (Temporary)</td>\n",
       "    </tr>\n",
       "    <tr>\n",
       "      <th>4</th>\n",
       "      <td>Austin</td>\n",
       "      <td>SparkCognition</td>\n",
       "      <td>Austin, TX 78759 (Arboretum area)</td>\n",
       "      <td>137500</td>\n",
       "      <td>Director Of Data Science</td>\n",
       "    </tr>\n",
       "  </tbody>\n",
       "</table>\n",
       "</div>"
      ],
      "text/plain": [
       "     City                     Company                           Location  \\\n",
       "0  Austin               Travis County                         Austin, TX   \n",
       "1  Austin  Department of the Interior                         Austin, TX   \n",
       "2  Austin                  HuntSource                         Austin, TX   \n",
       "3  Austin                      Natera                   Austin, TX 78731   \n",
       "4  Austin              SparkCognition  Austin, TX 78759 (Arboretum area)   \n",
       "\n",
       "   Salary                                              Title  \n",
       "0   32945               Educational Instructional Specialist  \n",
       "1   47398  Hydrologic Technician, Gs-1316-05/06/07 (Deu-P...  \n",
       "2  107500                     Machine Learning / Ai Engineer  \n",
       "3   35500                  Data Entry Specialist (Temporary)  \n",
       "4  137500                           Director Of Data Science  "
      ]
     },
     "execution_count": 148,
     "metadata": {},
     "output_type": "execute_result"
    }
   ],
   "source": [
    "df.head()"
   ]
  },
  {
   "cell_type": "markdown",
   "metadata": {
    "focus": false,
    "id": "43e71edd-210e-42b1-9336-70a931f048af"
   },
   "source": [
    "### Save your results as a CSV"
   ]
  },
  {
   "cell_type": "code",
   "execution_count": 145,
   "metadata": {
    "ExecuteTime": {
     "end_time": "2018-04-17T19:50:50.607816Z",
     "start_time": "2018-04-17T19:50:50.592931Z"
    },
    "focus": false,
    "id": "783fd153-28ac-47ab-bfca-27e7c1de95b4"
   },
   "outputs": [],
   "source": [
    "# Write cleansed df to a csv file, without row indexes\n",
    "df.to_csv('job_data_final1.csv', index=False)"
   ]
  },
  {
   "cell_type": "markdown",
   "metadata": {},
   "source": [
    "# Please refer to project-indeed-web-scrape-part2.ipynb for remainder of project work."
   ]
  }
 ],
 "metadata": {
  "kernelspec": {
   "display_name": "Python 3",
   "language": "python",
   "name": "python3"
  },
  "language_info": {
   "codemirror_mode": {
    "name": "ipython",
    "version": 3
   },
   "file_extension": ".py",
   "mimetype": "text/x-python",
   "name": "python",
   "nbconvert_exporter": "python",
   "pygments_lexer": "ipython3",
   "version": "3.6.4"
  },
  "toc": {
   "nav_menu": {},
   "number_sections": true,
   "sideBar": true,
   "skip_h1_title": true,
   "title_cell": "Table of Contents",
   "title_sidebar": "Contents",
   "toc_cell": false,
   "toc_position": {
    "height": "calc(100% - 180px)",
    "left": "10px",
    "top": "150px",
    "width": "217px"
   },
   "toc_section_display": "block",
   "toc_window_display": true
  }
 },
 "nbformat": 4,
 "nbformat_minor": 1
}
