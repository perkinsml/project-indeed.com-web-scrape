{
 "cells": [
  {
   "cell_type": "markdown",
   "metadata": {
    "focus": false,
    "id": "69b9a648-bcc7-490d-9f9b-ea244d156bd6"
   },
   "source": [
    "<img src=\"http://imgur.com/1ZcRyrc.png\" style=\"float: left; margin: 15px; height: 80px\">\n",
    "\n",
    "\n",
    "# Web Scraping for Indeed.com and Predicting Salaries"
   ]
  },
  {
   "cell_type": "markdown",
   "metadata": {
    "focus": false,
    "id": "34681254-c802-462f-829d-8894d0772d08"
   },
   "source": [
    "In this project, we will practice two major skills: collecting data by scraping a website and then building a binary predictor with Logistic Regression.\n",
    "\n",
    "We are going to collect salary information on data science jobs in a variety of markets. Then using the location, title and summary of the job we will attempt to predict the salary of the job. For job posting sites, this would be extraordinarily useful. While most listings DO NOT come with salary information (as you will see in this exercise), being able to extrapolate or predict the expected salaries from other listings can help guide negotiations.\n",
    "\n",
    "Normally, we could use regression for this task; however, we will convert this problem into classification and use Logistic Regression or any other suitable classifier.\n",
    "\n",
    "- Question: Why would we want this to be a classification problem?\n",
    "- Answer: While more precision may be better, there is a fair amount of natural variance in job salaries - predicting a range may be useful.\n",
    "\n",
    "Therefore, the first part of the assignment will be focused on scraping Indeed.com. In the second, we'll focus on using listings with salary information to build a model and predict additional salaries."
   ]
  },
  {
   "cell_type": "markdown",
   "metadata": {
    "focus": false,
    "id": "04563b69-f7b6-466f-9d65-fc62c9ddee6a"
   },
   "source": [
    "## QUESTION 2: Factors that distinguish job category\n",
    "\n",
    "Using the job postings you scraped for part 1 (or potentially new job postings from a second round of scraping), identify features in the data related to job postings that can distinguish job titles from each other. There are a variety of interesting ways you can frame the target variable, for example:\n",
    "- What components of a job posting distinguish data scientists from other data jobs?\n",
    "- What features are important for distinguishing junior vs. senior positions?\n",
    "- Do the requirements for titles vary significantly with industry (e.g. healthcare vs. government)?\n",
    "\n",
    "You may end up making multiple classification models to tackle different questions. Be sure to clearly explain your hypotheses and framing, any feature engineering, and what your target variables are. The type of classification model you choose is up to you. Be sure to interpret your results and evaluate your models' performance."
   ]
  },
  {
   "cell_type": "markdown",
   "metadata": {
    "focus": false,
    "id": "243e949e-2742-40af-872e-fec475fd306c"
   },
   "source": [
    "#### Load in the the data of scraped salaries"
   ]
  },
  {
   "cell_type": "code",
   "execution_count": 1,
   "metadata": {
    "ExecuteTime": {
     "end_time": "2018-04-23T21:33:17.858222Z",
     "start_time": "2018-04-23T21:33:17.835829Z"
    },
    "focus": false,
    "id": "588f9845-6143-4bcc-bfd1-85d45b79303d"
   },
   "outputs": [],
   "source": [
    "# Load contents of scraped data file \n",
    "df = pd.read_csv('job_data_final1.csv')"
   ]
  },
  {
   "cell_type": "code",
   "execution_count": 2,
   "metadata": {
    "ExecuteTime": {
     "end_time": "2018-04-23T21:33:18.752078Z",
     "start_time": "2018-04-23T21:33:18.736803Z"
    }
   },
   "outputs": [
    {
     "data": {
      "text/html": [
       "<div>\n",
       "<style scoped>\n",
       "    .dataframe tbody tr th:only-of-type {\n",
       "        vertical-align: middle;\n",
       "    }\n",
       "\n",
       "    .dataframe tbody tr th {\n",
       "        vertical-align: top;\n",
       "    }\n",
       "\n",
       "    .dataframe thead th {\n",
       "        text-align: right;\n",
       "    }\n",
       "</style>\n",
       "<table border=\"1\" class=\"dataframe\">\n",
       "  <thead>\n",
       "    <tr style=\"text-align: right;\">\n",
       "      <th></th>\n",
       "      <th>City</th>\n",
       "      <th>Company</th>\n",
       "      <th>Location</th>\n",
       "      <th>Reviews</th>\n",
       "      <th>Salary</th>\n",
       "      <th>Summary</th>\n",
       "      <th>Title</th>\n",
       "      <th>Indeed_Estimate</th>\n",
       "    </tr>\n",
       "  </thead>\n",
       "  <tbody>\n",
       "    <tr>\n",
       "      <th>0</th>\n",
       "      <td>Dallas</td>\n",
       "      <td>Hitachi Consulting Corporation US</td>\n",
       "      <td>Dallas, TX</td>\n",
       "      <td>153.0</td>\n",
       "      <td>124000</td>\n",
       "      <td>The Data Scientist designs, builds and maintai...</td>\n",
       "      <td>Sr Consultant Data Scientist</td>\n",
       "      <td>1</td>\n",
       "    </tr>\n",
       "    <tr>\n",
       "      <th>1</th>\n",
       "      <td>Dallas</td>\n",
       "      <td>7-Eleven</td>\n",
       "      <td>Irving, TX</td>\n",
       "      <td>7125.0</td>\n",
       "      <td>115000</td>\n",
       "      <td>Work closely with data engineersto ensure the ...</td>\n",
       "      <td>Sr Data Scientist</td>\n",
       "      <td>1</td>\n",
       "    </tr>\n",
       "    <tr>\n",
       "      <th>2</th>\n",
       "      <td>Dallas</td>\n",
       "      <td>Workbridge Associates</td>\n",
       "      <td>Dallas, TX</td>\n",
       "      <td>36.0</td>\n",
       "      <td>107500</td>\n",
       "      <td>Experience with data modeling, analysis, progr...</td>\n",
       "      <td>Full-Stack Software Engineer (Predictive Analy...</td>\n",
       "      <td>0</td>\n",
       "    </tr>\n",
       "    <tr>\n",
       "      <th>3</th>\n",
       "      <td>Dallas</td>\n",
       "      <td>A+ Consulting</td>\n",
       "      <td>Plano, TX</td>\n",
       "      <td>NaN</td>\n",
       "      <td>150000</td>\n",
       "      <td>This is a direct hire position - not contract....</td>\n",
       "      <td>Principal Machine Learning/Nlp Engineer-Architect</td>\n",
       "      <td>0</td>\n",
       "    </tr>\n",
       "    <tr>\n",
       "      <th>4</th>\n",
       "      <td>Dallas</td>\n",
       "      <td>Platform by Per Scholas</td>\n",
       "      <td>Dallas, TX</td>\n",
       "      <td>NaN</td>\n",
       "      <td>55000</td>\n",
       "      <td>Java, Oracle DB, Shell Scripting, SDLC and Cod...</td>\n",
       "      <td>Data Scientist/Analyst</td>\n",
       "      <td>0</td>\n",
       "    </tr>\n",
       "  </tbody>\n",
       "</table>\n",
       "</div>"
      ],
      "text/plain": [
       "     City                            Company    Location  Reviews  Salary  \\\n",
       "0  Dallas  Hitachi Consulting Corporation US  Dallas, TX    153.0  124000   \n",
       "1  Dallas                           7-Eleven  Irving, TX   7125.0  115000   \n",
       "2  Dallas              Workbridge Associates  Dallas, TX     36.0  107500   \n",
       "3  Dallas                      A+ Consulting   Plano, TX      NaN  150000   \n",
       "4  Dallas            Platform by Per Scholas  Dallas, TX      NaN   55000   \n",
       "\n",
       "                                             Summary  \\\n",
       "0  The Data Scientist designs, builds and maintai...   \n",
       "1  Work closely with data engineersto ensure the ...   \n",
       "2  Experience with data modeling, analysis, progr...   \n",
       "3  This is a direct hire position - not contract....   \n",
       "4  Java, Oracle DB, Shell Scripting, SDLC and Cod...   \n",
       "\n",
       "                                               Title  Indeed_Estimate  \n",
       "0                       Sr Consultant Data Scientist                1  \n",
       "1                                  Sr Data Scientist                1  \n",
       "2  Full-Stack Software Engineer (Predictive Analy...                0  \n",
       "3  Principal Machine Learning/Nlp Engineer-Architect                0  \n",
       "4                             Data Scientist/Analyst                0  "
      ]
     },
     "execution_count": 2,
     "metadata": {},
     "output_type": "execute_result"
    }
   ],
   "source": [
    "# Short EDA of loaded data\n",
    "df.head()"
   ]
  },
  {
   "cell_type": "code",
   "execution_count": 3,
   "metadata": {
    "ExecuteTime": {
     "end_time": "2018-04-23T21:33:19.291661Z",
     "start_time": "2018-04-23T21:33:19.288281Z"
    }
   },
   "outputs": [
    {
     "data": {
      "text/plain": [
       "(323, 8)"
      ]
     },
     "execution_count": 3,
     "metadata": {},
     "output_type": "execute_result"
    }
   ],
   "source": [
    "df.shape"
   ]
  },
  {
   "cell_type": "code",
   "execution_count": 4,
   "metadata": {
    "ExecuteTime": {
     "end_time": "2018-04-23T21:33:19.824773Z",
     "start_time": "2018-04-23T21:33:19.817037Z"
    }
   },
   "outputs": [
    {
     "name": "stdout",
     "output_type": "stream",
     "text": [
      "<class 'pandas.core.frame.DataFrame'>\n",
      "RangeIndex: 323 entries, 0 to 322\n",
      "Data columns (total 8 columns):\n",
      "City               323 non-null object\n",
      "Company            323 non-null object\n",
      "Location           323 non-null object\n",
      "Reviews            220 non-null float64\n",
      "Salary             323 non-null int64\n",
      "Summary            323 non-null object\n",
      "Title              323 non-null object\n",
      "Indeed_Estimate    323 non-null int64\n",
      "dtypes: float64(1), int64(2), object(5)\n",
      "memory usage: 20.3+ KB\n"
     ]
    }
   ],
   "source": [
    "df.info()"
   ]
  },
  {
   "cell_type": "code",
   "execution_count": 5,
   "metadata": {
    "ExecuteTime": {
     "end_time": "2018-04-23T21:33:20.262434Z",
     "start_time": "2018-04-23T21:33:20.255742Z"
    }
   },
   "outputs": [
    {
     "data": {
      "text/plain": [
       "City                 0\n",
       "Company              0\n",
       "Location             0\n",
       "Reviews            103\n",
       "Salary               0\n",
       "Summary              0\n",
       "Title                0\n",
       "Indeed_Estimate      0\n",
       "dtype: int64"
      ]
     },
     "execution_count": 5,
     "metadata": {},
     "output_type": "execute_result"
    }
   ],
   "source": [
    "df.isnull().sum()"
   ]
  },
  {
   "cell_type": "code",
   "execution_count": 6,
   "metadata": {
    "ExecuteTime": {
     "end_time": "2018-04-23T21:33:20.778881Z",
     "start_time": "2018-04-23T21:33:20.761270Z"
    }
   },
   "outputs": [
    {
     "data": {
      "text/html": [
       "<div>\n",
       "<style scoped>\n",
       "    .dataframe tbody tr th:only-of-type {\n",
       "        vertical-align: middle;\n",
       "    }\n",
       "\n",
       "    .dataframe tbody tr th {\n",
       "        vertical-align: top;\n",
       "    }\n",
       "\n",
       "    .dataframe thead th {\n",
       "        text-align: right;\n",
       "    }\n",
       "</style>\n",
       "<table border=\"1\" class=\"dataframe\">\n",
       "  <thead>\n",
       "    <tr style=\"text-align: right;\">\n",
       "      <th></th>\n",
       "      <th>Reviews</th>\n",
       "      <th>Salary</th>\n",
       "      <th>Indeed_Estimate</th>\n",
       "    </tr>\n",
       "  </thead>\n",
       "  <tbody>\n",
       "    <tr>\n",
       "      <th>count</th>\n",
       "      <td>220.000000</td>\n",
       "      <td>323.000000</td>\n",
       "      <td>323.000000</td>\n",
       "    </tr>\n",
       "    <tr>\n",
       "      <th>mean</th>\n",
       "      <td>1234.645455</td>\n",
       "      <td>108397.108359</td>\n",
       "      <td>0.337461</td>\n",
       "    </tr>\n",
       "    <tr>\n",
       "      <th>std</th>\n",
       "      <td>4820.001272</td>\n",
       "      <td>39944.322269</td>\n",
       "      <td>0.473577</td>\n",
       "    </tr>\n",
       "    <tr>\n",
       "      <th>min</th>\n",
       "      <td>2.000000</td>\n",
       "      <td>29500.000000</td>\n",
       "      <td>0.000000</td>\n",
       "    </tr>\n",
       "    <tr>\n",
       "      <th>25%</th>\n",
       "      <td>16.500000</td>\n",
       "      <td>75158.000000</td>\n",
       "      <td>0.000000</td>\n",
       "    </tr>\n",
       "    <tr>\n",
       "      <th>50%</th>\n",
       "      <td>62.500000</td>\n",
       "      <td>110000.000000</td>\n",
       "      <td>0.000000</td>\n",
       "    </tr>\n",
       "    <tr>\n",
       "      <th>75%</th>\n",
       "      <td>495.000000</td>\n",
       "      <td>135000.000000</td>\n",
       "      <td>1.000000</td>\n",
       "    </tr>\n",
       "    <tr>\n",
       "      <th>max</th>\n",
       "      <td>54889.000000</td>\n",
       "      <td>250000.000000</td>\n",
       "      <td>1.000000</td>\n",
       "    </tr>\n",
       "  </tbody>\n",
       "</table>\n",
       "</div>"
      ],
      "text/plain": [
       "            Reviews         Salary  Indeed_Estimate\n",
       "count    220.000000     323.000000       323.000000\n",
       "mean    1234.645455  108397.108359         0.337461\n",
       "std     4820.001272   39944.322269         0.473577\n",
       "min        2.000000   29500.000000         0.000000\n",
       "25%       16.500000   75158.000000         0.000000\n",
       "50%       62.500000  110000.000000         0.000000\n",
       "75%      495.000000  135000.000000         1.000000\n",
       "max    54889.000000  250000.000000         1.000000"
      ]
     },
     "execution_count": 6,
     "metadata": {},
     "output_type": "execute_result"
    }
   ],
   "source": [
    "df.describe()"
   ]
  },
  {
   "cell_type": "markdown",
   "metadata": {
    "focus": false,
    "id": "c7631f51-07f2-4c79-a093-3e9bc7849a48"
   },
   "source": [
    "#### We want to predict a binary variable - whether the salary was low or high. Compute the median salary and create a new binary variable that is true when the salary is high (above the median).\n",
    "\n",
    "We could also perform Linear Regression (or any regression) to predict the salary value here. Instead, we are going to convert this into a _binary_ classification problem, by predicting two classes, HIGH vs LOW salary.\n",
    "\n",
    "While performing regression may be better, performing classification may help remove some of the noise of the extreme salaries. We don't have to choose the `median` as the splitting point - we could also split on the 75th percentile or any other reasonable breaking point.\n",
    "\n",
    "In fact, the ideal scenario may be to predict many levels of salaries."
   ]
  },
  {
   "cell_type": "code",
   "execution_count": 7,
   "metadata": {
    "ExecuteTime": {
     "end_time": "2018-04-23T21:33:21.814339Z",
     "start_time": "2018-04-23T21:33:21.807067Z"
    },
    "focus": false,
    "id": "c20d2498-151c-44c3-a453-3a333c79a0ac"
   },
   "outputs": [
    {
     "name": "stdout",
     "output_type": "stream",
     "text": [
      "The median salary is $110000.\n"
     ]
    }
   ],
   "source": [
    "# Define mask to identify salaries greater than or equal to the median \n",
    "mask = df.Salary >= df.Salary.median()\n",
    "\n",
    "print(f'The median salary is ${int(df.Salary.median())}.')\n",
    "\n",
    "# Insert new column into df, where True indicates the salary is greater than or equal to\n",
    "# the median salary, and False indicates the salary is less than the median\n",
    "df['High_Salary'] = mask\n"
   ]
  },
  {
   "cell_type": "markdown",
   "metadata": {},
   "source": [
    "As expected, this median salary calculation is aligned with the 50th percentile in the df.describe() above."
   ]
  },
  {
   "cell_type": "code",
   "execution_count": 8,
   "metadata": {
    "ExecuteTime": {
     "end_time": "2018-04-23T21:33:22.846392Z",
     "start_time": "2018-04-23T21:33:22.831200Z"
    }
   },
   "outputs": [
    {
     "data": {
      "text/html": [
       "<div>\n",
       "<style scoped>\n",
       "    .dataframe tbody tr th:only-of-type {\n",
       "        vertical-align: middle;\n",
       "    }\n",
       "\n",
       "    .dataframe tbody tr th {\n",
       "        vertical-align: top;\n",
       "    }\n",
       "\n",
       "    .dataframe thead th {\n",
       "        text-align: right;\n",
       "    }\n",
       "</style>\n",
       "<table border=\"1\" class=\"dataframe\">\n",
       "  <thead>\n",
       "    <tr style=\"text-align: right;\">\n",
       "      <th></th>\n",
       "      <th>City</th>\n",
       "      <th>Company</th>\n",
       "      <th>Location</th>\n",
       "      <th>Reviews</th>\n",
       "      <th>Salary</th>\n",
       "      <th>Summary</th>\n",
       "      <th>Title</th>\n",
       "      <th>Indeed_Estimate</th>\n",
       "      <th>High_Salary</th>\n",
       "    </tr>\n",
       "  </thead>\n",
       "  <tbody>\n",
       "    <tr>\n",
       "      <th>0</th>\n",
       "      <td>Dallas</td>\n",
       "      <td>Hitachi Consulting Corporation US</td>\n",
       "      <td>Dallas, TX</td>\n",
       "      <td>153.0</td>\n",
       "      <td>124000</td>\n",
       "      <td>The Data Scientist designs, builds and maintai...</td>\n",
       "      <td>Sr Consultant Data Scientist</td>\n",
       "      <td>1</td>\n",
       "      <td>True</td>\n",
       "    </tr>\n",
       "    <tr>\n",
       "      <th>1</th>\n",
       "      <td>Dallas</td>\n",
       "      <td>7-Eleven</td>\n",
       "      <td>Irving, TX</td>\n",
       "      <td>7125.0</td>\n",
       "      <td>115000</td>\n",
       "      <td>Work closely with data engineersto ensure the ...</td>\n",
       "      <td>Sr Data Scientist</td>\n",
       "      <td>1</td>\n",
       "      <td>True</td>\n",
       "    </tr>\n",
       "    <tr>\n",
       "      <th>2</th>\n",
       "      <td>Dallas</td>\n",
       "      <td>Workbridge Associates</td>\n",
       "      <td>Dallas, TX</td>\n",
       "      <td>36.0</td>\n",
       "      <td>107500</td>\n",
       "      <td>Experience with data modeling, analysis, progr...</td>\n",
       "      <td>Full-Stack Software Engineer (Predictive Analy...</td>\n",
       "      <td>0</td>\n",
       "      <td>False</td>\n",
       "    </tr>\n",
       "    <tr>\n",
       "      <th>3</th>\n",
       "      <td>Dallas</td>\n",
       "      <td>A+ Consulting</td>\n",
       "      <td>Plano, TX</td>\n",
       "      <td>NaN</td>\n",
       "      <td>150000</td>\n",
       "      <td>This is a direct hire position - not contract....</td>\n",
       "      <td>Principal Machine Learning/Nlp Engineer-Architect</td>\n",
       "      <td>0</td>\n",
       "      <td>True</td>\n",
       "    </tr>\n",
       "    <tr>\n",
       "      <th>4</th>\n",
       "      <td>Dallas</td>\n",
       "      <td>Platform by Per Scholas</td>\n",
       "      <td>Dallas, TX</td>\n",
       "      <td>NaN</td>\n",
       "      <td>55000</td>\n",
       "      <td>Java, Oracle DB, Shell Scripting, SDLC and Cod...</td>\n",
       "      <td>Data Scientist/Analyst</td>\n",
       "      <td>0</td>\n",
       "      <td>False</td>\n",
       "    </tr>\n",
       "    <tr>\n",
       "      <th>5</th>\n",
       "      <td>Dallas</td>\n",
       "      <td>HRK Solutions</td>\n",
       "      <td>Dallas, TX</td>\n",
       "      <td>NaN</td>\n",
       "      <td>102500</td>\n",
       "      <td>Data Scientist - Python, R, &amp; SAS. ETL / Data ...</td>\n",
       "      <td>Sr. Software Engineer</td>\n",
       "      <td>0</td>\n",
       "      <td>False</td>\n",
       "    </tr>\n",
       "    <tr>\n",
       "      <th>6</th>\n",
       "      <td>Dallas</td>\n",
       "      <td>The We Are Big Data Scientists Company</td>\n",
       "      <td>Dallas, TX</td>\n",
       "      <td>NaN</td>\n",
       "      <td>77000</td>\n",
       "      <td>We employ numerous roles including data scient...</td>\n",
       "      <td>Technical Writer I</td>\n",
       "      <td>0</td>\n",
       "      <td>False</td>\n",
       "    </tr>\n",
       "    <tr>\n",
       "      <th>7</th>\n",
       "      <td>Dallas</td>\n",
       "      <td>Camden Kelly</td>\n",
       "      <td>Dallas, TX</td>\n",
       "      <td>NaN</td>\n",
       "      <td>105000</td>\n",
       "      <td>Effectively present the story that the data te...</td>\n",
       "      <td>Data Scientist – Articulate Data’S Story &amp; Get...</td>\n",
       "      <td>0</td>\n",
       "      <td>False</td>\n",
       "    </tr>\n",
       "    <tr>\n",
       "      <th>8</th>\n",
       "      <td>Dallas</td>\n",
       "      <td>Arbor Diagnostics</td>\n",
       "      <td>Dallas, TX 75234</td>\n",
       "      <td>NaN</td>\n",
       "      <td>135000</td>\n",
       "      <td>Managing the implementation of data warehouse ...</td>\n",
       "      <td>Clinical Informatics Director</td>\n",
       "      <td>0</td>\n",
       "      <td>True</td>\n",
       "    </tr>\n",
       "    <tr>\n",
       "      <th>9</th>\n",
       "      <td>Dallas</td>\n",
       "      <td>Hunt Around Solutions</td>\n",
       "      <td>Dallas, TX</td>\n",
       "      <td>NaN</td>\n",
       "      <td>150000</td>\n",
       "      <td>Interact with customers’ Data Scientists and B...</td>\n",
       "      <td>Presales Big Data Consultant</td>\n",
       "      <td>0</td>\n",
       "      <td>True</td>\n",
       "    </tr>\n",
       "  </tbody>\n",
       "</table>\n",
       "</div>"
      ],
      "text/plain": [
       "     City                                 Company          Location  Reviews  \\\n",
       "0  Dallas       Hitachi Consulting Corporation US        Dallas, TX    153.0   \n",
       "1  Dallas                                7-Eleven        Irving, TX   7125.0   \n",
       "2  Dallas                   Workbridge Associates        Dallas, TX     36.0   \n",
       "3  Dallas                           A+ Consulting         Plano, TX      NaN   \n",
       "4  Dallas                 Platform by Per Scholas        Dallas, TX      NaN   \n",
       "5  Dallas                           HRK Solutions        Dallas, TX      NaN   \n",
       "6  Dallas  The We Are Big Data Scientists Company        Dallas, TX      NaN   \n",
       "7  Dallas                            Camden Kelly        Dallas, TX      NaN   \n",
       "8  Dallas                       Arbor Diagnostics  Dallas, TX 75234      NaN   \n",
       "9  Dallas                   Hunt Around Solutions        Dallas, TX      NaN   \n",
       "\n",
       "   Salary                                            Summary  \\\n",
       "0  124000  The Data Scientist designs, builds and maintai...   \n",
       "1  115000  Work closely with data engineersto ensure the ...   \n",
       "2  107500  Experience with data modeling, analysis, progr...   \n",
       "3  150000  This is a direct hire position - not contract....   \n",
       "4   55000  Java, Oracle DB, Shell Scripting, SDLC and Cod...   \n",
       "5  102500  Data Scientist - Python, R, & SAS. ETL / Data ...   \n",
       "6   77000  We employ numerous roles including data scient...   \n",
       "7  105000  Effectively present the story that the data te...   \n",
       "8  135000  Managing the implementation of data warehouse ...   \n",
       "9  150000  Interact with customers’ Data Scientists and B...   \n",
       "\n",
       "                                               Title  Indeed_Estimate  \\\n",
       "0                       Sr Consultant Data Scientist                1   \n",
       "1                                  Sr Data Scientist                1   \n",
       "2  Full-Stack Software Engineer (Predictive Analy...                0   \n",
       "3  Principal Machine Learning/Nlp Engineer-Architect                0   \n",
       "4                             Data Scientist/Analyst                0   \n",
       "5                              Sr. Software Engineer                0   \n",
       "6                                 Technical Writer I                0   \n",
       "7  Data Scientist – Articulate Data’S Story & Get...                0   \n",
       "8                      Clinical Informatics Director                0   \n",
       "9                       Presales Big Data Consultant                0   \n",
       "\n",
       "   High_Salary  \n",
       "0         True  \n",
       "1         True  \n",
       "2        False  \n",
       "3         True  \n",
       "4        False  \n",
       "5        False  \n",
       "6        False  \n",
       "7        False  \n",
       "8         True  \n",
       "9         True  "
      ]
     },
     "execution_count": 8,
     "metadata": {},
     "output_type": "execute_result"
    }
   ],
   "source": [
    "df.head(10)"
   ]
  },
  {
   "cell_type": "code",
   "execution_count": 9,
   "metadata": {
    "ExecuteTime": {
     "end_time": "2018-04-23T21:33:23.341070Z",
     "start_time": "2018-04-23T21:33:23.327041Z"
    },
    "scrolled": true
   },
   "outputs": [
    {
     "data": {
      "text/html": [
       "<div>\n",
       "<style scoped>\n",
       "    .dataframe tbody tr th:only-of-type {\n",
       "        vertical-align: middle;\n",
       "    }\n",
       "\n",
       "    .dataframe tbody tr th {\n",
       "        vertical-align: top;\n",
       "    }\n",
       "\n",
       "    .dataframe thead th {\n",
       "        text-align: right;\n",
       "    }\n",
       "</style>\n",
       "<table border=\"1\" class=\"dataframe\">\n",
       "  <thead>\n",
       "    <tr style=\"text-align: right;\">\n",
       "      <th></th>\n",
       "      <th>City</th>\n",
       "      <th>Company</th>\n",
       "      <th>Location</th>\n",
       "      <th>Reviews</th>\n",
       "      <th>Salary</th>\n",
       "      <th>Summary</th>\n",
       "      <th>Title</th>\n",
       "      <th>Indeed_Estimate</th>\n",
       "      <th>High_Salary</th>\n",
       "    </tr>\n",
       "  </thead>\n",
       "  <tbody>\n",
       "    <tr>\n",
       "      <th>313</th>\n",
       "      <td>Austin</td>\n",
       "      <td>DDMR</td>\n",
       "      <td>Austin, TX</td>\n",
       "      <td>NaN</td>\n",
       "      <td>70000</td>\n",
       "      <td>You'll be dealing with very technical engineer...</td>\n",
       "      <td>Technical Product Manager - Data Services</td>\n",
       "      <td>0</td>\n",
       "      <td>False</td>\n",
       "    </tr>\n",
       "    <tr>\n",
       "      <th>314</th>\n",
       "      <td>Austin</td>\n",
       "      <td>DDMR</td>\n",
       "      <td>Austin, TX</td>\n",
       "      <td>NaN</td>\n",
       "      <td>70000</td>\n",
       "      <td>You'll be dealing with very technical engineer...</td>\n",
       "      <td>Technical Product Manager - Analytics Solutions</td>\n",
       "      <td>0</td>\n",
       "      <td>False</td>\n",
       "    </tr>\n",
       "    <tr>\n",
       "      <th>315</th>\n",
       "      <td>Austin</td>\n",
       "      <td>Interactive Resources</td>\n",
       "      <td>Austin, TX</td>\n",
       "      <td>11.0</td>\n",
       "      <td>137500</td>\n",
       "      <td>Product development engineer or scientist in a...</td>\n",
       "      <td>Principal Polymer Engineer</td>\n",
       "      <td>0</td>\n",
       "      <td>True</td>\n",
       "    </tr>\n",
       "    <tr>\n",
       "      <th>316</th>\n",
       "      <td>Austin</td>\n",
       "      <td>Prestige Staffing</td>\n",
       "      <td>Austin, TX 78759 (Arboretum area)</td>\n",
       "      <td>127.0</td>\n",
       "      <td>120000</td>\n",
       "      <td>Responsible for coaching and leading the Data ...</td>\n",
       "      <td>Data Science Manager</td>\n",
       "      <td>0</td>\n",
       "      <td>True</td>\n",
       "    </tr>\n",
       "    <tr>\n",
       "      <th>317</th>\n",
       "      <td>Austin</td>\n",
       "      <td>Pisika</td>\n",
       "      <td>Austin, TX 78758 (North Austin area)</td>\n",
       "      <td>NaN</td>\n",
       "      <td>95000</td>\n",
       "      <td>Build dashboards, data visualizations, and too...</td>\n",
       "      <td>Data Scientist</td>\n",
       "      <td>0</td>\n",
       "      <td>False</td>\n",
       "    </tr>\n",
       "    <tr>\n",
       "      <th>318</th>\n",
       "      <td>Austin</td>\n",
       "      <td>Prestige Staffing</td>\n",
       "      <td>Austin, TX 78759 (Arboretum area)</td>\n",
       "      <td>127.0</td>\n",
       "      <td>125000</td>\n",
       "      <td>Python, Lab, Data Science, consulting, compute...</td>\n",
       "      <td>Data Scientist</td>\n",
       "      <td>0</td>\n",
       "      <td>True</td>\n",
       "    </tr>\n",
       "    <tr>\n",
       "      <th>319</th>\n",
       "      <td>Austin</td>\n",
       "      <td>Meador Staffing of Austin</td>\n",
       "      <td>Austin, TX</td>\n",
       "      <td>NaN</td>\n",
       "      <td>137500</td>\n",
       "      <td>Experience in big data and machine learning sy...</td>\n",
       "      <td>Online Marketing Scientist/Engineer</td>\n",
       "      <td>0</td>\n",
       "      <td>True</td>\n",
       "    </tr>\n",
       "    <tr>\n",
       "      <th>320</th>\n",
       "      <td>Austin</td>\n",
       "      <td>General Assembly</td>\n",
       "      <td>Austin, TX</td>\n",
       "      <td>131.0</td>\n",
       "      <td>142500</td>\n",
       "      <td>We are looking for a Data Scientist to facilit...</td>\n",
       "      <td>Lead Data Science Immersive Instructor</td>\n",
       "      <td>1</td>\n",
       "      <td>True</td>\n",
       "    </tr>\n",
       "    <tr>\n",
       "      <th>321</th>\n",
       "      <td>Austin</td>\n",
       "      <td>DMGT</td>\n",
       "      <td>Austin, TX</td>\n",
       "      <td>3.0</td>\n",
       "      <td>116000</td>\n",
       "      <td>Senior Data Scientist. The Senior Data Scienti...</td>\n",
       "      <td>Senior Data Scientist</td>\n",
       "      <td>1</td>\n",
       "      <td>True</td>\n",
       "    </tr>\n",
       "    <tr>\n",
       "      <th>322</th>\n",
       "      <td>Austin</td>\n",
       "      <td>SparkCognition</td>\n",
       "      <td>Austin, TX 78759 (Arboretum area)</td>\n",
       "      <td>3.0</td>\n",
       "      <td>110000</td>\n",
       "      <td>SparkCognition is seeking an innovative data s...</td>\n",
       "      <td>Senior Data Scientist – Malware &amp; Security</td>\n",
       "      <td>1</td>\n",
       "      <td>True</td>\n",
       "    </tr>\n",
       "  </tbody>\n",
       "</table>\n",
       "</div>"
      ],
      "text/plain": [
       "       City                    Company                              Location  \\\n",
       "313  Austin                       DDMR                            Austin, TX   \n",
       "314  Austin                       DDMR                            Austin, TX   \n",
       "315  Austin      Interactive Resources                            Austin, TX   \n",
       "316  Austin          Prestige Staffing     Austin, TX 78759 (Arboretum area)   \n",
       "317  Austin                     Pisika  Austin, TX 78758 (North Austin area)   \n",
       "318  Austin          Prestige Staffing     Austin, TX 78759 (Arboretum area)   \n",
       "319  Austin  Meador Staffing of Austin                            Austin, TX   \n",
       "320  Austin           General Assembly                            Austin, TX   \n",
       "321  Austin                       DMGT                            Austin, TX   \n",
       "322  Austin             SparkCognition     Austin, TX 78759 (Arboretum area)   \n",
       "\n",
       "     Reviews  Salary                                            Summary  \\\n",
       "313      NaN   70000  You'll be dealing with very technical engineer...   \n",
       "314      NaN   70000  You'll be dealing with very technical engineer...   \n",
       "315     11.0  137500  Product development engineer or scientist in a...   \n",
       "316    127.0  120000  Responsible for coaching and leading the Data ...   \n",
       "317      NaN   95000  Build dashboards, data visualizations, and too...   \n",
       "318    127.0  125000  Python, Lab, Data Science, consulting, compute...   \n",
       "319      NaN  137500  Experience in big data and machine learning sy...   \n",
       "320    131.0  142500  We are looking for a Data Scientist to facilit...   \n",
       "321      3.0  116000  Senior Data Scientist. The Senior Data Scienti...   \n",
       "322      3.0  110000  SparkCognition is seeking an innovative data s...   \n",
       "\n",
       "                                               Title  Indeed_Estimate  \\\n",
       "313        Technical Product Manager - Data Services                0   \n",
       "314  Technical Product Manager - Analytics Solutions                0   \n",
       "315                       Principal Polymer Engineer                0   \n",
       "316                             Data Science Manager                0   \n",
       "317                                   Data Scientist                0   \n",
       "318                                   Data Scientist                0   \n",
       "319              Online Marketing Scientist/Engineer                0   \n",
       "320           Lead Data Science Immersive Instructor                1   \n",
       "321                            Senior Data Scientist                1   \n",
       "322       Senior Data Scientist – Malware & Security                1   \n",
       "\n",
       "     High_Salary  \n",
       "313        False  \n",
       "314        False  \n",
       "315         True  \n",
       "316         True  \n",
       "317        False  \n",
       "318         True  \n",
       "319         True  \n",
       "320         True  \n",
       "321         True  \n",
       "322         True  "
      ]
     },
     "execution_count": 9,
     "metadata": {},
     "output_type": "execute_result"
    }
   ],
   "source": [
    "df.tail(10)"
   ]
  },
  {
   "cell_type": "markdown",
   "metadata": {
    "focus": false,
    "id": "a7afb2c0-d41e-4779-8216-91cd8dd4473f"
   },
   "source": [
    "#### What is the baseline accuracy for this model?"
   ]
  },
  {
   "cell_type": "code",
   "execution_count": 10,
   "metadata": {
    "ExecuteTime": {
     "end_time": "2018-04-23T21:33:24.498622Z",
     "start_time": "2018-04-23T21:33:24.493638Z"
    },
    "focus": false,
    "id": "87a17d3d-b7f4-4747-9f75-f9af1d18a174"
   },
   "outputs": [
    {
     "name": "stdout",
     "output_type": "stream",
     "text": [
      "The baseline accuracy of this model predicting High or Low salary is 0.5.\n"
     ]
    }
   ],
   "source": [
    "baseline_accuracy = round(df.High_Salary.value_counts().max() / df.High_Salary.count(),2)\n",
    "\n",
    "print(f'The baseline accuracy of this model predicting High or Low salary is {baseline_accuracy}.')"
   ]
  },
  {
   "cell_type": "markdown",
   "metadata": {},
   "source": [
    "# Answer\n",
    "The baseline accuracy of a model is the accuracy that can be achieved by the model predicting the majority class for every data point.\n",
    "\n",
    "A baseline accuracy of 0.5 is to be expected for this model since the median salary was used as the threshold for classifying \n",
    "salaries as high or low - meaning 50% of salaries are above this threshold, and 50% are below, resulting in a \n",
    "50:50 probability of randomly selecting the 'majority' class.\n",
    "    \n",
    "In this case, the odds ratio (i.e. P(y=1) / (1- P(y=1)) is ~1. This means that the majority class is equally likely to happen, as it is not to happen."
   ]
  },
  {
   "cell_type": "markdown",
   "metadata": {
    "focus": false,
    "id": "4fb29de2-5b98-474c-a4ad-5170b72b9aea"
   },
   "source": [
    "### Create a classification model to predict High/Low salary. \n",
    "\n",
    "\n",
    "#### Model based on location:\n",
    "\n",
    "- Start by ONLY using the location as a feature. \n",
    "- Use logistic regression with both statsmodels and sklearn.\n",
    "- Remember that scaling your features might be necessary.\n",
    "- Display the coefficients/feature importances and write a short summary of what they mean."
   ]
  },
  {
   "cell_type": "code",
   "execution_count": 11,
   "metadata": {
    "ExecuteTime": {
     "end_time": "2018-04-23T21:33:28.595605Z",
     "start_time": "2018-04-23T21:33:28.591718Z"
    }
   },
   "outputs": [],
   "source": [
    "# Binarise the High_Salary column in the df, such that high salaries are class 1\n",
    "# and low salaries are class 0\n",
    "df.High_Salary = df.High_Salary.map(lambda x: 1 if x == True else 0) "
   ]
  },
  {
   "cell_type": "code",
   "execution_count": 12,
   "metadata": {
    "ExecuteTime": {
     "end_time": "2018-04-23T21:33:29.598511Z",
     "start_time": "2018-04-23T21:33:29.593225Z"
    }
   },
   "outputs": [
    {
     "data": {
      "text/plain": [
       "1    163\n",
       "0    160\n",
       "Name: High_Salary, dtype: int64"
      ]
     },
     "execution_count": 12,
     "metadata": {},
     "output_type": "execute_result"
    }
   ],
   "source": [
    "df.High_Salary.value_counts()"
   ]
  },
  {
   "cell_type": "markdown",
   "metadata": {},
   "source": [
    "There is a slight inequality between the number of salaries above and below the median as there are some salaries equal to the median.  Based on the definition I've used to classify High and Low salaries, these will be classified as High - hence there are slightly more salaries classified as High, than Low. "
   ]
  },
  {
   "cell_type": "code",
   "execution_count": 13,
   "metadata": {
    "ExecuteTime": {
     "end_time": "2018-04-23T21:33:31.069862Z",
     "start_time": "2018-04-23T21:33:31.048791Z"
    }
   },
   "outputs": [
    {
     "name": "stdout",
     "output_type": "stream",
     "text": [
      "P(High Salary | city = Dallas): 0.47\n",
      "P(High Salary | city = Chicago): 0.62\n",
      "P(High Salary | city = Seattle): 0.63\n",
      "P(High Salary | city = Los Angeles): 0.59\n",
      "P(High Salary | city = Pittsburgh): 0.0\n",
      "P(High Salary | city = Portland): 0.6\n",
      "P(High Salary | city = Philadelphia): 0.48\n",
      "P(High Salary | city = Houston): 0.4\n",
      "P(High Salary | city = New York): 0.41\n",
      "P(High Salary | city = Atlanta): 0.53\n",
      "P(High Salary | city = Denver): 0.47\n",
      "P(High Salary | city = San Francisco): 0.79\n",
      "P(High Salary | city = Miami): 0.06\n",
      "P(High Salary | city = Phoenix): 0.4\n",
      "P(High Salary | city = Austin): 0.56\n"
     ]
    }
   ],
   "source": [
    "# Calculate the probability of a job being highly paid for each city \n",
    "\n",
    "cities = df.City.unique().tolist()\n",
    "\n",
    "for city in cities:\n",
    "    print(f'P(High Salary | city = {city}): {round(np.mean(df[df.City == city].High_Salary),2)}')\n",
    " "
   ]
  },
  {
   "cell_type": "code",
   "execution_count": 14,
   "metadata": {
    "ExecuteTime": {
     "end_time": "2018-04-23T21:33:32.918782Z",
     "start_time": "2018-04-23T21:33:31.849731Z"
    }
   },
   "outputs": [
    {
     "data": {
      "image/png": "[encoded data removed]",
      "text/plain": [
       "<matplotlib.figure.Figure at 0x10853c320>"
      ]
     },
     "metadata": {
      "image/png": {
       "height": 840,
       "width": 1803
      }
     },
     "output_type": "display_data"
    }
   ],
   "source": [
    "# Display probability of High Salary by City in a factor plot\n",
    "\n",
    "sns.factorplot(x='City', y='High_Salary', data=df, kind='bar', aspect=3, size=8, ci=95, \n",
    "              ).set_xticklabels(rotation=45, horizontalalignment='right',\n",
    "              fontsize=30).set_yticklabels(fontsize=30)\n",
    "plt.xlabel('Search  City',fontsize=30)\n",
    "plt.ylabel('Probability\\n',fontsize=30)\n",
    "plt.title('\\nProbability of High Salary by City\\n').set_fontsize(30) ;"
   ]
  },
  {
   "cell_type": "markdown",
   "metadata": {},
   "source": [
    "# Answer\n",
    "The probabilities displayed in the factor plot are aligned with the manual calculation of the probability of the majority class above.\n",
    "\n",
    "The size of the 95% confidence interval displayed in the plot is strongly influenced by the number of records for each city (see breakdown in cell below).  In calculating the mean of the 1s and 0s that differentiate a High and Low salary, the confidence interval is smaller for cities with more data points."
   ]
  },
  {
   "cell_type": "code",
   "execution_count": 15,
   "metadata": {
    "ExecuteTime": {
     "end_time": "2018-04-23T21:33:34.605426Z",
     "start_time": "2018-04-23T21:33:34.599288Z"
    }
   },
   "outputs": [
    {
     "data": {
      "text/plain": [
       "City\n",
       "Atlanta          17\n",
       "Austin           16\n",
       "Chicago          32\n",
       "Dallas           15\n",
       "Denver           17\n",
       "Houston          25\n",
       "Los Angeles      32\n",
       "Miami            18\n",
       "New York         59\n",
       "Philadelphia     21\n",
       "Phoenix          10\n",
       "Pittsburgh        3\n",
       "Portland          5\n",
       "San Francisco    34\n",
       "Seattle          19\n",
       "Name: Salary, dtype: int64"
      ]
     },
     "execution_count": 15,
     "metadata": {},
     "output_type": "execute_result"
    }
   ],
   "source": [
    "# Print number of data point for each city to get a feel for the Salary data\n",
    "df.groupby('City')['Salary'].count()"
   ]
  },
  {
   "cell_type": "code",
   "execution_count": 16,
   "metadata": {
    "ExecuteTime": {
     "end_time": "2018-04-23T21:33:35.686203Z",
     "start_time": "2018-04-23T21:33:35.679696Z"
    }
   },
   "outputs": [
    {
     "data": {
      "text/plain": [
       "City\n",
       "Atlanta           9\n",
       "Austin            9\n",
       "Chicago          20\n",
       "Dallas            7\n",
       "Denver            8\n",
       "Houston          10\n",
       "Los Angeles      19\n",
       "Miami             1\n",
       "New York         24\n",
       "Philadelphia     10\n",
       "Phoenix           4\n",
       "Pittsburgh        0\n",
       "Portland          3\n",
       "San Francisco    27\n",
       "Seattle          12\n",
       "Name: High_Salary, dtype: int64"
      ]
     },
     "execution_count": 16,
     "metadata": {},
     "output_type": "execute_result"
    }
   ],
   "source": [
    "# Print number of High Salaries each city to get a feel for the Salary data\n",
    "df.groupby('City')['High_Salary'].sum()"
   ]
  },
  {
   "cell_type": "markdown",
   "metadata": {},
   "source": [
    "##### Logistic Regression with sklearn (predictor = City)"
   ]
  },
  {
   "cell_type": "code",
   "execution_count": 17,
   "metadata": {
    "ExecuteTime": {
     "end_time": "2018-04-23T21:33:39.407829Z",
     "start_time": "2018-04-23T21:33:39.346722Z"
    }
   },
   "outputs": [],
   "source": [
    "from sklearn.linear_model import LogisticRegression\n",
    "from sklearn.preprocessing import StandardScaler\n",
    "from sklearn.model_selection import train_test_split, cross_val_score \n",
    "from sklearn.model_selection import cross_val_predict, GridSearchCV, KFold\n",
    "from sklearn.metrics import confusion_matrix, classification_report, precision_score\n",
    "from sklearn.metrics import recall_score, accuracy_score, roc_curve, auc"
   ]
  },
  {
   "cell_type": "code",
   "execution_count": 18,
   "metadata": {
    "ExecuteTime": {
     "end_time": "2018-04-23T21:34:06.065693Z",
     "start_time": "2018-04-23T21:34:06.055871Z"
    }
   },
   "outputs": [],
   "source": [
    "# Create predictor matrix and target array\n",
    "\n",
    "# Define target array\n",
    "y = df['High_Salary']\n",
    "\n",
    "# Define predictor matrix\n",
    "X = df[['City']]\n",
    "\n",
    "# Dumify categorical field in predictor data.  Drop San Francisco column as this has the highest \n",
    "# probability of having jobs with a high salary.  Dropping this column will help with \n",
    "# the interpretability of the coefficients\n",
    "X_dumified = pd.get_dummies(X)\n",
    "X_dumified.drop('City_San Francisco', axis=1, inplace=True)\n"
   ]
  },
  {
   "cell_type": "code",
   "execution_count": 19,
   "metadata": {
    "ExecuteTime": {
     "end_time": "2018-04-23T21:34:06.855799Z",
     "start_time": "2018-04-23T21:34:06.842289Z"
    }
   },
   "outputs": [
    {
     "data": {
      "text/html": [
       "<div>\n",
       "<style scoped>\n",
       "    .dataframe tbody tr th:only-of-type {\n",
       "        vertical-align: middle;\n",
       "    }\n",
       "\n",
       "    .dataframe tbody tr th {\n",
       "        vertical-align: top;\n",
       "    }\n",
       "\n",
       "    .dataframe thead th {\n",
       "        text-align: right;\n",
       "    }\n",
       "</style>\n",
       "<table border=\"1\" class=\"dataframe\">\n",
       "  <thead>\n",
       "    <tr style=\"text-align: right;\">\n",
       "      <th></th>\n",
       "      <th>City_Atlanta</th>\n",
       "      <th>City_Austin</th>\n",
       "      <th>City_Chicago</th>\n",
       "      <th>City_Dallas</th>\n",
       "      <th>City_Denver</th>\n",
       "      <th>City_Houston</th>\n",
       "      <th>City_Los Angeles</th>\n",
       "      <th>City_Miami</th>\n",
       "      <th>City_New York</th>\n",
       "      <th>City_Philadelphia</th>\n",
       "      <th>City_Phoenix</th>\n",
       "      <th>City_Pittsburgh</th>\n",
       "      <th>City_Portland</th>\n",
       "      <th>City_Seattle</th>\n",
       "    </tr>\n",
       "  </thead>\n",
       "  <tbody>\n",
       "    <tr>\n",
       "      <th>0</th>\n",
       "      <td>0</td>\n",
       "      <td>0</td>\n",
       "      <td>0</td>\n",
       "      <td>1</td>\n",
       "      <td>0</td>\n",
       "      <td>0</td>\n",
       "      <td>0</td>\n",
       "      <td>0</td>\n",
       "      <td>0</td>\n",
       "      <td>0</td>\n",
       "      <td>0</td>\n",
       "      <td>0</td>\n",
       "      <td>0</td>\n",
       "      <td>0</td>\n",
       "    </tr>\n",
       "    <tr>\n",
       "      <th>1</th>\n",
       "      <td>0</td>\n",
       "      <td>0</td>\n",
       "      <td>0</td>\n",
       "      <td>1</td>\n",
       "      <td>0</td>\n",
       "      <td>0</td>\n",
       "      <td>0</td>\n",
       "      <td>0</td>\n",
       "      <td>0</td>\n",
       "      <td>0</td>\n",
       "      <td>0</td>\n",
       "      <td>0</td>\n",
       "      <td>0</td>\n",
       "      <td>0</td>\n",
       "    </tr>\n",
       "    <tr>\n",
       "      <th>2</th>\n",
       "      <td>0</td>\n",
       "      <td>0</td>\n",
       "      <td>0</td>\n",
       "      <td>1</td>\n",
       "      <td>0</td>\n",
       "      <td>0</td>\n",
       "      <td>0</td>\n",
       "      <td>0</td>\n",
       "      <td>0</td>\n",
       "      <td>0</td>\n",
       "      <td>0</td>\n",
       "      <td>0</td>\n",
       "      <td>0</td>\n",
       "      <td>0</td>\n",
       "    </tr>\n",
       "    <tr>\n",
       "      <th>3</th>\n",
       "      <td>0</td>\n",
       "      <td>0</td>\n",
       "      <td>0</td>\n",
       "      <td>1</td>\n",
       "      <td>0</td>\n",
       "      <td>0</td>\n",
       "      <td>0</td>\n",
       "      <td>0</td>\n",
       "      <td>0</td>\n",
       "      <td>0</td>\n",
       "      <td>0</td>\n",
       "      <td>0</td>\n",
       "      <td>0</td>\n",
       "      <td>0</td>\n",
       "    </tr>\n",
       "    <tr>\n",
       "      <th>4</th>\n",
       "      <td>0</td>\n",
       "      <td>0</td>\n",
       "      <td>0</td>\n",
       "      <td>1</td>\n",
       "      <td>0</td>\n",
       "      <td>0</td>\n",
       "      <td>0</td>\n",
       "      <td>0</td>\n",
       "      <td>0</td>\n",
       "      <td>0</td>\n",
       "      <td>0</td>\n",
       "      <td>0</td>\n",
       "      <td>0</td>\n",
       "      <td>0</td>\n",
       "    </tr>\n",
       "  </tbody>\n",
       "</table>\n",
       "</div>"
      ],
      "text/plain": [
       "   City_Atlanta  City_Austin  City_Chicago  City_Dallas  City_Denver  \\\n",
       "0             0            0             0            1            0   \n",
       "1             0            0             0            1            0   \n",
       "2             0            0             0            1            0   \n",
       "3             0            0             0            1            0   \n",
       "4             0            0             0            1            0   \n",
       "\n",
       "   City_Houston  City_Los Angeles  City_Miami  City_New York  \\\n",
       "0             0                 0           0              0   \n",
       "1             0                 0           0              0   \n",
       "2             0                 0           0              0   \n",
       "3             0                 0           0              0   \n",
       "4             0                 0           0              0   \n",
       "\n",
       "   City_Philadelphia  City_Phoenix  City_Pittsburgh  City_Portland  \\\n",
       "0                  0             0                0              0   \n",
       "1                  0             0                0              0   \n",
       "2                  0             0                0              0   \n",
       "3                  0             0                0              0   \n",
       "4                  0             0                0              0   \n",
       "\n",
       "   City_Seattle  \n",
       "0             0  \n",
       "1             0  \n",
       "2             0  \n",
       "3             0  \n",
       "4             0  "
      ]
     },
     "execution_count": 19,
     "metadata": {},
     "output_type": "execute_result"
    }
   ],
   "source": [
    "X_dumified.head()"
   ]
  },
  {
   "cell_type": "markdown",
   "metadata": {},
   "source": [
    "Since all of the predictors have the same units, standardising our predictors is not absolutely necessary in this case."
   ]
  },
  {
   "cell_type": "code",
   "execution_count": 20,
   "metadata": {
    "ExecuteTime": {
     "end_time": "2018-04-23T21:34:13.271511Z",
     "start_time": "2018-04-23T21:34:13.265315Z"
    }
   },
   "outputs": [],
   "source": [
    "# Create a train-test split on dumified predictor and target data \n",
    "# Assign random state to enable reporoducible results\n",
    "# Stratify on target variable to maintain proportionate representation of target classes\n",
    "\n",
    "X_train, X_test, y_train, y_test = train_test_split(X_dumified, y, test_size=0.4,\n",
    "                                                    stratify=y, random_state=5)"
   ]
  },
  {
   "cell_type": "code",
   "execution_count": 21,
   "metadata": {
    "ExecuteTime": {
     "end_time": "2018-04-23T21:34:31.574415Z",
     "start_time": "2018-04-23T21:34:31.571205Z"
    }
   },
   "outputs": [],
   "source": [
    "# Instantiate Logistic Regression Model, with very minimal/no regularisation\n",
    "\n",
    "logreg = LogisticRegression(C=10**10)"
   ]
  },
  {
   "cell_type": "markdown",
   "metadata": {},
   "source": [
    "I'm intentionally minimising regularistion in this initial model fit as I'd like to see the model results without it.  \n",
    "\n",
    "I'll apply regularisation using GridSearch later."
   ]
  },
  {
   "cell_type": "code",
   "execution_count": 23,
   "metadata": {
    "ExecuteTime": {
     "end_time": "2018-04-23T21:34:47.635254Z",
     "start_time": "2018-04-23T21:34:47.622500Z"
    }
   },
   "outputs": [
    {
     "name": "stdout",
     "output_type": "stream",
     "text": [
      "Accuracy scores:  [0.55384615 0.625      0.625     ]\n",
      "Mean accuracy score:  0.6012820512820513\n"
     ]
    }
   ],
   "source": [
    "# Review cross validation accuracy scores of model on training data.  \n",
    "# Shuffle, as data is likely to be ordered by date.\n",
    "\n",
    "scores = cross_val_score(logreg, X_train, y_train, cv=KFold(n_splits=3, shuffle=True, random_state=5))\n",
    "print('Accuracy scores: ', scores)\n",
    "print('Mean accuracy score: ', scores.mean())"
   ]
  },
  {
   "cell_type": "markdown",
   "metadata": {},
   "source": [
    "Model appears to be performing OK - definitely better than the baseline, as evidenced by the mean accuracy score being greater than the 0.5 baseline. "
   ]
  },
  {
   "cell_type": "code",
   "execution_count": 24,
   "metadata": {
    "ExecuteTime": {
     "end_time": "2018-04-23T21:34:50.170818Z",
     "start_time": "2018-04-23T21:34:50.165085Z"
    }
   },
   "outputs": [
    {
     "data": {
      "text/plain": [
       "LogisticRegression(C=10000000000, class_weight=None, dual=False,\n",
       "          fit_intercept=True, intercept_scaling=1, max_iter=100,\n",
       "          multi_class='ovr', n_jobs=1, penalty='l2', random_state=None,\n",
       "          solver='liblinear', tol=0.0001, verbose=0, warm_start=False)"
      ]
     },
     "execution_count": 24,
     "metadata": {},
     "output_type": "execute_result"
    }
   ],
   "source": [
    "# Fit model to full training data set\n",
    "logreg.fit(X_train, y_train)"
   ]
  },
  {
   "cell_type": "code",
   "execution_count": 25,
   "metadata": {
    "ExecuteTime": {
     "end_time": "2018-04-23T21:34:57.338136Z",
     "start_time": "2018-04-23T21:34:57.332699Z"
    }
   },
   "outputs": [
    {
     "name": "stdout",
     "output_type": "stream",
     "text": [
      "The accuracy of the model on the training data is: 0.67.\n"
     ]
    }
   ],
   "source": [
    "# Print accuracy of model for fit on entire training data set\n",
    "print(f'The accuracy of the model on the training data is: \\\n",
    "{round(logreg.score(X_train, y_train),2)}.')"
   ]
  },
  {
   "cell_type": "markdown",
   "metadata": {},
   "source": [
    "The model is performing quite well on the train set, with an accuracy score greater than the baseline of 0.5."
   ]
  },
  {
   "cell_type": "code",
   "execution_count": 26,
   "metadata": {
    "ExecuteTime": {
     "end_time": "2018-04-23T21:35:00.823354Z",
     "start_time": "2018-04-23T21:35:00.820368Z"
    }
   },
   "outputs": [],
   "source": [
    "# Define predictions from logreg model, based on the predictor test data\n",
    "predictions = logreg.predict(X_test)"
   ]
  },
  {
   "cell_type": "code",
   "execution_count": 28,
   "metadata": {
    "ExecuteTime": {
     "end_time": "2018-04-23T21:35:26.375445Z",
     "start_time": "2018-04-23T21:35:26.370874Z"
    }
   },
   "outputs": [
    {
     "name": "stdout",
     "output_type": "stream",
     "text": [
      "The accuracy of the model on the test set is: 0.52.\n"
     ]
    }
   ],
   "source": [
    "# Print accuracy of model for the test set\n",
    "print(f'The accuracy of the model on the test set is: \\\n",
    "{round(accuracy_score(y_test, predictions),2)}.')"
   ]
  },
  {
   "cell_type": "markdown",
   "metadata": {
    "ExecuteTime": {
     "end_time": "2018-04-18T20:35:54.835516Z",
     "start_time": "2018-04-18T20:35:54.829180Z"
    }
   },
   "source": [
    "The model hasn't generalised well to the test data and is only performing marginally better than the baseline model.\n",
    "\n",
    "The model may be overfitted to the training data.  The small number of data points for some cities is also problematic, as cities with very few data points may not be sufficiently represented in the train-test splits to maintain their signal for both high and low salary classes.  Stratifying on the traget variable promotes proportional representation of high and low salaries however, the proportionate representation of cities may not have been sufficiently maintained in this relatively small dataset. "
   ]
  },
  {
   "cell_type": "code",
   "execution_count": 29,
   "metadata": {
    "ExecuteTime": {
     "end_time": "2018-04-23T21:35:33.437639Z",
     "start_time": "2018-04-23T21:35:33.433614Z"
    }
   },
   "outputs": [
    {
     "name": "stdout",
     "output_type": "stream",
     "text": [
      "Manually calculated accuracy score: 0.52\n"
     ]
    }
   ],
   "source": [
    "# Cross check accuracy score calcuated using sklearn with manual calculation\n",
    "print(f'Manually calculated accuracy score: {round((predictions == y_test).sum()/len(y_test),2)}')"
   ]
  },
  {
   "cell_type": "markdown",
   "metadata": {},
   "source": [
    "The manually calculated accuracy score agrees with that calculated using sklearn! :-)  \n",
    "    \n",
    "This accuracy score means that 52% of the High/Low salary classes are being correctly predicted from the logreg model, using the test data set."
   ]
  },
  {
   "cell_type": "code",
   "execution_count": 30,
   "metadata": {
    "ExecuteTime": {
     "end_time": "2018-04-23T21:35:35.140401Z",
     "start_time": "2018-04-23T21:35:35.131547Z"
    }
   },
   "outputs": [
    {
     "data": {
      "text/html": [
       "<div>\n",
       "<style scoped>\n",
       "    .dataframe tbody tr th:only-of-type {\n",
       "        vertical-align: middle;\n",
       "    }\n",
       "\n",
       "    .dataframe tbody tr th {\n",
       "        vertical-align: top;\n",
       "    }\n",
       "\n",
       "    .dataframe thead th {\n",
       "        text-align: right;\n",
       "    }\n",
       "</style>\n",
       "<table border=\"1\" class=\"dataframe\">\n",
       "  <thead>\n",
       "    <tr style=\"text-align: right;\">\n",
       "      <th></th>\n",
       "      <th>Predicted Low Salary</th>\n",
       "      <th>Predicted High Salary</th>\n",
       "    </tr>\n",
       "  </thead>\n",
       "  <tbody>\n",
       "    <tr>\n",
       "      <th>Actual Low Salary</th>\n",
       "      <td>36</td>\n",
       "      <td>28</td>\n",
       "    </tr>\n",
       "    <tr>\n",
       "      <th>Actual High Salary</th>\n",
       "      <td>34</td>\n",
       "      <td>32</td>\n",
       "    </tr>\n",
       "  </tbody>\n",
       "</table>\n",
       "</div>"
      ],
      "text/plain": [
       "                    Predicted Low Salary  Predicted High Salary\n",
       "Actual Low Salary                     36                     28\n",
       "Actual High Salary                    34                     32"
      ]
     },
     "execution_count": 30,
     "metadata": {},
     "output_type": "execute_result"
    }
   ],
   "source": [
    "# Display confusion matrix\n",
    "confusion = confusion_matrix(y_test, predictions)\n",
    "pd.DataFrame(confusion, columns=['Predicted Low Salary', 'Predicted High Salary'], \n",
    "             index=['Actual Low Salary', 'Actual High Salary'])"
   ]
  },
  {
   "cell_type": "code",
   "execution_count": 31,
   "metadata": {
    "ExecuteTime": {
     "end_time": "2018-04-23T21:35:37.588853Z",
     "start_time": "2018-04-23T21:35:37.585417Z"
    }
   },
   "outputs": [
    {
     "name": "stdout",
     "output_type": "stream",
     "text": [
      "Accuracy score calculated from confusion matrix: 0.52\n"
     ]
    }
   ],
   "source": [
    "# Cross check accuracy score with data in confusion matrix\n",
    "print(f'Accuracy score calculated from confusion matrix: \\\n",
    "{round((confusion[0][0] + confusion[1][1])/confusion.sum(),2)}')"
   ]
  },
  {
   "cell_type": "markdown",
   "metadata": {},
   "source": [
    "Accuracy score confirmed as aligned with the confusion matrix.\n",
    "\n",
    "Reviewing the confusion matrix reveals that the model is doing a better job of predicting low salaries vs high salaries.  This observation is confirmed with the calculations below, which shows the specificity score (true negative rate) is higher than the recall score (true positive rate)."
   ]
  },
  {
   "cell_type": "code",
   "execution_count": 32,
   "metadata": {
    "ExecuteTime": {
     "end_time": "2018-04-23T21:35:39.278295Z",
     "start_time": "2018-04-23T21:35:39.271804Z"
    }
   },
   "outputs": [
    {
     "name": "stdout",
     "output_type": "stream",
     "text": [
      "Recall score/true positive rate is: 0.48\n",
      "Specicity score/true negative rate is: 0.56\n"
     ]
    }
   ],
   "source": [
    "# Print recall score / true positive rate (tp / tp + fn)\n",
    "print(f'Recall score/true positive rate is: {round(recall_score(y_test, predictions),2)}')\n",
    "\n",
    "# Print specicifity / true negative rate (tn / tn + fp)\n",
    "print(f'Specicity score/true negative rate is: {round(recall_score(y_test==0, predictions==0),2)}')"
   ]
  },
  {
   "cell_type": "code",
   "execution_count": 33,
   "metadata": {
    "ExecuteTime": {
     "end_time": "2018-04-23T21:35:41.437623Z",
     "start_time": "2018-04-23T21:35:41.432544Z"
    }
   },
   "outputs": [
    {
     "name": "stdout",
     "output_type": "stream",
     "text": [
      "             precision    recall  f1-score   support\n",
      "\n",
      "          0       0.51      0.56      0.54        64\n",
      "          1       0.53      0.48      0.51        66\n",
      "\n",
      "avg / total       0.52      0.52      0.52       130\n",
      "\n"
     ]
    }
   ],
   "source": [
    "# View recall scores in classification report \n",
    "print(classification_report(y_test, predictions))"
   ]
  },
  {
   "cell_type": "code",
   "execution_count": 34,
   "metadata": {
    "ExecuteTime": {
     "end_time": "2018-04-23T21:35:42.300201Z",
     "start_time": "2018-04-23T21:35:42.296908Z"
    }
   },
   "outputs": [],
   "source": [
    "# Use Grid Search to search Logistic Regression hyperparameters to see if model can be improved\n",
    "# Define logistic regression hyperparameters.  Center C around 0 to maximise regularisation.\n",
    "salary_gs_params = {'penalty':['l1','l2'],\n",
    "                    'solver':['liblinear'], \n",
    "                    'C':np.logspace(-10, 10, 5000),\n",
    "                    'fit_intercept':[True, False]}"
   ]
  },
  {
   "cell_type": "markdown",
   "metadata": {
    "ExecuteTime": {
     "end_time": "2018-04-21T11:38:34.754581Z",
     "start_time": "2018-04-21T11:38:34.750154Z"
    }
   },
   "source": [
    "I recognise that the C parameter specified above produces a large number of models with only marginal differences in regularisation strengths however, based on experimentation with the GridSearch parameters, I found that very small differences in regularisation strength resulted in notable differences in the best mean cross validated scores in this case, hence I've been very granular with the regularisation strengths.  \n",
    "\n",
    "I've also intentionally selected the maximum value of the logspace to equal the regularisation strength I used in the 'unregularised' model above, as I wanted to test as much of the full range of regularisation range less than the 'starting point' above as possible."
   ]
  },
  {
   "cell_type": "code",
   "execution_count": 35,
   "metadata": {
    "ExecuteTime": {
     "end_time": "2018-04-23T21:35:44.517300Z",
     "start_time": "2018-04-23T21:35:44.514217Z"
    }
   },
   "outputs": [],
   "source": [
    "# Create gridsearch object using LogisticRegression() and the hyperparamater dictionary above\n",
    "salary_gs = GridSearchCV(LogisticRegression(), salary_gs_params, \n",
    "                         n_jobs=-1, cv=3, verbose=1)"
   ]
  },
  {
   "cell_type": "code",
   "execution_count": 36,
   "metadata": {
    "ExecuteTime": {
     "end_time": "2018-04-23T21:36:27.670839Z",
     "start_time": "2018-04-23T21:35:45.212347Z"
    }
   },
   "outputs": [
    {
     "name": "stdout",
     "output_type": "stream",
     "text": [
      "Fitting 3 folds for each of 20000 candidates, totalling 60000 fits\n"
     ]
    },
    {
     "name": "stderr",
     "output_type": "stream",
     "text": [
      "[Parallel(n_jobs=-1)]: Done 2720 tasks      | elapsed:    2.2s\n",
      "[Parallel(n_jobs=-1)]: Done 17720 tasks      | elapsed:   12.2s\n",
      "[Parallel(n_jobs=-1)]: Done 42720 tasks      | elapsed:   29.6s\n",
      "[Parallel(n_jobs=-1)]: Done 60000 out of 60000 | elapsed:   42.0s finished\n"
     ]
    },
    {
     "data": {
      "text/plain": [
       "GridSearchCV(cv=3, error_score='raise',\n",
       "       estimator=LogisticRegression(C=1.0, class_weight=None, dual=False, fit_intercept=True,\n",
       "          intercept_scaling=1, max_iter=100, multi_class='ovr', n_jobs=1,\n",
       "          penalty='l2', random_state=None, solver='liblinear', tol=0.0001,\n",
       "          verbose=0, warm_start=False),\n",
       "       fit_params=None, iid=True, n_jobs=-1,\n",
       "       param_grid={'penalty': ['l1', 'l2'], 'solver': ['liblinear'], 'C': array([1.00000e-10, 1.00925e-10, ..., 9.90830e+09, 1.00000e+10]), 'fit_intercept': [True, False]},\n",
       "       pre_dispatch='2*n_jobs', refit=True, return_train_score='warn',\n",
       "       scoring=None, verbose=1)"
      ]
     },
     "execution_count": 36,
     "metadata": {},
     "output_type": "execute_result"
    }
   ],
   "source": [
    "# Fit gridsearch object to training data\n",
    "salary_gs.fit(X_train, y_train)"
   ]
  },
  {
   "cell_type": "code",
   "execution_count": 37,
   "metadata": {
    "ExecuteTime": {
     "end_time": "2018-04-23T21:36:28.754874Z",
     "start_time": "2018-04-23T21:36:28.750159Z"
    }
   },
   "outputs": [
    {
     "data": {
      "text/plain": [
       "0.6269430051813472"
      ]
     },
     "execution_count": 37,
     "metadata": {},
     "output_type": "execute_result"
    }
   ],
   "source": [
    "# Print out best mean cross validated score\n",
    "salary_gs.best_score_     "
   ]
  },
  {
   "cell_type": "markdown",
   "metadata": {},
   "source": [
    "This mean cross validated score is higher than the cross validated score calculated above.  I'm happy with this, and aren't getting any higher than this with different hyperparamaters."
   ]
  },
  {
   "cell_type": "code",
   "execution_count": 38,
   "metadata": {
    "ExecuteTime": {
     "end_time": "2018-04-23T21:36:37.686595Z",
     "start_time": "2018-04-23T21:36:37.682828Z"
    }
   },
   "outputs": [
    {
     "data": {
      "text/plain": [
       "{'C': 4486734654.102896,\n",
       " 'fit_intercept': True,\n",
       " 'penalty': 'l2',\n",
       " 'solver': 'liblinear'}"
      ]
     },
     "execution_count": 38,
     "metadata": {},
     "output_type": "execute_result"
    }
   ],
   "source": [
    "# Print out best parameters\n",
    "salary_gs.best_params_   "
   ]
  },
  {
   "cell_type": "markdown",
   "metadata": {},
   "source": [
    "The C score is in the upper end of the logspace range. Based on experimentation with the hyperparamaters, it seems that the cross validated accuracy scores of the model has plateaued out with variations in the regularisation strength (i.e. the optimum C value keeps moving towards the end of the logspace range with very slight changes in the accuracy score).  Based on this, I'm happy to accept these paramaters as my best model paramaters."
   ]
  },
  {
   "cell_type": "code",
   "execution_count": 39,
   "metadata": {
    "ExecuteTime": {
     "end_time": "2018-04-23T21:36:41.757801Z",
     "start_time": "2018-04-23T21:36:41.754765Z"
    }
   },
   "outputs": [],
   "source": [
    "# Assign optimum Logisitc Regression estimator to best_logreg\n",
    "best_logreg = salary_gs.best_estimator_"
   ]
  },
  {
   "cell_type": "code",
   "execution_count": 40,
   "metadata": {
    "ExecuteTime": {
     "end_time": "2018-04-23T21:36:42.862008Z",
     "start_time": "2018-04-23T21:36:42.857850Z"
    }
   },
   "outputs": [
    {
     "name": "stdout",
     "output_type": "stream",
     "text": [
      "The accuracy of the model on the training data is: 0.67.\n"
     ]
    }
   ],
   "source": [
    "# Print accuracy score of best log reg model for fit on entire training data set\n",
    "print(f'The accuracy of the model on the training data is: \\\n",
    "{round(best_logreg.score(X_train, y_train),2)}.')"
   ]
  },
  {
   "cell_type": "markdown",
   "metadata": {},
   "source": [
    "This accuracy score is the same as the accuracy score achieved with the unregularised model above - which isn't a huge surprise, since the regularisation strength of this best log reg model is very weak (i.e. very similar to the unregularised model used above)."
   ]
  },
  {
   "cell_type": "code",
   "execution_count": 41,
   "metadata": {
    "ExecuteTime": {
     "end_time": "2018-04-23T21:36:46.888699Z",
     "start_time": "2018-04-23T21:36:46.884486Z"
    }
   },
   "outputs": [
    {
     "name": "stdout",
     "output_type": "stream",
     "text": [
      "Accuracy score of optimum Logistic Regression model on test data: 0.52\n"
     ]
    }
   ],
   "source": [
    "# Print accuracy score of best log reg model for fit on the test data\n",
    "print(f'Accuracy score of optimum Logistic Regression model on test data: \\\n",
    "{round(best_logreg.score(X_test, y_test),2)}')"
   ]
  },
  {
   "cell_type": "markdown",
   "metadata": {},
   "source": [
    "As expected, the accuracy score of the best log reg model on the test set is the same as that achieved with the original unregularised model above."
   ]
  },
  {
   "cell_type": "markdown",
   "metadata": {},
   "source": [
    "I'll now try an experiment with the regularisation hyperparameter centered aound 0 to maximum regularisation strength to see what difference this makes.  Again, I'm keeping the increments in regularisation strength very small, resulting in a large number of GridSearch models."
   ]
  },
  {
   "cell_type": "code",
   "execution_count": 42,
   "metadata": {
    "ExecuteTime": {
     "end_time": "2018-04-23T21:37:40.000726Z",
     "start_time": "2018-04-23T21:36:50.158647Z"
    }
   },
   "outputs": [
    {
     "name": "stdout",
     "output_type": "stream",
     "text": [
      "Fitting 3 folds for each of 24000 candidates, totalling 72000 fits\n"
     ]
    },
    {
     "name": "stderr",
     "output_type": "stream",
     "text": [
      "[Parallel(n_jobs=-1)]: Done 2540 tasks      | elapsed:    2.0s\n",
      "[Parallel(n_jobs=-1)]: Done 16040 tasks      | elapsed:   11.0s\n",
      "[Parallel(n_jobs=-1)]: Done 38540 tasks      | elapsed:   26.0s\n",
      "[Parallel(n_jobs=-1)]: Done 70040 tasks      | elapsed:   48.0s\n",
      "[Parallel(n_jobs=-1)]: Done 72000 out of 72000 | elapsed:   49.3s finished\n"
     ]
    },
    {
     "data": {
      "text/plain": [
       "{'C': 0.26509644308320623,\n",
       " 'fit_intercept': True,\n",
       " 'penalty': 'l2',\n",
       " 'solver': 'liblinear'}"
      ]
     },
     "execution_count": 42,
     "metadata": {},
     "output_type": "execute_result"
    }
   ],
   "source": [
    "# Test gridsearch results again with hyperparameters defined to focus on higher regularisation strengths\n",
    "# Fit model and print optimum log reg model parameters.  \n",
    "salary_gs_params1 = {'penalty':['l1','l2'],\n",
    "                    'solver':['liblinear'], \n",
    "                    'C':np.logspace(-3, 3, 6000),\n",
    "                    'fit_intercept':[True, False]}\n",
    "\n",
    "salary_gs1 = GridSearchCV(LogisticRegression(), salary_gs_params1, \n",
    "                         n_jobs=-1, cv=3, verbose=1)\n",
    "\n",
    "salary_gs1.fit(X_train, y_train)\n",
    "\n",
    "salary_gs1.best_params_ \n"
   ]
  },
  {
   "cell_type": "markdown",
   "metadata": {},
   "source": [
    "The optimum C value is very nicely positioned within the hyperparamater range."
   ]
  },
  {
   "cell_type": "code",
   "execution_count": 43,
   "metadata": {
    "ExecuteTime": {
     "end_time": "2018-04-23T21:37:42.746215Z",
     "start_time": "2018-04-23T21:37:42.741669Z"
    }
   },
   "outputs": [
    {
     "data": {
      "text/plain": [
       "0.6113989637305699"
      ]
     },
     "execution_count": 43,
     "metadata": {},
     "output_type": "execute_result"
    }
   ],
   "source": [
    "# Print out best mean cross validated score\n",
    "salary_gs1.best_score_   "
   ]
  },
  {
   "cell_type": "markdown",
   "metadata": {},
   "source": [
    "The mean cross validated accuracy score is less than that achieved with the GridSearch above, which included lower levels of regularisation within its hyperparamaters."
   ]
  },
  {
   "cell_type": "code",
   "execution_count": 44,
   "metadata": {
    "ExecuteTime": {
     "end_time": "2018-04-23T21:37:46.112526Z",
     "start_time": "2018-04-23T21:37:46.104742Z"
    }
   },
   "outputs": [
    {
     "name": "stdout",
     "output_type": "stream",
     "text": [
      "The accuracy of the model on the training data is: 0.67.\n",
      "Accuracy score of optimum Logistic Regression model on test data: 0.52\n"
     ]
    }
   ],
   "source": [
    "# Test the optimum Logistic Regression resulting from this second GridSearch\n",
    "# Assign estimator to best_logreg1\n",
    "best_logreg1 = salary_gs1.best_estimator_\n",
    "\n",
    "# Print accuracy score of best log reg model for fit on entire training data set\n",
    "print(f'The accuracy of the model on the training data is: \\\n",
    "{round(best_logreg1.score(X_train, y_train),2)}.')\n",
    "\n",
    "# Print accuracy score of best log reg model for fit on the test data\n",
    "print(f'Accuracy score of optimum Logistic Regression model on test data: \\\n",
    "{round(best_logreg1.score(X_test, y_test),2)}')\n",
    "\n"
   ]
  },
  {
   "cell_type": "markdown",
   "metadata": {},
   "source": [
    "Once again, there is very little difference in the accuracy scores of this optimum log reg model on the training and test data.  \n",
    "\n",
    "The model fits well to the training data and is performing much better than the baseline model, but it doesn't generalise well to the test data - which performs only slightly better on the test data than the baseline."
   ]
  },
  {
   "cell_type": "code",
   "execution_count": 45,
   "metadata": {
    "ExecuteTime": {
     "end_time": "2018-04-23T21:37:58.787294Z",
     "start_time": "2018-04-23T21:37:58.783786Z"
    },
    "scrolled": false
   },
   "outputs": [],
   "source": [
    "# View gridsearch results \n",
    "# gs_results = pd.DataFrame(salary_gs.cv_results_)\n",
    "# gs_results.head()\n",
    "\n",
    "# Plot mean test score vs C hyperparameter\n",
    "# gs_results.groupby(['param_fit_intercept','param_penalty']).plot(x='param_C',y='mean_test_score',logx=True)\n",
    "# plt.legend()\n",
    "# plt.show()"
   ]
  },
  {
   "cell_type": "code",
   "execution_count": 46,
   "metadata": {
    "ExecuteTime": {
     "end_time": "2018-04-23T21:37:59.516342Z",
     "start_time": "2018-04-23T21:37:59.502272Z"
    }
   },
   "outputs": [
    {
     "name": "stdout",
     "output_type": "stream",
     "text": [
      "Logreg intercept: [1.33500107]\n",
      "\n",
      "\n",
      "\n",
      "Logreg coefs:\n"
     ]
    },
    {
     "data": {
      "text/html": [
       "<div>\n",
       "<style scoped>\n",
       "    .dataframe tbody tr th:only-of-type {\n",
       "        vertical-align: middle;\n",
       "    }\n",
       "\n",
       "    .dataframe tbody tr th {\n",
       "        vertical-align: top;\n",
       "    }\n",
       "\n",
       "    .dataframe thead th {\n",
       "        text-align: right;\n",
       "    }\n",
       "</style>\n",
       "<table border=\"1\" class=\"dataframe\">\n",
       "  <thead>\n",
       "    <tr style=\"text-align: right;\">\n",
       "      <th></th>\n",
       "      <th>Coefficients</th>\n",
       "      <th>city</th>\n",
       "    </tr>\n",
       "  </thead>\n",
       "  <tbody>\n",
       "    <tr>\n",
       "      <th>0</th>\n",
       "      <td>0.610909</td>\n",
       "      <td>City_Atlanta</td>\n",
       "    </tr>\n",
       "    <tr>\n",
       "      <th>12</th>\n",
       "      <td>-0.236389</td>\n",
       "      <td>City_Portland</td>\n",
       "    </tr>\n",
       "    <tr>\n",
       "      <th>6</th>\n",
       "      <td>-0.715962</td>\n",
       "      <td>City_Los Angeles</td>\n",
       "    </tr>\n",
       "    <tr>\n",
       "      <th>2</th>\n",
       "      <td>-0.728865</td>\n",
       "      <td>City_Chicago</td>\n",
       "    </tr>\n",
       "    <tr>\n",
       "      <th>1</th>\n",
       "      <td>-1.335001</td>\n",
       "      <td>City_Austin</td>\n",
       "    </tr>\n",
       "    <tr>\n",
       "      <th>3</th>\n",
       "      <td>-1.335001</td>\n",
       "      <td>City_Dallas</td>\n",
       "    </tr>\n",
       "    <tr>\n",
       "      <th>9</th>\n",
       "      <td>-1.558145</td>\n",
       "      <td>City_Philadelphia</td>\n",
       "    </tr>\n",
       "    <tr>\n",
       "      <th>4</th>\n",
       "      <td>-1.558145</td>\n",
       "      <td>City_Denver</td>\n",
       "    </tr>\n",
       "    <tr>\n",
       "      <th>10</th>\n",
       "      <td>-1.740466</td>\n",
       "      <td>City_Phoenix</td>\n",
       "    </tr>\n",
       "    <tr>\n",
       "      <th>8</th>\n",
       "      <td>-1.814574</td>\n",
       "      <td>City_New York</td>\n",
       "    </tr>\n",
       "    <tr>\n",
       "      <th>13</th>\n",
       "      <td>-1.894617</td>\n",
       "      <td>City_Seattle</td>\n",
       "    </tr>\n",
       "    <tr>\n",
       "      <th>5</th>\n",
       "      <td>-2.251292</td>\n",
       "      <td>City_Houston</td>\n",
       "    </tr>\n",
       "    <tr>\n",
       "      <th>11</th>\n",
       "      <td>-12.179192</td>\n",
       "      <td>City_Pittsburgh</td>\n",
       "    </tr>\n",
       "    <tr>\n",
       "      <th>7</th>\n",
       "      <td>-12.498909</td>\n",
       "      <td>City_Miami</td>\n",
       "    </tr>\n",
       "  </tbody>\n",
       "</table>\n",
       "</div>"
      ],
      "text/plain": [
       "    Coefficients               city\n",
       "0       0.610909       City_Atlanta\n",
       "12     -0.236389      City_Portland\n",
       "6      -0.715962   City_Los Angeles\n",
       "2      -0.728865       City_Chicago\n",
       "1      -1.335001        City_Austin\n",
       "3      -1.335001        City_Dallas\n",
       "9      -1.558145  City_Philadelphia\n",
       "4      -1.558145        City_Denver\n",
       "10     -1.740466       City_Phoenix\n",
       "8      -1.814574      City_New York\n",
       "13     -1.894617       City_Seattle\n",
       "5      -2.251292       City_Houston\n",
       "11    -12.179192    City_Pittsburgh\n",
       "7     -12.498909         City_Miami"
      ]
     },
     "execution_count": 46,
     "metadata": {},
     "output_type": "execute_result"
    }
   ],
   "source": [
    "# Print coefficients from original (i.e. prior to GridSerarch) unregularised model\n",
    "\n",
    "# Define DF with coefficients from unregularised log reg model\n",
    "df_coeff = pd.DataFrame({'Coefficients':logreg.coef_[0], 'city':X_train.columns})\n",
    "df_coeff.sort_values(by='Coefficients', ascending=False, inplace=True)\n",
    "\n",
    "print('Logreg intercept:', logreg.intercept_) \n",
    "print('\\n\\n')\n",
    "print('Logreg coefs:')\n",
    "df_coeff"
   ]
  },
  {
   "cell_type": "markdown",
   "metadata": {},
   "source": [
    "Unlike linear regression, which determines predictor coefficients to mininimse the loss function, Logistic Regression determines predictor coefficients to maximize the likelihood that the predicted probabilities give the correct class. The optimal case would be that the predicted probabilities for all class one observations (high salaries) are one and the predicted probabilities for all class zero observations (low salaries) are zero."
   ]
  },
  {
   "cell_type": "markdown",
   "metadata": {},
   "source": [
    "The coefficients in a logistic regression model represent the change in log-odds due to the input variables.  "
   ]
  },
  {
   "cell_type": "markdown",
   "metadata": {},
   "source": [
    "In the case above, the intercept (1.33500107) is equivalent to the predicted log-odds of a High Salary for the city of San Francisco (i.e. the dropped column when the City predictor was dumified, and equivalent to all other predictor variables being 0)."
   ]
  },
  {
   "cell_type": "code",
   "execution_count": 47,
   "metadata": {
    "ExecuteTime": {
     "end_time": "2018-04-23T21:38:07.766046Z",
     "start_time": "2018-04-23T21:38:07.761800Z"
    }
   },
   "outputs": [
    {
     "name": "stdout",
     "output_type": "stream",
     "text": [
      "The modeled probability of a high salary in San Francisco is 0.79.\n"
     ]
    }
   ],
   "source": [
    "# Calculate the modeled probability of a high salary in San Francisco using the intercept from the logreg model\n",
    "modeled_sanfran_prob = round(float(1/(1+np.exp(-(logreg.intercept_)))),2)\n",
    "print(f'The modeled probability of a high salary in San Francisco is {modeled_sanfran_prob}.')"
   ]
  },
  {
   "cell_type": "markdown",
   "metadata": {},
   "source": [
    "This agrees with the probability calculated from the observations for San Francisco above."
   ]
  },
  {
   "cell_type": "code",
   "execution_count": 48,
   "metadata": {
    "ExecuteTime": {
     "end_time": "2018-04-23T21:38:15.245938Z",
     "start_time": "2018-04-23T21:38:14.883066Z"
    }
   },
   "outputs": [
    {
     "data": {
      "image/png": "[encoded data removed]",
      "text/plain": [
       "<matplotlib.figure.Figure at 0x1a1b6ebba8>"
      ]
     },
     "metadata": {
      "image/png": {
       "height": 638,
       "width": 746
      }
     },
     "output_type": "display_data"
    }
   ],
   "source": [
    "# Plot coefficients from unregularised log reg model above\n",
    "fig, ax = plt.subplots(figsize=(10,10))\n",
    "title = '\\nPredictor coefficients from unregularised Log Reg model\\n'\n",
    "df_coeff['Coefficients'].plot(kind='barh', ax=ax, alpha=0.5, fontsize=12)\n",
    "ax.set_yticklabels(df_coeff['city'])\n",
    "ax.set_xlabel('Predictor coefficient values', fontsize=12)\n",
    "ax.set_title(title, fontsize=14);"
   ]
  },
  {
   "cell_type": "markdown",
   "metadata": {},
   "source": [
    "As per the plot above, all coefficients (with the exception of Atlanta) are negative.  This means that the \n",
    "log odds of all these cities having a high salary are less than that of the dropped column (i.e. San Francisco).\n",
    "\n",
    "Where the coefficient is greater than the intercept (1.33500107), the log odds are negative, and for these \n",
    "cities the probability of a job having a high salary (within the training data) is less than 0.5.  \n",
    "\n",
    "The positive coefficient for Atlanta is suprising, given that the probability of a job in Atlanta\n",
    "having a high salary is less than that for San Francisco (the dropped column).  My theory for this is that \n",
    "the representation of Atlanta jobs in the training set may not align well with that in the entire dataset for some \n",
    "reason.  With more time, I could investigate this.\n",
    "\n",
    "We also see large negative coefficients for Miami and Pittsburgh, indicating that the log odds of a high \n",
    "salary in these cities is significantly negative, and hence the probability of a high salary in these \n",
    "cities is also low (aligned with the ~0 manual probability calculations for these cities and the factorplot above)."
   ]
  },
  {
   "cell_type": "code",
   "execution_count": 49,
   "metadata": {
    "ExecuteTime": {
     "end_time": "2018-04-23T21:38:53.139696Z",
     "start_time": "2018-04-23T21:38:53.132778Z"
    }
   },
   "outputs": [
    {
     "data": {
      "text/plain": [
       "[('City_Atlanta', 0.8750000001819083),\n",
       " ('City_Austin', 0.5000000006695041),\n",
       " ('City_Chicago', 0.6470588243031284),\n",
       " ('City_Dallas', 0.5000000005036406),\n",
       " ('City_Denver', 0.4444444450076508),\n",
       " ('City_Houston', 0.28571428624954287),\n",
       " ('City_Los Angeles', 0.6500000009772567),\n",
       " ('City_Miami', 1.4176545035636176e-05),\n",
       " ('City_New York', 0.3823529388767935),\n",
       " ('City_Philadelphia', 0.4444444454664735),\n",
       " ('City_Phoenix', 0.4000000004735159),\n",
       " ('City_Pittsburgh', 1.951728349493695e-05),\n",
       " ('City_Portland', 0.7500000003244873),\n",
       " ('City_Seattle', 0.3636363642016836)]"
      ]
     },
     "execution_count": 49,
     "metadata": {},
     "output_type": "execute_result"
    }
   ],
   "source": [
    "# Print the modeled probabilities of each city having a high salary based on the logreg model coefficients\n",
    "# The calculation must take into account the intercept, but all other predictor variables will be \n",
    "# 0 in this case, since the city column has been dumified\n",
    "list(zip(X_train.columns,list(1/(1+np.exp(-(logreg.intercept_+logreg.coef_[0]))))))"
   ]
  },
  {
   "cell_type": "markdown",
   "metadata": {},
   "source": [
    "The figures above are the modeled probabilities of a city having a high salary, using the coefficients from the logreg model.\n",
    "\n",
    "Let's compare these with the manually calculated probabilities from the section above:"
   ]
  },
  {
   "cell_type": "code",
   "execution_count": 50,
   "metadata": {
    "ExecuteTime": {
     "end_time": "2018-04-23T21:39:00.408463Z",
     "start_time": "2018-04-23T21:39:00.388878Z"
    }
   },
   "outputs": [
    {
     "name": "stdout",
     "output_type": "stream",
     "text": [
      "P(High Salary | city = Dallas): 0.47\n",
      "P(High Salary | city = Chicago): 0.62\n",
      "P(High Salary | city = Seattle): 0.63\n",
      "P(High Salary | city = Los Angeles): 0.59\n",
      "P(High Salary | city = Pittsburgh): 0.0\n",
      "P(High Salary | city = Portland): 0.6\n",
      "P(High Salary | city = Philadelphia): 0.48\n",
      "P(High Salary | city = Houston): 0.4\n",
      "P(High Salary | city = New York): 0.41\n",
      "P(High Salary | city = Atlanta): 0.53\n",
      "P(High Salary | city = Denver): 0.47\n",
      "P(High Salary | city = San Francisco): 0.79\n",
      "P(High Salary | city = Miami): 0.06\n",
      "P(High Salary | city = Phoenix): 0.4\n",
      "P(High Salary | city = Austin): 0.56\n"
     ]
    }
   ],
   "source": [
    "for city in cities:\n",
    "    print(f'P(High Salary | city = {city}): {round(np.mean(df[df.City == city].High_Salary),2)}')"
   ]
  },
  {
   "cell_type": "markdown",
   "metadata": {},
   "source": [
    "With the exception of Seattle, Portland, Houston and Atlanta the probability of a city reporting a high salary can be \n",
    "reverse-calculated relatively accurately from the coefficients of the logreg model.\n",
    "\n",
    "I'm not 100% sure why these particular cities would be less accurate than the others - perhaps they aren't as well represented in the training \n",
    "data that was used to learn the coefficients?  Again, with more time this could be investigated."
   ]
  },
  {
   "cell_type": "markdown",
   "metadata": {},
   "source": [
    "##### Logistic Regression with sklearn (predictors = City and Company Reviews)"
   ]
  },
  {
   "cell_type": "markdown",
   "metadata": {},
   "source": [
    "For my additional predictor, I'm going to consider the number of company reviews that was specified with each job ad.  I scraped this additional field at the same time as the rest of my Job/Salary data.  My theory is that companies with a large number of reviews, may be larger ... and I'm curious to see if these larger companies pay a higher salary. \n"
   ]
  },
  {
   "cell_type": "code",
   "execution_count": 51,
   "metadata": {
    "ExecuteTime": {
     "end_time": "2018-04-23T21:39:14.025672Z",
     "start_time": "2018-04-23T21:39:14.013119Z"
    }
   },
   "outputs": [
    {
     "data": {
      "text/html": [
       "<div>\n",
       "<style scoped>\n",
       "    .dataframe tbody tr th:only-of-type {\n",
       "        vertical-align: middle;\n",
       "    }\n",
       "\n",
       "    .dataframe tbody tr th {\n",
       "        vertical-align: top;\n",
       "    }\n",
       "\n",
       "    .dataframe thead th {\n",
       "        text-align: right;\n",
       "    }\n",
       "</style>\n",
       "<table border=\"1\" class=\"dataframe\">\n",
       "  <thead>\n",
       "    <tr style=\"text-align: right;\">\n",
       "      <th></th>\n",
       "      <th>Reviews</th>\n",
       "    </tr>\n",
       "  </thead>\n",
       "  <tbody>\n",
       "    <tr>\n",
       "      <th>count</th>\n",
       "      <td>220.000000</td>\n",
       "    </tr>\n",
       "    <tr>\n",
       "      <th>mean</th>\n",
       "      <td>1234.645455</td>\n",
       "    </tr>\n",
       "    <tr>\n",
       "      <th>std</th>\n",
       "      <td>4820.001272</td>\n",
       "    </tr>\n",
       "    <tr>\n",
       "      <th>min</th>\n",
       "      <td>2.000000</td>\n",
       "    </tr>\n",
       "    <tr>\n",
       "      <th>25%</th>\n",
       "      <td>16.500000</td>\n",
       "    </tr>\n",
       "    <tr>\n",
       "      <th>50%</th>\n",
       "      <td>62.500000</td>\n",
       "    </tr>\n",
       "    <tr>\n",
       "      <th>75%</th>\n",
       "      <td>495.000000</td>\n",
       "    </tr>\n",
       "    <tr>\n",
       "      <th>max</th>\n",
       "      <td>54889.000000</td>\n",
       "    </tr>\n",
       "  </tbody>\n",
       "</table>\n",
       "</div>"
      ],
      "text/plain": [
       "            Reviews\n",
       "count    220.000000\n",
       "mean    1234.645455\n",
       "std     4820.001272\n",
       "min        2.000000\n",
       "25%       16.500000\n",
       "50%       62.500000\n",
       "75%      495.000000\n",
       "max    54889.000000"
      ]
     },
     "execution_count": 51,
     "metadata": {},
     "output_type": "execute_result"
    }
   ],
   "source": [
    "# Quick EDA on Reviews field  \n",
    "df[['Reviews']].describe()"
   ]
  },
  {
   "cell_type": "code",
   "execution_count": 52,
   "metadata": {
    "ExecuteTime": {
     "end_time": "2018-04-23T21:39:14.800734Z",
     "start_time": "2018-04-23T21:39:14.790982Z"
    }
   },
   "outputs": [],
   "source": [
    "# Define percentiles from original distribution of number of Reviews.  \n",
    "# These percentiles will be used for classification of number of company reviews later on.\n",
    "reviews_25th_perc = df['Reviews'].describe()['25%']\n",
    "reviews_50th_perc = df['Reviews'].describe()['50%']\n",
    "reviews_75th_perc = df['Reviews'].describe()['75%']\n",
    "reviews_IQR = reviews_75th_perc - reviews_25th_perc\n"
   ]
  },
  {
   "cell_type": "code",
   "execution_count": 53,
   "metadata": {
    "ExecuteTime": {
     "end_time": "2018-04-23T21:39:15.367408Z",
     "start_time": "2018-04-23T21:39:15.363274Z"
    }
   },
   "outputs": [
    {
     "data": {
      "text/plain": [
       "103"
      ]
     },
     "execution_count": 53,
     "metadata": {},
     "output_type": "execute_result"
    }
   ],
   "source": [
    "# Print number of null values\n",
    "df.Reviews.isnull().sum()"
   ]
  },
  {
   "cell_type": "markdown",
   "metadata": {},
   "source": [
    "Initial observation of number of company reviews: lot of null values, distribution has a strong positive skew and there appear to be some large outliers."
   ]
  },
  {
   "cell_type": "code",
   "execution_count": 54,
   "metadata": {
    "ExecuteTime": {
     "end_time": "2018-04-23T21:39:16.626284Z",
     "start_time": "2018-04-23T21:39:16.623083Z"
    }
   },
   "outputs": [],
   "source": [
    "# Set display parameters for Jupyter.  I haven't set these earliers, as I only want them to apply from now\n",
    "pd.set_option('display.max_columns', None)\n",
    "pd.set_option('display.max_rows', None)"
   ]
  },
  {
   "cell_type": "code",
   "execution_count": 55,
   "metadata": {
    "ExecuteTime": {
     "end_time": "2018-04-23T21:39:17.620888Z",
     "start_time": "2018-04-23T21:39:17.615047Z"
    }
   },
   "outputs": [
    {
     "data": {
      "text/plain": [
       "array(['A+ Consulting', 'Platform by Per Scholas', 'HRK Solutions',\n",
       "       'The We Are Big Data Scientists Company', 'Camden Kelly',\n",
       "       'Arbor Diagnostics', 'Hunt Around Solutions',\n",
       "       'JAMY INTERACTIVE,INC', 'AIC Talent Solutions', 'SymbaSync',\n",
       "       'All-In Analytics', 'Bulletin of the Atomic Scientists',\n",
       "       'Fresh Coast Capital', 'Ezra Penland Actuarial Recruitment',\n",
       "       'Razor', 'CareerMonks', 'Lumity Inc', 'DirectHR',\n",
       "       'Lighthouse Recruiting', 'SwipeSense', 'Cannabis Retail Company',\n",
       "       'MMT', 'Curacloud', 'AnswerIQ', 'Neal Analytics',\n",
       "       'Prisms Consulting Group, LLC', 'Lunar Digital Assets', 'Bradan',\n",
       "       'Twine', 'Career Strategies, Inc.', 'Employment Service Agency',\n",
       "       'The Hiring Advisors', 'Nelson', 'Consultative Search Group',\n",
       "       'Nativo', 'Data Based Solutions Inc.', 'iovation inc',\n",
       "       'S.C. International', 'ThinkingAhead', 'P&F Solutions',\n",
       "       'Chatham Group', 'ICON Clinical Research, Inc.',\n",
       "       'Prism Genomic Medicine Inc.', 'JAB Recruitment LLC',\n",
       "       'Petrophysical Modeling Lab', 'Brunel Energy, Inc.',\n",
       "       'Professional Career Training Institute', 'Schrödinger', 'Aaptiv',\n",
       "       'Motivate International Inc.', 'DEPT OF INFO TECH & TELECOMM',\n",
       "       'Harnham', 'APN Consulting', 'Interface, Inc.', 'Aquesst',\n",
       "       'Last Word Consulting', 'SomaLogic, Inc.', 'City of Boulder, CO',\n",
       "       'GeoVisual Analytics', 'Jamy Interactive', 'Blue Owl',\n",
       "       'Berkeley Lights, Inc.', 'EPM Scientific',\n",
       "       'Redfish Technology - High Tech Executive Recruiter...',\n",
       "       'Carbon3D', 'Exabeam', 'Tellus Solutions', 'Stride Search',\n",
       "       'Rainforest QA', 'Talento', '3GIMBALS',\n",
       "       'Fortune Settlement Solutions', 'INFOTECH Soft, Inc.', 'Adaxatech',\n",
       "       'StevenDouglas', 'REPAY', 'RevolutionParts', 'Raps Consuling',\n",
       "       'Far Harbor, LLC', 'HuntSource', 'Cerebri AI', 'DDMR', 'Pisika',\n",
       "       'Meador Staffing of Austin'], dtype=object)"
      ]
     },
     "execution_count": 55,
     "metadata": {},
     "output_type": "execute_result"
    }
   ],
   "source": [
    "# Have a quick look at the companies without reviews to see if they are recognisable companies\n",
    "mask = df.Reviews.isnull()\n",
    "df.loc[mask, 'Company'].unique()"
   ]
  },
  {
   "cell_type": "code",
   "execution_count": 56,
   "metadata": {
    "ExecuteTime": {
     "end_time": "2018-04-23T21:39:18.383873Z",
     "start_time": "2018-04-23T21:39:18.377599Z"
    }
   },
   "outputs": [
    {
     "data": {
      "text/plain": [
       "0"
      ]
     },
     "execution_count": 56,
     "metadata": {},
     "output_type": "execute_result"
    }
   ],
   "source": [
    "# The companies with no reviews aren't instantly recognisable.\n",
    "# For now, set Null values to 0 to assist with examination of distribution of values\n",
    "df.Reviews.fillna(0, inplace=True)\n",
    "df.Reviews.isnull().sum()"
   ]
  },
  {
   "cell_type": "code",
   "execution_count": 57,
   "metadata": {
    "ExecuteTime": {
     "end_time": "2018-04-23T21:39:19.407250Z",
     "start_time": "2018-04-23T21:39:19.162330Z"
    }
   },
   "outputs": [
    {
     "data": {
      "image/png": "[encoded data removed]",
      "text/plain": [
       "<matplotlib.figure.Figure at 0x1a1b6eb128>"
      ]
     },
     "metadata": {
      "image/png": {
       "height": 244,
       "width": 412
      }
     },
     "output_type": "display_data"
    }
   ],
   "source": [
    "# Plot a very rough histogram snapshot of number of company reviews to get feel for distribution\n",
    "plt.hist(df.Reviews, bins=100) ;"
   ]
  },
  {
   "cell_type": "code",
   "execution_count": 58,
   "metadata": {
    "ExecuteTime": {
     "end_time": "2018-04-23T21:39:20.161046Z",
     "start_time": "2018-04-23T21:39:20.044221Z"
    }
   },
   "outputs": [
    {
     "data": {
      "image/png": "[encoded data removed]",
      "text/plain": [
       "<matplotlib.figure.Figure at 0x1a1c3302b0>"
      ]
     },
     "metadata": {
      "image/png": {
       "height": 260,
       "width": 390
      }
     },
     "output_type": "display_data"
    }
   ],
   "source": [
    "# Plot a very rough boxplot snapshot of number of company reviews to get feel for distribution\n",
    "sns.boxplot(df.Reviews) ;"
   ]
  },
  {
   "cell_type": "code",
   "execution_count": 59,
   "metadata": {
    "ExecuteTime": {
     "end_time": "2018-04-23T21:39:20.830533Z",
     "start_time": "2018-04-23T21:39:20.436890Z"
    }
   },
   "outputs": [
    {
     "data": {
      "image/png": "[encoded data removed]",
      "text/plain": [
       "<matplotlib.figure.Figure at 0x1a1d9d09b0>"
      ]
     },
     "metadata": {
      "image/png": {
       "height": 546,
       "width": 701
      }
     },
     "output_type": "display_data"
    }
   ],
   "source": [
    "# Plot histogram of Number of Company reviews, focussing on values between 0 and 500\n",
    "# (i.e. just greater than the 75th percentile)\n",
    "\n",
    "# Assign paramaters for x and y axis configuration\n",
    "x_min = 0\n",
    "x_max = 500\n",
    "x_bins = list(range(x_min, x_max, 25))\n",
    "\n",
    "chart_title = '\\nHistogram of company review numbers\\n'\n",
    "\n",
    "\n",
    "ax = df.loc[:,['Reviews']].plot.hist(figsize=(10,8), bins=x_bins, \n",
    "                                     title = chart_title, fontsize=14, \n",
    "                                     color = ['xkcd:dark lilac'])\n",
    "\n",
    "# Configure x axis display\n",
    "ax.set_xlim(x_min, x_max) \n",
    "ax.set_xticks(x_bins)\n",
    "ax.set_xlabel('\\nNumber of company reviews')\n",
    "ax.set_ylabel('Count\\n') ;"
   ]
  },
  {
   "cell_type": "markdown",
   "metadata": {},
   "source": [
    "All plots confirm a very strong positive skew of data.  I'll examine a couple of options for managing this."
   ]
  },
  {
   "cell_type": "markdown",
   "metadata": {
    "ExecuteTime": {
     "end_time": "2018-04-21T13:16:16.866270Z",
     "start_time": "2018-04-21T13:16:16.860717Z"
    }
   },
   "source": [
    "Option 1: Assign a class to job, based on the number of company reviews: \n",
    "        \n",
    "    - 1 if reviews = 0\n",
    "    - 2 if reviews less than 25th percentile\n",
    "    - 3 if reviews between 25-50th percentile\n",
    "    - 4 if reviews between 50-75th percentile\n",
    "    - 5 if reviews between 75th percentile + 1.5 * IQR (i.e. within outlier range)\n",
    "    - 6 if reviews > 75th percentile + 1.5 * IQR (i.e. considered an outlier)"
   ]
  },
  {
   "cell_type": "code",
   "execution_count": 60,
   "metadata": {
    "ExecuteTime": {
     "end_time": "2018-04-23T21:39:22.047826Z",
     "start_time": "2018-04-23T21:39:22.024236Z"
    }
   },
   "outputs": [
    {
     "data": {
      "text/html": [
       "<div>\n",
       "<style scoped>\n",
       "    .dataframe tbody tr th:only-of-type {\n",
       "        vertical-align: middle;\n",
       "    }\n",
       "\n",
       "    .dataframe tbody tr th {\n",
       "        vertical-align: top;\n",
       "    }\n",
       "\n",
       "    .dataframe thead th {\n",
       "        text-align: right;\n",
       "    }\n",
       "</style>\n",
       "<table border=\"1\" class=\"dataframe\">\n",
       "  <thead>\n",
       "    <tr style=\"text-align: right;\">\n",
       "      <th></th>\n",
       "      <th>City</th>\n",
       "      <th>Company</th>\n",
       "      <th>Location</th>\n",
       "      <th>Reviews</th>\n",
       "      <th>Salary</th>\n",
       "      <th>Summary</th>\n",
       "      <th>Title</th>\n",
       "      <th>Indeed_Estimate</th>\n",
       "      <th>High_Salary</th>\n",
       "      <th>Review_Class</th>\n",
       "    </tr>\n",
       "  </thead>\n",
       "  <tbody>\n",
       "    <tr>\n",
       "      <th>0</th>\n",
       "      <td>Dallas</td>\n",
       "      <td>Hitachi Consulting Corporation US</td>\n",
       "      <td>Dallas, TX</td>\n",
       "      <td>153.0</td>\n",
       "      <td>124000</td>\n",
       "      <td>The Data Scientist designs, builds and maintai...</td>\n",
       "      <td>Sr Consultant Data Scientist</td>\n",
       "      <td>1</td>\n",
       "      <td>1</td>\n",
       "      <td>4</td>\n",
       "    </tr>\n",
       "    <tr>\n",
       "      <th>1</th>\n",
       "      <td>Dallas</td>\n",
       "      <td>7-Eleven</td>\n",
       "      <td>Irving, TX</td>\n",
       "      <td>7125.0</td>\n",
       "      <td>115000</td>\n",
       "      <td>Work closely with data engineersto ensure the ...</td>\n",
       "      <td>Sr Data Scientist</td>\n",
       "      <td>1</td>\n",
       "      <td>1</td>\n",
       "      <td>6</td>\n",
       "    </tr>\n",
       "    <tr>\n",
       "      <th>2</th>\n",
       "      <td>Dallas</td>\n",
       "      <td>Workbridge Associates</td>\n",
       "      <td>Dallas, TX</td>\n",
       "      <td>36.0</td>\n",
       "      <td>107500</td>\n",
       "      <td>Experience with data modeling, analysis, progr...</td>\n",
       "      <td>Full-Stack Software Engineer (Predictive Analy...</td>\n",
       "      <td>0</td>\n",
       "      <td>0</td>\n",
       "      <td>3</td>\n",
       "    </tr>\n",
       "    <tr>\n",
       "      <th>3</th>\n",
       "      <td>Dallas</td>\n",
       "      <td>A+ Consulting</td>\n",
       "      <td>Plano, TX</td>\n",
       "      <td>0.0</td>\n",
       "      <td>150000</td>\n",
       "      <td>This is a direct hire position - not contract....</td>\n",
       "      <td>Principal Machine Learning/Nlp Engineer-Architect</td>\n",
       "      <td>0</td>\n",
       "      <td>1</td>\n",
       "      <td>1</td>\n",
       "    </tr>\n",
       "    <tr>\n",
       "      <th>4</th>\n",
       "      <td>Dallas</td>\n",
       "      <td>Platform by Per Scholas</td>\n",
       "      <td>Dallas, TX</td>\n",
       "      <td>0.0</td>\n",
       "      <td>55000</td>\n",
       "      <td>Java, Oracle DB, Shell Scripting, SDLC and Cod...</td>\n",
       "      <td>Data Scientist/Analyst</td>\n",
       "      <td>0</td>\n",
       "      <td>0</td>\n",
       "      <td>1</td>\n",
       "    </tr>\n",
       "  </tbody>\n",
       "</table>\n",
       "</div>"
      ],
      "text/plain": [
       "     City                            Company    Location  Reviews  Salary  \\\n",
       "0  Dallas  Hitachi Consulting Corporation US  Dallas, TX    153.0  124000   \n",
       "1  Dallas                           7-Eleven  Irving, TX   7125.0  115000   \n",
       "2  Dallas              Workbridge Associates  Dallas, TX     36.0  107500   \n",
       "3  Dallas                      A+ Consulting   Plano, TX      0.0  150000   \n",
       "4  Dallas            Platform by Per Scholas  Dallas, TX      0.0   55000   \n",
       "\n",
       "                                             Summary  \\\n",
       "0  The Data Scientist designs, builds and maintai...   \n",
       "1  Work closely with data engineersto ensure the ...   \n",
       "2  Experience with data modeling, analysis, progr...   \n",
       "3  This is a direct hire position - not contract....   \n",
       "4  Java, Oracle DB, Shell Scripting, SDLC and Cod...   \n",
       "\n",
       "                                               Title  Indeed_Estimate  \\\n",
       "0                       Sr Consultant Data Scientist                1   \n",
       "1                                  Sr Data Scientist                1   \n",
       "2  Full-Stack Software Engineer (Predictive Analy...                0   \n",
       "3  Principal Machine Learning/Nlp Engineer-Architect                0   \n",
       "4                             Data Scientist/Analyst                0   \n",
       "\n",
       "   High_Salary  Review_Class  \n",
       "0            1             4  \n",
       "1            1             6  \n",
       "2            0             3  \n",
       "3            1             1  \n",
       "4            0             1  "
      ]
     },
     "execution_count": 60,
     "metadata": {},
     "output_type": "execute_result"
    }
   ],
   "source": [
    "# Option 1:\n",
    "# Define a function to classify the job based on the number of company reviews, \n",
    "# using the original distribution of the field to classify the data \n",
    "def classify_review_number(reviews):\n",
    "    if reviews == 0:\n",
    "        return 1\n",
    "    elif reviews < reviews_25th_perc:\n",
    "        return 2\n",
    "    elif reviews < reviews_50th_perc:\n",
    "        return 3\n",
    "    elif reviews < reviews_75th_perc:\n",
    "        return 4\n",
    "    elif reviews < reviews_75th_perc + 1.5 * reviews_IQR:\n",
    "        return 5\n",
    "    else:\n",
    "        return 6\n",
    "    \n",
    "# Add column to DF, with classification of jobs based on number of company reviews    \n",
    "df['Review_Class'] = df['Reviews'].map(classify_review_number)\n",
    "df.head()"
   ]
  },
  {
   "cell_type": "code",
   "execution_count": 61,
   "metadata": {
    "ExecuteTime": {
     "end_time": "2018-04-23T21:39:23.104461Z",
     "start_time": "2018-04-23T21:39:22.969268Z"
    }
   },
   "outputs": [
    {
     "data": {
      "image/png": "[encoded data removed]",
      "text/plain": [
       "<matplotlib.figure.Figure at 0x1a1e237320>"
      ]
     },
     "metadata": {
      "image/png": {
       "height": 244,
       "width": 412
      }
     },
     "output_type": "display_data"
    }
   ],
   "source": [
    "# Rough plot of distribution of Review_Class field\n",
    "plt.hist(df['Review_Class'], bins = 6);"
   ]
  },
  {
   "cell_type": "markdown",
   "metadata": {},
   "source": [
    "Option 2: Calculate the log of the number of reviews"
   ]
  },
  {
   "cell_type": "code",
   "execution_count": 62,
   "metadata": {
    "ExecuteTime": {
     "end_time": "2018-04-23T21:39:24.422654Z",
     "start_time": "2018-04-23T21:39:24.406584Z"
    }
   },
   "outputs": [
    {
     "data": {
      "text/html": [
       "<div>\n",
       "<style scoped>\n",
       "    .dataframe tbody tr th:only-of-type {\n",
       "        vertical-align: middle;\n",
       "    }\n",
       "\n",
       "    .dataframe tbody tr th {\n",
       "        vertical-align: top;\n",
       "    }\n",
       "\n",
       "    .dataframe thead th {\n",
       "        text-align: right;\n",
       "    }\n",
       "</style>\n",
       "<table border=\"1\" class=\"dataframe\">\n",
       "  <thead>\n",
       "    <tr style=\"text-align: right;\">\n",
       "      <th></th>\n",
       "      <th>City</th>\n",
       "      <th>Company</th>\n",
       "      <th>Location</th>\n",
       "      <th>Reviews</th>\n",
       "      <th>Salary</th>\n",
       "      <th>Summary</th>\n",
       "      <th>Title</th>\n",
       "      <th>Indeed_Estimate</th>\n",
       "      <th>High_Salary</th>\n",
       "      <th>Review_Class</th>\n",
       "      <th>Log_Reviews</th>\n",
       "    </tr>\n",
       "  </thead>\n",
       "  <tbody>\n",
       "    <tr>\n",
       "      <th>0</th>\n",
       "      <td>Dallas</td>\n",
       "      <td>Hitachi Consulting Corporation US</td>\n",
       "      <td>Dallas, TX</td>\n",
       "      <td>153.0</td>\n",
       "      <td>124000</td>\n",
       "      <td>The Data Scientist designs, builds and maintai...</td>\n",
       "      <td>Sr Consultant Data Scientist</td>\n",
       "      <td>1</td>\n",
       "      <td>1</td>\n",
       "      <td>4</td>\n",
       "      <td>5.030438</td>\n",
       "    </tr>\n",
       "    <tr>\n",
       "      <th>1</th>\n",
       "      <td>Dallas</td>\n",
       "      <td>7-Eleven</td>\n",
       "      <td>Irving, TX</td>\n",
       "      <td>7125.0</td>\n",
       "      <td>115000</td>\n",
       "      <td>Work closely with data engineersto ensure the ...</td>\n",
       "      <td>Sr Data Scientist</td>\n",
       "      <td>1</td>\n",
       "      <td>1</td>\n",
       "      <td>6</td>\n",
       "      <td>8.871365</td>\n",
       "    </tr>\n",
       "    <tr>\n",
       "      <th>2</th>\n",
       "      <td>Dallas</td>\n",
       "      <td>Workbridge Associates</td>\n",
       "      <td>Dallas, TX</td>\n",
       "      <td>36.0</td>\n",
       "      <td>107500</td>\n",
       "      <td>Experience with data modeling, analysis, progr...</td>\n",
       "      <td>Full-Stack Software Engineer (Predictive Analy...</td>\n",
       "      <td>0</td>\n",
       "      <td>0</td>\n",
       "      <td>3</td>\n",
       "      <td>3.583519</td>\n",
       "    </tr>\n",
       "    <tr>\n",
       "      <th>3</th>\n",
       "      <td>Dallas</td>\n",
       "      <td>A+ Consulting</td>\n",
       "      <td>Plano, TX</td>\n",
       "      <td>0.0</td>\n",
       "      <td>150000</td>\n",
       "      <td>This is a direct hire position - not contract....</td>\n",
       "      <td>Principal Machine Learning/Nlp Engineer-Architect</td>\n",
       "      <td>0</td>\n",
       "      <td>1</td>\n",
       "      <td>1</td>\n",
       "      <td>0.000000</td>\n",
       "    </tr>\n",
       "    <tr>\n",
       "      <th>4</th>\n",
       "      <td>Dallas</td>\n",
       "      <td>Platform by Per Scholas</td>\n",
       "      <td>Dallas, TX</td>\n",
       "      <td>0.0</td>\n",
       "      <td>55000</td>\n",
       "      <td>Java, Oracle DB, Shell Scripting, SDLC and Cod...</td>\n",
       "      <td>Data Scientist/Analyst</td>\n",
       "      <td>0</td>\n",
       "      <td>0</td>\n",
       "      <td>1</td>\n",
       "      <td>0.000000</td>\n",
       "    </tr>\n",
       "  </tbody>\n",
       "</table>\n",
       "</div>"
      ],
      "text/plain": [
       "     City                            Company    Location  Reviews  Salary  \\\n",
       "0  Dallas  Hitachi Consulting Corporation US  Dallas, TX    153.0  124000   \n",
       "1  Dallas                           7-Eleven  Irving, TX   7125.0  115000   \n",
       "2  Dallas              Workbridge Associates  Dallas, TX     36.0  107500   \n",
       "3  Dallas                      A+ Consulting   Plano, TX      0.0  150000   \n",
       "4  Dallas            Platform by Per Scholas  Dallas, TX      0.0   55000   \n",
       "\n",
       "                                             Summary  \\\n",
       "0  The Data Scientist designs, builds and maintai...   \n",
       "1  Work closely with data engineersto ensure the ...   \n",
       "2  Experience with data modeling, analysis, progr...   \n",
       "3  This is a direct hire position - not contract....   \n",
       "4  Java, Oracle DB, Shell Scripting, SDLC and Cod...   \n",
       "\n",
       "                                               Title  Indeed_Estimate  \\\n",
       "0                       Sr Consultant Data Scientist                1   \n",
       "1                                  Sr Data Scientist                1   \n",
       "2  Full-Stack Software Engineer (Predictive Analy...                0   \n",
       "3  Principal Machine Learning/Nlp Engineer-Architect                0   \n",
       "4                             Data Scientist/Analyst                0   \n",
       "\n",
       "   High_Salary  Review_Class  Log_Reviews  \n",
       "0            1             4     5.030438  \n",
       "1            1             6     8.871365  \n",
       "2            0             3     3.583519  \n",
       "3            1             1     0.000000  \n",
       "4            0             1     0.000000  "
      ]
     },
     "execution_count": 62,
     "metadata": {},
     "output_type": "execute_result"
    }
   ],
   "source": [
    "# Option 2:\n",
    "# Define function to return the log of the number of job reviews\n",
    "# If number of reviews = 0 return 0\n",
    "def calculate_log_reviews(reviews):\n",
    "    if reviews == 0:\n",
    "        return 0\n",
    "    else:\n",
    "        return np.log(reviews)\n",
    "\n",
    "df['Log_Reviews'] = df['Reviews'].map(calculate_log_reviews)\n",
    "df.head()"
   ]
  },
  {
   "cell_type": "code",
   "execution_count": 63,
   "metadata": {
    "ExecuteTime": {
     "end_time": "2018-04-23T21:39:25.340077Z",
     "start_time": "2018-04-23T21:39:25.092569Z"
    }
   },
   "outputs": [
    {
     "data": {
      "image/png": "[encoded data removed]",
      "text/plain": [
       "<matplotlib.figure.Figure at 0x1a1b0c7dd8>"
      ]
     },
     "metadata": {
      "image/png": {
       "height": 244,
       "width": 412
      }
     },
     "output_type": "display_data"
    }
   ],
   "source": [
    "# Rough plot of distribution of Log_Reviews\n",
    "plt.hist(df['Log_Reviews'], bins=100);"
   ]
  },
  {
   "cell_type": "markdown",
   "metadata": {},
   "source": [
    "Based on the distributions above, I'm going to use the Review_Class field as my second predictor in the Logistics Regression predictor, rather than the log of the number of the reviews.  \n",
    "\n",
    "My rationale for this choice is the distribution of the transformed field. "
   ]
  },
  {
   "cell_type": "code",
   "execution_count": 64,
   "metadata": {
    "ExecuteTime": {
     "end_time": "2018-04-23T21:39:27.244443Z",
     "start_time": "2018-04-23T21:39:27.232318Z"
    }
   },
   "outputs": [],
   "source": [
    "# Define target array\n",
    "y = df['High_Salary']\n",
    "\n",
    "# Define predictor matrix\n",
    "X2 = df[['City', 'Review_Class']]\n",
    "\n",
    "# Dumify categorical field (i.e. City) in predictor data\n",
    "X_dumified2 = pd.get_dummies(X2)\n",
    "\n",
    "# Drop the dumified City_San Francisco column again\n",
    "X_dumified2.drop('City_San Francisco', axis=1, inplace=True)"
   ]
  },
  {
   "cell_type": "code",
   "execution_count": 65,
   "metadata": {
    "ExecuteTime": {
     "end_time": "2018-04-23T21:39:27.972297Z",
     "start_time": "2018-04-23T21:39:27.961264Z"
    }
   },
   "outputs": [],
   "source": [
    "# Create (60:40) train-test and stratify on target to ensure proportionate representation of target classes\n",
    "X_train2, X_test2, y_train2, y_test2 = train_test_split(X_dumified2, y, test_size=0.4,\n",
    "                                                        stratify=y, random_state=5)\n",
    "\n",
    "# Since sklearn's Logistic Regression uses regularisation by default, and the \n",
    "# predictors do not have the same scale, these must be standardised\n",
    "ss = StandardScaler()\n",
    "\n",
    "# Fit standard scalar on training data and transform both training and test data with it\n",
    "# Save standardised data as a DF\n",
    "ss.fit(X_train2)\n",
    "X_train2_ss = pd.DataFrame(ss.transform(X_train2), columns=X_dumified2.columns)\n",
    "X_test2_ss = pd.DataFrame(ss.transform(X_test2), columns=X_dumified2.columns)"
   ]
  },
  {
   "cell_type": "code",
   "execution_count": 66,
   "metadata": {
    "ExecuteTime": {
     "end_time": "2018-04-23T21:39:30.112627Z",
     "start_time": "2018-04-23T21:39:30.100690Z"
    }
   },
   "outputs": [
    {
     "name": "stdout",
     "output_type": "stream",
     "text": [
      "Accuracy scores:  [0.69230769 0.515625   0.625     ]\n",
      "Mean accuracy score:  0.6109775641025641\n"
     ]
    }
   ],
   "source": [
    "# Reviews cross validation scores of model on training data.  Shuffle, as data will be ordered.\n",
    "scores = cross_val_score(LogisticRegression(), X_train2_ss, y_train2, cv=KFold(n_splits=3, shuffle=True))\n",
    "print('Accuracy scores: ', scores)\n",
    "print('Mean accuracy score: ', scores.mean())"
   ]
  },
  {
   "cell_type": "markdown",
   "metadata": {},
   "source": [
    "The mean cross validation scores are similar to the model above, implying that the number of company reviews don't add any predicitive capability to the model."
   ]
  },
  {
   "cell_type": "code",
   "execution_count": 67,
   "metadata": {
    "ExecuteTime": {
     "end_time": "2018-04-23T21:39:33.976999Z",
     "start_time": "2018-04-23T21:39:33.970731Z"
    }
   },
   "outputs": [
    {
     "name": "stdout",
     "output_type": "stream",
     "text": [
      "The accuracy of the model on the training data is: 0.66.\n"
     ]
    }
   ],
   "source": [
    "# Fit logistic regression model to training data set\n",
    "lr2 = LogisticRegression()\n",
    "lr2.fit(X_train2_ss, y_train2)\n",
    "\n",
    "# Print accuracy of model for training set\n",
    "print(f'The accuracy of the model on the training data is: \\\n",
    "{round(lr2.score(X_train2_ss, y_train2),2)}.')"
   ]
  },
  {
   "cell_type": "markdown",
   "metadata": {},
   "source": [
    "Again, the model performs considerbly better on the training data set than the baseline model - but the accuracy score is similar to that achieved in the model above, again implying that the inclusion of the number of company reviews in the model doesn't improve the model's performance."
   ]
  },
  {
   "cell_type": "code",
   "execution_count": 69,
   "metadata": {
    "ExecuteTime": {
     "end_time": "2018-04-23T21:39:42.616484Z",
     "start_time": "2018-04-23T21:39:42.611779Z"
    }
   },
   "outputs": [
    {
     "name": "stdout",
     "output_type": "stream",
     "text": [
      "The accuracy of the model on the test set is: 0.55.\n"
     ]
    }
   ],
   "source": [
    "# Define model predictions based on the test data and print the accuracy score of the model\n",
    "predictions2 = lr2.predict(X_test2_ss)\n",
    "# Print accuracy of model for the test set\n",
    "print(f'The accuracy of the model on the test set is: \\\n",
    "{round(accuracy_score(y_test2, predictions2),2)}.')"
   ]
  },
  {
   "cell_type": "markdown",
   "metadata": {},
   "source": [
    "The model hasn't generalised well to the test data, but the accuracy score is slightly better \n",
    "than that achieved with the optimum Logisitic Regression model using the City (only) as the predictor\n",
    "(i.e. 0.52)."
   ]
  },
  {
   "cell_type": "code",
   "execution_count": 70,
   "metadata": {
    "ExecuteTime": {
     "end_time": "2018-04-23T21:40:43.390059Z",
     "start_time": "2018-04-23T21:39:46.581568Z"
    }
   },
   "outputs": [
    {
     "name": "stdout",
     "output_type": "stream",
     "text": [
      "Fitting 3 folds for each of 24000 candidates, totalling 72000 fits\n"
     ]
    },
    {
     "name": "stderr",
     "output_type": "stream",
     "text": [
      "[Parallel(n_jobs=-1)]: Done 2904 tasks      | elapsed:    2.3s\n",
      "[Parallel(n_jobs=-1)]: Done 18504 tasks      | elapsed:   13.0s\n",
      "[Parallel(n_jobs=-1)]: Done 44504 tasks      | elapsed:   31.1s\n",
      "[Parallel(n_jobs=-1)]: Done 72000 out of 72000 | elapsed:   56.3s finished\n"
     ]
    },
    {
     "data": {
      "text/plain": [
       "GridSearchCV(cv=3, error_score='raise',\n",
       "       estimator=LogisticRegression(C=1.0, class_weight=None, dual=False, fit_intercept=True,\n",
       "          intercept_scaling=1, max_iter=100, multi_class='ovr', n_jobs=1,\n",
       "          penalty='l2', random_state=None, solver='liblinear', tol=0.0001,\n",
       "          verbose=0, warm_start=False),\n",
       "       fit_params=None, iid=True, n_jobs=-1,\n",
       "       param_grid={'penalty': ['l1', 'l2'], 'solver': ['liblinear'], 'C': array([1.00000e-05, 1.00385e-05, ..., 9.96169e+04, 1.00000e+05]), 'fit_intercept': [True, False]},\n",
       "       pre_dispatch='2*n_jobs', refit=True, return_train_score='warn',\n",
       "       scoring=None, verbose=1)"
      ]
     },
     "execution_count": 70,
     "metadata": {},
     "output_type": "execute_result"
    }
   ],
   "source": [
    "# Use Grid Search to search Logistic Regression hyperparameters to see if model can be improved\n",
    "# Define logistic regression hyperparameters.  Include very small increments i regularisation strength.\n",
    "salary_gs_params2 = {'penalty':['l1','l2'],\n",
    "                    'solver':['liblinear'], \n",
    "                    'C':np.logspace(-5, 5, 6000),\n",
    "                    'fit_intercept':[True, False]}\n",
    "\n",
    "# Create gridsearch object using LogisticRegression() and the hyperparamater dictionary above\n",
    "salary_gs2 = GridSearchCV(LogisticRegression(), salary_gs_params2, n_jobs=-1, cv=3, verbose=1)\n",
    "\n",
    "# Fit gridsearch object on training data\n",
    "salary_gs2.fit(X_train2_ss, y_train2)"
   ]
  },
  {
   "cell_type": "code",
   "execution_count": 71,
   "metadata": {
    "ExecuteTime": {
     "end_time": "2018-04-23T21:40:44.594169Z",
     "start_time": "2018-04-23T21:40:44.589250Z"
    }
   },
   "outputs": [
    {
     "data": {
      "text/plain": [
       "{'C': 799.8044766675685,\n",
       " 'fit_intercept': True,\n",
       " 'penalty': 'l1',\n",
       " 'solver': 'liblinear'}"
      ]
     },
     "execution_count": 71,
     "metadata": {},
     "output_type": "execute_result"
    }
   ],
   "source": [
    "# Print out best parameters\n",
    "salary_gs2.best_params_   "
   ]
  },
  {
   "cell_type": "markdown",
   "metadata": {},
   "source": [
    "The optimum regularisation parameter sits well within the range provided in the hyperparamater dictionary.  I'm happy with this."
   ]
  },
  {
   "cell_type": "code",
   "execution_count": 72,
   "metadata": {
    "ExecuteTime": {
     "end_time": "2018-04-23T21:40:48.709664Z",
     "start_time": "2018-04-23T21:40:48.705504Z"
    }
   },
   "outputs": [
    {
     "data": {
      "text/plain": [
       "0.6373056994818653"
      ]
     },
     "execution_count": 72,
     "metadata": {},
     "output_type": "execute_result"
    }
   ],
   "source": [
    "# Print out the best mean cross-validated score\n",
    "salary_gs2.best_score_ "
   ]
  },
  {
   "cell_type": "code",
   "execution_count": 73,
   "metadata": {
    "ExecuteTime": {
     "end_time": "2018-04-23T21:40:51.711667Z",
     "start_time": "2018-04-23T21:40:51.709089Z"
    }
   },
   "outputs": [],
   "source": [
    "# Assign optimum Logistic Regression estimator to best_logreg2\n",
    "best_logreg2 = salary_gs2.best_estimator_"
   ]
  },
  {
   "cell_type": "code",
   "execution_count": 74,
   "metadata": {
    "ExecuteTime": {
     "end_time": "2018-04-23T21:40:52.963766Z",
     "start_time": "2018-04-23T21:40:52.957907Z"
    }
   },
   "outputs": [
    {
     "name": "stdout",
     "output_type": "stream",
     "text": [
      "The accuracy of the model on the training data is: 0.66.\n",
      "Accuracy score of optimum Logistic Regression model on test data: 0.55\n"
     ]
    }
   ],
   "source": [
    "# Print accuracy score of best log reg model for fit on entire training data set\n",
    "print(f'The accuracy of the model on the training data is: \\\n",
    "{round(best_logreg2.score(X_train2_ss, y_train2),2)}.')\n",
    "\n",
    "# Print accuracy score of best log reg model for fit on the test data\n",
    "print(f'Accuracy score of optimum Logistic Regression model on test data: \\\n",
    "{round(best_logreg2.score(X_test2_ss, y_test2),2)}')"
   ]
  },
  {
   "cell_type": "markdown",
   "metadata": {},
   "source": [
    "Again, the model hasn't generalised well to the test data, but the accuracy score of the model on the test data is higher than that achieved for the optimum logistic regression model without using the number of company reviews as a predictor (i.e. 0.52), suggesting that the number of company reviews add a small amount of predicting capability to the model.  \n",
    "\n",
    "Note, this accuracy score is the same as that achieved prior to the GridSearch. "
   ]
  },
  {
   "cell_type": "markdown",
   "metadata": {},
   "source": [
    "##### Logistic Regression with statsmodel (predictors = City)"
   ]
  },
  {
   "cell_type": "markdown",
   "metadata": {},
   "source": [
    "I'll now repeat the above two Logistic Regression models with the statsmodel library."
   ]
  },
  {
   "cell_type": "code",
   "execution_count": 75,
   "metadata": {
    "ExecuteTime": {
     "end_time": "2018-04-23T21:41:00.419004Z",
     "start_time": "2018-04-23T21:41:00.347994Z"
    }
   },
   "outputs": [],
   "source": [
    "from scipy import stats\n",
    "stats.chisqprob = lambda chisq, df: stats.chi2.sf(chisq, df)\n",
    "import statsmodels.formula.api as smf"
   ]
  },
  {
   "cell_type": "code",
   "execution_count": 76,
   "metadata": {
    "ExecuteTime": {
     "end_time": "2018-04-23T21:41:01.409843Z",
     "start_time": "2018-04-23T21:41:01.394324Z"
    }
   },
   "outputs": [
    {
     "data": {
      "text/html": [
       "<div>\n",
       "<style scoped>\n",
       "    .dataframe tbody tr th:only-of-type {\n",
       "        vertical-align: middle;\n",
       "    }\n",
       "\n",
       "    .dataframe tbody tr th {\n",
       "        vertical-align: top;\n",
       "    }\n",
       "\n",
       "    .dataframe thead th {\n",
       "        text-align: right;\n",
       "    }\n",
       "</style>\n",
       "<table border=\"1\" class=\"dataframe\">\n",
       "  <thead>\n",
       "    <tr style=\"text-align: right;\">\n",
       "      <th></th>\n",
       "      <th>City</th>\n",
       "      <th>Company</th>\n",
       "      <th>Location</th>\n",
       "      <th>Reviews</th>\n",
       "      <th>Salary</th>\n",
       "      <th>Summary</th>\n",
       "      <th>Title</th>\n",
       "      <th>Indeed_Estimate</th>\n",
       "      <th>High_Salary</th>\n",
       "      <th>Review_Class</th>\n",
       "      <th>Log_Reviews</th>\n",
       "    </tr>\n",
       "  </thead>\n",
       "  <tbody>\n",
       "    <tr>\n",
       "      <th>0</th>\n",
       "      <td>Dallas</td>\n",
       "      <td>Hitachi Consulting Corporation US</td>\n",
       "      <td>Dallas, TX</td>\n",
       "      <td>153.0</td>\n",
       "      <td>124000</td>\n",
       "      <td>The Data Scientist designs, builds and maintai...</td>\n",
       "      <td>Sr Consultant Data Scientist</td>\n",
       "      <td>1</td>\n",
       "      <td>1</td>\n",
       "      <td>4</td>\n",
       "      <td>5.030438</td>\n",
       "    </tr>\n",
       "    <tr>\n",
       "      <th>1</th>\n",
       "      <td>Dallas</td>\n",
       "      <td>7-Eleven</td>\n",
       "      <td>Irving, TX</td>\n",
       "      <td>7125.0</td>\n",
       "      <td>115000</td>\n",
       "      <td>Work closely with data engineersto ensure the ...</td>\n",
       "      <td>Sr Data Scientist</td>\n",
       "      <td>1</td>\n",
       "      <td>1</td>\n",
       "      <td>6</td>\n",
       "      <td>8.871365</td>\n",
       "    </tr>\n",
       "    <tr>\n",
       "      <th>2</th>\n",
       "      <td>Dallas</td>\n",
       "      <td>Workbridge Associates</td>\n",
       "      <td>Dallas, TX</td>\n",
       "      <td>36.0</td>\n",
       "      <td>107500</td>\n",
       "      <td>Experience with data modeling, analysis, progr...</td>\n",
       "      <td>Full-Stack Software Engineer (Predictive Analy...</td>\n",
       "      <td>0</td>\n",
       "      <td>0</td>\n",
       "      <td>3</td>\n",
       "      <td>3.583519</td>\n",
       "    </tr>\n",
       "    <tr>\n",
       "      <th>3</th>\n",
       "      <td>Dallas</td>\n",
       "      <td>A+ Consulting</td>\n",
       "      <td>Plano, TX</td>\n",
       "      <td>0.0</td>\n",
       "      <td>150000</td>\n",
       "      <td>This is a direct hire position - not contract....</td>\n",
       "      <td>Principal Machine Learning/Nlp Engineer-Architect</td>\n",
       "      <td>0</td>\n",
       "      <td>1</td>\n",
       "      <td>1</td>\n",
       "      <td>0.000000</td>\n",
       "    </tr>\n",
       "    <tr>\n",
       "      <th>4</th>\n",
       "      <td>Dallas</td>\n",
       "      <td>Platform by Per Scholas</td>\n",
       "      <td>Dallas, TX</td>\n",
       "      <td>0.0</td>\n",
       "      <td>55000</td>\n",
       "      <td>Java, Oracle DB, Shell Scripting, SDLC and Cod...</td>\n",
       "      <td>Data Scientist/Analyst</td>\n",
       "      <td>0</td>\n",
       "      <td>0</td>\n",
       "      <td>1</td>\n",
       "      <td>0.000000</td>\n",
       "    </tr>\n",
       "  </tbody>\n",
       "</table>\n",
       "</div>"
      ],
      "text/plain": [
       "     City                            Company    Location  Reviews  Salary  \\\n",
       "0  Dallas  Hitachi Consulting Corporation US  Dallas, TX    153.0  124000   \n",
       "1  Dallas                           7-Eleven  Irving, TX   7125.0  115000   \n",
       "2  Dallas              Workbridge Associates  Dallas, TX     36.0  107500   \n",
       "3  Dallas                      A+ Consulting   Plano, TX      0.0  150000   \n",
       "4  Dallas            Platform by Per Scholas  Dallas, TX      0.0   55000   \n",
       "\n",
       "                                             Summary  \\\n",
       "0  The Data Scientist designs, builds and maintai...   \n",
       "1  Work closely with data engineersto ensure the ...   \n",
       "2  Experience with data modeling, analysis, progr...   \n",
       "3  This is a direct hire position - not contract....   \n",
       "4  Java, Oracle DB, Shell Scripting, SDLC and Cod...   \n",
       "\n",
       "                                               Title  Indeed_Estimate  \\\n",
       "0                       Sr Consultant Data Scientist                1   \n",
       "1                                  Sr Data Scientist                1   \n",
       "2  Full-Stack Software Engineer (Predictive Analy...                0   \n",
       "3  Principal Machine Learning/Nlp Engineer-Architect                0   \n",
       "4                             Data Scientist/Analyst                0   \n",
       "\n",
       "   High_Salary  Review_Class  Log_Reviews  \n",
       "0            1             4     5.030438  \n",
       "1            1             6     8.871365  \n",
       "2            0             3     3.583519  \n",
       "3            1             1     0.000000  \n",
       "4            0             1     0.000000  "
      ]
     },
     "execution_count": 76,
     "metadata": {},
     "output_type": "execute_result"
    }
   ],
   "source": [
    "df.head()"
   ]
  },
  {
   "cell_type": "code",
   "execution_count": 77,
   "metadata": {
    "ExecuteTime": {
     "end_time": "2018-04-23T21:41:02.620599Z",
     "start_time": "2018-04-23T21:41:02.565356Z"
    }
   },
   "outputs": [
    {
     "name": "stdout",
     "output_type": "stream",
     "text": [
      "Optimization terminated successfully.\n",
      "         Current function value: 0.627221\n",
      "         Iterations: 11\n",
      "         Function evaluations: 12\n",
      "         Gradient evaluations: 22\n",
      "         Hessian evaluations: 11\n"
     ]
    },
    {
     "data": {
      "text/html": [
       "<table class=\"simpletable\">\n",
       "<caption>Logit Regression Results</caption>\n",
       "<tr>\n",
       "  <th>Dep. Variable:</th>    <td>High_Salary</td>   <th>  No. Observations:  </th>  <td>   323</td>  \n",
       "</tr>\n",
       "<tr>\n",
       "  <th>Model:</th>               <td>Logit</td>      <th>  Df Residuals:      </th>  <td>   308</td>  \n",
       "</tr>\n",
       "<tr>\n",
       "  <th>Method:</th>               <td>MLE</td>       <th>  Df Model:          </th>  <td>    14</td>  \n",
       "</tr>\n",
       "<tr>\n",
       "  <th>Date:</th>          <td>Mon, 23 Apr 2018</td> <th>  Pseudo R-squ.:     </th>  <td>0.09505</td> \n",
       "</tr>\n",
       "<tr>\n",
       "  <th>Time:</th>              <td>22:41:02</td>     <th>  Log-Likelihood:    </th> <td> -202.59</td> \n",
       "</tr>\n",
       "<tr>\n",
       "  <th>converged:</th>           <td>True</td>       <th>  LL-Null:           </th> <td> -223.87</td> \n",
       "</tr>\n",
       "<tr>\n",
       "  <th> </th>                      <td> </td>        <th>  LLR p-value:       </th> <td>0.0001007</td>\n",
       "</tr>\n",
       "</table>\n",
       "<table class=\"simpletable\">\n",
       "<tr>\n",
       "                                <td></td>                                   <th>coef</th>     <th>std err</th>      <th>z</th>      <th>P>|z|</th>  <th>[0.025</th>    <th>0.975]</th>  \n",
       "</tr>\n",
       "<tr>\n",
       "  <th>Intercept</th>                                                     <td>    1.3499</td> <td>    0.424</td> <td>    3.183</td> <td> 0.001</td> <td>    0.519</td> <td>    2.181</td>\n",
       "</tr>\n",
       "<tr>\n",
       "  <th>C(City, Treatment(reference='San Francisco'))[T.Atlanta]</th>      <td>   -1.2321</td> <td>    0.645</td> <td>   -1.910</td> <td> 0.056</td> <td>   -2.496</td> <td>    0.032</td>\n",
       "</tr>\n",
       "<tr>\n",
       "  <th>C(City, Treatment(reference='San Francisco'))[T.Austin]</th>       <td>   -1.0986</td> <td>    0.659</td> <td>   -1.668</td> <td> 0.095</td> <td>   -2.390</td> <td>    0.192</td>\n",
       "</tr>\n",
       "<tr>\n",
       "  <th>C(City, Treatment(reference='San Francisco'))[T.Chicago]</th>      <td>   -0.8391</td> <td>    0.560</td> <td>   -1.499</td> <td> 0.134</td> <td>   -1.936</td> <td>    0.258</td>\n",
       "</tr>\n",
       "<tr>\n",
       "  <th>C(City, Treatment(reference='San Francisco'))[T.Dallas]</th>       <td>   -1.4835</td> <td>    0.669</td> <td>   -2.217</td> <td> 0.027</td> <td>   -2.795</td> <td>   -0.172</td>\n",
       "</tr>\n",
       "<tr>\n",
       "  <th>C(City, Treatment(reference='San Francisco'))[T.Denver]</th>       <td>   -1.4677</td> <td>    0.645</td> <td>   -2.276</td> <td> 0.023</td> <td>   -2.732</td> <td>   -0.204</td>\n",
       "</tr>\n",
       "<tr>\n",
       "  <th>C(City, Treatment(reference='San Francisco'))[T.Houston]</th>      <td>   -1.7554</td> <td>    0.589</td> <td>   -2.982</td> <td> 0.003</td> <td>   -2.909</td> <td>   -0.602</td>\n",
       "</tr>\n",
       "<tr>\n",
       "  <th>C(City, Treatment(reference='San Francisco'))[T.Los Angeles]</th>  <td>   -0.9704</td> <td>    0.556</td> <td>   -1.745</td> <td> 0.081</td> <td>   -2.061</td> <td>    0.120</td>\n",
       "</tr>\n",
       "<tr>\n",
       "  <th>C(City, Treatment(reference='San Francisco'))[T.Miami]</th>        <td>   -4.1831</td> <td>    1.113</td> <td>   -3.759</td> <td> 0.000</td> <td>   -6.365</td> <td>   -2.002</td>\n",
       "</tr>\n",
       "<tr>\n",
       "  <th>C(City, Treatment(reference='San Francisco'))[T.New York]</th>     <td>   -1.7272</td> <td>    0.500</td> <td>   -3.454</td> <td> 0.001</td> <td>   -2.707</td> <td>   -0.747</td>\n",
       "</tr>\n",
       "<tr>\n",
       "  <th>C(City, Treatment(reference='San Francisco'))[T.Philadelphia]</th> <td>   -1.4452</td> <td>    0.609</td> <td>   -2.373</td> <td> 0.018</td> <td>   -2.639</td> <td>   -0.252</td>\n",
       "</tr>\n",
       "<tr>\n",
       "  <th>C(City, Treatment(reference='San Francisco'))[T.Phoenix]</th>      <td>   -1.7554</td> <td>    0.772</td> <td>   -2.273</td> <td> 0.023</td> <td>   -3.269</td> <td>   -0.242</td>\n",
       "</tr>\n",
       "<tr>\n",
       "  <th>C(City, Treatment(reference='San Francisco'))[T.Pittsburgh]</th>   <td>  -11.5275</td> <td>   93.645</td> <td>   -0.123</td> <td> 0.902</td> <td> -195.069</td> <td>  172.014</td>\n",
       "</tr>\n",
       "<tr>\n",
       "  <th>C(City, Treatment(reference='San Francisco'))[T.Portland]</th>     <td>   -0.9445</td> <td>    1.007</td> <td>   -0.938</td> <td> 0.348</td> <td>   -2.917</td> <td>    1.028</td>\n",
       "</tr>\n",
       "<tr>\n",
       "  <th>C(City, Treatment(reference='San Francisco'))[T.Seattle]</th>      <td>   -0.8109</td> <td>    0.637</td> <td>   -1.273</td> <td> 0.203</td> <td>   -2.060</td> <td>    0.438</td>\n",
       "</tr>\n",
       "</table>"
      ],
      "text/plain": [
       "<class 'statsmodels.iolib.summary.Summary'>\n",
       "\"\"\"\n",
       "                           Logit Regression Results                           \n",
       "==============================================================================\n",
       "Dep. Variable:            High_Salary   No. Observations:                  323\n",
       "Model:                          Logit   Df Residuals:                      308\n",
       "Method:                           MLE   Df Model:                           14\n",
       "Date:                Mon, 23 Apr 2018   Pseudo R-squ.:                 0.09505\n",
       "Time:                        22:41:02   Log-Likelihood:                -202.59\n",
       "converged:                       True   LL-Null:                       -223.87\n",
       "                                        LLR p-value:                 0.0001007\n",
       "=================================================================================================================================\n",
       "                                                                    coef    std err          z      P>|z|      [0.025      0.975]\n",
       "---------------------------------------------------------------------------------------------------------------------------------\n",
       "Intercept                                                         1.3499      0.424      3.183      0.001       0.519       2.181\n",
       "C(City, Treatment(reference='San Francisco'))[T.Atlanta]         -1.2321      0.645     -1.910      0.056      -2.496       0.032\n",
       "C(City, Treatment(reference='San Francisco'))[T.Austin]          -1.0986      0.659     -1.668      0.095      -2.390       0.192\n",
       "C(City, Treatment(reference='San Francisco'))[T.Chicago]         -0.8391      0.560     -1.499      0.134      -1.936       0.258\n",
       "C(City, Treatment(reference='San Francisco'))[T.Dallas]          -1.4835      0.669     -2.217      0.027      -2.795      -0.172\n",
       "C(City, Treatment(reference='San Francisco'))[T.Denver]          -1.4677      0.645     -2.276      0.023      -2.732      -0.204\n",
       "C(City, Treatment(reference='San Francisco'))[T.Houston]         -1.7554      0.589     -2.982      0.003      -2.909      -0.602\n",
       "C(City, Treatment(reference='San Francisco'))[T.Los Angeles]     -0.9704      0.556     -1.745      0.081      -2.061       0.120\n",
       "C(City, Treatment(reference='San Francisco'))[T.Miami]           -4.1831      1.113     -3.759      0.000      -6.365      -2.002\n",
       "C(City, Treatment(reference='San Francisco'))[T.New York]        -1.7272      0.500     -3.454      0.001      -2.707      -0.747\n",
       "C(City, Treatment(reference='San Francisco'))[T.Philadelphia]    -1.4452      0.609     -2.373      0.018      -2.639      -0.252\n",
       "C(City, Treatment(reference='San Francisco'))[T.Phoenix]         -1.7554      0.772     -2.273      0.023      -3.269      -0.242\n",
       "C(City, Treatment(reference='San Francisco'))[T.Pittsburgh]     -11.5275     93.645     -0.123      0.902    -195.069     172.014\n",
       "C(City, Treatment(reference='San Francisco'))[T.Portland]        -0.9445      1.007     -0.938      0.348      -2.917       1.028\n",
       "C(City, Treatment(reference='San Francisco'))[T.Seattle]         -0.8109      0.637     -1.273      0.203      -2.060       0.438\n",
       "=================================================================================================================================\n",
       "\"\"\""
      ]
     },
     "execution_count": 77,
     "metadata": {},
     "output_type": "execute_result"
    }
   ],
   "source": [
    "# Fit logistic regression model, using the categorical variable 'City',\n",
    "# with 'San Francisco' treated as the reference point\n",
    "sm_city = smf.logit(\"High_Salary ~ C(City, Treatment(reference='San Francisco'))\", \n",
    "                    data=df).fit(method='ncg')\n",
    "\n",
    "# Inspect results\n",
    "sm_city.summary()"
   ]
  },
  {
   "cell_type": "markdown",
   "metadata": {},
   "source": [
    "In the instance above, I haven't split the data into a train-test split and have fitted the \n",
    "Logistic Regression model to the full data set."
   ]
  },
  {
   "cell_type": "code",
   "execution_count": 78,
   "metadata": {
    "ExecuteTime": {
     "end_time": "2018-04-23T21:41:14.193846Z",
     "start_time": "2018-04-23T21:41:14.185639Z"
    }
   },
   "outputs": [
    {
     "name": "stdout",
     "output_type": "stream",
     "text": [
      "Logreg intercept: 1.349923520778688\n",
      "Logreg coef(s): C(City, Treatment(reference='San Francisco'))[T.Atlanta]         -1.232144\n",
      "C(City, Treatment(reference='San Francisco'))[T.Austin]          -1.098612\n",
      "C(City, Treatment(reference='San Francisco'))[T.Chicago]         -0.839101\n",
      "C(City, Treatment(reference='San Francisco'))[T.Dallas]          -1.483458\n",
      "C(City, Treatment(reference='San Francisco'))[T.Denver]          -1.467710\n",
      "C(City, Treatment(reference='San Francisco'))[T.Houston]         -1.755392\n",
      "C(City, Treatment(reference='San Francisco'))[T.Los Angeles]     -0.970437\n",
      "C(City, Treatment(reference='San Francisco'))[T.Miami]           -4.183140\n",
      "C(City, Treatment(reference='San Francisco'))[T.New York]        -1.727221\n",
      "C(City, Treatment(reference='San Francisco'))[T.Philadelphia]    -1.445237\n",
      "C(City, Treatment(reference='San Francisco'))[T.Phoenix]         -1.755392\n",
      "C(City, Treatment(reference='San Francisco'))[T.Pittsburgh]     -11.527468\n",
      "C(City, Treatment(reference='San Francisco'))[T.Portland]        -0.944462\n",
      "C(City, Treatment(reference='San Francisco'))[T.Seattle]         -0.810930\n",
      "dtype: float64\n"
     ]
    }
   ],
   "source": [
    "# Print model coefficients\n",
    "print('Logreg intercept:', sm_city.params[0])\n",
    "print('Logreg coef(s):', sm_city.params[1:])"
   ]
  },
  {
   "cell_type": "markdown",
   "metadata": {},
   "source": [
    "As with the model above developed using sklearn, the coefficients from the model developed using \n",
    "statsmodels operate exactly the same way - maximising the likelihood function.\n",
    "\n",
    "The intercept represents the log odds of a high salary in San Francisco (since this was defined as the feature column).  Note, the intercept is approximately equal to \n",
    "the intercept calculatued using sklearn.\n",
    "\n",
    "The remaining coefficients represent the log odds of a high salary in the associated city, relative to \n",
    "San Francisco.  All coefficients are negative, meaning that the log odds of a high salary in these cities \n",
    "is less than San Francisco.\n",
    "\n"
   ]
  },
  {
   "cell_type": "code",
   "execution_count": 79,
   "metadata": {
    "ExecuteTime": {
     "end_time": "2018-04-23T21:41:31.628759Z",
     "start_time": "2018-04-23T21:41:31.624508Z"
    }
   },
   "outputs": [
    {
     "name": "stdout",
     "output_type": "stream",
     "text": [
      "0.79\n"
     ]
    }
   ],
   "source": [
    "# Print probability of a high salary in San Francisco, based on model intercept\n",
    "print(round(1./(1+np.exp(-(sm_city.params[0]))),2))"
   ]
  },
  {
   "cell_type": "markdown",
   "metadata": {},
   "source": [
    "This probability exactly matches the probability calcualted for a high salary in San Francisco above."
   ]
  },
  {
   "cell_type": "code",
   "execution_count": 80,
   "metadata": {
    "ExecuteTime": {
     "end_time": "2018-04-23T21:41:34.658646Z",
     "start_time": "2018-04-23T21:41:34.649899Z"
    }
   },
   "outputs": [
    {
     "data": {
      "text/html": [
       "<div>\n",
       "<style scoped>\n",
       "    .dataframe tbody tr th:only-of-type {\n",
       "        vertical-align: middle;\n",
       "    }\n",
       "\n",
       "    .dataframe tbody tr th {\n",
       "        vertical-align: top;\n",
       "    }\n",
       "\n",
       "    .dataframe thead th {\n",
       "        text-align: right;\n",
       "    }\n",
       "</style>\n",
       "<table border=\"1\" class=\"dataframe\">\n",
       "  <thead>\n",
       "    <tr style=\"text-align: right;\">\n",
       "      <th></th>\n",
       "      <th>Model Coeffs</th>\n",
       "    </tr>\n",
       "  </thead>\n",
       "  <tbody>\n",
       "    <tr>\n",
       "      <th>City_Atlanta</th>\n",
       "      <td>-1.232144</td>\n",
       "    </tr>\n",
       "    <tr>\n",
       "      <th>City_Austin</th>\n",
       "      <td>-1.098612</td>\n",
       "    </tr>\n",
       "    <tr>\n",
       "      <th>City_Chicago</th>\n",
       "      <td>-0.839101</td>\n",
       "    </tr>\n",
       "    <tr>\n",
       "      <th>City_Dallas</th>\n",
       "      <td>-1.483458</td>\n",
       "    </tr>\n",
       "    <tr>\n",
       "      <th>City_Denver</th>\n",
       "      <td>-1.467710</td>\n",
       "    </tr>\n",
       "    <tr>\n",
       "      <th>City_Houston</th>\n",
       "      <td>-1.755392</td>\n",
       "    </tr>\n",
       "    <tr>\n",
       "      <th>City_Los Angeles</th>\n",
       "      <td>-0.970437</td>\n",
       "    </tr>\n",
       "    <tr>\n",
       "      <th>City_Miami</th>\n",
       "      <td>-4.183140</td>\n",
       "    </tr>\n",
       "    <tr>\n",
       "      <th>City_New York</th>\n",
       "      <td>-1.727221</td>\n",
       "    </tr>\n",
       "    <tr>\n",
       "      <th>City_Philadelphia</th>\n",
       "      <td>-1.445237</td>\n",
       "    </tr>\n",
       "    <tr>\n",
       "      <th>City_Phoenix</th>\n",
       "      <td>-1.755392</td>\n",
       "    </tr>\n",
       "    <tr>\n",
       "      <th>City_Pittsburgh</th>\n",
       "      <td>-11.527468</td>\n",
       "    </tr>\n",
       "    <tr>\n",
       "      <th>City_Portland</th>\n",
       "      <td>-0.944462</td>\n",
       "    </tr>\n",
       "    <tr>\n",
       "      <th>City_Seattle</th>\n",
       "      <td>-0.810930</td>\n",
       "    </tr>\n",
       "  </tbody>\n",
       "</table>\n",
       "</div>"
      ],
      "text/plain": [
       "                   Model Coeffs\n",
       "City_Atlanta          -1.232144\n",
       "City_Austin           -1.098612\n",
       "City_Chicago          -0.839101\n",
       "City_Dallas           -1.483458\n",
       "City_Denver           -1.467710\n",
       "City_Houston          -1.755392\n",
       "City_Los Angeles      -0.970437\n",
       "City_Miami            -4.183140\n",
       "City_New York         -1.727221\n",
       "City_Philadelphia     -1.445237\n",
       "City_Phoenix          -1.755392\n",
       "City_Pittsburgh      -11.527468\n",
       "City_Portland         -0.944462\n",
       "City_Seattle          -0.810930"
      ]
     },
     "execution_count": 80,
     "metadata": {},
     "output_type": "execute_result"
    }
   ],
   "source": [
    "# Save model coeffs as a Dataframe and insert city names as indexes\n",
    "sm_city_coeffs = pd.DataFrame(sm_city.params[1:], columns=['Model Coeffs'])\n",
    "sm_city_coeffs.index = list(X_dumified.columns)\n",
    "sm_city_coeffs"
   ]
  },
  {
   "cell_type": "code",
   "execution_count": 81,
   "metadata": {
    "ExecuteTime": {
     "end_time": "2018-04-23T21:41:39.674279Z",
     "start_time": "2018-04-23T21:41:39.612160Z"
    }
   },
   "outputs": [
    {
     "data": {
      "text/html": [
       "<div>\n",
       "<style scoped>\n",
       "    .dataframe tbody tr th:only-of-type {\n",
       "        vertical-align: middle;\n",
       "    }\n",
       "\n",
       "    .dataframe tbody tr th {\n",
       "        vertical-align: top;\n",
       "    }\n",
       "\n",
       "    .dataframe thead th {\n",
       "        text-align: right;\n",
       "    }\n",
       "</style>\n",
       "<table border=\"1\" class=\"dataframe\">\n",
       "  <thead>\n",
       "    <tr style=\"text-align: right;\">\n",
       "      <th></th>\n",
       "      <th>Model Coeffs</th>\n",
       "      <th>Probability</th>\n",
       "    </tr>\n",
       "  </thead>\n",
       "  <tbody>\n",
       "    <tr>\n",
       "      <th>City_Atlanta</th>\n",
       "      <td>-1.232144</td>\n",
       "      <td>0.53</td>\n",
       "    </tr>\n",
       "    <tr>\n",
       "      <th>City_Austin</th>\n",
       "      <td>-1.098612</td>\n",
       "      <td>0.56</td>\n",
       "    </tr>\n",
       "    <tr>\n",
       "      <th>City_Chicago</th>\n",
       "      <td>-0.839101</td>\n",
       "      <td>0.62</td>\n",
       "    </tr>\n",
       "    <tr>\n",
       "      <th>City_Dallas</th>\n",
       "      <td>-1.483458</td>\n",
       "      <td>0.47</td>\n",
       "    </tr>\n",
       "    <tr>\n",
       "      <th>City_Denver</th>\n",
       "      <td>-1.467710</td>\n",
       "      <td>0.47</td>\n",
       "    </tr>\n",
       "    <tr>\n",
       "      <th>City_Houston</th>\n",
       "      <td>-1.755392</td>\n",
       "      <td>0.40</td>\n",
       "    </tr>\n",
       "    <tr>\n",
       "      <th>City_Los Angeles</th>\n",
       "      <td>-0.970437</td>\n",
       "      <td>0.59</td>\n",
       "    </tr>\n",
       "    <tr>\n",
       "      <th>City_Miami</th>\n",
       "      <td>-4.183140</td>\n",
       "      <td>0.06</td>\n",
       "    </tr>\n",
       "    <tr>\n",
       "      <th>City_New York</th>\n",
       "      <td>-1.727221</td>\n",
       "      <td>0.41</td>\n",
       "    </tr>\n",
       "    <tr>\n",
       "      <th>City_Philadelphia</th>\n",
       "      <td>-1.445237</td>\n",
       "      <td>0.48</td>\n",
       "    </tr>\n",
       "    <tr>\n",
       "      <th>City_Phoenix</th>\n",
       "      <td>-1.755392</td>\n",
       "      <td>0.40</td>\n",
       "    </tr>\n",
       "    <tr>\n",
       "      <th>City_Pittsburgh</th>\n",
       "      <td>-11.527468</td>\n",
       "      <td>0.00</td>\n",
       "    </tr>\n",
       "    <tr>\n",
       "      <th>City_Portland</th>\n",
       "      <td>-0.944462</td>\n",
       "      <td>0.60</td>\n",
       "    </tr>\n",
       "    <tr>\n",
       "      <th>City_Seattle</th>\n",
       "      <td>-0.810930</td>\n",
       "      <td>0.63</td>\n",
       "    </tr>\n",
       "  </tbody>\n",
       "</table>\n",
       "</div>"
      ],
      "text/plain": [
       "                   Model Coeffs  Probability\n",
       "City_Atlanta          -1.232144         0.53\n",
       "City_Austin           -1.098612         0.56\n",
       "City_Chicago          -0.839101         0.62\n",
       "City_Dallas           -1.483458         0.47\n",
       "City_Denver           -1.467710         0.47\n",
       "City_Houston          -1.755392         0.40\n",
       "City_Los Angeles      -0.970437         0.59\n",
       "City_Miami            -4.183140         0.06\n",
       "City_New York         -1.727221         0.41\n",
       "City_Philadelphia     -1.445237         0.48\n",
       "City_Phoenix          -1.755392         0.40\n",
       "City_Pittsburgh      -11.527468         0.00\n",
       "City_Portland         -0.944462         0.60\n",
       "City_Seattle          -0.810930         0.63"
      ]
     },
     "execution_count": 81,
     "metadata": {},
     "output_type": "execute_result"
    }
   ],
   "source": [
    "# Transform coefficients into probabilities and insert into DF.  Display DF.\n",
    "sm_city_coeffs['Probability'] = round(1./(1+np.exp(-(sm_city.params.Intercept+\n",
    "                                               (sm_city_coeffs['Model Coeffs'])))),2)\n",
    "\n",
    "sm_city_coeffs"
   ]
  },
  {
   "cell_type": "markdown",
   "metadata": {
    "ExecuteTime": {
     "end_time": "2018-04-23T19:27:20.346799Z",
     "start_time": "2018-04-23T19:27:20.339228Z"
    }
   },
   "source": [
    "As can be seen from the probabilities calculated from the model coefficients (displayed above), these\n",
    "perfectly match the probabilities of a high salary calculated in Section 1.1.1.  In this case,\n",
    "the probability of high salaries in Atlanta is more accuractely modeled."
   ]
  },
  {
   "cell_type": "markdown",
   "metadata": {},
   "source": [
    "I'll now use perform the Logistic Regression using Statsmodel, with a train-test split on the data."
   ]
  },
  {
   "cell_type": "code",
   "execution_count": 82,
   "metadata": {
    "ExecuteTime": {
     "end_time": "2018-04-23T21:42:45.252590Z",
     "start_time": "2018-04-23T21:42:45.244264Z"
    }
   },
   "outputs": [],
   "source": [
    "# Create a train-test split on predictor and target data.   \n",
    "# Assign random state to enable reproducible results\n",
    "# Stratify on target variable to maintain proportionate representation of target classes\n",
    "\n",
    "X_train_sm, X_test_sm, y_train_sm, y_test_sm = train_test_split(X, y, test_size=0.4,\n",
    "                                                    stratify=y, random_state=5)\n",
    "X_train_sm = X_train_sm.copy()\n",
    "X_train_sm['High_Salary'] = y_train_sm"
   ]
  },
  {
   "cell_type": "code",
   "execution_count": 83,
   "metadata": {
    "ExecuteTime": {
     "end_time": "2018-04-23T21:42:46.624557Z",
     "start_time": "2018-04-23T21:42:46.617282Z"
    }
   },
   "outputs": [
    {
     "data": {
      "text/html": [
       "<div>\n",
       "<style scoped>\n",
       "    .dataframe tbody tr th:only-of-type {\n",
       "        vertical-align: middle;\n",
       "    }\n",
       "\n",
       "    .dataframe tbody tr th {\n",
       "        vertical-align: top;\n",
       "    }\n",
       "\n",
       "    .dataframe thead th {\n",
       "        text-align: right;\n",
       "    }\n",
       "</style>\n",
       "<table border=\"1\" class=\"dataframe\">\n",
       "  <thead>\n",
       "    <tr style=\"text-align: right;\">\n",
       "      <th></th>\n",
       "      <th>City</th>\n",
       "      <th>High_Salary</th>\n",
       "    </tr>\n",
       "  </thead>\n",
       "  <tbody>\n",
       "    <tr>\n",
       "      <th>101</th>\n",
       "      <td>Portland</td>\n",
       "      <td>0</td>\n",
       "    </tr>\n",
       "    <tr>\n",
       "      <th>132</th>\n",
       "      <td>Houston</td>\n",
       "      <td>1</td>\n",
       "    </tr>\n",
       "    <tr>\n",
       "      <th>100</th>\n",
       "      <td>Pittsburgh</td>\n",
       "      <td>0</td>\n",
       "    </tr>\n",
       "    <tr>\n",
       "      <th>117</th>\n",
       "      <td>Philadelphia</td>\n",
       "      <td>1</td>\n",
       "    </tr>\n",
       "    <tr>\n",
       "      <th>224</th>\n",
       "      <td>Atlanta</td>\n",
       "      <td>1</td>\n",
       "    </tr>\n",
       "  </tbody>\n",
       "</table>\n",
       "</div>"
      ],
      "text/plain": [
       "             City  High_Salary\n",
       "101      Portland            0\n",
       "132       Houston            1\n",
       "100    Pittsburgh            0\n",
       "117  Philadelphia            1\n",
       "224       Atlanta            1"
      ]
     },
     "execution_count": 83,
     "metadata": {},
     "output_type": "execute_result"
    }
   ],
   "source": [
    "X_train_sm.head()"
   ]
  },
  {
   "cell_type": "code",
   "execution_count": 86,
   "metadata": {
    "ExecuteTime": {
     "end_time": "2018-04-23T21:44:10.197319Z",
     "start_time": "2018-04-23T21:44:10.164382Z"
    }
   },
   "outputs": [
    {
     "name": "stdout",
     "output_type": "stream",
     "text": [
      "Optimization terminated successfully.\n",
      "         Current function value: 0.591317\n",
      "         Iterations: 12\n",
      "         Function evaluations: 13\n",
      "         Gradient evaluations: 24\n",
      "         Hessian evaluations: 12\n"
     ]
    },
    {
     "data": {
      "text/html": [
       "<table class=\"simpletable\">\n",
       "<caption>Logit Regression Results</caption>\n",
       "<tr>\n",
       "  <th>Dep. Variable:</th>    <td>High_Salary</td>   <th>  No. Observations:  </th>  <td>   193</td>  \n",
       "</tr>\n",
       "<tr>\n",
       "  <th>Model:</th>               <td>Logit</td>      <th>  Df Residuals:      </th>  <td>   178</td>  \n",
       "</tr>\n",
       "<tr>\n",
       "  <th>Method:</th>               <td>MLE</td>       <th>  Df Model:          </th>  <td>    14</td>  \n",
       "</tr>\n",
       "<tr>\n",
       "  <th>Date:</th>          <td>Mon, 23 Apr 2018</td> <th>  Pseudo R-squ.:     </th>  <td>0.1469</td>  \n",
       "</tr>\n",
       "<tr>\n",
       "  <th>Time:</th>              <td>22:44:10</td>     <th>  Log-Likelihood:    </th> <td> -114.12</td> \n",
       "</tr>\n",
       "<tr>\n",
       "  <th>converged:</th>           <td>True</td>       <th>  LL-Null:           </th> <td> -133.77</td> \n",
       "</tr>\n",
       "<tr>\n",
       "  <th> </th>                      <td> </td>        <th>  LLR p-value:       </th> <td>0.0003276</td>\n",
       "</tr>\n",
       "</table>\n",
       "<table class=\"simpletable\">\n",
       "<tr>\n",
       "                                <td></td>                                   <th>coef</th>     <th>std err</th>      <th>z</th>      <th>P>|z|</th>  <th>[0.025</th>    <th>0.975]</th>  \n",
       "</tr>\n",
       "<tr>\n",
       "  <th>Intercept</th>                                                     <td>    1.3350</td> <td>    0.503</td> <td>    2.656</td> <td> 0.008</td> <td>    0.350</td> <td>    2.320</td>\n",
       "</tr>\n",
       "<tr>\n",
       "  <th>C(City, Treatment(reference='San Francisco'))[T.Atlanta]</th>      <td>    0.6109</td> <td>    1.181</td> <td>    0.517</td> <td> 0.605</td> <td>   -1.704</td> <td>    2.926</td>\n",
       "</tr>\n",
       "<tr>\n",
       "  <th>C(City, Treatment(reference='San Francisco'))[T.Austin]</th>       <td>   -1.3350</td> <td>    0.765</td> <td>   -1.744</td> <td> 0.081</td> <td>   -2.835</td> <td>    0.165</td>\n",
       "</tr>\n",
       "<tr>\n",
       "  <th>C(City, Treatment(reference='San Francisco'))[T.Chicago]</th>      <td>   -0.7289</td> <td>    0.714</td> <td>   -1.020</td> <td> 0.308</td> <td>   -2.129</td> <td>    0.671</td>\n",
       "</tr>\n",
       "<tr>\n",
       "  <th>C(City, Treatment(reference='San Francisco'))[T.Dallas]</th>       <td>   -1.3350</td> <td>    0.959</td> <td>   -1.392</td> <td> 0.164</td> <td>   -3.214</td> <td>    0.544</td>\n",
       "</tr>\n",
       "<tr>\n",
       "  <th>C(City, Treatment(reference='San Francisco'))[T.Denver]</th>       <td>   -1.5581</td> <td>    0.838</td> <td>   -1.859</td> <td> 0.063</td> <td>   -3.201</td> <td>    0.085</td>\n",
       "</tr>\n",
       "<tr>\n",
       "  <th>C(City, Treatment(reference='San Francisco'))[T.Houston]</th>      <td>   -2.2513</td> <td>    0.776</td> <td>   -2.900</td> <td> 0.004</td> <td>   -3.773</td> <td>   -0.730</td>\n",
       "</tr>\n",
       "<tr>\n",
       "  <th>C(City, Treatment(reference='San Francisco'))[T.Los Angeles]</th>  <td>   -0.7160</td> <td>    0.687</td> <td>   -1.042</td> <td> 0.298</td> <td>   -2.063</td> <td>    0.631</td>\n",
       "</tr>\n",
       "<tr>\n",
       "  <th>C(City, Treatment(reference='San Francisco'))[T.Miami]</th>        <td>  -13.6968</td> <td>  161.142</td> <td>   -0.085</td> <td> 0.932</td> <td> -329.529</td> <td>  302.136</td>\n",
       "</tr>\n",
       "<tr>\n",
       "  <th>C(City, Treatment(reference='San Francisco'))[T.New York]</th>     <td>   -1.8146</td> <td>    0.614</td> <td>   -2.955</td> <td> 0.003</td> <td>   -3.018</td> <td>   -0.611</td>\n",
       "</tr>\n",
       "<tr>\n",
       "  <th>C(City, Treatment(reference='San Francisco'))[T.Philadelphia]</th> <td>   -1.5581</td> <td>    0.691</td> <td>   -2.255</td> <td> 0.024</td> <td>   -2.913</td> <td>   -0.204</td>\n",
       "</tr>\n",
       "<tr>\n",
       "  <th>C(City, Treatment(reference='San Francisco'))[T.Phoenix]</th>      <td>   -1.7405</td> <td>    1.042</td> <td>   -1.670</td> <td> 0.095</td> <td>   -3.783</td> <td>    0.302</td>\n",
       "</tr>\n",
       "<tr>\n",
       "  <th>C(City, Treatment(reference='San Francisco'))[T.Pittsburgh]</th>   <td>  -12.1927</td> <td>  161.141</td> <td>   -0.076</td> <td> 0.940</td> <td> -328.023</td> <td>  303.638</td>\n",
       "</tr>\n",
       "<tr>\n",
       "  <th>C(City, Treatment(reference='San Francisco'))[T.Portland]</th>     <td>   -0.2364</td> <td>    1.259</td> <td>   -0.188</td> <td> 0.851</td> <td>   -2.705</td> <td>    2.232</td>\n",
       "</tr>\n",
       "<tr>\n",
       "  <th>C(City, Treatment(reference='San Francisco'))[T.Seattle]</th>      <td>   -1.8946</td> <td>    0.803</td> <td>   -2.358</td> <td> 0.018</td> <td>   -3.469</td> <td>   -0.320</td>\n",
       "</tr>\n",
       "</table>"
      ],
      "text/plain": [
       "<class 'statsmodels.iolib.summary.Summary'>\n",
       "\"\"\"\n",
       "                           Logit Regression Results                           \n",
       "==============================================================================\n",
       "Dep. Variable:            High_Salary   No. Observations:                  193\n",
       "Model:                          Logit   Df Residuals:                      178\n",
       "Method:                           MLE   Df Model:                           14\n",
       "Date:                Mon, 23 Apr 2018   Pseudo R-squ.:                  0.1469\n",
       "Time:                        22:44:10   Log-Likelihood:                -114.12\n",
       "converged:                       True   LL-Null:                       -133.77\n",
       "                                        LLR p-value:                 0.0003276\n",
       "=================================================================================================================================\n",
       "                                                                    coef    std err          z      P>|z|      [0.025      0.975]\n",
       "---------------------------------------------------------------------------------------------------------------------------------\n",
       "Intercept                                                         1.3350      0.503      2.656      0.008       0.350       2.320\n",
       "C(City, Treatment(reference='San Francisco'))[T.Atlanta]          0.6109      1.181      0.517      0.605      -1.704       2.926\n",
       "C(City, Treatment(reference='San Francisco'))[T.Austin]          -1.3350      0.765     -1.744      0.081      -2.835       0.165\n",
       "C(City, Treatment(reference='San Francisco'))[T.Chicago]         -0.7289      0.714     -1.020      0.308      -2.129       0.671\n",
       "C(City, Treatment(reference='San Francisco'))[T.Dallas]          -1.3350      0.959     -1.392      0.164      -3.214       0.544\n",
       "C(City, Treatment(reference='San Francisco'))[T.Denver]          -1.5581      0.838     -1.859      0.063      -3.201       0.085\n",
       "C(City, Treatment(reference='San Francisco'))[T.Houston]         -2.2513      0.776     -2.900      0.004      -3.773      -0.730\n",
       "C(City, Treatment(reference='San Francisco'))[T.Los Angeles]     -0.7160      0.687     -1.042      0.298      -2.063       0.631\n",
       "C(City, Treatment(reference='San Francisco'))[T.Miami]          -13.6968    161.142     -0.085      0.932    -329.529     302.136\n",
       "C(City, Treatment(reference='San Francisco'))[T.New York]        -1.8146      0.614     -2.955      0.003      -3.018      -0.611\n",
       "C(City, Treatment(reference='San Francisco'))[T.Philadelphia]    -1.5581      0.691     -2.255      0.024      -2.913      -0.204\n",
       "C(City, Treatment(reference='San Francisco'))[T.Phoenix]         -1.7405      1.042     -1.670      0.095      -3.783       0.302\n",
       "C(City, Treatment(reference='San Francisco'))[T.Pittsburgh]     -12.1927    161.141     -0.076      0.940    -328.023     303.638\n",
       "C(City, Treatment(reference='San Francisco'))[T.Portland]        -0.2364      1.259     -0.188      0.851      -2.705       2.232\n",
       "C(City, Treatment(reference='San Francisco'))[T.Seattle]         -1.8946      0.803     -2.358      0.018      -3.469      -0.320\n",
       "=================================================================================================================================\n",
       "\"\"\""
      ]
     },
     "execution_count": 86,
     "metadata": {},
     "output_type": "execute_result"
    }
   ],
   "source": [
    "# Fit logistic regression model, using the categorical variable 'City',\n",
    "# with 'San Francisco' treated as the reference point\n",
    "sm_city1 = smf.logit(\"High_Salary ~ C(City, Treatment(reference='San Francisco'))\", \n",
    "                    data=X_train_sm).fit(method='ncg', random_state=5)\n",
    "\n",
    "# Inspect results\n",
    "sm_city1.summary()"
   ]
  },
  {
   "cell_type": "markdown",
   "metadata": {},
   "source": [
    "Note, with the exception of the coefficient for Miami (which has a very slight discrepancy), these coefficients and the intercept \n",
    "are 100% aligned with those calculated with SKLearn."
   ]
  },
  {
   "cell_type": "code",
   "execution_count": 87,
   "metadata": {
    "ExecuteTime": {
     "end_time": "2018-04-23T21:48:06.991245Z",
     "start_time": "2018-04-23T21:48:06.985986Z"
    }
   },
   "outputs": [],
   "source": [
    "# Use this model on test data to predict High or Low salaries\n",
    "predictions_sm = 1*(sm_city1.predict(X_test_sm)>0.5).values\n"
   ]
  },
  {
   "cell_type": "code",
   "execution_count": 88,
   "metadata": {
    "ExecuteTime": {
     "end_time": "2018-04-23T21:48:07.821553Z",
     "start_time": "2018-04-23T21:48:07.817278Z"
    }
   },
   "outputs": [
    {
     "data": {
      "text/plain": [
       "13"
      ]
     },
     "execution_count": 88,
     "metadata": {},
     "output_type": "execute_result"
    }
   ],
   "source": [
    "# Compare predictions from sklearn and statsmodels\n",
    "(predictions_sm != predictions).sum()"
   ]
  },
  {
   "cell_type": "markdown",
   "metadata": {},
   "source": [
    "Comparing the predictions between sklearn and statsmodels shows that there are 13 discrepencies. \n",
    "\n",
    "There shouldn't be any discrepencies - especially since the coefficients of the 2 models are the same.  I suspect these discrepencies will be due to the different solvers \n",
    "used by the 2 models.  The statsmodel here uses the ncg solver, while the Logistic Regression model it's \n",
    "being compared to used the default libliner solver.  With some more time, I could re-run these models to verify this."
   ]
  },
  {
   "cell_type": "markdown",
   "metadata": {
    "focus": false,
    "id": "4fb29de2-5b98-474c-a4ad-5170b72b9aea"
   },
   "source": [
    "#### Model taking into account job levels and categories:\n",
    "\n",
    "- Create a few new variables in your dataframe to represent interesting features of a job title.\n",
    "- For example, create a feature that represents whether 'Senior' is in the title or whether 'Manager' is in the title. \n",
    "- Incorporate other text features from the title or summary that you believe will predict the salary.\n",
    "- Then build new classification models including also those features. Do they add any value? \n",
    "- Tune your models by testing parameter ranges, regularization strengths, etc. Discuss how that affects your models. \n",
    "- Discuss model coefficients or feature importances as applicable."
   ]
  },
  {
   "cell_type": "code",
   "execution_count": 89,
   "metadata": {
    "ExecuteTime": {
     "end_time": "2018-04-23T21:48:53.216012Z",
     "start_time": "2018-04-23T21:48:53.203150Z"
    }
   },
   "outputs": [
    {
     "data": {
      "text/html": [
       "<div>\n",
       "<style scoped>\n",
       "    .dataframe tbody tr th:only-of-type {\n",
       "        vertical-align: middle;\n",
       "    }\n",
       "\n",
       "    .dataframe tbody tr th {\n",
       "        vertical-align: top;\n",
       "    }\n",
       "\n",
       "    .dataframe thead th {\n",
       "        text-align: right;\n",
       "    }\n",
       "</style>\n",
       "<table border=\"1\" class=\"dataframe\">\n",
       "  <thead>\n",
       "    <tr style=\"text-align: right;\">\n",
       "      <th></th>\n",
       "      <th>City</th>\n",
       "      <th>Company</th>\n",
       "      <th>Location</th>\n",
       "      <th>Reviews</th>\n",
       "      <th>Salary</th>\n",
       "      <th>Summary</th>\n",
       "      <th>Title</th>\n",
       "      <th>Indeed_Estimate</th>\n",
       "      <th>High_Salary</th>\n",
       "      <th>Review_Class</th>\n",
       "      <th>Log_Reviews</th>\n",
       "    </tr>\n",
       "  </thead>\n",
       "  <tbody>\n",
       "    <tr>\n",
       "      <th>0</th>\n",
       "      <td>Dallas</td>\n",
       "      <td>Hitachi Consulting Corporation US</td>\n",
       "      <td>Dallas, TX</td>\n",
       "      <td>153.0</td>\n",
       "      <td>124000</td>\n",
       "      <td>The Data Scientist designs, builds and maintai...</td>\n",
       "      <td>Sr Consultant Data Scientist</td>\n",
       "      <td>1</td>\n",
       "      <td>1</td>\n",
       "      <td>4</td>\n",
       "      <td>5.030438</td>\n",
       "    </tr>\n",
       "    <tr>\n",
       "      <th>1</th>\n",
       "      <td>Dallas</td>\n",
       "      <td>7-Eleven</td>\n",
       "      <td>Irving, TX</td>\n",
       "      <td>7125.0</td>\n",
       "      <td>115000</td>\n",
       "      <td>Work closely with data engineersto ensure the ...</td>\n",
       "      <td>Sr Data Scientist</td>\n",
       "      <td>1</td>\n",
       "      <td>1</td>\n",
       "      <td>6</td>\n",
       "      <td>8.871365</td>\n",
       "    </tr>\n",
       "    <tr>\n",
       "      <th>2</th>\n",
       "      <td>Dallas</td>\n",
       "      <td>Workbridge Associates</td>\n",
       "      <td>Dallas, TX</td>\n",
       "      <td>36.0</td>\n",
       "      <td>107500</td>\n",
       "      <td>Experience with data modeling, analysis, progr...</td>\n",
       "      <td>Full-Stack Software Engineer (Predictive Analy...</td>\n",
       "      <td>0</td>\n",
       "      <td>0</td>\n",
       "      <td>3</td>\n",
       "      <td>3.583519</td>\n",
       "    </tr>\n",
       "    <tr>\n",
       "      <th>3</th>\n",
       "      <td>Dallas</td>\n",
       "      <td>A+ Consulting</td>\n",
       "      <td>Plano, TX</td>\n",
       "      <td>0.0</td>\n",
       "      <td>150000</td>\n",
       "      <td>This is a direct hire position - not contract....</td>\n",
       "      <td>Principal Machine Learning/Nlp Engineer-Architect</td>\n",
       "      <td>0</td>\n",
       "      <td>1</td>\n",
       "      <td>1</td>\n",
       "      <td>0.000000</td>\n",
       "    </tr>\n",
       "    <tr>\n",
       "      <th>4</th>\n",
       "      <td>Dallas</td>\n",
       "      <td>Platform by Per Scholas</td>\n",
       "      <td>Dallas, TX</td>\n",
       "      <td>0.0</td>\n",
       "      <td>55000</td>\n",
       "      <td>Java, Oracle DB, Shell Scripting, SDLC and Cod...</td>\n",
       "      <td>Data Scientist/Analyst</td>\n",
       "      <td>0</td>\n",
       "      <td>0</td>\n",
       "      <td>1</td>\n",
       "      <td>0.000000</td>\n",
       "    </tr>\n",
       "  </tbody>\n",
       "</table>\n",
       "</div>"
      ],
      "text/plain": [
       "     City                            Company    Location  Reviews  Salary  \\\n",
       "0  Dallas  Hitachi Consulting Corporation US  Dallas, TX    153.0  124000   \n",
       "1  Dallas                           7-Eleven  Irving, TX   7125.0  115000   \n",
       "2  Dallas              Workbridge Associates  Dallas, TX     36.0  107500   \n",
       "3  Dallas                      A+ Consulting   Plano, TX      0.0  150000   \n",
       "4  Dallas            Platform by Per Scholas  Dallas, TX      0.0   55000   \n",
       "\n",
       "                                             Summary  \\\n",
       "0  The Data Scientist designs, builds and maintai...   \n",
       "1  Work closely with data engineersto ensure the ...   \n",
       "2  Experience with data modeling, analysis, progr...   \n",
       "3  This is a direct hire position - not contract....   \n",
       "4  Java, Oracle DB, Shell Scripting, SDLC and Cod...   \n",
       "\n",
       "                                               Title  Indeed_Estimate  \\\n",
       "0                       Sr Consultant Data Scientist                1   \n",
       "1                                  Sr Data Scientist                1   \n",
       "2  Full-Stack Software Engineer (Predictive Analy...                0   \n",
       "3  Principal Machine Learning/Nlp Engineer-Architect                0   \n",
       "4                             Data Scientist/Analyst                0   \n",
       "\n",
       "   High_Salary  Review_Class  Log_Reviews  \n",
       "0            1             4     5.030438  \n",
       "1            1             6     8.871365  \n",
       "2            0             3     3.583519  \n",
       "3            1             1     0.000000  \n",
       "4            0             1     0.000000  "
      ]
     },
     "execution_count": 89,
     "metadata": {},
     "output_type": "execute_result"
    }
   ],
   "source": [
    "df.head()"
   ]
  },
  {
   "cell_type": "code",
   "execution_count": 90,
   "metadata": {
    "ExecuteTime": {
     "end_time": "2018-04-23T21:48:57.951480Z",
     "start_time": "2018-04-23T21:48:57.947801Z"
    }
   },
   "outputs": [],
   "source": [
    "# Define copy of df (df_w for analysis of words in job title) and extract the target variable\n",
    "df_w = df.copy()\n",
    "y_w = df_w['High_Salary']"
   ]
  },
  {
   "cell_type": "markdown",
   "metadata": {},
   "source": [
    "I've decided to focus my analysis on keywords within the Job Titles.  I'm going to split my data into training and testing \n",
    "data first (to isolate the test data), and will then analyse keywords in the Job Titles within the training data only."
   ]
  },
  {
   "cell_type": "code",
   "execution_count": 91,
   "metadata": {
    "ExecuteTime": {
     "end_time": "2018-04-23T21:49:11.387665Z",
     "start_time": "2018-04-23T21:49:11.382030Z"
    }
   },
   "outputs": [],
   "source": [
    "# Split data into training and test sets for analysis of words in Job Title\n",
    "X_train_w, X_test_w, y_train_w, y_test_w = train_test_split(df_w, y_w, test_size=0.4,\n",
    "                                                            stratify=y_w, random_state=5)"
   ]
  },
  {
   "cell_type": "markdown",
   "metadata": {},
   "source": [
    "I'm now going to split the training data (only) into 2 DFs: 1 for high salaries and 1 for low salaries.\n",
    "\n",
    "I'll then use the CountVectoriser class to analyse the most popular words apearing in Job Titles for both High and Low salaries.  This analysis of 'key words' will provide the basis for selecting features based on Job Title (i.e. keywords) to differentiate low and high salaries. "
   ]
  },
  {
   "cell_type": "code",
   "execution_count": 92,
   "metadata": {
    "ExecuteTime": {
     "end_time": "2018-04-23T21:49:24.954740Z",
     "start_time": "2018-04-23T21:49:24.949306Z"
    }
   },
   "outputs": [],
   "source": [
    "# Create 2 DFs: 1 for High Salaries and 1 for Low Salaries\n",
    "X_train_w1 = X_train_w.loc[X_train_w['High_Salary']==1,:]\n",
    "X_train_w0 = X_train_w.loc[X_train_w['High_Salary']==0,:]"
   ]
  },
  {
   "cell_type": "code",
   "execution_count": 93,
   "metadata": {
    "ExecuteTime": {
     "end_time": "2018-04-23T21:49:29.306662Z",
     "start_time": "2018-04-23T21:49:29.291276Z"
    }
   },
   "outputs": [],
   "source": [
    "# Import CountVectorizer to facilitate analysis of language used in Job Titles  \n",
    "from sklearn.feature_extraction.text import CountVectorizer"
   ]
  },
  {
   "cell_type": "code",
   "execution_count": 94,
   "metadata": {
    "ExecuteTime": {
     "end_time": "2018-04-23T21:49:31.343029Z",
     "start_time": "2018-04-23T21:49:31.324635Z"
    }
   },
   "outputs": [
    {
     "data": {
      "text/plain": [
       "CountVectorizer(analyzer='word', binary=False, decode_error='strict',\n",
       "        dtype=<class 'numpy.int64'>, encoding='utf-8', input='content',\n",
       "        lowercase=True, max_df=1.0, max_features=None, min_df=1,\n",
       "        ngram_range=(1, 1), preprocessor=None, stop_words='english',\n",
       "        strip_accents=None, token_pattern='(?u)\\\\b\\\\w\\\\w+\\\\b',\n",
       "        tokenizer=None, vocabulary=None)"
      ]
     },
     "execution_count": 94,
     "metadata": {},
     "output_type": "execute_result"
    }
   ],
   "source": [
    "# Define CountVectoriser object and use the stop_words argument to remove words like \"and, the, a\"\n",
    "cvec1 = CountVectorizer(stop_words='english')\n",
    "cvec0 = CountVectorizer(stop_words='english')\n",
    "\n",
    "# Fit the count vectorizer on the Job Title data for both High (class 1) and Low (class 0) salary jobs\n",
    "cvec1.fit(X_train_w1['Title'])\n",
    "cvec0.fit(X_train_w0['Title'])"
   ]
  },
  {
   "cell_type": "code",
   "execution_count": 95,
   "metadata": {
    "ExecuteTime": {
     "end_time": "2018-04-23T21:49:33.778090Z",
     "start_time": "2018-04-23T21:49:33.772893Z"
    }
   },
   "outputs": [
    {
     "name": "stdout",
     "output_type": "stream",
     "text": [
      "Number of unique words appearing in High Salary job titles: 116\n",
      "Number of unique words appearing in Low Salary job titles: 171\n"
     ]
    }
   ],
   "source": [
    "# Print the number of unique words appearing in Job Titles for both High and Low salary jobs\n",
    "print(f'Number of unique words appearing in High Salary job titles: {len(cvec1.get_feature_names())}')\n",
    "print(f'Number of unique words appearing in Low Salary job titles: {len(cvec0.get_feature_names())}')"
   ]
  },
  {
   "cell_type": "markdown",
   "metadata": {},
   "source": [
    "There are 47% more unique words appearing in the Job Titles of Low salary jobs, than high salary jobs - suggesting more \n",
    "'non-standard' naming conventions for lower paid jobs."
   ]
  },
  {
   "cell_type": "code",
   "execution_count": 96,
   "metadata": {
    "ExecuteTime": {
     "end_time": "2018-04-23T21:49:41.265432Z",
     "start_time": "2018-04-23T21:49:41.260710Z"
    }
   },
   "outputs": [],
   "source": [
    "# Transform training data (by class) to count the number of unique words appearing in the Job Titles\n",
    "cvec_mat1 = cvec1.transform(X_train_w1['Title'])\n",
    "cvec_mat0 = cvec0.transform(X_train_w0['Title'])"
   ]
  },
  {
   "cell_type": "code",
   "execution_count": 97,
   "metadata": {
    "ExecuteTime": {
     "end_time": "2018-04-23T21:49:43.895109Z",
     "start_time": "2018-04-23T21:49:43.882828Z"
    }
   },
   "outputs": [
    {
     "data": {
      "text/plain": [
       "data          54.0\n",
       "scientist     37.0\n",
       "engineer      33.0\n",
       "senior        28.0\n",
       "software      15.0\n",
       "machine        8.0\n",
       "science        8.0\n",
       "lead           8.0\n",
       "learning       8.0\n",
       "research       6.0\n",
       "analyst        6.0\n",
       "developer      5.0\n",
       "sr             5.0\n",
       "backend        5.0\n",
       "architect      5.0\n",
       "modeling       4.0\n",
       "director       4.0\n",
       "big            3.0\n",
       "instructor     3.0\n",
       "manager        3.0\n",
       "security       3.0\n",
       "principal      3.0\n",
       "level          2.0\n",
       "immersive      2.0\n",
       "devops         2.0\n",
       "dtype: float64"
      ]
     },
     "execution_count": 97,
     "metadata": {},
     "output_type": "execute_result"
    }
   ],
   "source": [
    "# Print percentage occurrence of 25 most frequent words appearing in high salary job titles \n",
    "df_cvec1 = pd.DataFrame(cvec_mat1.toarray(), columns=cvec1.get_feature_names())\n",
    "round(df_cvec1.sum(axis=0).sort_values(ascending=False)[:25] / len(X_train_w1) * 100)"
   ]
  },
  {
   "cell_type": "code",
   "execution_count": 98,
   "metadata": {
    "ExecuteTime": {
     "end_time": "2018-04-23T21:49:47.716258Z",
     "start_time": "2018-04-23T21:49:47.707465Z"
    }
   },
   "outputs": [
    {
     "data": {
      "text/plain": [
       "research         29.0\n",
       "scientist        27.0\n",
       "analyst          24.0\n",
       "data             22.0\n",
       "engineer         10.0\n",
       "senior            7.0\n",
       "manager           7.0\n",
       "statistician      7.0\n",
       "technician        7.0\n",
       "survey            6.0\n",
       "bureau            5.0\n",
       "software          4.0\n",
       "ii                4.0\n",
       "regional          4.0\n",
       "health            4.0\n",
       "environmental     4.0\n",
       "specialist        4.0\n",
       "medical           3.0\n",
       "sciences          3.0\n",
       "coordinator       3.0\n",
       "product           3.0\n",
       "statistical       3.0\n",
       "associate         3.0\n",
       "development       3.0\n",
       "supervisory       3.0\n",
       "dtype: float64"
      ]
     },
     "execution_count": 98,
     "metadata": {},
     "output_type": "execute_result"
    }
   ],
   "source": [
    "# Print percentage occurrence of 25 most frequent words appearing in low salary job titles \n",
    "df_cvec0 = pd.DataFrame(cvec_mat0.toarray(), columns=cvec0.get_feature_names())\n",
    "round(df_cvec0.sum(axis=0).sort_values(ascending=False)[:25] / len(X_train_w0) * 100)"
   ]
  },
  {
   "cell_type": "markdown",
   "metadata": {},
   "source": [
    "Note, the analysis above also reveals that there is perhaps some more data cleaning requirements on Job Titles (e.g. standardising instances of sr to Senior, cleaning the 'ii' in the Job Title etc.).  While this is noted, in the interest of time, I won't be cleaning this data here."
   ]
  },
  {
   "cell_type": "markdown",
   "metadata": {},
   "source": [
    "Reviewing the data above, I'm looking for words that appear in more than 10% of either high or low salary job titles, and words that also have a notable difference in the percentage of their occurence in high or low salary job titles.  \n",
    "\n",
    "Based on this, the words I've identified as features to investigate are listed below:\n",
    "- Data: appears in 54% of high salary job titles, vs 22% of low salary job titles\n",
    "- Engineer: appears in 33% of high salary job titles, vs 10% of low salary job titles\n",
    "- Senior: appears in 28% of high salary job titles, vs 7% of low salary job titles\n",
    "- Software: appears in 15% of high salary job titles, vs 4% of low salary job titles\n",
    "- Research: appears in 6% of high salary job titles, vs 29% of low salary job titles\n",
    "- Analyst: appears in 6% of high salary job titles, vs 24% of low salary job titles"
   ]
  },
  {
   "cell_type": "code",
   "execution_count": 99,
   "metadata": {
    "ExecuteTime": {
     "end_time": "2018-04-23T21:50:19.751560Z",
     "start_time": "2018-04-23T21:50:19.748168Z"
    }
   },
   "outputs": [],
   "source": [
    "# Take copy of DFs to enable insertion of new columns below without warnings\n",
    "X_train_w = X_train_w.copy()\n",
    "X_test_w = X_test_w.copy()"
   ]
  },
  {
   "cell_type": "code",
   "execution_count": 100,
   "metadata": {
    "ExecuteTime": {
     "end_time": "2018-04-23T21:50:54.888003Z",
     "start_time": "2018-04-23T21:50:54.874931Z"
    }
   },
   "outputs": [],
   "source": [
    "# Define list of Job Title keywords\n",
    "job_title_keywords = ['data', 'engineer', 'senior', 'software', 'research', 'analyst']\n",
    "\n",
    "# For each Job Title keyword, check if it's in the Job Title, and flag the job with either a \n",
    "# 1 or 0 in a keyword-specific column within the training DF to indicate if the word appears \n",
    "# in the Job Title or not.  Also updated the test data DF here.\n",
    "for label in job_title_keywords:\n",
    "    X_train_w[label+'_keyword'] = X_train_w['Title'].map(lambda x: 1 if label in x.lower() else 0)\n",
    "    X_test_w[label+'_keyword'] = X_test_w['Title'].map(lambda x: 1 if label in x.lower() else 0)"
   ]
  },
  {
   "cell_type": "markdown",
   "metadata": {},
   "source": [
    "Note, I'm performing the same loop on the test data, but I'm not reviewing the test data to identify \n",
    "specific keywords.  I'm updating the test data here, as these predictors will be used later.  In 'real life', \n",
    "I may need to update this DF at a later date (i.e. when the test data is available)."
   ]
  },
  {
   "cell_type": "code",
   "execution_count": 101,
   "metadata": {
    "ExecuteTime": {
     "end_time": "2018-04-23T21:51:07.049674Z",
     "start_time": "2018-04-23T21:51:07.032545Z"
    },
    "scrolled": false
   },
   "outputs": [
    {
     "data": {
      "text/html": [
       "<div>\n",
       "<style scoped>\n",
       "    .dataframe tbody tr th:only-of-type {\n",
       "        vertical-align: middle;\n",
       "    }\n",
       "\n",
       "    .dataframe tbody tr th {\n",
       "        vertical-align: top;\n",
       "    }\n",
       "\n",
       "    .dataframe thead th {\n",
       "        text-align: right;\n",
       "    }\n",
       "</style>\n",
       "<table border=\"1\" class=\"dataframe\">\n",
       "  <thead>\n",
       "    <tr style=\"text-align: right;\">\n",
       "      <th></th>\n",
       "      <th>City</th>\n",
       "      <th>Company</th>\n",
       "      <th>Location</th>\n",
       "      <th>Reviews</th>\n",
       "      <th>Salary</th>\n",
       "      <th>Summary</th>\n",
       "      <th>Title</th>\n",
       "      <th>Indeed_Estimate</th>\n",
       "      <th>High_Salary</th>\n",
       "      <th>Review_Class</th>\n",
       "      <th>Log_Reviews</th>\n",
       "      <th>data_keyword</th>\n",
       "      <th>engineer_keyword</th>\n",
       "      <th>senior_keyword</th>\n",
       "      <th>software_keyword</th>\n",
       "      <th>research_keyword</th>\n",
       "      <th>analyst_keyword</th>\n",
       "    </tr>\n",
       "  </thead>\n",
       "  <tbody>\n",
       "    <tr>\n",
       "      <th>101</th>\n",
       "      <td>Portland</td>\n",
       "      <td>Oregon Health &amp; Science University</td>\n",
       "      <td>Portland, OR</td>\n",
       "      <td>347.0</td>\n",
       "      <td>66916</td>\n",
       "      <td>Knowledge and proficiency in ERAS, MedHub (res...</td>\n",
       "      <td>Education Manager</td>\n",
       "      <td>0</td>\n",
       "      <td>0</td>\n",
       "      <td>4</td>\n",
       "      <td>5.849325</td>\n",
       "      <td>0</td>\n",
       "      <td>0</td>\n",
       "      <td>0</td>\n",
       "      <td>0</td>\n",
       "      <td>0</td>\n",
       "      <td>0</td>\n",
       "    </tr>\n",
       "    <tr>\n",
       "      <th>132</th>\n",
       "      <td>Houston</td>\n",
       "      <td>MD Anderson Cancer Center</td>\n",
       "      <td>Houston, TX</td>\n",
       "      <td>495.0</td>\n",
       "      <td>122500</td>\n",
       "      <td>Work with research and bioinformatics teams to...</td>\n",
       "      <td>Institute Research Scientist - Translational B...</td>\n",
       "      <td>0</td>\n",
       "      <td>1</td>\n",
       "      <td>5</td>\n",
       "      <td>6.204558</td>\n",
       "      <td>0</td>\n",
       "      <td>0</td>\n",
       "      <td>0</td>\n",
       "      <td>0</td>\n",
       "      <td>1</td>\n",
       "      <td>0</td>\n",
       "    </tr>\n",
       "    <tr>\n",
       "      <th>100</th>\n",
       "      <td>Pittsburgh</td>\n",
       "      <td>Oxford Solutions</td>\n",
       "      <td>Pittsburgh, PA</td>\n",
       "      <td>9.0</td>\n",
       "      <td>102500</td>\n",
       "      <td>Big Data Engineer / Oracle DBA / Data Modeling...</td>\n",
       "      <td>Big Data Engineer</td>\n",
       "      <td>1</td>\n",
       "      <td>0</td>\n",
       "      <td>2</td>\n",
       "      <td>2.197225</td>\n",
       "      <td>1</td>\n",
       "      <td>1</td>\n",
       "      <td>0</td>\n",
       "      <td>0</td>\n",
       "      <td>0</td>\n",
       "      <td>0</td>\n",
       "    </tr>\n",
       "    <tr>\n",
       "      <th>117</th>\n",
       "      <td>Philadelphia</td>\n",
       "      <td>Ezra Penland Actuarial Recruitment</td>\n",
       "      <td>Philadelphia, PA</td>\n",
       "      <td>0.0</td>\n",
       "      <td>150005</td>\n",
       "      <td>For Position 80800W, a Philadelphia client pla...</td>\n",
       "      <td>Insurance Predictive Modeling Actuary #80800W</td>\n",
       "      <td>0</td>\n",
       "      <td>1</td>\n",
       "      <td>1</td>\n",
       "      <td>0.000000</td>\n",
       "      <td>0</td>\n",
       "      <td>0</td>\n",
       "      <td>0</td>\n",
       "      <td>0</td>\n",
       "      <td>0</td>\n",
       "      <td>0</td>\n",
       "    </tr>\n",
       "    <tr>\n",
       "      <th>224</th>\n",
       "      <td>Atlanta</td>\n",
       "      <td>Next Level Business Services, Inc.</td>\n",
       "      <td>Atlanta, GA</td>\n",
       "      <td>2.0</td>\n",
       "      <td>125000</td>\n",
       "      <td>Knowledge of data collection using query langu...</td>\n",
       "      <td>Data Scientist/Technical Architect</td>\n",
       "      <td>1</td>\n",
       "      <td>1</td>\n",
       "      <td>2</td>\n",
       "      <td>0.693147</td>\n",
       "      <td>1</td>\n",
       "      <td>0</td>\n",
       "      <td>0</td>\n",
       "      <td>0</td>\n",
       "      <td>0</td>\n",
       "      <td>0</td>\n",
       "    </tr>\n",
       "  </tbody>\n",
       "</table>\n",
       "</div>"
      ],
      "text/plain": [
       "             City                             Company          Location  \\\n",
       "101      Portland  Oregon Health & Science University      Portland, OR   \n",
       "132       Houston           MD Anderson Cancer Center       Houston, TX   \n",
       "100    Pittsburgh                    Oxford Solutions    Pittsburgh, PA   \n",
       "117  Philadelphia  Ezra Penland Actuarial Recruitment  Philadelphia, PA   \n",
       "224       Atlanta  Next Level Business Services, Inc.       Atlanta, GA   \n",
       "\n",
       "     Reviews  Salary                                            Summary  \\\n",
       "101    347.0   66916  Knowledge and proficiency in ERAS, MedHub (res...   \n",
       "132    495.0  122500  Work with research and bioinformatics teams to...   \n",
       "100      9.0  102500  Big Data Engineer / Oracle DBA / Data Modeling...   \n",
       "117      0.0  150005  For Position 80800W, a Philadelphia client pla...   \n",
       "224      2.0  125000  Knowledge of data collection using query langu...   \n",
       "\n",
       "                                                 Title  Indeed_Estimate  \\\n",
       "101                                  Education Manager                0   \n",
       "132  Institute Research Scientist - Translational B...                0   \n",
       "100                                  Big Data Engineer                1   \n",
       "117      Insurance Predictive Modeling Actuary #80800W                0   \n",
       "224                 Data Scientist/Technical Architect                1   \n",
       "\n",
       "     High_Salary  Review_Class  Log_Reviews  data_keyword  engineer_keyword  \\\n",
       "101            0             4     5.849325             0                 0   \n",
       "132            1             5     6.204558             0                 0   \n",
       "100            0             2     2.197225             1                 1   \n",
       "117            1             1     0.000000             0                 0   \n",
       "224            1             2     0.693147             1                 0   \n",
       "\n",
       "     senior_keyword  software_keyword  research_keyword  analyst_keyword  \n",
       "101               0                 0                 0                0  \n",
       "132               0                 0                 1                0  \n",
       "100               0                 0                 0                0  \n",
       "117               0                 0                 0                0  \n",
       "224               0                 0                 0                0  "
      ]
     },
     "execution_count": 101,
     "metadata": {},
     "output_type": "execute_result"
    }
   ],
   "source": [
    "# Check resulting df\n",
    "X_train_w.head()"
   ]
  },
  {
   "cell_type": "code",
   "execution_count": 104,
   "metadata": {
    "ExecuteTime": {
     "end_time": "2018-04-23T21:51:43.230224Z",
     "start_time": "2018-04-23T21:51:43.223648Z"
    }
   },
   "outputs": [
    {
     "name": "stdout",
     "output_type": "stream",
     "text": [
      "22.8% of jobs from the training data have not been flagged with a keyword.\n"
     ]
    }
   ],
   "source": [
    "# Review how many jobs in the training data have not been flagged with a keyword in their job title\n",
    "# Note, only review training data as test data should be unseen\n",
    "X_train_w['keyword_total'] = X_train_w.iloc[:, 11:17].sum(axis=1)\n",
    "mask = X_train_w['keyword_total'] == 0\n",
    "print(f'{round(mask.sum() / len(X_train_w) * 100, 2)}% of jobs from the training data have not been \\\n",
    "flagged with a keyword.')\n"
   ]
  },
  {
   "cell_type": "markdown",
   "metadata": {},
   "source": [
    "I'll now take a look at these jobs to see if I can identify additional keywords to differentiate these jobs between high and low salries."
   ]
  },
  {
   "cell_type": "code",
   "execution_count": 105,
   "metadata": {
    "ExecuteTime": {
     "end_time": "2018-04-23T21:51:51.507854Z",
     "start_time": "2018-04-23T21:51:51.502038Z"
    }
   },
   "outputs": [
    {
     "data": {
      "text/plain": [
       "101                                    Education Manager\n",
       "117        Insurance Predictive Modeling Actuary #80800W\n",
       "88                       Science Director, Glial Biology\n",
       "228                                         Statistician\n",
       "303         Sr. Statistician - Specialist Vii (Job 2239)\n",
       "37                            Communications Coordinator\n",
       "221    Supervisory Survey Statistician (Regional Surv...\n",
       "269                    Manufacturing Technician - Window\n",
       "121                       Statistical Risk Modeling Lead\n",
       "287                                  Assistant Scientist\n",
       "248    Environmental Health & Health Policy Sciences ...\n",
       "285                                  Associate Scientist\n",
       "165                           Leader Of Machine Learning\n",
       "195                  Environmental Compliance Specialist\n",
       "179                             Strategic Analytics Lead\n",
       "193    Asthma Coordinator, Bureau Of School Health/Sh...\n",
       "308                 Educational Instructional Specialist\n",
       "85     It Technical Recruiter At Nationwide Staffing ...\n",
       "39               Your Predictive Modeling Actuary #80836\n",
       "262    Executive Director, Cltc Job - School Of Infor...\n",
       "288                        Biological Scientist Ii - Ses\n",
       "42      Regional Enterprise Benefits Executive - Chicago\n",
       "171    Junior Developer, Environmental Surveillance A...\n",
       "81                         Lead Cloud Solution Architect\n",
       "11                         Product Development Scientist\n",
       "106                   Police Forensic Science Technician\n",
       "240                                   Computer Scientist\n",
       "31     Supervisory Survey Statistician (Regional Surv...\n",
       "152                                     Student / Intern\n",
       "83                                             President\n",
       "182               Section Chief, Project Management Unit\n",
       "149                            Tech Marketing Evangelist\n",
       "84                          Business Development Manager\n",
       "230    Student Trainee (Computer Science) Gs-1599-07 ...\n",
       "225                                     Hadoop Architect\n",
       "199    Project Coordinator, Bureau Of Environmental S...\n",
       "114    Supervisory Survey Statistician (Regional Surv...\n",
       "314      Technical Product Manager - Analytics Solutions\n",
       "294                                        Scientist R&D\n",
       "238                      Government Enterprise Architect\n",
       "142             Accountant Ii - Melanoma Medical Oncolgy\n",
       "122                                      Color Scientist\n",
       "60     Construction Materials Testing Technician / Sp...\n",
       "164                             Administrative Assistant\n",
       "Name: Title, dtype: object"
      ]
     },
     "execution_count": 105,
     "metadata": {},
     "output_type": "execute_result"
    }
   ],
   "source": [
    "X_train_w.loc[mask, 'Title']"
   ]
  },
  {
   "cell_type": "markdown",
   "metadata": {},
   "source": [
    "Based on review of the Job Titles above, I'm going to add 'scien', 'stat' and 'manager' to my list of Job Title keywords.  I'd originally left 'scientist' out of my list of keywords (even though it appeared in a significant proportion of job titles) as it didn't appear to differentiate High and Low paid jobs signficantly."
   ]
  },
  {
   "cell_type": "code",
   "execution_count": 106,
   "metadata": {
    "ExecuteTime": {
     "end_time": "2018-04-23T21:52:06.058580Z",
     "start_time": "2018-04-23T21:52:06.048883Z"
    }
   },
   "outputs": [],
   "source": [
    "# Add both 'scien', 'stat' and 'manager' to my list of Job Title keywords\n",
    "job_title_keywords = ['scien', 'stat', 'manager']\n",
    "\n",
    "# Repeat the step above, for these 3 additioanl keywords\n",
    "for label in job_title_keywords:\n",
    "    X_train_w[label+'_keyword'] = X_train_w['Title'].map(lambda x: 1 if label in x.lower() else 0)\n",
    "    X_test_w[label+'_keyword'] = X_test_w['Title'].map(lambda x: 1 if label in x.lower() else 0)"
   ]
  },
  {
   "cell_type": "code",
   "execution_count": 107,
   "metadata": {
    "ExecuteTime": {
     "end_time": "2018-04-23T21:52:07.653379Z",
     "start_time": "2018-04-23T21:52:07.646516Z"
    }
   },
   "outputs": [],
   "source": [
    "# Drop previous keyword_total column\n",
    "X_train_w.drop('keyword_total', axis=1, inplace=True)"
   ]
  },
  {
   "cell_type": "code",
   "execution_count": 108,
   "metadata": {
    "ExecuteTime": {
     "end_time": "2018-04-23T21:52:09.105610Z",
     "start_time": "2018-04-23T21:52:09.086682Z"
    }
   },
   "outputs": [
    {
     "data": {
      "text/html": [
       "<div>\n",
       "<style scoped>\n",
       "    .dataframe tbody tr th:only-of-type {\n",
       "        vertical-align: middle;\n",
       "    }\n",
       "\n",
       "    .dataframe tbody tr th {\n",
       "        vertical-align: top;\n",
       "    }\n",
       "\n",
       "    .dataframe thead th {\n",
       "        text-align: right;\n",
       "    }\n",
       "</style>\n",
       "<table border=\"1\" class=\"dataframe\">\n",
       "  <thead>\n",
       "    <tr style=\"text-align: right;\">\n",
       "      <th></th>\n",
       "      <th>City</th>\n",
       "      <th>Company</th>\n",
       "      <th>Location</th>\n",
       "      <th>Reviews</th>\n",
       "      <th>Salary</th>\n",
       "      <th>Summary</th>\n",
       "      <th>Title</th>\n",
       "      <th>Indeed_Estimate</th>\n",
       "      <th>High_Salary</th>\n",
       "      <th>Review_Class</th>\n",
       "      <th>Log_Reviews</th>\n",
       "      <th>data_keyword</th>\n",
       "      <th>engineer_keyword</th>\n",
       "      <th>senior_keyword</th>\n",
       "      <th>software_keyword</th>\n",
       "      <th>research_keyword</th>\n",
       "      <th>analyst_keyword</th>\n",
       "      <th>scien_keyword</th>\n",
       "      <th>stat_keyword</th>\n",
       "      <th>manager_keyword</th>\n",
       "    </tr>\n",
       "  </thead>\n",
       "  <tbody>\n",
       "    <tr>\n",
       "      <th>101</th>\n",
       "      <td>Portland</td>\n",
       "      <td>Oregon Health &amp; Science University</td>\n",
       "      <td>Portland, OR</td>\n",
       "      <td>347.0</td>\n",
       "      <td>66916</td>\n",
       "      <td>Knowledge and proficiency in ERAS, MedHub (res...</td>\n",
       "      <td>Education Manager</td>\n",
       "      <td>0</td>\n",
       "      <td>0</td>\n",
       "      <td>4</td>\n",
       "      <td>5.849325</td>\n",
       "      <td>0</td>\n",
       "      <td>0</td>\n",
       "      <td>0</td>\n",
       "      <td>0</td>\n",
       "      <td>0</td>\n",
       "      <td>0</td>\n",
       "      <td>0</td>\n",
       "      <td>0</td>\n",
       "      <td>1</td>\n",
       "    </tr>\n",
       "    <tr>\n",
       "      <th>132</th>\n",
       "      <td>Houston</td>\n",
       "      <td>MD Anderson Cancer Center</td>\n",
       "      <td>Houston, TX</td>\n",
       "      <td>495.0</td>\n",
       "      <td>122500</td>\n",
       "      <td>Work with research and bioinformatics teams to...</td>\n",
       "      <td>Institute Research Scientist - Translational B...</td>\n",
       "      <td>0</td>\n",
       "      <td>1</td>\n",
       "      <td>5</td>\n",
       "      <td>6.204558</td>\n",
       "      <td>0</td>\n",
       "      <td>0</td>\n",
       "      <td>0</td>\n",
       "      <td>0</td>\n",
       "      <td>1</td>\n",
       "      <td>0</td>\n",
       "      <td>1</td>\n",
       "      <td>0</td>\n",
       "      <td>0</td>\n",
       "    </tr>\n",
       "    <tr>\n",
       "      <th>100</th>\n",
       "      <td>Pittsburgh</td>\n",
       "      <td>Oxford Solutions</td>\n",
       "      <td>Pittsburgh, PA</td>\n",
       "      <td>9.0</td>\n",
       "      <td>102500</td>\n",
       "      <td>Big Data Engineer / Oracle DBA / Data Modeling...</td>\n",
       "      <td>Big Data Engineer</td>\n",
       "      <td>1</td>\n",
       "      <td>0</td>\n",
       "      <td>2</td>\n",
       "      <td>2.197225</td>\n",
       "      <td>1</td>\n",
       "      <td>1</td>\n",
       "      <td>0</td>\n",
       "      <td>0</td>\n",
       "      <td>0</td>\n",
       "      <td>0</td>\n",
       "      <td>0</td>\n",
       "      <td>0</td>\n",
       "      <td>0</td>\n",
       "    </tr>\n",
       "    <tr>\n",
       "      <th>117</th>\n",
       "      <td>Philadelphia</td>\n",
       "      <td>Ezra Penland Actuarial Recruitment</td>\n",
       "      <td>Philadelphia, PA</td>\n",
       "      <td>0.0</td>\n",
       "      <td>150005</td>\n",
       "      <td>For Position 80800W, a Philadelphia client pla...</td>\n",
       "      <td>Insurance Predictive Modeling Actuary #80800W</td>\n",
       "      <td>0</td>\n",
       "      <td>1</td>\n",
       "      <td>1</td>\n",
       "      <td>0.000000</td>\n",
       "      <td>0</td>\n",
       "      <td>0</td>\n",
       "      <td>0</td>\n",
       "      <td>0</td>\n",
       "      <td>0</td>\n",
       "      <td>0</td>\n",
       "      <td>0</td>\n",
       "      <td>0</td>\n",
       "      <td>0</td>\n",
       "    </tr>\n",
       "    <tr>\n",
       "      <th>224</th>\n",
       "      <td>Atlanta</td>\n",
       "      <td>Next Level Business Services, Inc.</td>\n",
       "      <td>Atlanta, GA</td>\n",
       "      <td>2.0</td>\n",
       "      <td>125000</td>\n",
       "      <td>Knowledge of data collection using query langu...</td>\n",
       "      <td>Data Scientist/Technical Architect</td>\n",
       "      <td>1</td>\n",
       "      <td>1</td>\n",
       "      <td>2</td>\n",
       "      <td>0.693147</td>\n",
       "      <td>1</td>\n",
       "      <td>0</td>\n",
       "      <td>0</td>\n",
       "      <td>0</td>\n",
       "      <td>0</td>\n",
       "      <td>0</td>\n",
       "      <td>1</td>\n",
       "      <td>0</td>\n",
       "      <td>0</td>\n",
       "    </tr>\n",
       "  </tbody>\n",
       "</table>\n",
       "</div>"
      ],
      "text/plain": [
       "             City                             Company          Location  \\\n",
       "101      Portland  Oregon Health & Science University      Portland, OR   \n",
       "132       Houston           MD Anderson Cancer Center       Houston, TX   \n",
       "100    Pittsburgh                    Oxford Solutions    Pittsburgh, PA   \n",
       "117  Philadelphia  Ezra Penland Actuarial Recruitment  Philadelphia, PA   \n",
       "224       Atlanta  Next Level Business Services, Inc.       Atlanta, GA   \n",
       "\n",
       "     Reviews  Salary                                            Summary  \\\n",
       "101    347.0   66916  Knowledge and proficiency in ERAS, MedHub (res...   \n",
       "132    495.0  122500  Work with research and bioinformatics teams to...   \n",
       "100      9.0  102500  Big Data Engineer / Oracle DBA / Data Modeling...   \n",
       "117      0.0  150005  For Position 80800W, a Philadelphia client pla...   \n",
       "224      2.0  125000  Knowledge of data collection using query langu...   \n",
       "\n",
       "                                                 Title  Indeed_Estimate  \\\n",
       "101                                  Education Manager                0   \n",
       "132  Institute Research Scientist - Translational B...                0   \n",
       "100                                  Big Data Engineer                1   \n",
       "117      Insurance Predictive Modeling Actuary #80800W                0   \n",
       "224                 Data Scientist/Technical Architect                1   \n",
       "\n",
       "     High_Salary  Review_Class  Log_Reviews  data_keyword  engineer_keyword  \\\n",
       "101            0             4     5.849325             0                 0   \n",
       "132            1             5     6.204558             0                 0   \n",
       "100            0             2     2.197225             1                 1   \n",
       "117            1             1     0.000000             0                 0   \n",
       "224            1             2     0.693147             1                 0   \n",
       "\n",
       "     senior_keyword  software_keyword  research_keyword  analyst_keyword  \\\n",
       "101               0                 0                 0                0   \n",
       "132               0                 0                 1                0   \n",
       "100               0                 0                 0                0   \n",
       "117               0                 0                 0                0   \n",
       "224               0                 0                 0                0   \n",
       "\n",
       "     scien_keyword  stat_keyword  manager_keyword  \n",
       "101              0             0                1  \n",
       "132              1             0                0  \n",
       "100              0             0                0  \n",
       "117              0             0                0  \n",
       "224              1             0                0  "
      ]
     },
     "execution_count": 108,
     "metadata": {},
     "output_type": "execute_result"
    }
   ],
   "source": [
    "X_train_w.head()"
   ]
  },
  {
   "cell_type": "code",
   "execution_count": 109,
   "metadata": {
    "ExecuteTime": {
     "end_time": "2018-04-23T21:52:12.944266Z",
     "start_time": "2018-04-23T21:52:12.937047Z"
    }
   },
   "outputs": [
    {
     "name": "stdout",
     "output_type": "stream",
     "text": [
      "11.92% of jobs from the training data have not been flagged with a keyword.\n"
     ]
    }
   ],
   "source": [
    "# Review again how many jobs in the training data have not been flagged with a keyword in their job title\n",
    "# Note, only reviewing the training data as test data should be unseen\n",
    "X_train_w['keyword_total'] = X_train_w.iloc[:, 11:20].sum(axis=1)\n",
    "mask = X_train_w['keyword_total'] == 0\n",
    "print(f'{round(mask.sum() / len(X_train_w) * 100, 2)}% of jobs from the training data have not been \\\n",
    "flagged with a keyword.')"
   ]
  },
  {
   "cell_type": "markdown",
   "metadata": {},
   "source": [
    "I'm comfortable with this percentage and will now model the data based on this."
   ]
  },
  {
   "cell_type": "code",
   "execution_count": 110,
   "metadata": {
    "ExecuteTime": {
     "end_time": "2018-04-23T21:52:27.555943Z",
     "start_time": "2018-04-23T21:52:27.548008Z"
    }
   },
   "outputs": [],
   "source": [
    "# Define list of columns to drop from the training and test data for the predictor matrices\n",
    "drop_columns = ['Company', 'Location', 'Reviews', 'Salary', 'Summary', 'Title', 'Indeed_Estimate',\n",
    "                'High_Salary', 'Log_Reviews', 'keyword_total']\n",
    "\n",
    "X_train_wp = X_train_w.drop(drop_columns, axis=1)\n",
    "X_test_wp = X_test_w.drop(drop_columns[:-1], axis=1)   # The predictor test set doesn't contain the keyword_total column"
   ]
  },
  {
   "cell_type": "code",
   "execution_count": 111,
   "metadata": {
    "ExecuteTime": {
     "end_time": "2018-04-23T21:52:29.363249Z",
     "start_time": "2018-04-23T21:52:29.359085Z"
    }
   },
   "outputs": [
    {
     "name": "stdout",
     "output_type": "stream",
     "text": [
      "(193, 11)\n",
      "(130, 11)\n",
      "(193,)\n",
      "(130,)\n"
     ]
    }
   ],
   "source": [
    "# Verify size of precitor matrices and target arrays before modeling\n",
    "print(X_train_wp.shape)\n",
    "print(X_test_wp.shape)\n",
    "print(y_train_w.shape)\n",
    "print(y_test_w.shape)"
   ]
  },
  {
   "cell_type": "code",
   "execution_count": 112,
   "metadata": {
    "ExecuteTime": {
     "end_time": "2018-04-23T21:52:35.791548Z",
     "start_time": "2018-04-23T21:52:35.783967Z"
    }
   },
   "outputs": [
    {
     "data": {
      "text/plain": [
       "New York         34\n",
       "San Francisco    24\n",
       "Los Angeles      20\n",
       "Philadelphia     18\n",
       "Chicago          17\n",
       "Houston          14\n",
       "Austin           12\n",
       "Seattle          11\n",
       "Miami             9\n",
       "Denver            9\n",
       "Atlanta           8\n",
       "Dallas            6\n",
       "Phoenix           5\n",
       "Portland          4\n",
       "Pittsburgh        2\n",
       "Name: City, dtype: int64"
      ]
     },
     "execution_count": 112,
     "metadata": {},
     "output_type": "execute_result"
    }
   ],
   "source": [
    "# Verify that all cities are represented in the train and test predictor matrices before dumifying\n",
    "X_train_wp['City'].value_counts()"
   ]
  },
  {
   "cell_type": "code",
   "execution_count": 113,
   "metadata": {
    "ExecuteTime": {
     "end_time": "2018-04-23T21:52:38.730055Z",
     "start_time": "2018-04-23T21:52:38.722477Z"
    }
   },
   "outputs": [
    {
     "data": {
      "text/plain": [
       "New York         25\n",
       "Chicago          15\n",
       "Los Angeles      12\n",
       "Houston          11\n",
       "San Francisco    10\n",
       "Miami             9\n",
       "Atlanta           9\n",
       "Dallas            9\n",
       "Seattle           8\n",
       "Denver            8\n",
       "Phoenix           5\n",
       "Austin            4\n",
       "Philadelphia      3\n",
       "Portland          1\n",
       "Pittsburgh        1\n",
       "Name: City, dtype: int64"
      ]
     },
     "execution_count": 113,
     "metadata": {},
     "output_type": "execute_result"
    }
   ],
   "source": [
    "X_test_wp['City'].value_counts()"
   ]
  },
  {
   "cell_type": "code",
   "execution_count": 114,
   "metadata": {
    "ExecuteTime": {
     "end_time": "2018-04-23T21:52:58.475604Z",
     "start_time": "2018-04-23T21:52:58.463883Z"
    }
   },
   "outputs": [],
   "source": [
    "# Dumify train and test data separately, dropping the San Francisco column in both\n",
    "X_train_wp = pd.get_dummies(X_train_wp)\n",
    "X_train_wp.drop('City_San Francisco', axis=1, inplace=True)\n",
    "X_test_wp = pd.get_dummies(X_test_wp)\n",
    "X_test_wp.drop('City_San Francisco', axis=1, inplace=True)"
   ]
  },
  {
   "cell_type": "code",
   "execution_count": 115,
   "metadata": {
    "ExecuteTime": {
     "end_time": "2018-04-23T21:53:02.597966Z",
     "start_time": "2018-04-23T21:53:02.592382Z"
    }
   },
   "outputs": [],
   "source": [
    "# Standardise train and test predictor matrices with standard scalar fitted to to the training data\n",
    "ss = StandardScaler()\n",
    "ss.fit(X_train_wp)\n",
    "\n",
    "X_train_wp_ss = ss.transform(X_train_wp)\n",
    "X_test_wp_ss = ss.transform(X_test_wp)"
   ]
  },
  {
   "cell_type": "code",
   "execution_count": 116,
   "metadata": {
    "ExecuteTime": {
     "end_time": "2018-04-23T21:53:04.391579Z",
     "start_time": "2018-04-23T21:53:04.335693Z"
    },
    "scrolled": true
   },
   "outputs": [
    {
     "data": {
      "text/html": [
       "<div>\n",
       "<style scoped>\n",
       "    .dataframe tbody tr th:only-of-type {\n",
       "        vertical-align: middle;\n",
       "    }\n",
       "\n",
       "    .dataframe tbody tr th {\n",
       "        vertical-align: top;\n",
       "    }\n",
       "\n",
       "    .dataframe thead th {\n",
       "        text-align: right;\n",
       "    }\n",
       "</style>\n",
       "<table border=\"1\" class=\"dataframe\">\n",
       "  <thead>\n",
       "    <tr style=\"text-align: right;\">\n",
       "      <th></th>\n",
       "      <th>Review_Class</th>\n",
       "      <th>data_keyword</th>\n",
       "      <th>engineer_keyword</th>\n",
       "      <th>senior_keyword</th>\n",
       "      <th>software_keyword</th>\n",
       "      <th>research_keyword</th>\n",
       "      <th>analyst_keyword</th>\n",
       "      <th>scien_keyword</th>\n",
       "      <th>stat_keyword</th>\n",
       "      <th>manager_keyword</th>\n",
       "      <th>City_Atlanta</th>\n",
       "      <th>City_Austin</th>\n",
       "      <th>City_Chicago</th>\n",
       "      <th>City_Dallas</th>\n",
       "      <th>City_Denver</th>\n",
       "      <th>City_Houston</th>\n",
       "      <th>City_Los Angeles</th>\n",
       "      <th>City_Miami</th>\n",
       "      <th>City_New York</th>\n",
       "      <th>City_Philadelphia</th>\n",
       "      <th>City_Phoenix</th>\n",
       "      <th>City_Pittsburgh</th>\n",
       "      <th>City_Portland</th>\n",
       "      <th>City_Seattle</th>\n",
       "    </tr>\n",
       "  </thead>\n",
       "  <tbody>\n",
       "    <tr>\n",
       "      <th>count</th>\n",
       "      <td>1.930000e+02</td>\n",
       "      <td>1.930000e+02</td>\n",
       "      <td>1.930000e+02</td>\n",
       "      <td>1.930000e+02</td>\n",
       "      <td>1.930000e+02</td>\n",
       "      <td>1.930000e+02</td>\n",
       "      <td>1.930000e+02</td>\n",
       "      <td>1.930000e+02</td>\n",
       "      <td>1.930000e+02</td>\n",
       "      <td>1.930000e+02</td>\n",
       "      <td>1.930000e+02</td>\n",
       "      <td>1.930000e+02</td>\n",
       "      <td>1.930000e+02</td>\n",
       "      <td>1.930000e+02</td>\n",
       "      <td>1.930000e+02</td>\n",
       "      <td>1.930000e+02</td>\n",
       "      <td>1.930000e+02</td>\n",
       "      <td>1.930000e+02</td>\n",
       "      <td>1.930000e+02</td>\n",
       "      <td>1.930000e+02</td>\n",
       "      <td>1.930000e+02</td>\n",
       "      <td>1.930000e+02</td>\n",
       "      <td>1.930000e+02</td>\n",
       "      <td>1.930000e+02</td>\n",
       "    </tr>\n",
       "    <tr>\n",
       "      <th>mean</th>\n",
       "      <td>-1.210891e-16</td>\n",
       "      <td>1.185005e-16</td>\n",
       "      <td>3.681569e-17</td>\n",
       "      <td>5.752451e-17</td>\n",
       "      <td>5.752451e-19</td>\n",
       "      <td>1.196510e-16</td>\n",
       "      <td>-3.595282e-17</td>\n",
       "      <td>-1.668211e-16</td>\n",
       "      <td>-4.889583e-17</td>\n",
       "      <td>-2.349876e-16</td>\n",
       "      <td>-1.567543e-16</td>\n",
       "      <td>-3.911667e-17</td>\n",
       "      <td>5.867500e-17</td>\n",
       "      <td>-8.858774e-17</td>\n",
       "      <td>5.119681e-17</td>\n",
       "      <td>-1.179252e-17</td>\n",
       "      <td>-4.889583e-17</td>\n",
       "      <td>5.177206e-18</td>\n",
       "      <td>8.283529e-17</td>\n",
       "      <td>6.155122e-17</td>\n",
       "      <td>-3.106323e-17</td>\n",
       "      <td>-1.471189e-16</td>\n",
       "      <td>-7.161801e-17</td>\n",
       "      <td>-2.223322e-16</td>\n",
       "    </tr>\n",
       "    <tr>\n",
       "      <th>std</th>\n",
       "      <td>1.002601e+00</td>\n",
       "      <td>1.002601e+00</td>\n",
       "      <td>1.002601e+00</td>\n",
       "      <td>1.002601e+00</td>\n",
       "      <td>1.002601e+00</td>\n",
       "      <td>1.002601e+00</td>\n",
       "      <td>1.002601e+00</td>\n",
       "      <td>1.002601e+00</td>\n",
       "      <td>1.002601e+00</td>\n",
       "      <td>1.002601e+00</td>\n",
       "      <td>1.002601e+00</td>\n",
       "      <td>1.002601e+00</td>\n",
       "      <td>1.002601e+00</td>\n",
       "      <td>1.002601e+00</td>\n",
       "      <td>1.002601e+00</td>\n",
       "      <td>1.002601e+00</td>\n",
       "      <td>1.002601e+00</td>\n",
       "      <td>1.002601e+00</td>\n",
       "      <td>1.002601e+00</td>\n",
       "      <td>1.002601e+00</td>\n",
       "      <td>1.002601e+00</td>\n",
       "      <td>1.002601e+00</td>\n",
       "      <td>1.002601e+00</td>\n",
       "      <td>1.002601e+00</td>\n",
       "    </tr>\n",
       "    <tr>\n",
       "      <th>min</th>\n",
       "      <td>-1.042341e+00</td>\n",
       "      <td>-7.713892e-01</td>\n",
       "      <td>-5.354126e-01</td>\n",
       "      <td>-4.624246e-01</td>\n",
       "      <td>-3.304473e-01</td>\n",
       "      <td>-4.541476e-01</td>\n",
       "      <td>-4.119429e-01</td>\n",
       "      <td>-7.972410e-01</td>\n",
       "      <td>-2.796646e-01</td>\n",
       "      <td>-2.337623e-01</td>\n",
       "      <td>-2.079501e-01</td>\n",
       "      <td>-2.574846e-01</td>\n",
       "      <td>-3.107908e-01</td>\n",
       "      <td>-1.791244e-01</td>\n",
       "      <td>-2.211629e-01</td>\n",
       "      <td>-2.796646e-01</td>\n",
       "      <td>-3.400102e-01</td>\n",
       "      <td>-2.211629e-01</td>\n",
       "      <td>-4.624246e-01</td>\n",
       "      <td>-3.207135e-01</td>\n",
       "      <td>-1.630820e-01</td>\n",
       "      <td>-1.023289e-01</td>\n",
       "      <td>-1.454786e-01</td>\n",
       "      <td>-2.458446e-01</td>\n",
       "    </tr>\n",
       "    <tr>\n",
       "      <th>25%</th>\n",
       "      <td>-1.042341e+00</td>\n",
       "      <td>-7.713892e-01</td>\n",
       "      <td>-5.354126e-01</td>\n",
       "      <td>-4.624246e-01</td>\n",
       "      <td>-3.304473e-01</td>\n",
       "      <td>-4.541476e-01</td>\n",
       "      <td>-4.119429e-01</td>\n",
       "      <td>-7.972410e-01</td>\n",
       "      <td>-2.796646e-01</td>\n",
       "      <td>-2.337623e-01</td>\n",
       "      <td>-2.079501e-01</td>\n",
       "      <td>-2.574846e-01</td>\n",
       "      <td>-3.107908e-01</td>\n",
       "      <td>-1.791244e-01</td>\n",
       "      <td>-2.211629e-01</td>\n",
       "      <td>-2.796646e-01</td>\n",
       "      <td>-3.400102e-01</td>\n",
       "      <td>-2.211629e-01</td>\n",
       "      <td>-4.624246e-01</td>\n",
       "      <td>-3.207135e-01</td>\n",
       "      <td>-1.630820e-01</td>\n",
       "      <td>-1.023289e-01</td>\n",
       "      <td>-1.454786e-01</td>\n",
       "      <td>-2.458446e-01</td>\n",
       "    </tr>\n",
       "    <tr>\n",
       "      <th>50%</th>\n",
       "      <td>-4.233510e-01</td>\n",
       "      <td>-7.713892e-01</td>\n",
       "      <td>-5.354126e-01</td>\n",
       "      <td>-4.624246e-01</td>\n",
       "      <td>-3.304473e-01</td>\n",
       "      <td>-4.541476e-01</td>\n",
       "      <td>-4.119429e-01</td>\n",
       "      <td>-7.972410e-01</td>\n",
       "      <td>-2.796646e-01</td>\n",
       "      <td>-2.337623e-01</td>\n",
       "      <td>-2.079501e-01</td>\n",
       "      <td>-2.574846e-01</td>\n",
       "      <td>-3.107908e-01</td>\n",
       "      <td>-1.791244e-01</td>\n",
       "      <td>-2.211629e-01</td>\n",
       "      <td>-2.796646e-01</td>\n",
       "      <td>-3.400102e-01</td>\n",
       "      <td>-2.211629e-01</td>\n",
       "      <td>-4.624246e-01</td>\n",
       "      <td>-3.207135e-01</td>\n",
       "      <td>-1.630820e-01</td>\n",
       "      <td>-1.023289e-01</td>\n",
       "      <td>-1.454786e-01</td>\n",
       "      <td>-2.458446e-01</td>\n",
       "    </tr>\n",
       "    <tr>\n",
       "      <th>75%</th>\n",
       "      <td>8.146300e-01</td>\n",
       "      <td>1.296362e+00</td>\n",
       "      <td>-5.354126e-01</td>\n",
       "      <td>-4.624246e-01</td>\n",
       "      <td>-3.304473e-01</td>\n",
       "      <td>-4.541476e-01</td>\n",
       "      <td>-4.119429e-01</td>\n",
       "      <td>1.254326e+00</td>\n",
       "      <td>-2.796646e-01</td>\n",
       "      <td>-2.337623e-01</td>\n",
       "      <td>-2.079501e-01</td>\n",
       "      <td>-2.574846e-01</td>\n",
       "      <td>-3.107908e-01</td>\n",
       "      <td>-1.791244e-01</td>\n",
       "      <td>-2.211629e-01</td>\n",
       "      <td>-2.796646e-01</td>\n",
       "      <td>-3.400102e-01</td>\n",
       "      <td>-2.211629e-01</td>\n",
       "      <td>-4.624246e-01</td>\n",
       "      <td>-3.207135e-01</td>\n",
       "      <td>-1.630820e-01</td>\n",
       "      <td>-1.023289e-01</td>\n",
       "      <td>-1.454786e-01</td>\n",
       "      <td>-2.458446e-01</td>\n",
       "    </tr>\n",
       "    <tr>\n",
       "      <th>max</th>\n",
       "      <td>2.052611e+00</td>\n",
       "      <td>1.296362e+00</td>\n",
       "      <td>1.867718e+00</td>\n",
       "      <td>2.162515e+00</td>\n",
       "      <td>3.026201e+00</td>\n",
       "      <td>2.201928e+00</td>\n",
       "      <td>2.427521e+00</td>\n",
       "      <td>1.254326e+00</td>\n",
       "      <td>3.575712e+00</td>\n",
       "      <td>4.277850e+00</td>\n",
       "      <td>4.808846e+00</td>\n",
       "      <td>3.883727e+00</td>\n",
       "      <td>3.217599e+00</td>\n",
       "      <td>5.582711e+00</td>\n",
       "      <td>4.521553e+00</td>\n",
       "      <td>3.575712e+00</td>\n",
       "      <td>2.941088e+00</td>\n",
       "      <td>4.521553e+00</td>\n",
       "      <td>2.162515e+00</td>\n",
       "      <td>3.118048e+00</td>\n",
       "      <td>6.131884e+00</td>\n",
       "      <td>9.772410e+00</td>\n",
       "      <td>6.873864e+00</td>\n",
       "      <td>4.067610e+00</td>\n",
       "    </tr>\n",
       "  </tbody>\n",
       "</table>\n",
       "</div>"
      ],
      "text/plain": [
       "       Review_Class  data_keyword  engineer_keyword  senior_keyword  \\\n",
       "count  1.930000e+02  1.930000e+02      1.930000e+02    1.930000e+02   \n",
       "mean  -1.210891e-16  1.185005e-16      3.681569e-17    5.752451e-17   \n",
       "std    1.002601e+00  1.002601e+00      1.002601e+00    1.002601e+00   \n",
       "min   -1.042341e+00 -7.713892e-01     -5.354126e-01   -4.624246e-01   \n",
       "25%   -1.042341e+00 -7.713892e-01     -5.354126e-01   -4.624246e-01   \n",
       "50%   -4.233510e-01 -7.713892e-01     -5.354126e-01   -4.624246e-01   \n",
       "75%    8.146300e-01  1.296362e+00     -5.354126e-01   -4.624246e-01   \n",
       "max    2.052611e+00  1.296362e+00      1.867718e+00    2.162515e+00   \n",
       "\n",
       "       software_keyword  research_keyword  analyst_keyword  scien_keyword  \\\n",
       "count      1.930000e+02      1.930000e+02     1.930000e+02   1.930000e+02   \n",
       "mean       5.752451e-19      1.196510e-16    -3.595282e-17  -1.668211e-16   \n",
       "std        1.002601e+00      1.002601e+00     1.002601e+00   1.002601e+00   \n",
       "min       -3.304473e-01     -4.541476e-01    -4.119429e-01  -7.972410e-01   \n",
       "25%       -3.304473e-01     -4.541476e-01    -4.119429e-01  -7.972410e-01   \n",
       "50%       -3.304473e-01     -4.541476e-01    -4.119429e-01  -7.972410e-01   \n",
       "75%       -3.304473e-01     -4.541476e-01    -4.119429e-01   1.254326e+00   \n",
       "max        3.026201e+00      2.201928e+00     2.427521e+00   1.254326e+00   \n",
       "\n",
       "       stat_keyword  manager_keyword  City_Atlanta   City_Austin  \\\n",
       "count  1.930000e+02     1.930000e+02  1.930000e+02  1.930000e+02   \n",
       "mean  -4.889583e-17    -2.349876e-16 -1.567543e-16 -3.911667e-17   \n",
       "std    1.002601e+00     1.002601e+00  1.002601e+00  1.002601e+00   \n",
       "min   -2.796646e-01    -2.337623e-01 -2.079501e-01 -2.574846e-01   \n",
       "25%   -2.796646e-01    -2.337623e-01 -2.079501e-01 -2.574846e-01   \n",
       "50%   -2.796646e-01    -2.337623e-01 -2.079501e-01 -2.574846e-01   \n",
       "75%   -2.796646e-01    -2.337623e-01 -2.079501e-01 -2.574846e-01   \n",
       "max    3.575712e+00     4.277850e+00  4.808846e+00  3.883727e+00   \n",
       "\n",
       "       City_Chicago   City_Dallas   City_Denver  City_Houston  \\\n",
       "count  1.930000e+02  1.930000e+02  1.930000e+02  1.930000e+02   \n",
       "mean   5.867500e-17 -8.858774e-17  5.119681e-17 -1.179252e-17   \n",
       "std    1.002601e+00  1.002601e+00  1.002601e+00  1.002601e+00   \n",
       "min   -3.107908e-01 -1.791244e-01 -2.211629e-01 -2.796646e-01   \n",
       "25%   -3.107908e-01 -1.791244e-01 -2.211629e-01 -2.796646e-01   \n",
       "50%   -3.107908e-01 -1.791244e-01 -2.211629e-01 -2.796646e-01   \n",
       "75%   -3.107908e-01 -1.791244e-01 -2.211629e-01 -2.796646e-01   \n",
       "max    3.217599e+00  5.582711e+00  4.521553e+00  3.575712e+00   \n",
       "\n",
       "       City_Los Angeles    City_Miami  City_New York  City_Philadelphia  \\\n",
       "count      1.930000e+02  1.930000e+02   1.930000e+02       1.930000e+02   \n",
       "mean      -4.889583e-17  5.177206e-18   8.283529e-17       6.155122e-17   \n",
       "std        1.002601e+00  1.002601e+00   1.002601e+00       1.002601e+00   \n",
       "min       -3.400102e-01 -2.211629e-01  -4.624246e-01      -3.207135e-01   \n",
       "25%       -3.400102e-01 -2.211629e-01  -4.624246e-01      -3.207135e-01   \n",
       "50%       -3.400102e-01 -2.211629e-01  -4.624246e-01      -3.207135e-01   \n",
       "75%       -3.400102e-01 -2.211629e-01  -4.624246e-01      -3.207135e-01   \n",
       "max        2.941088e+00  4.521553e+00   2.162515e+00       3.118048e+00   \n",
       "\n",
       "       City_Phoenix  City_Pittsburgh  City_Portland  City_Seattle  \n",
       "count  1.930000e+02     1.930000e+02   1.930000e+02  1.930000e+02  \n",
       "mean  -3.106323e-17    -1.471189e-16  -7.161801e-17 -2.223322e-16  \n",
       "std    1.002601e+00     1.002601e+00   1.002601e+00  1.002601e+00  \n",
       "min   -1.630820e-01    -1.023289e-01  -1.454786e-01 -2.458446e-01  \n",
       "25%   -1.630820e-01    -1.023289e-01  -1.454786e-01 -2.458446e-01  \n",
       "50%   -1.630820e-01    -1.023289e-01  -1.454786e-01 -2.458446e-01  \n",
       "75%   -1.630820e-01    -1.023289e-01  -1.454786e-01 -2.458446e-01  \n",
       "max    6.131884e+00     9.772410e+00   6.873864e+00  4.067610e+00  "
      ]
     },
     "execution_count": 116,
     "metadata": {},
     "output_type": "execute_result"
    }
   ],
   "source": [
    "# Confirm that the mean and standard deviation of each column in the training data are 0 and 1 respectively\n",
    "pd.DataFrame(X_train_wp_ss, columns=X_train_wp.columns).describe()"
   ]
  },
  {
   "cell_type": "markdown",
   "metadata": {},
   "source": [
    "The mean and standard deviations of all columns are 0 and 1 respectively. \n",
    "\n",
    "I'm now ready to model the data."
   ]
  },
  {
   "cell_type": "code",
   "execution_count": 128,
   "metadata": {
    "ExecuteTime": {
     "end_time": "2018-04-23T21:54:17.913067Z",
     "start_time": "2018-04-23T21:54:17.902223Z"
    }
   },
   "outputs": [
    {
     "name": "stdout",
     "output_type": "stream",
     "text": [
      "Accuracy scores:  [0.63076923 0.65625    0.734375  ]\n",
      "Mean accuracy score:  0.6737980769230769\n"
     ]
    }
   ],
   "source": [
    "# Reviews cross validation scores of model on training data.  Shuffle, as data will be ordered.\n",
    "scores = cross_val_score(LogisticRegression(), X_train_wp_ss, y_train_w, cv=KFold(n_splits=3, shuffle=True))\n",
    "print('Accuracy scores: ', scores)\n",
    "print('Mean accuracy score: ', scores.mean())"
   ]
  },
  {
   "cell_type": "markdown",
   "metadata": {},
   "source": [
    "Cross val accuracy scores look OK, and are an improvement on those that did not use keywords in the job title to predict high and low salaries."
   ]
  },
  {
   "cell_type": "code",
   "execution_count": 129,
   "metadata": {
    "ExecuteTime": {
     "end_time": "2018-04-23T21:54:25.995449Z",
     "start_time": "2018-04-23T21:54:25.989381Z"
    }
   },
   "outputs": [
    {
     "name": "stdout",
     "output_type": "stream",
     "text": [
      "The accuracy of the model on the training data is: 0.78.\n"
     ]
    }
   ],
   "source": [
    "# Fit logistic regression model to training data set\n",
    "lr3 = LogisticRegression()\n",
    "lr3.fit(X_train_wp_ss, y_train_w)\n",
    "\n",
    "# Print accuracy of model for training set\n",
    "print(f'The accuracy of the model on the training data is: \\\n",
    "{round(lr3.score(X_train_wp_ss, y_train_w),2)}.')"
   ]
  },
  {
   "cell_type": "markdown",
   "metadata": {},
   "source": [
    "This is a significant improvement on the accuracy from the previous models."
   ]
  },
  {
   "cell_type": "code",
   "execution_count": 131,
   "metadata": {
    "ExecuteTime": {
     "end_time": "2018-04-23T21:54:39.201825Z",
     "start_time": "2018-04-23T21:54:39.197276Z"
    }
   },
   "outputs": [
    {
     "name": "stdout",
     "output_type": "stream",
     "text": [
      "The accuracy of the model on the test set is: 0.74.\n"
     ]
    }
   ],
   "source": [
    "# Define model predictions based on the test data and print the accuracy score of the model\n",
    "predictions3 = lr3.predict(X_test_wp_ss)\n",
    "# Print accuracy of model for the test set\n",
    "print(f'The accuracy of the model on the test set is: \\\n",
    "{round(accuracy_score(y_test_w, predictions3),2)}.')"
   ]
  },
  {
   "cell_type": "markdown",
   "metadata": {},
   "source": [
    "This is a significant improvement on the accurcy score from previous models.  The highest accuracy scores I'd achieved on the test data previously was 0.55.  This is an improvement in accuracy of 35%. "
   ]
  },
  {
   "cell_type": "markdown",
   "metadata": {},
   "source": [
    "Let's see if we can improve on this further with a GridSearch.  Again, I'm choosing a very small increments in regularisation strength to try to catch any 'peaks'."
   ]
  },
  {
   "cell_type": "code",
   "execution_count": 132,
   "metadata": {
    "ExecuteTime": {
     "end_time": "2018-04-23T21:55:43.002408Z",
     "start_time": "2018-04-23T21:54:51.650641Z"
    }
   },
   "outputs": [
    {
     "name": "stdout",
     "output_type": "stream",
     "text": [
      "Fitting 3 folds for each of 24000 candidates, totalling 72000 fits\n"
     ]
    },
    {
     "name": "stderr",
     "output_type": "stream",
     "text": [
      "[Parallel(n_jobs=-1)]: Done 2784 tasks      | elapsed:    1.8s\n",
      "[Parallel(n_jobs=-1)]: Done 17784 tasks      | elapsed:   10.4s\n",
      "[Parallel(n_jobs=-1)]: Done 42784 tasks      | elapsed:   24.6s\n",
      "[Parallel(n_jobs=-1)]: Done 72000 out of 72000 | elapsed:   50.7s finished\n"
     ]
    },
    {
     "data": {
      "text/plain": [
       "GridSearchCV(cv=3, error_score='raise',\n",
       "       estimator=LogisticRegression(C=1.0, class_weight=None, dual=False, fit_intercept=True,\n",
       "          intercept_scaling=1, max_iter=100, multi_class='ovr', n_jobs=1,\n",
       "          penalty='l2', random_state=None, solver='liblinear', tol=0.0001,\n",
       "          verbose=0, warm_start=False),\n",
       "       fit_params=None, iid=True, n_jobs=-1,\n",
       "       param_grid={'penalty': ['l1', 'l2'], 'solver': ['liblinear'], 'C': array([1.00000e-05, 1.00385e-05, ..., 9.96169e+04, 1.00000e+05]), 'fit_intercept': [True, False]},\n",
       "       pre_dispatch='2*n_jobs', refit=True, return_train_score='warn',\n",
       "       scoring=None, verbose=1)"
      ]
     },
     "execution_count": 132,
     "metadata": {},
     "output_type": "execute_result"
    }
   ],
   "source": [
    "# Define gridsearch hyperparameters, instantiate GridSearch object and fit to training data \n",
    " \n",
    "salary_gs_params2 = {'penalty':['l1','l2'],\n",
    "                    'solver':['liblinear'], \n",
    "                    'C':np.logspace(-5, 5, 6000),\n",
    "                    'fit_intercept':[True, False]}\n",
    "\n",
    "salary_gs2 = GridSearchCV(LogisticRegression(), salary_gs_params2, \n",
    "                         n_jobs=-1, cv=3, verbose=1)\n",
    "\n",
    "salary_gs2.fit(X_train_wp_ss, y_train_w)"
   ]
  },
  {
   "cell_type": "code",
   "execution_count": 133,
   "metadata": {
    "ExecuteTime": {
     "end_time": "2018-04-23T21:55:43.014431Z",
     "start_time": "2018-04-23T21:55:43.005315Z"
    }
   },
   "outputs": [
    {
     "data": {
      "text/plain": [
       "{'C': 0.008753001969168846,\n",
       " 'fit_intercept': False,\n",
       " 'penalty': 'l2',\n",
       " 'solver': 'liblinear'}"
      ]
     },
     "execution_count": 133,
     "metadata": {},
     "output_type": "execute_result"
    }
   ],
   "source": [
    "# Inspect best params\n",
    "salary_gs2.best_params_ "
   ]
  },
  {
   "cell_type": "markdown",
   "metadata": {},
   "source": [
    "The optimum regularisation strength is well within the hyperparameter range.  I'm happy with this."
   ]
  },
  {
   "cell_type": "code",
   "execution_count": 134,
   "metadata": {
    "ExecuteTime": {
     "end_time": "2018-04-23T21:59:05.645806Z",
     "start_time": "2018-04-23T21:59:05.642094Z"
    }
   },
   "outputs": [
    {
     "data": {
      "text/plain": [
       "0.7409326424870466"
      ]
     },
     "execution_count": 134,
     "metadata": {},
     "output_type": "execute_result"
    }
   ],
   "source": [
    "# Print out best mean cross validated score\n",
    "salary_gs2.best_score_  "
   ]
  },
  {
   "cell_type": "markdown",
   "metadata": {},
   "source": [
    "This is an improvement on the mean cross validation accuracy score prior to the GridSearch, which was 0.68."
   ]
  },
  {
   "cell_type": "code",
   "execution_count": 135,
   "metadata": {
    "ExecuteTime": {
     "end_time": "2018-04-23T21:59:23.716140Z",
     "start_time": "2018-04-23T21:59:23.709703Z"
    }
   },
   "outputs": [
    {
     "name": "stdout",
     "output_type": "stream",
     "text": [
      "The accuracy of the model on the training data is: 0.78.\n",
      "Accuracy score of optimum Logistic Regression model on test data: 0.76\n"
     ]
    }
   ],
   "source": [
    "# Assign optimum Logisitc Regression estimator to best_logreg3\n",
    "best_logreg2 = salary_gs2.best_estimator_\n",
    "\n",
    "# Print accuracy score of best log reg model for fit on entire training data set\n",
    "print(f'The accuracy of the model on the training data is: \\\n",
    "{round(best_logreg2.score(X_train_wp_ss, y_train_w),2)}.')\n",
    "\n",
    "# Print accuracy score of best log reg model for fit on the test data\n",
    "print(f'Accuracy score of optimum Logistic Regression model on test data: \\\n",
    "{round(best_logreg2.score(X_test_wp_ss, y_test_w),2)}')"
   ]
  },
  {
   "cell_type": "markdown",
   "metadata": {},
   "source": [
    "With the optimum Logistic Regression model identified in the GridSearch, \n",
    "the accuracy score on the training data has remained the same but it's improved from 0.74 to 0.76 on the test \n",
    "data, suggesting that the previous model may have been overfitted to the training data.  \n",
    "\n",
    "The optimum logistic regression model is generalising better to the test data than the previous model."
   ]
  },
  {
   "cell_type": "code",
   "execution_count": 136,
   "metadata": {
    "ExecuteTime": {
     "end_time": "2018-04-23T21:59:35.908545Z",
     "start_time": "2018-04-23T21:59:35.905579Z"
    }
   },
   "outputs": [],
   "source": [
    "# Define predictions based on optimum Logistic Regression model\n",
    "predictions_w = best_logreg2.predict(X_test_wp_ss)"
   ]
  },
  {
   "cell_type": "code",
   "execution_count": 137,
   "metadata": {
    "ExecuteTime": {
     "end_time": "2018-04-23T21:59:37.631061Z",
     "start_time": "2018-04-23T21:59:37.626792Z"
    }
   },
   "outputs": [
    {
     "name": "stdout",
     "output_type": "stream",
     "text": [
      "Manually calculated accuracy score: 0.76\n"
     ]
    }
   ],
   "source": [
    "# Cross check accuracy score calcuated using sklearn with manual calculation\n",
    "print(f'Manually calculated accuracy score: {round((predictions_w == y_test_w).sum()/len(y_test_w),2)}')"
   ]
  },
  {
   "cell_type": "markdown",
   "metadata": {},
   "source": [
    "The cross check calculation of the accuracy score is aligned."
   ]
  },
  {
   "cell_type": "code",
   "execution_count": 138,
   "metadata": {
    "ExecuteTime": {
     "end_time": "2018-04-23T21:59:40.685031Z",
     "start_time": "2018-04-23T21:59:40.675255Z"
    }
   },
   "outputs": [
    {
     "data": {
      "text/html": [
       "<div>\n",
       "<style scoped>\n",
       "    .dataframe tbody tr th:only-of-type {\n",
       "        vertical-align: middle;\n",
       "    }\n",
       "\n",
       "    .dataframe tbody tr th {\n",
       "        vertical-align: top;\n",
       "    }\n",
       "\n",
       "    .dataframe thead th {\n",
       "        text-align: right;\n",
       "    }\n",
       "</style>\n",
       "<table border=\"1\" class=\"dataframe\">\n",
       "  <thead>\n",
       "    <tr style=\"text-align: right;\">\n",
       "      <th></th>\n",
       "      <th>Predicted Low Salary</th>\n",
       "      <th>Predicted High Salary</th>\n",
       "    </tr>\n",
       "  </thead>\n",
       "  <tbody>\n",
       "    <tr>\n",
       "      <th>Actual Low Salary</th>\n",
       "      <td>45</td>\n",
       "      <td>19</td>\n",
       "    </tr>\n",
       "    <tr>\n",
       "      <th>Actual High Salary</th>\n",
       "      <td>12</td>\n",
       "      <td>54</td>\n",
       "    </tr>\n",
       "  </tbody>\n",
       "</table>\n",
       "</div>"
      ],
      "text/plain": [
       "                    Predicted Low Salary  Predicted High Salary\n",
       "Actual Low Salary                     45                     19\n",
       "Actual High Salary                    12                     54"
      ]
     },
     "execution_count": 138,
     "metadata": {},
     "output_type": "execute_result"
    }
   ],
   "source": [
    "# Display confusion matrix\n",
    "confusion = confusion_matrix(y_test_w, predictions_w)\n",
    "pd.DataFrame(confusion, columns=['Predicted Low Salary', 'Predicted High Salary'], \n",
    "             index=['Actual Low Salary', 'Actual High Salary'])"
   ]
  },
  {
   "cell_type": "markdown",
   "metadata": {},
   "source": [
    "With the inclusion of keywords from the job titles, reviewing the confusion matrix above reveals that the model is now performing better in the prediction of high \n",
    "salaries than lower salaries.  This is a reversal from the model that was using City as a predictor only.\n",
    "\n",
    "Given that lower paid jobs contained 47% more unique words in their job titles than higher paid roles, my theory is that there is a stronger signal generated \n",
    "from role titles for higher paid jobs than lower paid jobs (which contain more non-standard role titles/noise), hence this model is now performing better at predicting higher paid jobs.\n",
    "\n"
   ]
  },
  {
   "cell_type": "code",
   "execution_count": 139,
   "metadata": {
    "ExecuteTime": {
     "end_time": "2018-04-23T22:00:56.595612Z",
     "start_time": "2018-04-23T22:00:56.592151Z"
    }
   },
   "outputs": [
    {
     "name": "stdout",
     "output_type": "stream",
     "text": [
      "Accuracy score calculated from confusion matrix: 0.76\n"
     ]
    }
   ],
   "source": [
    "# Cross check accuracy score with data in confusion matrix\n",
    "print(f'Accuracy score calculated from confusion matrix: \\\n",
    "{round((confusion[0][0] + confusion[1][1])/confusion.sum(),2)}')"
   ]
  },
  {
   "cell_type": "markdown",
   "metadata": {},
   "source": [
    "Again, this calculation cross checks with the accuracy score calculated by sklearn."
   ]
  },
  {
   "cell_type": "code",
   "execution_count": 140,
   "metadata": {
    "ExecuteTime": {
     "end_time": "2018-04-23T22:01:03.315680Z",
     "start_time": "2018-04-23T22:01:03.306781Z"
    }
   },
   "outputs": [
    {
     "name": "stdout",
     "output_type": "stream",
     "text": [
      "Recall score/true positive rate is: 0.82\n",
      "Specicity score/true negative rate is: 0.7\n",
      "False positive rate is: 0.3\n"
     ]
    }
   ],
   "source": [
    "# Print recall score / true positive rate (tp / tp + fn)\n",
    "print(f'Recall score/true positive rate is: {round(recall_score(y_test_w, predictions_w),2)}')\n",
    "\n",
    "# Print specicifity / true negative rate (tn / tn + fp)\n",
    "print(f'Specicity score/true negative rate is: {round(recall_score(y_test_w==0, predictions_w==0),2)}')\n",
    "\n",
    "# Print false positive rate (fp / tn + fp)\n",
    "print(f'False positive rate is: {round(confusion[0][1] / (confusion[0][0] + confusion[0][1]),2)}')\n"
   ]
  },
  {
   "cell_type": "code",
   "execution_count": 141,
   "metadata": {
    "ExecuteTime": {
     "end_time": "2018-04-23T22:01:14.114102Z",
     "start_time": "2018-04-23T22:01:14.108012Z"
    }
   },
   "outputs": [
    {
     "name": "stdout",
     "output_type": "stream",
     "text": [
      "             precision    recall  f1-score   support\n",
      "\n",
      "          0       0.79      0.70      0.74        64\n",
      "          1       0.74      0.82      0.78        66\n",
      "\n",
      "avg / total       0.76      0.76      0.76       130\n",
      "\n"
     ]
    }
   ],
   "source": [
    "# Print classification report \n",
    "print(classification_report(y_test_w, predictions_w))"
   ]
  },
  {
   "cell_type": "markdown",
   "metadata": {},
   "source": [
    "Reviewing the classification report, we see that we had 64 and 66 salaries classified as low and high respectively in the test, target data.\n",
    "\n",
    "\n",
    "The precision of this model to correctly predict a High Salary is 0.74 (i.e. in 74% of cases where the model predicted a high salary, the actual salary was classified as High).  In 79% of cases where the model predicted a low salary, the actual salary was classified as low.  We can see from the confusion matrix that the model predicts low salaries less often, but when it does it predicts a higher percentage of low classifications correctly.\n",
    "\n",
    "\n",
    "According to the recall scores, out of all the salaries classified as High in the test data, the model correctly predicted 82% of these vs correctly predicting 70% (i.e. specicifity) of low salaries - reinforcing the observation above that the model is performing better in predicting high salaries vs low salaries.  Having said this, as per the point above, the model demonstrates less precision in predicting High salaries.\n",
    "\n",
    "The overall performance of this model would need to be considered in the context of what's most important to 'get right' in this particular instance.\n"
   ]
  },
  {
   "cell_type": "markdown",
   "metadata": {
    "focus": false,
    "id": "4fb29de2-5b98-474c-a4ad-5170b72b9aea"
   },
   "source": [
    "#### Model evaluation:\n",
    "\n",
    "Your boss would rather tell a client incorrectly that they would get a lower salary job than tell a client incorrectly that they would get a high salary job. Adjust one of your models to ease his mind, and explain what it is doing and any tradeoffs. \n",
    "\n",
    "\n",
    "- Use cross-validation to evaluate your models. \n",
    "- Evaluate the accuracy, AUC, precision and recall of the models. \n",
    "- Plot the ROC curve for at least one of your models."
   ]
  },
  {
   "cell_type": "markdown",
   "metadata": {},
   "source": [
    "# Answer"
   ]
  },
  {
   "cell_type": "markdown",
   "metadata": {},
   "source": [
    "If my boss would prefer to tell a client incorrectly that a job will get a lower salary vs incorrectly telling them \n",
    "they would get a higher salary, this means he/she is willing to increase the false negatives within this model\n",
    "at the expense of the overall accuracy of the model. "
   ]
  },
  {
   "cell_type": "code",
   "execution_count": 142,
   "metadata": {
    "ExecuteTime": {
     "end_time": "2018-04-23T22:02:16.273779Z",
     "start_time": "2018-04-23T22:02:16.263585Z"
    }
   },
   "outputs": [
    {
     "data": {
      "text/html": [
       "<div>\n",
       "<style scoped>\n",
       "    .dataframe tbody tr th:only-of-type {\n",
       "        vertical-align: middle;\n",
       "    }\n",
       "\n",
       "    .dataframe tbody tr th {\n",
       "        vertical-align: top;\n",
       "    }\n",
       "\n",
       "    .dataframe thead th {\n",
       "        text-align: right;\n",
       "    }\n",
       "</style>\n",
       "<table border=\"1\" class=\"dataframe\">\n",
       "  <thead>\n",
       "    <tr style=\"text-align: right;\">\n",
       "      <th></th>\n",
       "      <th>Class_0_prob</th>\n",
       "      <th>Class_1_prob</th>\n",
       "    </tr>\n",
       "  </thead>\n",
       "  <tbody>\n",
       "    <tr>\n",
       "      <th>0</th>\n",
       "      <td>0.369065</td>\n",
       "      <td>0.630935</td>\n",
       "    </tr>\n",
       "    <tr>\n",
       "      <th>1</th>\n",
       "      <td>0.482860</td>\n",
       "      <td>0.517140</td>\n",
       "    </tr>\n",
       "    <tr>\n",
       "      <th>2</th>\n",
       "      <td>0.521719</td>\n",
       "      <td>0.478281</td>\n",
       "    </tr>\n",
       "    <tr>\n",
       "      <th>3</th>\n",
       "      <td>0.815912</td>\n",
       "      <td>0.184088</td>\n",
       "    </tr>\n",
       "    <tr>\n",
       "      <th>4</th>\n",
       "      <td>0.302474</td>\n",
       "      <td>0.697526</td>\n",
       "    </tr>\n",
       "    <tr>\n",
       "      <th>5</th>\n",
       "      <td>0.475193</td>\n",
       "      <td>0.524807</td>\n",
       "    </tr>\n",
       "    <tr>\n",
       "      <th>6</th>\n",
       "      <td>0.465365</td>\n",
       "      <td>0.534635</td>\n",
       "    </tr>\n",
       "    <tr>\n",
       "      <th>7</th>\n",
       "      <td>0.713965</td>\n",
       "      <td>0.286035</td>\n",
       "    </tr>\n",
       "    <tr>\n",
       "      <th>8</th>\n",
       "      <td>0.517733</td>\n",
       "      <td>0.482267</td>\n",
       "    </tr>\n",
       "    <tr>\n",
       "      <th>9</th>\n",
       "      <td>0.521717</td>\n",
       "      <td>0.478283</td>\n",
       "    </tr>\n",
       "    <tr>\n",
       "      <th>10</th>\n",
       "      <td>0.490590</td>\n",
       "      <td>0.509410</td>\n",
       "    </tr>\n",
       "    <tr>\n",
       "      <th>11</th>\n",
       "      <td>0.575493</td>\n",
       "      <td>0.424507</td>\n",
       "    </tr>\n",
       "    <tr>\n",
       "      <th>12</th>\n",
       "      <td>0.339251</td>\n",
       "      <td>0.660749</td>\n",
       "    </tr>\n",
       "    <tr>\n",
       "      <th>13</th>\n",
       "      <td>0.458776</td>\n",
       "      <td>0.541224</td>\n",
       "    </tr>\n",
       "    <tr>\n",
       "      <th>14</th>\n",
       "      <td>0.457330</td>\n",
       "      <td>0.542670</td>\n",
       "    </tr>\n",
       "  </tbody>\n",
       "</table>\n",
       "</div>"
      ],
      "text/plain": [
       "    Class_0_prob  Class_1_prob\n",
       "0       0.369065      0.630935\n",
       "1       0.482860      0.517140\n",
       "2       0.521719      0.478281\n",
       "3       0.815912      0.184088\n",
       "4       0.302474      0.697526\n",
       "5       0.475193      0.524807\n",
       "6       0.465365      0.534635\n",
       "7       0.713965      0.286035\n",
       "8       0.517733      0.482267\n",
       "9       0.521717      0.478283\n",
       "10      0.490590      0.509410\n",
       "11      0.575493      0.424507\n",
       "12      0.339251      0.660749\n",
       "13      0.458776      0.541224\n",
       "14      0.457330      0.542670"
      ]
     },
     "execution_count": 142,
     "metadata": {},
     "output_type": "execute_result"
    }
   ],
   "source": [
    "# Calculate probability of predicting high and low salaries using the optimum log reg model above\n",
    "# Store probabilities in a DF\n",
    "predictions_w_prob = best_logreg2.predict_proba(X_test_wp_ss)\n",
    "predictions_w_prob = pd.DataFrame(predictions_w_prob, columns=['Class_0_prob','Class_1_prob'])\n",
    "predictions_w_prob.head(15)"
   ]
  },
  {
   "cell_type": "code",
   "execution_count": 143,
   "metadata": {
    "ExecuteTime": {
     "end_time": "2018-04-23T22:02:22.482451Z",
     "start_time": "2018-04-23T22:02:22.474880Z"
    }
   },
   "outputs": [
    {
     "data": {
      "text/html": [
       "<div>\n",
       "<style scoped>\n",
       "    .dataframe tbody tr th:only-of-type {\n",
       "        vertical-align: middle;\n",
       "    }\n",
       "\n",
       "    .dataframe tbody tr th {\n",
       "        vertical-align: top;\n",
       "    }\n",
       "\n",
       "    .dataframe thead th {\n",
       "        text-align: right;\n",
       "    }\n",
       "</style>\n",
       "<table border=\"1\" class=\"dataframe\">\n",
       "  <thead>\n",
       "    <tr style=\"text-align: right;\">\n",
       "      <th></th>\n",
       "      <th>Class_pred</th>\n",
       "    </tr>\n",
       "  </thead>\n",
       "  <tbody>\n",
       "    <tr>\n",
       "      <th>0</th>\n",
       "      <td>1</td>\n",
       "    </tr>\n",
       "    <tr>\n",
       "      <th>1</th>\n",
       "      <td>1</td>\n",
       "    </tr>\n",
       "    <tr>\n",
       "      <th>2</th>\n",
       "      <td>0</td>\n",
       "    </tr>\n",
       "    <tr>\n",
       "      <th>3</th>\n",
       "      <td>0</td>\n",
       "    </tr>\n",
       "    <tr>\n",
       "      <th>4</th>\n",
       "      <td>1</td>\n",
       "    </tr>\n",
       "    <tr>\n",
       "      <th>5</th>\n",
       "      <td>1</td>\n",
       "    </tr>\n",
       "    <tr>\n",
       "      <th>6</th>\n",
       "      <td>1</td>\n",
       "    </tr>\n",
       "    <tr>\n",
       "      <th>7</th>\n",
       "      <td>0</td>\n",
       "    </tr>\n",
       "    <tr>\n",
       "      <th>8</th>\n",
       "      <td>0</td>\n",
       "    </tr>\n",
       "    <tr>\n",
       "      <th>9</th>\n",
       "      <td>0</td>\n",
       "    </tr>\n",
       "    <tr>\n",
       "      <th>10</th>\n",
       "      <td>1</td>\n",
       "    </tr>\n",
       "    <tr>\n",
       "      <th>11</th>\n",
       "      <td>0</td>\n",
       "    </tr>\n",
       "    <tr>\n",
       "      <th>12</th>\n",
       "      <td>1</td>\n",
       "    </tr>\n",
       "    <tr>\n",
       "      <th>13</th>\n",
       "      <td>1</td>\n",
       "    </tr>\n",
       "    <tr>\n",
       "      <th>14</th>\n",
       "      <td>1</td>\n",
       "    </tr>\n",
       "  </tbody>\n",
       "</table>\n",
       "</div>"
      ],
      "text/plain": [
       "    Class_pred\n",
       "0            1\n",
       "1            1\n",
       "2            0\n",
       "3            0\n",
       "4            1\n",
       "5            1\n",
       "6            1\n",
       "7            0\n",
       "8            0\n",
       "9            0\n",
       "10           1\n",
       "11           0\n",
       "12           1\n",
       "13           1\n",
       "14           1"
      ]
     },
     "execution_count": 143,
     "metadata": {},
     "output_type": "execute_result"
    }
   ],
   "source": [
    "# Show first 15 entries of predictions as a DF to enable easy comparison of predictions with probabilities above\n",
    "pd.DataFrame(predictions_w, columns=['Class_pred']).head(15)"
   ]
  },
  {
   "cell_type": "markdown",
   "metadata": {},
   "source": [
    "By comparing the predicted class (Class_pred) with the predicted probabilities of each class (Class_0_prob \n",
    "and Class_1_prob) we can see that a threshold of 0.5 probability is being used to differentiate between the \n",
    "predicted classification of salaries as either high or low.  This means that if the predicted probability\n",
    "of a high class is greater than 0.5, the predicted classification for that salary will also be high.\n"
   ]
  },
  {
   "cell_type": "markdown",
   "metadata": {},
   "source": [
    "If my boss would prefer to incorrectly predicting low salaries rather than high salaries, then the model \n",
    "must use a probability higher than 0.5 to classify salaries as either high or low.  If we increase this probability \n",
    "to 0.6 for example, this means that a predicted probability of greater than 0.6 is required for \n",
    "the model to predict the classification of a salary as High."
   ]
  },
  {
   "cell_type": "code",
   "execution_count": 144,
   "metadata": {
    "ExecuteTime": {
     "end_time": "2018-04-23T22:02:44.208142Z",
     "start_time": "2018-04-23T22:02:44.197564Z"
    }
   },
   "outputs": [
    {
     "data": {
      "text/html": [
       "<div>\n",
       "<style scoped>\n",
       "    .dataframe tbody tr th:only-of-type {\n",
       "        vertical-align: middle;\n",
       "    }\n",
       "\n",
       "    .dataframe tbody tr th {\n",
       "        vertical-align: top;\n",
       "    }\n",
       "\n",
       "    .dataframe thead th {\n",
       "        text-align: right;\n",
       "    }\n",
       "</style>\n",
       "<table border=\"1\" class=\"dataframe\">\n",
       "  <thead>\n",
       "    <tr style=\"text-align: right;\">\n",
       "      <th></th>\n",
       "      <th>Class_0_prob</th>\n",
       "      <th>Class_1_prob</th>\n",
       "      <th>Pred_Class_thresh60</th>\n",
       "    </tr>\n",
       "  </thead>\n",
       "  <tbody>\n",
       "    <tr>\n",
       "      <th>0</th>\n",
       "      <td>0.369065</td>\n",
       "      <td>0.630935</td>\n",
       "      <td>1</td>\n",
       "    </tr>\n",
       "    <tr>\n",
       "      <th>1</th>\n",
       "      <td>0.482860</td>\n",
       "      <td>0.517140</td>\n",
       "      <td>0</td>\n",
       "    </tr>\n",
       "    <tr>\n",
       "      <th>2</th>\n",
       "      <td>0.521719</td>\n",
       "      <td>0.478281</td>\n",
       "      <td>0</td>\n",
       "    </tr>\n",
       "    <tr>\n",
       "      <th>3</th>\n",
       "      <td>0.815912</td>\n",
       "      <td>0.184088</td>\n",
       "      <td>0</td>\n",
       "    </tr>\n",
       "    <tr>\n",
       "      <th>4</th>\n",
       "      <td>0.302474</td>\n",
       "      <td>0.697526</td>\n",
       "      <td>1</td>\n",
       "    </tr>\n",
       "    <tr>\n",
       "      <th>5</th>\n",
       "      <td>0.475193</td>\n",
       "      <td>0.524807</td>\n",
       "      <td>0</td>\n",
       "    </tr>\n",
       "    <tr>\n",
       "      <th>6</th>\n",
       "      <td>0.465365</td>\n",
       "      <td>0.534635</td>\n",
       "      <td>0</td>\n",
       "    </tr>\n",
       "    <tr>\n",
       "      <th>7</th>\n",
       "      <td>0.713965</td>\n",
       "      <td>0.286035</td>\n",
       "      <td>0</td>\n",
       "    </tr>\n",
       "    <tr>\n",
       "      <th>8</th>\n",
       "      <td>0.517733</td>\n",
       "      <td>0.482267</td>\n",
       "      <td>0</td>\n",
       "    </tr>\n",
       "    <tr>\n",
       "      <th>9</th>\n",
       "      <td>0.521717</td>\n",
       "      <td>0.478283</td>\n",
       "      <td>0</td>\n",
       "    </tr>\n",
       "    <tr>\n",
       "      <th>10</th>\n",
       "      <td>0.490590</td>\n",
       "      <td>0.509410</td>\n",
       "      <td>0</td>\n",
       "    </tr>\n",
       "    <tr>\n",
       "      <th>11</th>\n",
       "      <td>0.575493</td>\n",
       "      <td>0.424507</td>\n",
       "      <td>0</td>\n",
       "    </tr>\n",
       "    <tr>\n",
       "      <th>12</th>\n",
       "      <td>0.339251</td>\n",
       "      <td>0.660749</td>\n",
       "      <td>1</td>\n",
       "    </tr>\n",
       "    <tr>\n",
       "      <th>13</th>\n",
       "      <td>0.458776</td>\n",
       "      <td>0.541224</td>\n",
       "      <td>0</td>\n",
       "    </tr>\n",
       "    <tr>\n",
       "      <th>14</th>\n",
       "      <td>0.457330</td>\n",
       "      <td>0.542670</td>\n",
       "      <td>0</td>\n",
       "    </tr>\n",
       "  </tbody>\n",
       "</table>\n",
       "</div>"
      ],
      "text/plain": [
       "    Class_0_prob  Class_1_prob  Pred_Class_thresh60\n",
       "0       0.369065      0.630935                    1\n",
       "1       0.482860      0.517140                    0\n",
       "2       0.521719      0.478281                    0\n",
       "3       0.815912      0.184088                    0\n",
       "4       0.302474      0.697526                    1\n",
       "5       0.475193      0.524807                    0\n",
       "6       0.465365      0.534635                    0\n",
       "7       0.713965      0.286035                    0\n",
       "8       0.517733      0.482267                    0\n",
       "9       0.521717      0.478283                    0\n",
       "10      0.490590      0.509410                    0\n",
       "11      0.575493      0.424507                    0\n",
       "12      0.339251      0.660749                    1\n",
       "13      0.458776      0.541224                    0\n",
       "14      0.457330      0.542670                    0"
      ]
     },
     "execution_count": 144,
     "metadata": {},
     "output_type": "execute_result"
    }
   ],
   "source": [
    "# Add column to predictions_w_prob DF where probability must be greater than 0.6 to predict \n",
    "# class 1 (i.e. High salary)\n",
    "predictions_w_prob['Pred_Class_thresh60'] = [1 if x > 0.60 else 0 \n",
    "                                             for x in predictions_w_prob.Class_1_prob.values]\n",
    "predictions_w_prob.head(15)"
   ]
  },
  {
   "cell_type": "code",
   "execution_count": 145,
   "metadata": {
    "ExecuteTime": {
     "end_time": "2018-04-23T22:02:51.737768Z",
     "start_time": "2018-04-23T22:02:51.735052Z"
    }
   },
   "outputs": [],
   "source": [
    "# Define predictions for threshold probability = 0.6\n",
    "predictions_w_60 = predictions_w_prob['Pred_Class_thresh60'].values"
   ]
  },
  {
   "cell_type": "code",
   "execution_count": 146,
   "metadata": {
    "ExecuteTime": {
     "end_time": "2018-04-23T22:03:05.747769Z",
     "start_time": "2018-04-23T22:03:05.742421Z"
    }
   },
   "outputs": [
    {
     "name": "stdout",
     "output_type": "stream",
     "text": [
      "With the probability threshold for differentiating between High and Low salaries increased from 0.5 to 0.6, the number of salaries predicted by the model as being: \n",
      " \t - high, has decreased from 73 to 29\n",
      " \t - low, has increased from 57 to 101.\n"
     ]
    }
   ],
   "source": [
    "# Print change in number of salaries predicted as High or Low as a result of changing probability \n",
    "# threshold used by the model for differerntiating between High and Low salaries\n",
    "\n",
    "# Define variables to store number of predictions classified as high for 0.5 and 0.6 probabilities\n",
    "high_50 = predictions_w.sum()\n",
    "high_60 = predictions_w_60.sum()\n",
    "num_pred = len(predictions_w)\n",
    "\n",
    "print(f'With the probability threshold for differentiating between High and Low \\\n",
    "salaries increased from 0.5 to 0.6, the number of salaries predicted by the model as \\\n",
    "being: \\n \\t - high, has decreased from {high_50} to {high_60}\\\n",
    "\\n \\t - low, has increased from {num_pred - high_50} to {num_pred - high_60}.')\n"
   ]
  },
  {
   "cell_type": "markdown",
   "metadata": {},
   "source": [
    "I'll now compare the confusion matrices for the model based on the 0.5 and 0.6 probability thresholds."
   ]
  },
  {
   "cell_type": "code",
   "execution_count": 147,
   "metadata": {
    "ExecuteTime": {
     "end_time": "2018-04-23T22:03:14.076740Z",
     "start_time": "2018-04-23T22:03:14.066798Z"
    }
   },
   "outputs": [
    {
     "data": {
      "text/html": [
       "<div>\n",
       "<style scoped>\n",
       "    .dataframe tbody tr th:only-of-type {\n",
       "        vertical-align: middle;\n",
       "    }\n",
       "\n",
       "    .dataframe tbody tr th {\n",
       "        vertical-align: top;\n",
       "    }\n",
       "\n",
       "    .dataframe thead th {\n",
       "        text-align: right;\n",
       "    }\n",
       "</style>\n",
       "<table border=\"1\" class=\"dataframe\">\n",
       "  <thead>\n",
       "    <tr style=\"text-align: right;\">\n",
       "      <th></th>\n",
       "      <th>Predicted Low Salary</th>\n",
       "      <th>Predicted High Salary</th>\n",
       "    </tr>\n",
       "  </thead>\n",
       "  <tbody>\n",
       "    <tr>\n",
       "      <th>Actual Low Salary</th>\n",
       "      <td>45</td>\n",
       "      <td>19</td>\n",
       "    </tr>\n",
       "    <tr>\n",
       "      <th>Actual High Salary</th>\n",
       "      <td>12</td>\n",
       "      <td>54</td>\n",
       "    </tr>\n",
       "  </tbody>\n",
       "</table>\n",
       "</div>"
      ],
      "text/plain": [
       "                    Predicted Low Salary  Predicted High Salary\n",
       "Actual Low Salary                     45                     19\n",
       "Actual High Salary                    12                     54"
      ]
     },
     "execution_count": 147,
     "metadata": {},
     "output_type": "execute_result"
    }
   ],
   "source": [
    "# Display confusion matrix for original model predictions (i.e. probability threshold = 0.5)\n",
    "confusion_50 = confusion_matrix(y_test_w, predictions_w)\n",
    "pd.DataFrame(confusion_50, columns=['Predicted Low Salary', 'Predicted High Salary'], \n",
    "             index=['Actual Low Salary', 'Actual High Salary'])"
   ]
  },
  {
   "cell_type": "code",
   "execution_count": 148,
   "metadata": {
    "ExecuteTime": {
     "end_time": "2018-04-23T22:03:19.543297Z",
     "start_time": "2018-04-23T22:03:19.534206Z"
    }
   },
   "outputs": [
    {
     "data": {
      "text/html": [
       "<div>\n",
       "<style scoped>\n",
       "    .dataframe tbody tr th:only-of-type {\n",
       "        vertical-align: middle;\n",
       "    }\n",
       "\n",
       "    .dataframe tbody tr th {\n",
       "        vertical-align: top;\n",
       "    }\n",
       "\n",
       "    .dataframe thead th {\n",
       "        text-align: right;\n",
       "    }\n",
       "</style>\n",
       "<table border=\"1\" class=\"dataframe\">\n",
       "  <thead>\n",
       "    <tr style=\"text-align: right;\">\n",
       "      <th></th>\n",
       "      <th>Predicted Low Salary</th>\n",
       "      <th>Predicted High Salary</th>\n",
       "    </tr>\n",
       "  </thead>\n",
       "  <tbody>\n",
       "    <tr>\n",
       "      <th>Actual Low Salary</th>\n",
       "      <td>58</td>\n",
       "      <td>6</td>\n",
       "    </tr>\n",
       "    <tr>\n",
       "      <th>Actual High Salary</th>\n",
       "      <td>43</td>\n",
       "      <td>23</td>\n",
       "    </tr>\n",
       "  </tbody>\n",
       "</table>\n",
       "</div>"
      ],
      "text/plain": [
       "                    Predicted Low Salary  Predicted High Salary\n",
       "Actual Low Salary                     58                      6\n",
       "Actual High Salary                    43                     23"
      ]
     },
     "execution_count": 148,
     "metadata": {},
     "output_type": "execute_result"
    }
   ],
   "source": [
    "# Display confusion matrix for revised model predictions (i.e. probability threshold = 0.6)\n",
    "confusion_60 = confusion_matrix(y_test_w, predictions_w_60)\n",
    "pd.DataFrame(confusion_60, columns=['Predicted Low Salary', 'Predicted High Salary'], \n",
    "             index=['Actual Low Salary', 'Actual High Salary'])"
   ]
  },
  {
   "cell_type": "markdown",
   "metadata": {},
   "source": [
    "The numbers of salaries predicted as high and low as depicted in the confusion matrices aligns with the manual calculations above. There is a \n",
    "significant increase in the number of salaries predicted as low, as the probability threshold fo classifying salaries as high has increased."
   ]
  },
  {
   "cell_type": "markdown",
   "metadata": {},
   "source": [
    "I'll now calculate the false positive rate (fpr) of both models.  The fpr measures out of all the times the true label was negative, the predicted label was positive."
   ]
  },
  {
   "cell_type": "code",
   "execution_count": 149,
   "metadata": {
    "ExecuteTime": {
     "end_time": "2018-04-23T22:04:14.981760Z",
     "start_time": "2018-04-23T22:04:14.976040Z"
    }
   },
   "outputs": [
    {
     "name": "stdout",
     "output_type": "stream",
     "text": [
      "With the increase in the probability threshold from 0.5 to 0.6, the false positive rate has decreased from 0.3 to 0.09.\n"
     ]
    }
   ],
   "source": [
    "# Calculate false positive rates (fp / (tn + fp)) for both probability thresholds \n",
    "fpr_50 = round(confusion_50[0][1] / (confusion_50[0][1] + confusion_50[0][0]),2)\n",
    "fpr_60 = round(confusion_60[0][1] / (confusion_60[0][1] + confusion_60[0][0]),2)\n",
    "\n",
    "print(f'With the increase in the probability threshold from 0.5 to 0.6, the false \\\n",
    "positive rate has decreased from {fpr_50} to {fpr_60}.')\n"
   ]
  },
  {
   "cell_type": "markdown",
   "metadata": {},
   "source": [
    "This was the desired outcome of my boss in this case i.e. to incorrectly predict high salaries less often.\n",
    "\n",
    "I'll now calculate the specificty / true negative rate (tnr) of both models.  The tnr measures out of all the times the true label was negative, the predicted label was also negative.  I'd expect this to increase in this case, as the revised model is predicting low salaries with a higher probability threshold of being low."
   ]
  },
  {
   "cell_type": "code",
   "execution_count": 150,
   "metadata": {
    "ExecuteTime": {
     "end_time": "2018-04-23T22:04:29.278523Z",
     "start_time": "2018-04-23T22:04:29.272938Z"
    }
   },
   "outputs": [
    {
     "name": "stdout",
     "output_type": "stream",
     "text": [
      "With the increase in the probability threshold from 0.5 to 0.6, the true negative rate has increased from 0.7 to 0.91.\n"
     ]
    }
   ],
   "source": [
    "# Calculate specicifity / true negative rate ((tn / tn + fp)) for both probability thresholds\n",
    "tnr_50 = round(confusion_50[0][0] / (confusion_50[0][0] + confusion_50[0][1]),2)\n",
    "tnr_60 = round(confusion_60[0][0] / (confusion_60[0][0] + confusion_60[0][1]),2)\n",
    "\n",
    "print(f'With the increase in the probability threshold from 0.5 to 0.6, the true \\\n",
    "negative rate has increased from {tnr_50} to {tnr_60}.')"
   ]
  },
  {
   "cell_type": "markdown",
   "metadata": {},
   "source": [
    "This increase in the true negative rate means that out of all the times the true label was negative, the predicted label was also negative in 91% of cases for the model with the higher probability threshold, vs 70% of cases for the model with the lower probability threshold."
   ]
  },
  {
   "cell_type": "code",
   "execution_count": 151,
   "metadata": {
    "ExecuteTime": {
     "end_time": "2018-04-23T22:04:40.518273Z",
     "start_time": "2018-04-23T22:04:40.512348Z"
    }
   },
   "outputs": [
    {
     "name": "stdout",
     "output_type": "stream",
     "text": [
      "With the increase in the probability threshold from 0.5 to 0.6, the model accuracy has decreased from 0.76 to 0.62.\n"
     ]
    }
   ],
   "source": [
    "# Calculate model accuracy for both probability thresholds\n",
    "accuracy_50 = round(accuracy_score(y_test_w, predictions_w),2)\n",
    "accuracy_60 = round(accuracy_score(y_test_w, predictions_w_60),2)\n",
    "\n",
    "print(f'With the increase in the probability threshold from 0.5 to 0.6, the model accuracy \\\n",
    "has decreased from {accuracy_50} to {accuracy_60}.')"
   ]
  },
  {
   "cell_type": "markdown",
   "metadata": {},
   "source": [
    "The overall accuracy of the model has descreased because misclassifications have increased.  Why have misclassifications increased?  \n",
    "Becase we are incorrectly classifying more salaries as low as a result of the increased probability threshold. The model is predicting less false positives, but more false negatives. \n",
    "\n",
    "I'll now confirm this by calculating the change in false negative rates (fnr) between the 2 models.  \n",
    "The false negative rate measures out of all the times the true label was positive, the predicted label was negative."
   ]
  },
  {
   "cell_type": "code",
   "execution_count": 152,
   "metadata": {
    "ExecuteTime": {
     "end_time": "2018-04-23T22:05:01.824550Z",
     "start_time": "2018-04-23T22:05:01.819159Z"
    }
   },
   "outputs": [
    {
     "name": "stdout",
     "output_type": "stream",
     "text": [
      "With the increase in the probability threshold from 0.5 to 0.6, the model's false negative rate has increased from 0.18 to 0.65.\n"
     ]
    }
   ],
   "source": [
    "# Calculate false negative rates ((fn / (tp + fn)) for both probability thresholds\n",
    "fnr_50 = round(confusion_50[1][0] / (confusion_50[1][0] + confusion_50[1][1]),2)\n",
    "fnr_60 = round(confusion_60[1][0] / (confusion_60[1][0] + confusion_60[1][1]),2)\n",
    "\n",
    "print(f'With the increase in the probability threshold from 0.5 to 0.6, the model\\'s false \\\n",
    "negative rate has increased from {fnr_50} to {fnr_60}.')"
   ]
  },
  {
   "cell_type": "markdown",
   "metadata": {
    "ExecuteTime": {
     "end_time": "2018-04-22T13:14:46.114280Z",
     "start_time": "2018-04-22T13:14:46.107261Z"
    }
   },
   "source": [
    "Based on the calculations above, we can see that the rate of false negatives (i.e. predicting low salaries when the actual salay is high) has increased significantly.\n",
    "\n",
    "This is aligned with the request of 'my boss' in this case."
   ]
  },
  {
   "cell_type": "markdown",
   "metadata": {},
   "source": [
    "Finally, I'll calculate the precision (prec) score of the model.  The precision measures out of all the times the classifier predicted a positive label, the true label was also positive.  Given that the revised model is using a higher probability threshold to classify slaries as high, \n",
    "I'd expect this model to have greater precision in predicting high salaries."
   ]
  },
  {
   "cell_type": "code",
   "execution_count": 153,
   "metadata": {
    "ExecuteTime": {
     "end_time": "2018-04-23T22:05:21.221573Z",
     "start_time": "2018-04-23T22:05:21.214974Z"
    }
   },
   "outputs": [
    {
     "name": "stdout",
     "output_type": "stream",
     "text": [
      "With the increase in the probability threshold from 0.5 to 0.6, the model's precision score has increased from 0.74 to 0.79.\n"
     ]
    }
   ],
   "source": [
    "# Print the precision scores for both models\n",
    "prec_50 = round(precision_score(y_test_w, predictions_w),2)\n",
    "prec_60 = round(precision_score(y_test_w, predictions_w_60),2)\n",
    "\n",
    "print(f'With the increase in the probability threshold from 0.5 to 0.6, the model\\'s \\\n",
    "precision score has increased from {prec_50} to {prec_60}.')"
   ]
  },
  {
   "cell_type": "markdown",
   "metadata": {},
   "source": [
    "The model has a greater precision in predicting high salaries, which is aligned with my boss' request."
   ]
  },
  {
   "cell_type": "code",
   "execution_count": 154,
   "metadata": {
    "ExecuteTime": {
     "end_time": "2018-04-23T22:05:28.243002Z",
     "start_time": "2018-04-23T22:05:28.235338Z"
    }
   },
   "outputs": [
    {
     "name": "stdout",
     "output_type": "stream",
     "text": [
      "\n",
      "Classification report for model using 0.5 probability threshold...\n",
      "             precision    recall  f1-score   support\n",
      "\n",
      "          0       0.79      0.70      0.74        64\n",
      "          1       0.74      0.82      0.78        66\n",
      "\n",
      "avg / total       0.76      0.76      0.76       130\n",
      "\n",
      "\n",
      "\n",
      "Classification report for model using 0.6 probability threshold...\n",
      "             precision    recall  f1-score   support\n",
      "\n",
      "          0       0.57      0.91      0.70        64\n",
      "          1       0.79      0.35      0.48        66\n",
      "\n",
      "avg / total       0.69      0.62      0.59       130\n",
      "\n"
     ]
    }
   ],
   "source": [
    "# Print the clasification report for both models\n",
    "print('\\nClassification report for model using 0.5 probability threshold...')\n",
    "print(classification_report(y_test_w, predictions_w))\n",
    "print('\\n\\nClassification report for model using 0.6 probability threshold...')\n",
    "print(classification_report(y_test_w, predictions_w_60))"
   ]
  },
  {
   "cell_type": "markdown",
   "metadata": {},
   "source": [
    "As can be seen from the classification reports above:\n",
    "    - the precision score for predicting high salaries has increased from 0.74 to 0.79, as the probability threshold has increased (in line with the calculations above)\n",
    "    - the precision score for predicting low salaries has decreased signficantly from 0.79 to 0.57, because the higher probability threshold results in the model misclassifying a greater number of salaries as low\n",
    "    - the recall score for predicting high salaries has decreased significantly from 0.82 to 0.35.  Note, this is equivalent to the increase in false negative rate calculated above.  This decrease reflects the fact that we're 'catching less' high salaries.\n",
    "    - the recall score for predicting low salaries has increased significantly from 0.7 to 0.91 as a result of being 'over conservative' in predicting low salaries as a result of the higher probability threshold for the 2nd model."
   ]
  },
  {
   "cell_type": "markdown",
   "metadata": {},
   "source": [
    "Plot ROC curve for best_logreg2 model.  This was the model that used City, Reviews and Job Title keywords as predictors \n",
    "and achieved accuracy scores of 0.78 and 0.76 on my training and test data respectively.\n"
   ]
  },
  {
   "cell_type": "code",
   "execution_count": 156,
   "metadata": {
    "ExecuteTime": {
     "end_time": "2018-04-23T22:59:00.258096Z",
     "start_time": "2018-04-23T22:59:00.048014Z"
    }
   },
   "outputs": [
    {
     "data": {
      "image/png": "[encoded data removed]",
      "text/plain": [
       "<matplotlib.figure.Figure at 0x1a1d089b00>"
      ]
     },
     "metadata": {
      "image/png": {
       "height": 437,
       "width": 467
      }
     },
     "output_type": "display_data"
    }
   ],
   "source": [
    "# For class 1, find the area under the curve\n",
    "fpr, tpr, threshold = roc_curve(y_test_w, predictions_w_prob['Class_1_prob'])\n",
    "roc_auc = auc(fpr, tpr)\n",
    "\n",
    "# Plot of a ROC curve for class 1 (high salary)\n",
    "plt.figure(figsize=[6,6])\n",
    "plt.plot(fpr, tpr, label='ROC curve (area = %0.2f)' % roc_auc, linewidth=4)\n",
    "plt.plot([0, 1], [0, 1], 'k--', linewidth=4)\n",
    "plt.xlim([0, 1.0])\n",
    "plt.ylim([0, 1.05])\n",
    "plt.xlabel('\\nFalse Positive Rate', fontsize=14)\n",
    "plt.ylabel('True Positive Rate\\n', fontsize=14)\n",
    "plt.title('\\nReceiver operating characteristic (ROC) for salary prediction\\n', fontsize=14)\n",
    "plt.legend(loc=\"lower right\")\n",
    "plt.show()"
   ]
  },
  {
   "cell_type": "markdown",
   "metadata": {},
   "source": [
    "Conversely to what was done above, if we want to have a high TPR/recall, we'd lower the probability\n",
    "threshold for predicting a positive (or high) salary, because we want to 'catch' as many positives \n",
    "as possible.  The ROC curve above shows how the TPR varies with the FPR as we lower this \n",
    "probability threshold (reading from left to right along the curve).\n",
    "\n",
    "According to the ROC curve above, I can achieve good gains in the True Postive rate without incurring significant \n",
    "False Positives up until a TPR of ~0.9.  For TPR > 0.9, the curve flattens out signficantly, meaning that \n",
    "small increases in my TPR result in significnat increases in my FPR. The model above can achieve a TPR \n",
    "of ~0.9, at the cost of incurring a FPR of ~ 0.35.  If I increase my TPR to 0.95, then my FPR increases significantly to ~0.75.\n",
    "\n",
    "The closer the ROC curve to the top left corner, the better the classifier does at separating High and Low \n",
    "salaries.  Conversely, an ROC curve that follows the diagonal (depicted as the dashed black line) depicts a classifier \n",
    "that does not better than the baseline.\n",
    "\n",
    "The AUC (area under curve) represents the proportion of the total area that is under the ROC curve. A perfect model\n",
    "with have an AUC of 1.0.  A baseline model would have an AUC of 0.5.  In this case, the AUC is 0.8 - not bad."
   ]
  }
 ],
 "metadata": {
  "kernelspec": {
   "display_name": "Python 3",
   "language": "python",
   "name": "python3"
  },
  "language_info": {
   "codemirror_mode": {
    "name": "ipython",
    "version": 3
   },
   "file_extension": ".py",
   "mimetype": "text/x-python",
   "name": "python",
   "nbconvert_exporter": "python",
   "pygments_lexer": "ipython3",
   "version": "3.6.4"
  },
  "toc": {
   "nav_menu": {},
   "number_sections": true,
   "sideBar": true,
   "skip_h1_title": true,
   "title_cell": "Table of Contents",
   "title_sidebar": "Contents",
   "toc_cell": false,
   "toc_position": {
    "height": "calc(100% - 180px)",
    "left": "10px",
    "top": "150px",
    "width": "217px"
   },
   "toc_section_display": "block",
   "toc_window_display": true
  }
 },
 "nbformat": 4,
 "nbformat_minor": 1
}
